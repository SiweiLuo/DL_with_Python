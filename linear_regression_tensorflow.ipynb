{
  "nbformat": 4,
  "nbformat_minor": 0,
  "metadata": {
    "colab": {
      "name": "linear_regression_tensorflow.ipynb",
      "version": "0.3.2",
      "provenance": [],
      "include_colab_link": true
    },
    "kernelspec": {
      "name": "python3",
      "display_name": "Python 3"
    }
  },
  "cells": [
    {
      "cell_type": "markdown",
      "metadata": {
        "id": "view-in-github",
        "colab_type": "text"
      },
      "source": [
        "<a href=\"https://colab.research.google.com/github/SiweiLuo/DL_with_Python/blob/master/linear_regression_tensorflow.ipynb\" target=\"_parent\"><img src=\"https://colab.research.google.com/assets/colab-badge.svg\" alt=\"Open In Colab\"/></a>"
      ]
    },
    {
      "cell_type": "code",
      "metadata": {
        "id": "ScwwQQUtnnVU",
        "colab_type": "code",
        "colab": {}
      },
      "source": [
        "import numpy as np \n",
        "from sklearn.datasets import fetch_california_housing\n",
        "import tensorflow as tf\n",
        "import os \n",
        "\n",
        "housing = fetch_california_housing()\n",
        "\n",
        "m,n = housing.data.shape\n",
        "\n",
        "housing_data_plus_bias = np.c_[np.ones((m,1)),housing.data]\n",
        "\n",
        "\n",
        "\n"
      ],
      "execution_count": 0,
      "outputs": []
    },
    {
      "cell_type": "code",
      "metadata": {
        "id": "6VA6uBAToAtf",
        "colab_type": "code",
        "colab": {}
      },
      "source": [
        "x = tf.constant(housing_data_plus_bias,name=\"x\")\n",
        "y = tf.constant(housing.target.reshape(-1,1),name=\"y\")\n",
        "xt = tf.transpose(x)\n",
        "\n",
        "theta = tf.matmul(tf.matmul(tf.matrix_inverse(tf.matmul(xt,x)),xt),y)"
      ],
      "execution_count": 0,
      "outputs": []
    },
    {
      "cell_type": "code",
      "metadata": {
        "id": "8d7gRHSKoW37",
        "colab_type": "code",
        "colab": {}
      },
      "source": [
        "with tf.Session() as sess:\n",
        "  theta_value = theta.eval()"
      ],
      "execution_count": 0,
      "outputs": []
    },
    {
      "cell_type": "code",
      "metadata": {
        "id": "7XRxy1N_pBAj",
        "colab_type": "code",
        "colab": {
          "base_uri": "https://localhost:8080/",
          "height": 170
        },
        "outputId": "02815003-47a0-459e-f789-2681786437aa"
      },
      "source": [
        "theta_value"
      ],
      "execution_count": 9,
      "outputs": [
        {
          "output_type": "execute_result",
          "data": {
            "text/plain": [
              "array([[-3.69419202e+01],\n",
              "       [ 4.36693293e-01],\n",
              "       [ 9.43577803e-03],\n",
              "       [-1.07322041e-01],\n",
              "       [ 6.45065694e-01],\n",
              "       [-3.97638942e-06],\n",
              "       [-3.78654265e-03],\n",
              "       [-4.21314378e-01],\n",
              "       [-4.34513755e-01]])"
            ]
          },
          "metadata": {
            "tags": []
          },
          "execution_count": 9
        }
      ]
    },
    {
      "cell_type": "code",
      "metadata": {
        "id": "aQGGjs9KpCKi",
        "colab_type": "code",
        "colab": {}
      },
      "source": [
        ""
      ],
      "execution_count": 0,
      "outputs": []
    }
  ]
}