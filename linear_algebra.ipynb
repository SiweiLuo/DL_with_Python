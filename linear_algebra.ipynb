{
  "nbformat": 4,
  "nbformat_minor": 0,
  "metadata": {
    "colab": {
      "name": "linear_algebra.ipynb",
      "version": "0.3.2",
      "provenance": [],
      "include_colab_link": true
    },
    "kernelspec": {
      "name": "python3",
      "display_name": "Python 3"
    }
  },
  "cells": [
    {
      "cell_type": "markdown",
      "metadata": {
        "id": "view-in-github",
        "colab_type": "text"
      },
      "source": [
        "<a href=\"https://colab.research.google.com/github/SiweiLuo/DL_with_Python/blob/master/linear_algebra.ipynb\" target=\"_parent\"><img src=\"https://colab.research.google.com/assets/colab-badge.svg\" alt=\"Open In Colab\"/></a>"
      ]
    },
    {
      "cell_type": "code",
      "metadata": {
        "id": "LhGxCNRivdkB",
        "colab_type": "code",
        "colab": {
          "base_uri": "https://localhost:8080/",
          "height": 269
        },
        "outputId": "1803107e-239e-46d0-99e5-e6a793945a3f"
      },
      "source": [
        "import numpy as np \n",
        "import matplotlib.pyplot as plt \n",
        "\n",
        "\n",
        "X = 2*np.random.rand(100,1)\n",
        "y = 4+3*X+np.random.randn(100,1)\n",
        "\n",
        "plt.plot(X,y,\"b.\")\n",
        "plt.show()\n"
      ],
      "execution_count": 4,
      "outputs": [
        {
          "output_type": "display_data",
          "data": {
            "image/png": "[encoded data removed]",
            "text/plain": [
              "<Figure size 432x288 with 1 Axes>"
            ]
          },
          "metadata": {
            "tags": []
          }
        }
      ]
    },
    {
      "cell_type": "code",
      "metadata": {
        "id": "N21gR1s9vzTj",
        "colab_type": "code",
        "colab": {}
      },
      "source": [
        "X_b = np.c_[np.ones((100,1)),X]\n",
        "theta_best = np.linalg.inv(X_b.T.dot(X_b)).dot(X_b.T).dot(y)"
      ],
      "execution_count": 0,
      "outputs": []
    },
    {
      "cell_type": "code",
      "metadata": {
        "id": "ojFn-snmwRjm",
        "colab_type": "code",
        "colab": {
          "base_uri": "https://localhost:8080/",
          "height": 51
        },
        "outputId": "9e0c75cc-d55a-4868-836f-13a141edd4d2"
      },
      "source": [
        "theta_best"
      ],
      "execution_count": 6,
      "outputs": [
        {
          "output_type": "execute_result",
          "data": {
            "text/plain": [
              "array([[3.82743126],\n",
              "       [3.09979144]])"
            ]
          },
          "metadata": {
            "tags": []
          },
          "execution_count": 6
        }
      ]
    },
    {
      "cell_type": "code",
      "metadata": {
        "id": "sRApMr50wT-l",
        "colab_type": "code",
        "colab": {
          "base_uri": "https://localhost:8080/",
          "height": 51
        },
        "outputId": "5086cebe-2da8-4c2a-be3e-e2ce06d0f908"
      },
      "source": [
        "X_new = np.array([[0],[2]])\n",
        "X_new_b = np.c_[np.ones((2,1)),X_new]\n",
        "y_predict = X_new_b.dot(theta_best)\n",
        "y_predict"
      ],
      "execution_count": 7,
      "outputs": [
        {
          "output_type": "execute_result",
          "data": {
            "text/plain": [
              "array([[ 3.82743126],\n",
              "       [10.02701414]])"
            ]
          },
          "metadata": {
            "tags": []
          },
          "execution_count": 7
        }
      ]
    },
    {
      "cell_type": "code",
      "metadata": {
        "id": "nfWl2a_mwmge",
        "colab_type": "code",
        "colab": {
          "base_uri": "https://localhost:8080/",
          "height": 269
        },
        "outputId": "99de1602-ab0a-41e0-c474-5cfd811a29dd"
      },
      "source": [
        "plt.plot(X_new,y_predict,\"r-\")\n",
        "plt.plot(X,y,\"b.\")\n",
        "plt.axis([0,2,0,15])\n",
        "plt.show()\n"
      ],
      "execution_count": 8,
      "outputs": [
        {
          "output_type": "display_data",
          "data": {
            "image/png": "[encoded data removed]",
            "text/plain": [
              "<Figure size 432x288 with 1 Axes>"
            ]
          },
          "metadata": {
            "tags": []
          }
        }
      ]
    },
    {
      "cell_type": "code",
      "metadata": {
        "id": "5NAlj7PWwz1H",
        "colab_type": "code",
        "colab": {
          "base_uri": "https://localhost:8080/",
          "height": 34
        },
        "outputId": "a03a8ef8-4f47-41f2-c3e7-e96c89817788"
      },
      "source": [
        "from sklearn.linear_model import LinearRegression\n",
        "lin_reg = LinearRegression()\n",
        "\n",
        "lin_reg.fit(X,y)\n",
        "lin_reg.intercept_,lin_reg.coef_\n",
        "\n",
        "\n",
        "\n",
        "\n",
        "\n"
      ],
      "execution_count": 10,
      "outputs": [
        {
          "output_type": "execute_result",
          "data": {
            "text/plain": [
              "(array([3.82743126]), array([[3.09979144]]))"
            ]
          },
          "metadata": {
            "tags": []
          },
          "execution_count": 10
        }
      ]
    },
    {
      "cell_type": "code",
      "metadata": {
        "id": "PZrRxLsyxQ8s",
        "colab_type": "code",
        "colab": {
          "base_uri": "https://localhost:8080/",
          "height": 51
        },
        "outputId": "34ededd9-496f-4ab8-f776-39c35234e87c"
      },
      "source": [
        "lin_reg.predict(X_new)"
      ],
      "execution_count": 11,
      "outputs": [
        {
          "output_type": "execute_result",
          "data": {
            "text/plain": [
              "array([[ 3.82743126],\n",
              "       [10.02701414]])"
            ]
          },
          "metadata": {
            "tags": []
          },
          "execution_count": 11
        }
      ]
    },
    {
      "cell_type": "code",
      "metadata": {
        "id": "7NL-RsztxbNH",
        "colab_type": "code",
        "colab": {
          "base_uri": "https://localhost:8080/",
          "height": 269
        },
        "outputId": "8c02dac6-a5c9-479b-c192-cb4a75cec96b"
      },
      "source": [
        "\n",
        "y_lin_reg = lin_reg.predict(X_new)\n",
        "\n",
        "plt.plot(X_new,y_lin_reg,\"b-\")\n",
        "plt.plot(X_new,y_predict,\"r--\")\n",
        "plt.plot(X,y,\"b.\")\n",
        "plt.show()\n"
      ],
      "execution_count": 16,
      "outputs": [
        {
          "output_type": "display_data",
          "data": {
            "image/png": "[encoded data removed]",
            "text/plain": [
              "<Figure size 432x288 with 1 Axes>"
            ]
          },
          "metadata": {
            "tags": []
          }
        }
      ]
    },
    {
      "cell_type": "code",
      "metadata": {
        "id": "BgFpSMjmyWfy",
        "colab_type": "code",
        "colab": {
          "base_uri": "https://localhost:8080/",
          "height": 51
        },
        "outputId": "6ac05537-3a74-4614-9570-3d4ca10cc347"
      },
      "source": [
        "eta = 0.1\n",
        "n_iterations = 1000\n",
        "m = 100 \n",
        "\n",
        "theta = np.random.randn(2,1)\n",
        "\n",
        "for iteration in range(n_iterations):\n",
        "  gradients = 2/m*X_b.T.dot(X_b.dot(theta)-y)\n",
        "  theta = theta - eta*gradients \n",
        "  \n",
        "  \n",
        "theta \n",
        "\n",
        "\n",
        "\n"
      ],
      "execution_count": 17,
      "outputs": [
        {
          "output_type": "execute_result",
          "data": {
            "text/plain": [
              "array([[3.82743126],\n",
              "       [3.09979144]])"
            ]
          },
          "metadata": {
            "tags": []
          },
          "execution_count": 17
        }
      ]
    },
    {
      "cell_type": "code",
      "metadata": {
        "id": "PuyLClDQSLux",
        "colab_type": "code",
        "colab": {
          "base_uri": "https://localhost:8080/",
          "height": 51
        },
        "outputId": "c4810f48-1df3-41b6-d0e1-3271c992a532"
      },
      "source": [
        "n_epochs = 50 \n",
        "t0, t1 = 5,50\n",
        "\n",
        "def learning_schedule(t):\n",
        "  return t0/(t+t1)\n",
        "\n",
        "theta = np.random.randn(2,1)\n",
        "\n",
        "\n",
        "for epoch in range(n_epochs):\n",
        "  for i in range(m):\n",
        "    random_index = np.random.randint(m)\n",
        "    xi = X_b[random_index:random_index+1]\n",
        "    yi = y[random_index:random_index+1]\n",
        "    gradients = 2*xi.T.dot(xi.dot(theta)-yi)\n",
        "    eta = learning_schedule(epoch*m+i)\n",
        "    theta = theta-eta*gradients\n",
        "  \n",
        "  \n",
        "theta\n",
        "  \n",
        " "
      ],
      "execution_count": 20,
      "outputs": [
        {
          "output_type": "execute_result",
          "data": {
            "text/plain": [
              "array([[3.76883507],\n",
              "       [3.10416891]])"
            ]
          },
          "metadata": {
            "tags": []
          },
          "execution_count": 20
        }
      ]
    },
    {
      "cell_type": "code",
      "metadata": {
        "id": "vLpnzW5rWlb1",
        "colab_type": "code",
        "colab": {}
      },
      "source": [
        "y"
      ],
      "execution_count": 0,
      "outputs": []
    },
    {
      "cell_type": "code",
      "metadata": {
        "id": "BDqSHwnvWnUl",
        "colab_type": "code",
        "colab": {
          "base_uri": "https://localhost:8080/",
          "height": 357
        },
        "outputId": "ea164656-d9d0-461c-c54b-ba162846d207"
      },
      "source": [
        "y.ravel()"
      ],
      "execution_count": 32,
      "outputs": [
        {
          "output_type": "execute_result",
          "data": {
            "text/plain": [
              "array([ 5.51311658,  5.73139515,  9.34092669,  7.89513233,  9.07767805,\n",
              "        4.29728516,  6.57159878,  7.75261637,  6.10782757,  5.81267956,\n",
              "        9.23633277,  7.18213121,  9.50777806,  8.92801951,  7.23788425,\n",
              "        5.14987305,  8.48819751,  7.50342358,  6.16109577,  4.90943667,\n",
              "       10.41486017,  7.51591773,  5.7027048 ,  5.05637644,  5.94123738,\n",
              "        8.30181896,  9.91582617,  6.03813035,  7.88159454,  6.83996504,\n",
              "        7.00453239,  7.90600806,  8.01134384,  8.47526378,  6.81019088,\n",
              "        9.86677965,  3.17109004,  7.38627263,  8.12653745,  4.96723883,\n",
              "        9.87748395,  5.12131507,  5.09667815,  9.56587521,  6.54995459,\n",
              "        4.07343193,  6.17541775,  6.26833081,  3.83702501,  9.06185932,\n",
              "        7.38099395,  3.52649009,  4.0849776 ,  6.46471276,  6.63441765,\n",
              "        3.90459199,  6.28812058,  9.5370249 ,  8.37038665,  6.42656128,\n",
              "        7.82065515,  6.57878703,  3.68862812,  9.62764387,  5.98376412,\n",
              "        7.33595178,  6.41397915,  5.18996021,  9.6242995 ,  5.85855349,\n",
              "        8.64189656,  9.51911242,  4.31483768,  4.5967946 ,  7.82582567,\n",
              "        6.87283401,  9.75225593,  8.4306977 ,  4.71645742,  8.48984101,\n",
              "       10.05428472,  5.98302086,  7.82904116,  7.11957976,  3.634211  ,\n",
              "        8.79848752,  4.7538888 ,  5.87881613,  8.07937762,  6.36739809,\n",
              "        8.5987313 ,  6.59663607, 12.47494649,  7.73198831,  7.62418255,\n",
              "        8.36790755,  4.23015804,  5.81920407, 10.48720184, 11.51572118])"
            ]
          },
          "metadata": {
            "tags": []
          },
          "execution_count": 32
        }
      ]
    },
    {
      "cell_type": "code",
      "metadata": {
        "id": "Jh_wEXhEVRfh",
        "colab_type": "code",
        "colab": {
          "base_uri": "https://localhost:8080/",
          "height": 173
        },
        "outputId": "de60d137-2973-479f-8d48-215efd36cdd4"
      },
      "source": [
        "from sklearn.linear_model import SGDRegressor\n",
        "\n",
        "sgd_reg = SGDRegressor(n_iter=50,penalty=None,eta0=0.1)\n",
        "sgd_reg.fit(X,y.ravel())\n",
        "\n",
        "\n"
      ],
      "execution_count": 29,
      "outputs": [
        {
          "output_type": "stream",
          "text": [
            "/usr/local/lib/python3.6/dist-packages/sklearn/linear_model/stochastic_gradient.py:152: DeprecationWarning: n_iter parameter is deprecated in 0.19 and will be removed in 0.21. Use max_iter and tol instead.\n",
            "  DeprecationWarning)\n"
          ],
          "name": "stderr"
        },
        {
          "output_type": "execute_result",
          "data": {
            "text/plain": [
              "SGDRegressor(alpha=0.0001, average=False, early_stopping=False, epsilon=0.1,\n",
              "       eta0=0.1, fit_intercept=True, l1_ratio=0.15,\n",
              "       learning_rate='invscaling', loss='squared_loss', max_iter=None,\n",
              "       n_iter=50, n_iter_no_change=5, penalty=None, power_t=0.25,\n",
              "       random_state=None, shuffle=True, tol=None, validation_fraction=0.1,\n",
              "       verbose=0, warm_start=False)"
            ]
          },
          "metadata": {
            "tags": []
          },
          "execution_count": 29
        }
      ]
    },
    {
      "cell_type": "code",
      "metadata": {
        "id": "drIksr_zVtw6",
        "colab_type": "code",
        "colab": {
          "base_uri": "https://localhost:8080/",
          "height": 34
        },
        "outputId": "8dfece87-bb6d-4c82-8cbe-e9d5595eac6b"
      },
      "source": [
        "sgd_reg.intercept_,sgd_reg.coef_"
      ],
      "execution_count": 30,
      "outputs": [
        {
          "output_type": "execute_result",
          "data": {
            "text/plain": [
              "(array([3.85447886]), array([3.12560469]))"
            ]
          },
          "metadata": {
            "tags": []
          },
          "execution_count": 30
        }
      ]
    },
    {
      "cell_type": "code",
      "metadata": {
        "id": "8y8tvzCTWbax",
        "colab_type": "code",
        "colab": {}
      },
      "source": [
        ""
      ],
      "execution_count": 0,
      "outputs": []
    }
  ]
}