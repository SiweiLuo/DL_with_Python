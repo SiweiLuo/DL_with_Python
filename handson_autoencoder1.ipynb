{
  "nbformat": 4,
  "nbformat_minor": 0,
  "metadata": {
    "colab": {
      "name": "handson_autoencoder1.ipynb",
      "version": "0.3.2",
      "provenance": [],
      "include_colab_link": true
    },
    "kernelspec": {
      "name": "python3",
      "display_name": "Python 3"
    }
  },
  "cells": [
    {
      "cell_type": "markdown",
      "metadata": {
        "id": "view-in-github",
        "colab_type": "text"
      },
      "source": [
        "<a href=\"https://colab.research.google.com/github/SiweiLuo/DL_with_Python/blob/master/handson_autoencoder1.ipynb\" target=\"_parent\"><img src=\"https://colab.research.google.com/assets/colab-badge.svg\" alt=\"Open In Colab\"/></a>"
      ]
    },
    {
      "cell_type": "code",
      "metadata": {
        "id": "WM3vPbG6KSeT",
        "colab_type": "code",
        "colab": {}
      },
      "source": [
        "import numpy as np \n",
        "import os \n",
        "import sys \n",
        "\n",
        "def reset_graph(seed=42):\n",
        "  tf.reset_default_graph()\n",
        "  tf.set_random_seed(seed) \n",
        "  np.random.seed(seed) \n",
        "  \n",
        "%matplotlib inline \n",
        "  \n",
        "import matplotlib \n",
        "import matplotlib.pyplot as plt \n",
        "plt.rcParams['axes.labelsize'] = 14\n",
        "plt.rcParams['xtick.labelsize'] = 12\n",
        "plt.rcParams['ytick.labelsize'] = 12\n",
        "\n",
        "def save_fig(fig_id, tight_layout=True):\n",
        "    path = os.path.join(fig_id + \".png\")\n",
        "    print(\"Saving figure\", fig_id)\n",
        "    if tight_layout:\n",
        "        plt.tight_layout()\n",
        "    plt.savefig(path, format='png', dpi=300)"
      ],
      "execution_count": 0,
      "outputs": []
    },
    {
      "cell_type": "code",
      "metadata": {
        "id": "VvLNo6-GLBsS",
        "colab_type": "code",
        "colab": {}
      },
      "source": [
        "def plot_image(image,shape=[28,28]): \n",
        "  plt.imshow(image.reshape(shape),cmap=\"Greys\",interpolation=\"nearest\") \n",
        "  plt.axis(\"off\") \n",
        "  \n",
        "  "
      ],
      "execution_count": 0,
      "outputs": []
    },
    {
      "cell_type": "code",
      "metadata": {
        "id": "Uazu95IhLaJD",
        "colab_type": "code",
        "colab": {}
      },
      "source": [
        "def plot_multiple_images(images,n_rows,n_cols,pad=2):\n",
        "  images = images - images.min() \n",
        "  w,h = images.shape[1:]\n",
        "  image = np.zeros(((w+pad)*n_rows+pad,(h+pad)*n_cols+pad)) \n",
        "  for y in range(n_rows):\n",
        "    for x in range(n_cols): \n",
        "      image[(y*(h+pad)+pad):(y*(h+pad)+pad+h),(x*(w+pad)+pad):(x*(w+pad)+pad+w)]=images[y*n_cols+x]\n",
        "      plt.imshow(image,cmap=\"Greys\",interpolation=\"nearest\")\n",
        "      plt.axis(\"off\") "
      ],
      "execution_count": 0,
      "outputs": []
    },
    {
      "cell_type": "code",
      "metadata": {
        "id": "2MMEN1FrMPLX",
        "colab_type": "code",
        "colab": {}
      },
      "source": [
        "\n",
        "import numpy.random as rnd \n",
        "\n",
        "rnd.seed(4) \n",
        "m = 200 \n",
        "w1 , w2 = 0.1, 0.3 \n",
        "noise = 0.1 \n",
        "\n",
        "angles = rnd.rand(m)*3*np.pi/2 - 0.5 \n",
        "\n",
        "data = np.empty((m,3)) \n",
        "data[:,0] = np.cos(angles) + np.sin(angles)/2 + noise*rnd.randn(m)/2 \n",
        "data[:,1] = np.sin(angles) * 0.7 + noise*rnd.randn(m)/2\n",
        "data[:,2] = data[:,0]*w1 +  data[:,1]*w2 + noise*rnd.randn(m) "
      ],
      "execution_count": 0,
      "outputs": []
    },
    {
      "cell_type": "code",
      "metadata": {
        "id": "CsLAUWPGM8VS",
        "colab_type": "code",
        "colab": {}
      },
      "source": [
        "from sklearn.preprocessing import StandardScaler \n",
        "\n",
        "scaler = StandardScaler()\n",
        "x_train = scaler.fit_transform(data[:100]) \n",
        "x_test = scaler.transform(data[100:]) "
      ],
      "execution_count": 0,
      "outputs": []
    },
    {
      "cell_type": "code",
      "metadata": {
        "id": "m7VEvMXVNImR",
        "colab_type": "code",
        "colab": {
          "base_uri": "https://localhost:8080/",
          "height": 139
        },
        "outputId": "23844b65-561f-4015-c1f8-ed2445209f3d"
      },
      "source": [
        "import tensorflow as tf \n",
        "\n",
        "reset_graph() \n",
        "\n",
        "n_inputs = 3 \n",
        "n_hidden = 2 \n",
        "n_outputs = n_inputs \n",
        "\n",
        "learning_rate = 0.01 \n",
        "\n",
        "x = tf.placeholder(tf.float32,shape=[None,n_inputs]) \n",
        "hidden = tf.layers.dense(x,n_hidden)\n",
        "outputs = tf.layers.dense(hidden,n_outputs) \n",
        "\n",
        "reconstruction_loss = tf.reduce_mean(tf.square(outputs-x)) \n",
        "\n",
        "optimizer = tf.train.AdamOptimizer(learning_rate)\n",
        "training_op = optimizer.minimize(reconstruction_loss) \n",
        "\n",
        "init = tf.global_variables_initializer() "
      ],
      "execution_count": 6,
      "outputs": [
        {
          "output_type": "stream",
          "text": [
            "WARNING:tensorflow:From <ipython-input-6-20a045085ddc>:12: dense (from tensorflow.python.layers.core) is deprecated and will be removed in a future version.\n",
            "Instructions for updating:\n",
            "Use keras.layers.dense instead.\n",
            "WARNING:tensorflow:From /usr/local/lib/python3.6/dist-packages/tensorflow/python/framework/op_def_library.py:263: colocate_with (from tensorflow.python.framework.ops) is deprecated and will be removed in a future version.\n",
            "Instructions for updating:\n",
            "Colocations handled automatically by placer.\n"
          ],
          "name": "stdout"
        }
      ]
    },
    {
      "cell_type": "code",
      "metadata": {
        "id": "BZdVP-BiQ5kj",
        "colab_type": "code",
        "colab": {}
      },
      "source": [
        "n_iterations = 1000 \n",
        "codings = hidden \n",
        "\n",
        "with tf.Session() as sess: \n",
        "  init.run()\n",
        "  for iteration in range(n_iterations): \n",
        "    training_op.run(feed_dict={x:x_train}) \n",
        "  codings_val = codings.eval(feed_dict={x:x_test}) \n",
        "  \n",
        "  "
      ],
      "execution_count": 0,
      "outputs": []
    },
    {
      "cell_type": "code",
      "metadata": {
        "id": "IXwnY0BvRNyi",
        "colab_type": "code",
        "colab": {
          "base_uri": "https://localhost:8080/",
          "height": 242
        },
        "outputId": "eb11e5b7-6867-44a9-a6f7-5c1c5fd78228"
      },
      "source": [
        "fig = plt.figure(figsize=(4,3)) \n",
        "\n",
        "plt.plot(codings_val[:,0],codings_val[:,1],\"b.\")\n",
        "plt.xlabel(\"$z_1$\", fontsize=18)\n",
        "plt.ylabel(\"$z_2$\", fontsize=18, rotation=0)\n",
        "save_fig(\"linear_autoencoder_pca_plot\")\n",
        "plt.show()"
      ],
      "execution_count": 8,
      "outputs": [
        {
          "output_type": "stream",
          "text": [
            "Saving figure linear_autoencoder_pca_plot\n"
          ],
          "name": "stdout"
        },
        {
          "output_type": "display_data",
          "data": {
            "image/png": "[encoded data removed]",
            "text/plain": [
              "<Figure size 288x216 with 1 Axes>"
            ]
          },
          "metadata": {
            "tags": []
          }
        }
      ]
    },
    {
      "cell_type": "code",
      "metadata": {
        "id": "GUlfXXtgRZbZ",
        "colab_type": "code",
        "colab": {
          "base_uri": "https://localhost:8080/",
          "height": 479
        },
        "outputId": "0e37f0f8-0f10-430f-a141-9945f52a21f3"
      },
      "source": [
        "from tensorflow.examples.tutorials.mnist import input_data \n",
        "mnist = input_data.read_data_sets(\"/tmp/data/\") "
      ],
      "execution_count": 9,
      "outputs": [
        {
          "output_type": "stream",
          "text": [
            "WARNING:tensorflow:From <ipython-input-9-2e6e2ea27661>:2: read_data_sets (from tensorflow.contrib.learn.python.learn.datasets.mnist) is deprecated and will be removed in a future version.\n",
            "Instructions for updating:\n",
            "Please use alternatives such as official/mnist/dataset.py from tensorflow/models.\n",
            "WARNING:tensorflow:From /usr/local/lib/python3.6/dist-packages/tensorflow/contrib/learn/python/learn/datasets/mnist.py:260: maybe_download (from tensorflow.contrib.learn.python.learn.datasets.base) is deprecated and will be removed in a future version.\n",
            "Instructions for updating:\n",
            "Please write your own downloading logic.\n",
            "WARNING:tensorflow:From /usr/local/lib/python3.6/dist-packages/tensorflow/contrib/learn/python/learn/datasets/base.py:252: _internal_retry.<locals>.wrap.<locals>.wrapped_fn (from tensorflow.contrib.learn.python.learn.datasets.base) is deprecated and will be removed in a future version.\n",
            "Instructions for updating:\n",
            "Please use urllib or similar directly.\n",
            "Successfully downloaded train-images-idx3-ubyte.gz 9912422 bytes.\n",
            "WARNING:tensorflow:From /usr/local/lib/python3.6/dist-packages/tensorflow/contrib/learn/python/learn/datasets/mnist.py:262: extract_images (from tensorflow.contrib.learn.python.learn.datasets.mnist) is deprecated and will be removed in a future version.\n",
            "Instructions for updating:\n",
            "Please use tf.data to implement this functionality.\n",
            "Extracting /tmp/data/train-images-idx3-ubyte.gz\n",
            "Successfully downloaded train-labels-idx1-ubyte.gz 28881 bytes.\n",
            "WARNING:tensorflow:From /usr/local/lib/python3.6/dist-packages/tensorflow/contrib/learn/python/learn/datasets/mnist.py:267: extract_labels (from tensorflow.contrib.learn.python.learn.datasets.mnist) is deprecated and will be removed in a future version.\n",
            "Instructions for updating:\n",
            "Please use tf.data to implement this functionality.\n",
            "Extracting /tmp/data/train-labels-idx1-ubyte.gz\n",
            "Successfully downloaded t10k-images-idx3-ubyte.gz 1648877 bytes.\n",
            "Extracting /tmp/data/t10k-images-idx3-ubyte.gz\n",
            "Successfully downloaded t10k-labels-idx1-ubyte.gz 4542 bytes.\n",
            "Extracting /tmp/data/t10k-labels-idx1-ubyte.gz\n",
            "WARNING:tensorflow:From /usr/local/lib/python3.6/dist-packages/tensorflow/contrib/learn/python/learn/datasets/mnist.py:290: DataSet.__init__ (from tensorflow.contrib.learn.python.learn.datasets.mnist) is deprecated and will be removed in a future version.\n",
            "Instructions for updating:\n",
            "Please use alternatives such as official/mnist/dataset.py from tensorflow/models.\n"
          ],
          "name": "stdout"
        }
      ]
    },
    {
      "cell_type": "code",
      "metadata": {
        "id": "SzGkSEn9RtPX",
        "colab_type": "code",
        "colab": {}
      },
      "source": [
        "reset_graph() \n",
        "\n",
        "from functools import partial \n",
        "\n",
        "n_inputs = 28*28 \n",
        "n_hidden1 = 300 \n",
        "n_hidden2 = 150 \n",
        "n_hidden3 = n_hidden1 \n",
        "n_outputs = n_inputs \n",
        "\n",
        "learning_rate = 0.01 \n",
        "l2_reg = 0.0001 \n",
        "\n",
        "x = tf.placeholder(tf.float32,shape=[None,n_inputs]) \n",
        "he_init = tf.contrib.layers.variance_scaling_initializer() \n",
        "\n",
        "l2_regularizer = tf.contrib.layers.l2_regularizer(l2_reg) \n",
        "my_dense_layer = partial(tf.layers.dense,\n",
        "                         activation=tf.nn.elu,\n",
        "                         kernel_initializer=he_init,\n",
        "                         kernel_regularizer=l2_regularizer) \n",
        "hidden1 = my_dense_layer(x,n_hidden1) \n",
        "hidden2 = my_dense_layer(hidden1,n_hidden2) \n",
        "hidden3 = my_dense_layer(hidden2,n_hidden3) \n",
        "outputs = my_dense_layer(hidden3,n_outputs,activation=None) \n",
        "\n",
        "reconstruction_loss = tf.reduce_mean(tf.square(outputs-x)) \n",
        "\n",
        "reg_losses = tf.get_collection(tf.GraphKeys.REGULARIZATION_LOSSES) \n",
        "loss = tf.add_n([reconstruction_loss]+reg_losses) \n",
        "\n",
        "optimizer = tf.train.AdamOptimizer(learning_rate) \n",
        "training_op = optimizer.minimize(loss) \n",
        "\n",
        "init = tf.global_variables_initializer() \n",
        "saver = tf.train.Saver() \n"
      ],
      "execution_count": 0,
      "outputs": []
    },
    {
      "cell_type": "code",
      "metadata": {
        "id": "FTVG7a-kTFde",
        "colab_type": "code",
        "colab": {}
      },
      "source": [
        "n_epochs = 5 \n",
        "batch_size = 150 \n",
        "\n",
        "with tf.Session() as sess: \n",
        "  init.run() \n",
        "  for epoch in range(n_epochs): \n",
        "    n_batches = mnist.train.num_examples // batch_size \n",
        "    for iteration in range(n_batches): \n",
        "      sys.stdout.flush()\n",
        "      x_batch,y_batch = mnist.train.next_batch(batch_size)\n",
        "      sess.run(training_op,feed_dict={x:x_batch}) \n",
        "    loss_train = reconstruction_loss.eval(feed_dict={x:x_batch}) \n",
        "    saver.save(sess,\"my_model_all_layers.ckpt\") "
      ],
      "execution_count": 0,
      "outputs": []
    },
    {
      "cell_type": "code",
      "metadata": {
        "id": "QnTHHxXYTlAV",
        "colab_type": "code",
        "colab": {}
      },
      "source": [
        "def show_reconstructed_digits(x,outputs,model_path=None,n_test_digits=2):\n",
        "  with tf.Session() as sess: \n",
        "    if model_path: \n",
        "      saver.restore(sess,model_path)\n",
        "    x_test = mnist.test.images[:n_test_digits]\n",
        "    outputs_val  = outputs.eval(feed_dict={x:x_batch}) \n",
        "    \n",
        "  fig = plt.figure(figsize=(8,3*n_test_digits))\n",
        "  for digit_index in range(n_test_digits): \n",
        "    plt.subplot(n_test_digits, 2, digit_index * 2 + 1)\n",
        "    plot_image(x_test[digit_index])\n",
        "    plt.subplot(n_test_digits, 2, digit_index * 2 + 2)\n",
        "    plot_image(outputs_val[digit_index])"
      ],
      "execution_count": 0,
      "outputs": []
    },
    {
      "cell_type": "code",
      "metadata": {
        "id": "R19XIVPsUMlp",
        "colab_type": "code",
        "colab": {}
      },
      "source": [
        "show_reconstructed_digits(x,outputs,\"my_model_all_layers.ckpt\") \n",
        "save_fig(\"reconstruction_plot\") "
      ],
      "execution_count": 0,
      "outputs": []
    },
    {
      "cell_type": "code",
      "metadata": {
        "id": "pV3s0s1vUXfw",
        "colab_type": "code",
        "colab": {}
      },
      "source": [
        "reset_graph()\n",
        "\n",
        "n_inputs = 28*28 \n",
        "n_hidden1 = 300 \n",
        "n_hidden2 = 150 \n",
        "n_hidden3 = n_hidden1 \n",
        "n_outputs = n_inputs\n",
        "\n",
        "learning_rate = 0.01 \n",
        "l2_reg = 0.0005 "
      ],
      "execution_count": 0,
      "outputs": []
    },
    {
      "cell_type": "code",
      "metadata": {
        "id": "PEr5UxYkU3at",
        "colab_type": "code",
        "colab": {}
      },
      "source": [
        "activation = tf.nn.elu\n",
        "regularizer = tf.contrib.layers.l2_regularizer(l2_reg)\n",
        "initializer = tf.contrib.layers.variance_scaling_initializer() \n",
        "\n",
        "x = tf.placeholder(tf.float32,shape=[None,n_inputs]) \n",
        "\n",
        "weights1_init = initializer([n_inputs,n_hidden1]) \n",
        "weights2_init = initializer([n_hidden1,n_hidden2]) \n",
        "\n",
        "weights1 = tf.Variable(weights1_init,dtype=tf.float32,name=\"weights1\") \n",
        "weights2 = tf.Variable(weights2_init,dtype=tf.float32,name=\"weights2\") \n",
        "weights3 = tf.transpose(weights2,name=\"weights3\") \n",
        "weights4 = tf.transpose(weights1,name=\"weights4\") \n",
        "\n",
        "biases1 = tf.Variable(tf.zeros(n_hidden1),name=\"biases1\")\n",
        "biases2 = tf.Variable(tf.zeros(n_hidden2),name=\"biases2\")\n",
        "biases3 = tf.Variable(tf.zeros(n_hidden3),name=\"biases3\")\n",
        "biases4 = tf.Variable(tf.zeros(n_outputs),name=\"biases4\") \n",
        "\n",
        "hidden1 = activation(tf.matmul(x,weights1)+biases1) \n",
        "hidden2 = activation(tf.matmul(hidden1,weights2)+biases2) \n",
        "hidden3 = activation(tf.matmul(hidden2,weights3)+biases3) \n",
        "outputs = tf.matmul(hidden3,weights4)+biases4 \n",
        "\n",
        "reconstruction_loss = tf.reduce_mean(tf.square(outputs-x)) \n",
        "reg_loss = regularizer(weights1)+regularizer(weights2) \n",
        "loss = reconstruction_loss+reg_loss\n",
        "\n",
        "optimizer = tf.train.AdamOptimizer(learning_rate)\n",
        "training_op = optimizer.minimize(loss) \n",
        "\n",
        "init = tf.global_variables_initializer() "
      ],
      "execution_count": 0,
      "outputs": []
    },
    {
      "cell_type": "code",
      "metadata": {
        "id": "hKHiFftbW2vB",
        "colab_type": "code",
        "colab": {}
      },
      "source": [
        "saver = tf.train.Saver() "
      ],
      "execution_count": 0,
      "outputs": []
    },
    {
      "cell_type": "code",
      "metadata": {
        "id": "hEdtkVoUXIfw",
        "colab_type": "code",
        "colab": {}
      },
      "source": [
        "n_epochs = 5 \n",
        "batch_size = 150 \n",
        "\n",
        "with tf.Session() as sess: \n",
        "  init.run() \n",
        "  for epoch in range(n_epochs): \n",
        "    n_batches = mnist.train.num_examples // batch_size \n",
        "    \n",
        "    for iteration in range(n_batches):\n",
        "      sys.stdout.flush()\n",
        "      x_batch,y_batch = mnist.train.next_batch(batch_size) \n",
        "      sess.run(training_op,feed_dict={x:x_batch}) \n",
        "    loss_train = reconstruction_loss.eval(feed_dict={x:x_batch}) \n",
        "    \n",
        "    saver.save(sess,\"my_model_tying_weights.ckpt\") "
      ],
      "execution_count": 0,
      "outputs": []
    },
    {
      "cell_type": "code",
      "metadata": {
        "id": "Vyr0FfrpXkRO",
        "colab_type": "code",
        "colab": {}
      },
      "source": [
        "reset_graph()\n",
        "\n",
        "from functools import partial \n",
        "\n",
        "def train_autoencoder(x_train,n_neurons,n_epochs,batch_size,\n",
        "                      learning_rate = 0.01,l2_reg = 0.0005,seed=42,\n",
        "                      hidden_activation = tf.nn.elu,\n",
        "                      output_activation = tf.nn.elu):\n",
        "  graph = tf.Graph()  \n",
        "  with graph.as_default():\n",
        "    tf.set_random_seed(seed) \n",
        "    n_inputs = x_train.shape[1]\n",
        "    \n",
        "    x = tf.placeholder(tf.float32,shape=[None,n_inputs]) \n",
        "    \n",
        "    my_dense_layer = partial(\n",
        "        tf.layers.dense,\n",
        "        kernel_initializer=tf.contrib.layers.variance_scaling_initializer(),\n",
        "        kernel_regularizer=tf.contrib.layers.l2_regularizer(l2_reg)) \n",
        "        \n",
        "    hidden = my_dense_layer(x,n_neurons,activation=hidden_activation,name=\"hidden\") \n",
        "    outputs = my_dense_layer(hidden,n_inputs,activation=output_activation,name=\"outputs\") \n",
        "    \n",
        "    \n",
        "    reconstruction_loss = tf.reduce_mean(tf.square(outputs-x))\n",
        "    \n",
        "    reg_losses = tf.get_collection(tf.GraphKeys.REGULARIZATION_LOSSES)\n",
        "    loss = tf.add_n([reconstruction_loss]+reg_losses)\n",
        "    \n",
        "    optimizer = tf.train.AdamOptimizer(learning_rate)\n",
        "    training_op = optimizer.minimize(loss) \n",
        "    \n",
        "    init = tf.global_variables_initializer() \n",
        "    \n",
        "  with tf.Session(graph=graph) as sess: \n",
        "    init.run() \n",
        "    for epoch in range(n_epochs): \n",
        "      n_batches = len(x_train) // batch_size \n",
        "      for iteration in range(n_batches): \n",
        "        sys.stdout.flush()\n",
        "        indices = rnd.permutation(len(x_train))[:batch_size]\n",
        "        x_batch = x_train[indices]\n",
        "        \n",
        "        sess.run(training_op,feed_dict={x:x_batch})\n",
        "        \n",
        "      loss_train = reconstruction_loss.eval(feed_dict={x:x_batch}) \n",
        "      \n",
        "    params = dict([(var.name,var.eval()) for var in tf.get_collection(tf.GraphKeys.TRAINABLE_VARIABLES)]) \n",
        "    \n",
        "    hidden_val = hidden.eval(feed_dict={x:x_train}) \n",
        "    return hidden_val,params[\"hidden/kernel:0\"],params[\"hidden/bias:0\"],params[\"outputs/kernel:0\"],params[\"outputs/bias:0\"]\n",
        "    \n",
        "    \n",
        "    \n",
        "    "
      ],
      "execution_count": 0,
      "outputs": []
    },
    {
      "cell_type": "code",
      "metadata": {
        "id": "P5HcmoDyek72",
        "colab_type": "code",
        "colab": {}
      },
      "source": [
        "hidden_output,w1,b1,w4,b4 = train_autoencoder(mnist.train.images,n_neurons=300,n_epochs=4,batch_size=150,\n",
        "                                              output_activation=None) \n",
        "_,w2,b2,w3,b3 = train_autoencoder(hidden_output,n_neurons=150,n_epochs=4,batch_size=150)"
      ],
      "execution_count": 0,
      "outputs": []
    },
    {
      "cell_type": "code",
      "metadata": {
        "id": "B-s0_TO9e8Sk",
        "colab_type": "code",
        "colab": {}
      },
      "source": [
        "reset_graph()\n",
        "\n",
        "n_inputs = 28*28 \n",
        "\n",
        "x  = tf.placeholder(tf.float32,shape=[None,n_inputs])\n",
        "hidden1 = tf.nn.elu(tf.matmul(x,w1)+b1) \n",
        "hidden2 = tf.nn.elu(tf.matmul(hidden1,w2)+b2)\n",
        "hidden3 = tf.nn.elu(tf.matmul(hidden2,w3)+b3) \n",
        "outputs = tf.matmul(hidden3,w4)+b4 "
      ],
      "execution_count": 0,
      "outputs": []
    },
    {
      "cell_type": "code",
      "metadata": {
        "id": "Z6mVvHPGgyWy",
        "colab_type": "code",
        "colab": {
          "base_uri": "https://localhost:8080/",
          "height": 379
        },
        "outputId": "d161fb22-d56f-4411-826e-ac215f338d45"
      },
      "source": [
        "show_reconstructed_digits(x,outputs) "
      ],
      "execution_count": 33,
      "outputs": [
        {
          "output_type": "display_data",
          "data": {
            "image/png": "[encoded data removed]",
            "text/plain": [
              "<Figure size 576x432 with 4 Axes>"
            ]
          },
          "metadata": {
            "tags": []
          }
        }
      ]
    },
    {
      "cell_type": "code",
      "metadata": {
        "id": "27LxIndng1Ch",
        "colab_type": "code",
        "colab": {}
      },
      "source": [
        ""
      ],
      "execution_count": 0,
      "outputs": []
    }
  ]
}