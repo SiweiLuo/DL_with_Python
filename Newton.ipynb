{
  "nbformat": 4,
  "nbformat_minor": 0,
  "metadata": {
    "colab": {
      "name": "Newton.ipynb",
      "version": "0.3.2",
      "provenance": [],
      "include_colab_link": true
    },
    "kernelspec": {
      "name": "python3",
      "display_name": "Python 3"
    }
  },
  "cells": [
    {
      "cell_type": "markdown",
      "metadata": {
        "id": "view-in-github",
        "colab_type": "text"
      },
      "source": [
        "<a href=\"https://colab.research.google.com/github/SiweiLuo/DL_with_Python/blob/master/Newton.ipynb\" target=\"_parent\"><img src=\"https://colab.research.google.com/assets/colab-badge.svg\" alt=\"Open In Colab\"/></a>"
      ]
    },
    {
      "metadata": {
        "id": "OK-rf89OaRAZ",
        "colab_type": "code",
        "colab": {}
      },
      "cell_type": "code",
      "source": [
        "import numpy as np \n",
        "import matplotlib.pyplot as plt\n",
        "\n",
        "from keras.layers import Activation\n",
        "from keras import backend as K\n",
        "from keras.utils.generic_utils import get_custom_objects\n",
        "from keras import layers\n",
        "from keras import models\n",
        "\n",
        "from keras.layers import Dense\n",
        "from keras.models import Sequential\n",
        "from keras.layers import Activation\n",
        "import tensorflow as tf"
      ],
      "execution_count": 0,
      "outputs": []
    },
    {
      "metadata": {
        "id": "f0xoAq1fa875",
        "colab_type": "code",
        "colab": {}
      },
      "cell_type": "code",
      "source": [
        "x = np.random.random(10000)\n",
        "off = np.random.random(10000)*0.1\n",
        "y = 0.5*x  "
      ],
      "execution_count": 0,
      "outputs": []
    },
    {
      "metadata": {
        "id": "p-05ZZlNdTmb",
        "colab_type": "code",
        "colab": {}
      },
      "cell_type": "code",
      "source": [
        "def f(x):\n",
        "    return 0.5*x  \n"
      ],
      "execution_count": 0,
      "outputs": []
    },
    {
      "metadata": {
        "id": "Ww8N5sqFb-63",
        "colab_type": "code",
        "outputId": "51e310a9-961a-4ecd-c169-c19dcd94af81",
        "colab": {
          "base_uri": "https://localhost:8080/",
          "height": 364
        }
      },
      "cell_type": "code",
      "source": [
        "plt.plot(x,y,'o')\n",
        "plt.plot(x,f(x))"
      ],
      "execution_count": 264,
      "outputs": [
        {
          "output_type": "execute_result",
          "data": {
            "text/plain": [
              "[<matplotlib.lines.Line2D at 0x7fde205ab2e8>]"
            ]
          },
          "metadata": {
            "tags": []
          },
          "execution_count": 264
        },
        {
          "output_type": "display_data",
          "data": {
            "image/png": "[encoded data removed]",
            "text/plain": [
              "<Figure size 576x396 with 1 Axes>"
            ]
          },
          "metadata": {
            "tags": []
          }
        }
      ]
    },
    {
      "metadata": {
        "id": "fW41I9sZgD8m",
        "colab_type": "text"
      },
      "cell_type": "markdown",
      "source": [
        "custom activation function "
      ]
    },
    {
      "metadata": {
        "id": "mNNzfo8DcaW3",
        "colab_type": "code",
        "colab": {}
      },
      "cell_type": "code",
      "source": [
        "#def custom_activation(x):\n",
        "#    return "
      ],
      "execution_count": 0,
      "outputs": []
    },
    {
      "metadata": {
        "id": "cywrtwEVgXwO",
        "colab_type": "code",
        "colab": {}
      },
      "cell_type": "code",
      "source": [
        "#get_custom_objects().update({'custom_activation': Activation(custom_activation)})\n",
        "#model.add(Activation(custom_activation))"
      ],
      "execution_count": 0,
      "outputs": []
    },
    {
      "metadata": {
        "id": "hosWfP2AhsBe",
        "colab_type": "code",
        "colab": {}
      },
      "cell_type": "code",
      "source": [
        "#model = models.Sequential()\n",
        "#model.add(layers.Dense(10,activation='sigmoid',input_shape=(1,)))\n",
        "#model.add(layers.Dense(10,activation='sigmoid'))\n",
        "#model.add(layers.Dense(10,activation='sigmoid'))\n",
        "#model.add(layers.Dense(1,activation='sigmoid'))"
      ],
      "execution_count": 0,
      "outputs": []
    },
    {
      "metadata": {
        "id": "6IGSlGhT1Lxk",
        "colab_type": "code",
        "colab": {}
      },
      "cell_type": "code",
      "source": [
        "def custom_activation(x):\n",
        "    return x\n",
        "  \n",
        "def th0(x):\n",
        "  return 1./x\n",
        "\n",
        "def th1(x):\n",
        "  return x\n",
        "\n",
        "def th2(x):\n",
        "  return x*x\n",
        "\n",
        "def th3(x):\n",
        "  return x*x*x\n",
        "  \n",
        "get_custom_objects().update({'custom_activation': Activation(custom_activation)})\n",
        "\n",
        "model = models.Sequential()\n",
        "model.add(layers.Dense(3,input_shape=(1,)))\n",
        "#model.add(layers.Dense(1,activation=Activation(custom_activation),input_shape=(1,)))\n",
        "model.add(Activation(th1))\n",
        "model.add(Activation(th2))\n",
        "model.add(Activation(th3))\n",
        "\n",
        "model.add(layers.Dense(1))\n",
        "\n",
        "\n"
      ],
      "execution_count": 0,
      "outputs": []
    },
    {
      "metadata": {
        "id": "TDofXSgY1Mpi",
        "colab_type": "code",
        "colab": {}
      },
      "cell_type": "code",
      "source": [
        "model.compile(optimizer='RMSprop',loss='MSE',metrics=['acc'])"
      ],
      "execution_count": 0,
      "outputs": []
    },
    {
      "metadata": {
        "id": "doZUTfhciINq",
        "colab_type": "code",
        "outputId": "2c546374-3ba6-46a7-fa13-f599cb3e965f",
        "colab": {
          "base_uri": "https://localhost:8080/",
          "height": 394
        }
      },
      "cell_type": "code",
      "source": [
        "model.fit(x,y,epochs=10,batch_size=32)"
      ],
      "execution_count": 299,
      "outputs": [
        {
          "output_type": "stream",
          "text": [
            "Epoch 1/10\n",
            "10000/10000 [==============================] - 1s 133us/step - loss: 0.0126 - acc: 0.0000e+00\n",
            "Epoch 2/10\n",
            "10000/10000 [==============================] - 0s 33us/step - loss: 0.0075 - acc: 0.0000e+00\n",
            "Epoch 3/10\n",
            "10000/10000 [==============================] - 0s 33us/step - loss: 0.0060 - acc: 0.0000e+00\n",
            "Epoch 4/10\n",
            "10000/10000 [==============================] - 0s 33us/step - loss: 0.0024 - acc: 0.0000e+00\n",
            "Epoch 5/10\n",
            "10000/10000 [==============================] - 0s 34us/step - loss: 5.5883e-04 - acc: 0.0000e+00\n",
            "Epoch 6/10\n",
            "10000/10000 [==============================] - 0s 34us/step - loss: 5.0276e-04 - acc: 0.0000e+00\n",
            "Epoch 7/10\n",
            "10000/10000 [==============================] - 0s 33us/step - loss: 4.7752e-04 - acc: 0.0000e+00\n",
            "Epoch 8/10\n",
            "10000/10000 [==============================] - 0s 33us/step - loss: 4.4863e-04 - acc: 0.0000e+00\n",
            "Epoch 9/10\n",
            "10000/10000 [==============================] - 0s 33us/step - loss: 4.2117e-04 - acc: 0.0000e+00\n",
            "Epoch 10/10\n",
            "10000/10000 [==============================] - 0s 33us/step - loss: 3.8776e-04 - acc: 0.0000e+00\n"
          ],
          "name": "stdout"
        },
        {
          "output_type": "execute_result",
          "data": {
            "text/plain": [
              "<keras.callbacks.History at 0x7fde1fdc0320>"
            ]
          },
          "metadata": {
            "tags": []
          },
          "execution_count": 299
        }
      ]
    },
    {
      "metadata": {
        "id": "6-8T1Q2lmo67",
        "colab_type": "code",
        "colab": {}
      },
      "cell_type": "code",
      "source": [
        "def to_one_hot(labels,dimension=1):\n",
        "  results = np.zeros((len(labels),dimension))\n",
        "  for i, label in enumerate(labels):\n",
        "    results[i, label] = 1.\n",
        "  return results\n",
        "\n",
        "\n",
        "def vectorize_sequences(sequences,dimension=1000):\n",
        "  results = np.zeros((len(sequences),dimension))\n",
        "  for i, sequence in enumerate(sequences):\n",
        "    results[i, sequence] = 1.\n",
        "  return results"
      ],
      "execution_count": 0,
      "outputs": []
    },
    {
      "metadata": {
        "id": "cwr0JspLlQaO",
        "colab_type": "code",
        "colab": {}
      },
      "cell_type": "code",
      "source": [
        "x_test = np.random.random(10)"
      ],
      "execution_count": 0,
      "outputs": []
    },
    {
      "metadata": {
        "id": "qoFDu0T3BEvV",
        "colab_type": "code",
        "colab": {}
      },
      "cell_type": "code",
      "source": [
        "xT = x_test"
      ],
      "execution_count": 0,
      "outputs": []
    },
    {
      "metadata": {
        "id": "zYtynNreT1V_",
        "colab_type": "code",
        "outputId": "f3d42511-bbe0-40d5-d68f-4adcb17783ef",
        "colab": {
          "base_uri": "https://localhost:8080/",
          "height": 51
        }
      },
      "cell_type": "code",
      "source": [
        "xT.reshape(10,1)\n",
        "xT.transpose()"
      ],
      "execution_count": 303,
      "outputs": [
        {
          "output_type": "execute_result",
          "data": {
            "text/plain": [
              "array([0.01586931, 0.37010666, 0.32755539, 0.48128856, 0.38505628,\n",
              "       0.22785292, 0.59797997, 0.83114423, 0.46938005, 0.36044541])"
            ]
          },
          "metadata": {
            "tags": []
          },
          "execution_count": 303
        }
      ]
    },
    {
      "metadata": {
        "id": "GPL8kMmHldPG",
        "colab_type": "code",
        "outputId": "07e291ce-4d86-42e9-8509-12081ece2e69",
        "colab": {
          "base_uri": "https://localhost:8080/",
          "height": 187
        }
      },
      "cell_type": "code",
      "source": [
        "model.predict(x_test)"
      ],
      "execution_count": 304,
      "outputs": [
        {
          "output_type": "execute_result",
          "data": {
            "text/plain": [
              "array([[0.05391547],\n",
              "       [0.16104957],\n",
              "       [0.14196274],\n",
              "       [0.21892428],\n",
              "       [0.16817576],\n",
              "       [0.1042697 ],\n",
              "       [0.2892158 ],\n",
              "       [0.42191446],\n",
              "       [0.21221945],\n",
              "       [0.15655956]], dtype=float32)"
            ]
          },
          "metadata": {
            "tags": []
          },
          "execution_count": 304
        }
      ]
    },
    {
      "metadata": {
        "id": "zM4tM0ECl5bP",
        "colab_type": "code",
        "colab": {
          "base_uri": "https://localhost:8080/",
          "height": 190
        },
        "outputId": "75aadc42-8ee8-49f0-d965-0c5392ce9a8d"
      },
      "cell_type": "code",
      "source": [
        "for layer in model.layers:\n",
        "    print('layer = ',layer)\n",
        "    weights = layer.get_weights()\n",
        "\n",
        "print('weights = ',weights)\n",
        "print('model.layers = ',model.layers)\n",
        "    "
      ],
      "execution_count": 307,
      "outputs": [
        {
          "output_type": "stream",
          "text": [
            "layer =  <keras.layers.core.Dense object at 0x7fde20025fd0>\n",
            "layer =  <keras.layers.core.Activation object at 0x7fde20aa3f60>\n",
            "layer =  <keras.layers.core.Activation object at 0x7fde1fdae5c0>\n",
            "layer =  <keras.layers.core.Activation object at 0x7fde1fdae860>\n",
            "layer =  <keras.layers.core.Dense object at 0x7fde1fdb9fd0>\n",
            "weights =  [array([[ 0.6994375],\n",
            "       [ 0.8310122],\n",
            "       [-0.2974627]], dtype=float32), array([0.02235349], dtype=float32)]\n",
            "model.layers =  [<keras.layers.core.Dense object at 0x7fde20025fd0>, <keras.layers.core.Activation object at 0x7fde20aa3f60>, <keras.layers.core.Activation object at 0x7fde1fdae5c0>, <keras.layers.core.Activation object at 0x7fde1fdae860>, <keras.layers.core.Dense object at 0x7fde1fdb9fd0>]\n"
          ],
          "name": "stdout"
        }
      ]
    },
    {
      "metadata": {
        "id": "rynkf4950rzw",
        "colab_type": "code",
        "colab": {}
      },
      "cell_type": "code",
      "source": [
        "\n"
      ],
      "execution_count": 0,
      "outputs": []
    }
  ]
}