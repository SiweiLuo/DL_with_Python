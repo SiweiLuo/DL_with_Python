{
  "nbformat": 4,
  "nbformat_minor": 0,
  "metadata": {
    "colab": {
      "name": "Intro to TF Hub for Object Detection.ipynb",
      "version": "0.3.2",
      "provenance": [],
      "include_colab_link": true
    },
    "kernelspec": {
      "name": "python3",
      "display_name": "Python 3"
    }
  },
  "cells": [
    {
      "cell_type": "markdown",
      "metadata": {
        "id": "view-in-github",
        "colab_type": "text"
      },
      "source": [
        "<a href=\"https://colab.research.google.com/github/SiweiLuo/DL_with_Python/blob/master/Intro_to_TF_Hub_for_Object_Detection.ipynb\" target=\"_parent\"><img src=\"https://colab.research.google.com/assets/colab-badge.svg\" alt=\"Open In Colab\"/></a>"
      ]
    },
    {
      "cell_type": "code",
      "metadata": {
        "id": "Woc5vUyqhOud",
        "colab_type": "code",
        "colab": {}
      },
      "source": [
        "import os\n",
        "from pprint import pprint\n",
        "from six import BytesIO\n",
        "\n",
        "import matplotlib.pyplot as plt\n",
        "import numpy as np\n",
        "import pandas as pd\n",
        "import tensorflow as tf\n",
        "import tensorflow_hub as hub\n",
        "from PIL import Image, ImageColor, ImageDraw, ImageFont, ImageOps\n",
        "from tqdm import tqdm"
      ],
      "execution_count": 0,
      "outputs": []
    },
    {
      "cell_type": "code",
      "metadata": {
        "id": "Zc2oA1t0hPp_",
        "colab_type": "code",
        "colab": {}
      },
      "source": [
        "def format_prediction_string(image_id, result):\n",
        "    prediction_strings = []\n",
        "    \n",
        "    for i in range(len(result['detection_scores'])):\n",
        "        class_name = result['detection_class_names'][i].decode(\"utf-8\")\n",
        "        YMin,XMin,YMax,XMax = result['detection_boxes'][i]\n",
        "        score = result['detection_scores'][i]\n",
        "        \n",
        "        prediction_strings.append(\n",
        "            f\"{class_name} {score} {XMin} {YMin} {XMax} {YMax}\"\n",
        "        )\n",
        "        \n",
        "    prediction_string = \" \".join(prediction_strings)\n",
        "\n",
        "    return {\n",
        "        \"ImageID\": image_id,\n",
        "        \"PredictionString\": prediction_string\n",
        "    }"
      ],
      "execution_count": 0,
      "outputs": []
    },
    {
      "cell_type": "code",
      "metadata": {
        "id": "JTP-KX89hUqN",
        "colab_type": "code",
        "colab": {}
      },
      "source": [
        "def display_image(image):\n",
        "    fig = plt.figure(figsize=(20, 15))\n",
        "    plt.grid(False)\n",
        "    plt.axis('off')\n",
        "    plt.imshow(image)"
      ],
      "execution_count": 0,
      "outputs": []
    },
    {
      "cell_type": "code",
      "metadata": {
        "id": "bccSA5rEhWyK",
        "colab_type": "code",
        "colab": {}
      },
      "source": [
        "def draw_boxes(image, boxes, class_names, scores, max_boxes=10, min_score=0.1):\n",
        "    \"\"\"Overlay labeled boxes on an image with formatted scores and label names.\"\"\"\n",
        "    colors = list(ImageColor.colormap.values())\n",
        "\n",
        "    try:\n",
        "        font = ImageFont.truetype(\n",
        "            \"/usr/share/fonts/truetype/liberation/LiberationSansNarrow-Regular.ttf\",\n",
        "            25)\n",
        "    except IOError:\n",
        "        print(\"Font not found, using default font.\")\n",
        "        font = ImageFont.load_default()\n",
        "\n",
        "    for i in range(min(boxes.shape[0], max_boxes)):\n",
        "        if scores[i] >= min_score:\n",
        "            ymin, xmin, ymax, xmax = tuple(boxes[i].tolist())\n",
        "            display_str = \"{}: {}%\".format(class_names[i].decode(\"ascii\"),\n",
        "                                           int(100 * scores[i]))\n",
        "            color = colors[hash(class_names[i]) % len(colors)]\n",
        "            image_pil = Image.fromarray(np.uint8(image)).convert(\"RGB\")\n",
        "            draw_bounding_box_on_image(\n",
        "                image_pil,\n",
        "                ymin,\n",
        "                xmin,\n",
        "                ymax,\n",
        "                xmax,\n",
        "                color,\n",
        "                font,\n",
        "                display_str_list=[display_str])\n",
        "            np.copyto(image, np.array(image_pil))\n",
        "    return image"
      ],
      "execution_count": 0,
      "outputs": []
    },
    {
      "cell_type": "code",
      "metadata": {
        "id": "SXr-4g_2haeC",
        "colab_type": "code",
        "colab": {
          "base_uri": "https://localhost:8080/",
          "height": 443
        },
        "outputId": "31ab5544-65da-41b1-8ca3-705451293632"
      },
      "source": [
        "sample_image_path = \"../input/test/6beb79b52308112d.jpg\"\n",
        "\n",
        "with tf.Graph().as_default():\n",
        "    # Create our inference graph\n",
        "    image_string_placeholder = tf.placeholder(tf.string)\n",
        "    decoded_image = tf.image.decode_jpeg(image_string_placeholder)\n",
        "    decoded_image_float = tf.image.convert_image_dtype(\n",
        "        image=decoded_image, dtype=tf.float32\n",
        "    )\n",
        "    # Expanding image from (height, width, 3) to (1, height, width, 3)\n",
        "    image_tensor = tf.expand_dims(decoded_image_float, 0)\n",
        "\n",
        "    # Load the model from tfhub.dev, and create a detector_output tensor\n",
        "    model_url = \"https://tfhub.dev/google/openimages_v4/ssd/mobilenet_v2/1\"\n",
        "    detector = hub.Module(model_url)\n",
        "    detector_output = detector(image_tensor, as_dict=True)\n",
        "    \n",
        "    # Initialize the Session\n",
        "    init_ops = [tf.global_variables_initializer(), tf.tables_initializer()]\n",
        "    sess = tf.Session()\n",
        "    sess.run(init_ops)\n",
        "\n",
        "    # Load our sample image into a binary string\n",
        "    with tf.gfile.Open(sample_image_path, \"rb\") as binfile:\n",
        "        image_string = binfile.read()\n",
        "\n",
        "    # Run the graph we just created\n",
        "    result_out, image_out = sess.run(\n",
        "        [detector_output, decoded_image],\n",
        "        feed_dict={image_string_placeholder: image_string}\n",
        "    )"
      ],
      "execution_count": 5,
      "outputs": [
        {
          "output_type": "stream",
          "text": [
            "INFO:tensorflow:Saver not created because there are no variables in the graph to restore\n"
          ],
          "name": "stdout"
        },
        {
          "output_type": "stream",
          "text": [
            "INFO:tensorflow:Saver not created because there are no variables in the graph to restore\n"
          ],
          "name": "stderr"
        },
        {
          "output_type": "stream",
          "text": [
            "INFO:tensorflow:Saver not created because there are no variables in the graph to restore\n"
          ],
          "name": "stdout"
        },
        {
          "output_type": "stream",
          "text": [
            "INFO:tensorflow:Saver not created because there are no variables in the graph to restore\n"
          ],
          "name": "stderr"
        },
        {
          "output_type": "error",
          "ename": "NotFoundError",
          "evalue": "ignored",
          "traceback": [
            "\u001b[0;31m---------------------------------------------------------------------------\u001b[0m",
            "\u001b[0;31mNotFoundError\u001b[0m                             Traceback (most recent call last)",
            "\u001b[0;32m<ipython-input-5-f58e1c71ca2f>\u001b[0m in \u001b[0;36m<module>\u001b[0;34m()\u001b[0m\n\u001b[1;32m     23\u001b[0m     \u001b[0;31m# Load our sample image into a binary string\u001b[0m\u001b[0;34m\u001b[0m\u001b[0;34m\u001b[0m\u001b[0;34m\u001b[0m\u001b[0m\n\u001b[1;32m     24\u001b[0m     \u001b[0;32mwith\u001b[0m \u001b[0mtf\u001b[0m\u001b[0;34m.\u001b[0m\u001b[0mgfile\u001b[0m\u001b[0;34m.\u001b[0m\u001b[0mOpen\u001b[0m\u001b[0;34m(\u001b[0m\u001b[0msample_image_path\u001b[0m\u001b[0;34m,\u001b[0m \u001b[0;34m\"rb\"\u001b[0m\u001b[0;34m)\u001b[0m \u001b[0;32mas\u001b[0m \u001b[0mbinfile\u001b[0m\u001b[0;34m:\u001b[0m\u001b[0;34m\u001b[0m\u001b[0;34m\u001b[0m\u001b[0m\n\u001b[0;32m---> 25\u001b[0;31m         \u001b[0mimage_string\u001b[0m \u001b[0;34m=\u001b[0m \u001b[0mbinfile\u001b[0m\u001b[0;34m.\u001b[0m\u001b[0mread\u001b[0m\u001b[0;34m(\u001b[0m\u001b[0;34m)\u001b[0m\u001b[0;34m\u001b[0m\u001b[0;34m\u001b[0m\u001b[0m\n\u001b[0m\u001b[1;32m     26\u001b[0m \u001b[0;34m\u001b[0m\u001b[0m\n\u001b[1;32m     27\u001b[0m     \u001b[0;31m# Run the graph we just created\u001b[0m\u001b[0;34m\u001b[0m\u001b[0;34m\u001b[0m\u001b[0;34m\u001b[0m\u001b[0m\n",
            "\u001b[0;32m/usr/local/lib/python3.6/dist-packages/tensorflow/python/lib/io/file_io.py\u001b[0m in \u001b[0;36mread\u001b[0;34m(self, n)\u001b[0m\n\u001b[1;32m    120\u001b[0m       \u001b[0mstring\u001b[0m \u001b[0;32mif\u001b[0m \u001b[0;32min\u001b[0m \u001b[0mstring\u001b[0m \u001b[0;34m(\u001b[0m\u001b[0mregular\u001b[0m\u001b[0;34m)\u001b[0m \u001b[0mmode\u001b[0m\u001b[0;34m.\u001b[0m\u001b[0;34m\u001b[0m\u001b[0;34m\u001b[0m\u001b[0m\n\u001b[1;32m    121\u001b[0m     \"\"\"\n\u001b[0;32m--> 122\u001b[0;31m     \u001b[0mself\u001b[0m\u001b[0;34m.\u001b[0m\u001b[0m_preread_check\u001b[0m\u001b[0;34m(\u001b[0m\u001b[0;34m)\u001b[0m\u001b[0;34m\u001b[0m\u001b[0;34m\u001b[0m\u001b[0m\n\u001b[0m\u001b[1;32m    123\u001b[0m     \u001b[0;32mif\u001b[0m \u001b[0mn\u001b[0m \u001b[0;34m==\u001b[0m \u001b[0;34m-\u001b[0m\u001b[0;36m1\u001b[0m\u001b[0;34m:\u001b[0m\u001b[0;34m\u001b[0m\u001b[0;34m\u001b[0m\u001b[0m\n\u001b[1;32m    124\u001b[0m       \u001b[0mlength\u001b[0m \u001b[0;34m=\u001b[0m \u001b[0mself\u001b[0m\u001b[0;34m.\u001b[0m\u001b[0msize\u001b[0m\u001b[0;34m(\u001b[0m\u001b[0;34m)\u001b[0m \u001b[0;34m-\u001b[0m \u001b[0mself\u001b[0m\u001b[0;34m.\u001b[0m\u001b[0mtell\u001b[0m\u001b[0;34m(\u001b[0m\u001b[0;34m)\u001b[0m\u001b[0;34m\u001b[0m\u001b[0;34m\u001b[0m\u001b[0m\n",
            "\u001b[0;32m/usr/local/lib/python3.6/dist-packages/tensorflow/python/lib/io/file_io.py\u001b[0m in \u001b[0;36m_preread_check\u001b[0;34m(self)\u001b[0m\n\u001b[1;32m     82\u001b[0m                                            \"File isn't open for reading\")\n\u001b[1;32m     83\u001b[0m       self._read_buf = pywrap_tensorflow.CreateBufferedInputStream(\n\u001b[0;32m---> 84\u001b[0;31m           compat.as_bytes(self.__name), 1024 * 512)\n\u001b[0m\u001b[1;32m     85\u001b[0m \u001b[0;34m\u001b[0m\u001b[0m\n\u001b[1;32m     86\u001b[0m   \u001b[0;32mdef\u001b[0m \u001b[0m_prewrite_check\u001b[0m\u001b[0;34m(\u001b[0m\u001b[0mself\u001b[0m\u001b[0;34m)\u001b[0m\u001b[0;34m:\u001b[0m\u001b[0;34m\u001b[0m\u001b[0;34m\u001b[0m\u001b[0m\n",
            "\u001b[0;31mNotFoundError\u001b[0m: ../input/test/6beb79b52308112d.jpg; No such file or directory"
          ]
        }
      ]
    },
    {
      "cell_type": "code",
      "metadata": {
        "id": "SPxLl16Mis09",
        "colab_type": "code",
        "colab": {}
      },
      "source": [
        "image_string_placeholder = tf.placeholder(tf.string)\n",
        "decoded_image = tf.image.decode_jpeg(image_string_placeholder)\n",
        "decoded_image_float = tf.image.convert_image_dtype(\n",
        "    image=decoded_image, dtype=tf.float32\n",
        ")\n",
        "image_tensor = tf.expand_dims(decoded_image_float, 0)"
      ],
      "execution_count": 0,
      "outputs": []
    },
    {
      "cell_type": "code",
      "metadata": {
        "id": "avcOcyJji0gE",
        "colab_type": "code",
        "colab": {}
      },
      "source": [
        "print(image_string_placeholder)\n",
        "print(decoded_image)\n",
        "print(decoded_image_float)\n",
        "print(image_tensor)"
      ],
      "execution_count": 0,
      "outputs": []
    },
    {
      "cell_type": "code",
      "metadata": {
        "id": "HGK50Jxyi1cS",
        "colab_type": "code",
        "colab": {}
      },
      "source": [
        "model_url = \"https://tfhub.dev/google/openimages_v4/ssd/mobilenet_v2/1\"\n",
        "detector = hub.Module(model_url)\n",
        "detector_output = detector(image_tensor, as_dict=True)"
      ],
      "execution_count": 0,
      "outputs": []
    },
    {
      "cell_type": "code",
      "metadata": {
        "id": "d5nrjjwei4Rs",
        "colab_type": "code",
        "colab": {}
      },
      "source": [
        "with tf.Graph().as_default():\n",
        "    with tf.Session() as sess:\n",
        "        ...\n",
        "        sess.run(...)\n",
        "        ..."
      ],
      "execution_count": 0,
      "outputs": []
    },
    {
      "cell_type": "code",
      "metadata": {
        "id": "MJ1R28-5i8li",
        "colab_type": "code",
        "colab": {}
      },
      "source": [
        "with open('data.txt') as f:\n",
        "    print(f.read())"
      ],
      "execution_count": 0,
      "outputs": []
    },
    {
      "cell_type": "code",
      "metadata": {
        "id": "4iMi-32Zi-5K",
        "colab_type": "code",
        "colab": {}
      },
      "source": [
        "# Using the `close()` method.\n",
        "sess = tf.Session()\n",
        "sess.run(...)\n",
        "sess.close()\n",
        "\n",
        "# Using the context manager.\n",
        "with tf.Session() as sess:\n",
        "    sess.run(...)"
      ],
      "execution_count": 0,
      "outputs": []
    },
    {
      "cell_type": "code",
      "metadata": {
        "id": "O_v7qtq9jBCa",
        "colab_type": "code",
        "colab": {}
      },
      "source": [
        "init_ops = [tf.global_variables_initializer(), tf.tables_initializer()]\n",
        "sess = tf.Session()\n",
        "sess.run(init_ops)"
      ],
      "execution_count": 0,
      "outputs": []
    },
    {
      "cell_type": "code",
      "metadata": {
        "id": "T5jRTrh6jBqL",
        "colab_type": "code",
        "colab": {}
      },
      "source": [
        "g = tf.Graph()\n",
        "with g.as_default():\n",
        "    # Define operations and tensors in `g`.\n",
        "    c = tf.constant(30.0)\n",
        "    assert c.graph is g"
      ],
      "execution_count": 0,
      "outputs": []
    },
    {
      "cell_type": "code",
      "metadata": {
        "id": "Z-ADTD6sjFIx",
        "colab_type": "code",
        "colab": {}
      },
      "source": [
        "# Load our sample image into a binary string\n",
        "with tf.gfile.Open(sample_image_path, \"rb\") as binfile:\n",
        "    image_string = binfile.read()\n",
        "\n",
        "# Run the graph we just created\n",
        "result_out, image_out = sess.run(\n",
        "    [detector_output, decoded_image],\n",
        "    feed_dict={image_string_placeholder: image_string}\n",
        ")"
      ],
      "execution_count": 0,
      "outputs": []
    },
    {
      "cell_type": "code",
      "metadata": {
        "id": "3KiINngfjHoh",
        "colab_type": "code",
        "colab": {}
      },
      "source": [
        "print(\"result_out keys:\", result_out.keys())\n",
        "print(\"First 10 detection scores:\", result_out['detection_scores'][:10])\n",
        "print()\n",
        "print(\"Shape of image_out\", image_out.shape)\n",
        "print(\"Type of image_out:\", type(image_out))"
      ],
      "execution_count": 0,
      "outputs": []
    },
    {
      "cell_type": "code",
      "metadata": {
        "id": "mWzmV4rpjKgh",
        "colab_type": "code",
        "colab": {}
      },
      "source": [
        "sample_submission_df = pd.read_csv('../input/sample_submission.csv')\n",
        "image_ids = sample_submission_df['ImageId']\n",
        "predictions = []\n",
        "\n",
        "for image_id in tqdm(image_ids):\n",
        "    # Load the image string\n",
        "    image_path = f'../input/test/{image_id}.jpg'\n",
        "    with tf.gfile.Open(image_path, \"rb\") as binfile:\n",
        "        image_string = binfile.read()\n",
        "    \n",
        "    # Run our session\n",
        "    result_out = sess.run(\n",
        "        detector_output,\n",
        "        feed_dict={image_string_placeholder: image_string}\n",
        "    )\n",
        "    predictions.append(format_prediction_string(image_id, result_out))\n",
        "\n",
        "sess.close()"
      ],
      "execution_count": 0,
      "outputs": []
    },
    {
      "cell_type": "code",
      "metadata": {
        "id": "slUWd2fUjNFx",
        "colab_type": "code",
        "colab": {}
      },
      "source": [
        "pred_df = pd.DataFrame(predictions)\n",
        "pred_df.head()"
      ],
      "execution_count": 0,
      "outputs": []
    },
    {
      "cell_type": "code",
      "metadata": {
        "id": "mINfVITKjPT5",
        "colab_type": "code",
        "colab": {}
      },
      "source": [
        "pred_df.to_csv('submission.csv', index=False)"
      ],
      "execution_count": 0,
      "outputs": []
    },
    {
      "cell_type": "code",
      "metadata": {
        "id": "iccn3BiXjRuZ",
        "colab_type": "code",
        "colab": {}
      },
      "source": [
        ""
      ],
      "execution_count": 0,
      "outputs": []
    }
  ]
}