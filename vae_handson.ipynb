{
  "nbformat": 4,
  "nbformat_minor": 0,
  "metadata": {
    "colab": {
      "name": "vae_handson.ipynb",
      "version": "0.3.2",
      "provenance": [],
      "include_colab_link": true
    },
    "kernelspec": {
      "name": "python3",
      "display_name": "Python 3"
    }
  },
  "cells": [
    {
      "cell_type": "markdown",
      "metadata": {
        "id": "view-in-github",
        "colab_type": "text"
      },
      "source": [
        "<a href=\"https://colab.research.google.com/github/SiweiLuo/DL_with_Python/blob/master/vae_handson.ipynb\" target=\"_parent\"><img src=\"https://colab.research.google.com/assets/colab-badge.svg\" alt=\"Open In Colab\"/></a>"
      ]
    },
    {
      "cell_type": "code",
      "metadata": {
        "id": "yDWcowcp8L4N",
        "colab_type": "code",
        "colab": {}
      },
      "source": [
        "import numpy as np \n",
        "import os \n",
        "import sys \n",
        "\n",
        "\n",
        "def reset_graph(seed=42):\n",
        "    tf.reset_default_graph()\n",
        "    tf.set_random_seed(seed)\n",
        "    np.random.seed(seed)\n",
        "    \n",
        "import matplotlib\n",
        "import matplotlib.pyplot as plt \n",
        "plt.rcParams['axes.labelsize'] = 14\n",
        "plt.rcParams['xtick.labelsize'] = 12\n",
        "plt.rcParams['ytick.labelsize'] = 12\n",
        "\n",
        "def save_fig(fig_id, tight_layout=True):\n",
        "    path = os.path.join(fig_id + \".png\")\n",
        "    print(\"Saving figure\", fig_id)\n",
        "    if tight_layout:\n",
        "        plt.tight_layout()\n",
        "    plt.savefig(path, format='png', dpi=300)\n"
      ],
      "execution_count": 0,
      "outputs": []
    },
    {
      "cell_type": "code",
      "metadata": {
        "id": "K9WKXIXWRURe",
        "colab_type": "code",
        "colab": {}
      },
      "source": [
        "def plot_image(image,shape=[28,28]):\n",
        "  plt.imshow(image.reshape(shape),cmap=\"Greys\",interpolation=\"nearest\")\n",
        "  plt.axis(\"off\")\n",
        " "
      ],
      "execution_count": 0,
      "outputs": []
    },
    {
      "cell_type": "code",
      "metadata": {
        "id": "XqUZeIYNV06Z",
        "colab_type": "code",
        "colab": {}
      },
      "source": [
        "def plot_multiple_images(images, n_rows, n_cols, pad=2):\n",
        "    images = images - images.min()  # make the minimum == 0, so the padding looks white\n",
        "    w,h = images.shape[1:]\n",
        "    image = np.zeros(((w+pad)*n_rows+pad, (h+pad)*n_cols+pad))\n",
        "    for y in range(n_rows):\n",
        "        for x in range(n_cols):\n",
        "            image[(y*(h+pad)+pad):(y*(h+pad)+pad+h),(x*(w+pad)+pad):(x*(w+pad)+pad+w)] = images[y*n_cols+x]\n",
        "    plt.imshow(image, cmap=\"Greys\", interpolation=\"nearest\")\n",
        "    plt.axis(\"off\")"
      ],
      "execution_count": 0,
      "outputs": []
    },
    {
      "cell_type": "code",
      "metadata": {
        "id": "zM99cVkyV4X8",
        "colab_type": "code",
        "colab": {}
      },
      "source": [
        "import numpy.random as rnd \n",
        "\n",
        "\n",
        "rnd.seed(4)\n",
        "m = 200\n",
        "w1, w2 = 0.1, 0.3\n",
        "noise = 0.1\n",
        "\n",
        "angles = rnd.rand(m) * 3 * np.pi / 2 - 0.5\n",
        "data = np.empty((m, 3))\n",
        "data[:, 0] = np.cos(angles) + np.sin(angles)/2 + noise * rnd.randn(m) / 2\n",
        "data[:, 1] = np.sin(angles) * 0.7 + noise * rnd.randn(m) / 2\n",
        "data[:, 2] = data[:, 0] * w1 + data[:, 1] * w2 + noise * rnd.randn(m)\n"
      ],
      "execution_count": 0,
      "outputs": []
    },
    {
      "cell_type": "code",
      "metadata": {
        "id": "tVkH5LnaWABo",
        "colab_type": "code",
        "colab": {}
      },
      "source": [
        "from sklearn.preprocessing import StandardScaler\n",
        "scaler = StandardScaler()\n",
        "X_train = scaler.fit_transform(data[:100])\n",
        "X_test = scaler.transform(data[100:])\n",
        "\n"
      ],
      "execution_count": 0,
      "outputs": []
    },
    {
      "cell_type": "code",
      "metadata": {
        "id": "nPPNMdcPWCun",
        "colab_type": "code",
        "colab": {
          "base_uri": "https://localhost:8080/",
          "height": 139
        },
        "outputId": "a1452bfa-c7bb-4b7f-db9a-806457422bb1"
      },
      "source": [
        "import tensorflow as tf \n",
        "\n",
        "reset_graph()\n",
        "\n",
        "n_inputs = 3 \n",
        "n_hidden = 2 \n",
        "n_outputs = n_inputs\n",
        "\n",
        "learning_rate = 0.01 \n",
        "\n",
        "x = tf.placeholder(tf.float32,shape=[None,n_inputs])\n",
        "hidden = tf.layers.dense(x,n_hidden)\n",
        "outputs = tf.layers.dense(hidden,n_outputs)\n",
        "\n",
        "reconstruction_loss = tf.reduce_mean(tf.square(outputs-x))\n",
        "\n",
        "optimizer = tf.train.AdamOptimizer(learning_rate)\n",
        "training_op = optimizer.minimize(reconstruction_loss)\n",
        "\n",
        "init = tf.global_variables_initializer()"
      ],
      "execution_count": 8,
      "outputs": [
        {
          "output_type": "stream",
          "text": [
            "WARNING:tensorflow:From <ipython-input-8-23efb5332916>:12: dense (from tensorflow.python.layers.core) is deprecated and will be removed in a future version.\n",
            "Instructions for updating:\n",
            "Use keras.layers.dense instead.\n",
            "WARNING:tensorflow:From /usr/local/lib/python3.6/dist-packages/tensorflow/python/framework/op_def_library.py:263: colocate_with (from tensorflow.python.framework.ops) is deprecated and will be removed in a future version.\n",
            "Instructions for updating:\n",
            "Colocations handled automatically by placer.\n"
          ],
          "name": "stdout"
        }
      ]
    },
    {
      "cell_type": "code",
      "metadata": {
        "id": "hjxA3xpwWiOF",
        "colab_type": "code",
        "colab": {}
      },
      "source": [
        "n_iterations = 1000\n",
        "codings = hidden \n",
        "\n",
        "with tf.Session() as sess:\n",
        "  init.run()\n",
        "  for iteration in range(n_iterations):\n",
        "    training_op.run(feed_dict={x:X_train})\n",
        "  codings_val = codings.eval(feed_dict={x:X_test})\n",
        "  \n",
        "  "
      ],
      "execution_count": 0,
      "outputs": []
    },
    {
      "cell_type": "code",
      "metadata": {
        "id": "Pjkk_xyzW5vU",
        "colab_type": "code",
        "colab": {
          "base_uri": "https://localhost:8080/",
          "height": 242
        },
        "outputId": "01003afe-1efe-42c8-8ee7-aecf6aa34f22"
      },
      "source": [
        "fig = plt.figure(figsize=(4,3))\n",
        "\n",
        "plt.plot(codings_val[:,0],codings_val[:,1],\"b.\")\n",
        "plt.xlabel(\"$z_1$\",fontsize=18)\n",
        "plt.ylabel(\"$z_2$\",fontsize=18,rotation=0)\n",
        "save_fig(\"linear_autoencoder_pca_plot\")\n",
        "plt.show()\n",
        "\n"
      ],
      "execution_count": 10,
      "outputs": [
        {
          "output_type": "stream",
          "text": [
            "Saving figure linear_autoencoder_pca_plot\n"
          ],
          "name": "stdout"
        },
        {
          "output_type": "display_data",
          "data": {
            "image/png": "[encoded data removed]",
            "text/plain": [
              "<Figure size 288x216 with 1 Axes>"
            ]
          },
          "metadata": {
            "tags": []
          }
        }
      ]
    },
    {
      "cell_type": "code",
      "metadata": {
        "id": "oB13_WjWXTva",
        "colab_type": "code",
        "colab": {
          "base_uri": "https://localhost:8080/",
          "height": 479
        },
        "outputId": "a870716e-6f88-441b-efef-8b4bc5cb02f3"
      },
      "source": [
        "from tensorflow.examples.tutorials.mnist import input_data\n",
        "\n",
        "mnist = input_data.read_data_sets(\"/tmp/data/\")"
      ],
      "execution_count": 11,
      "outputs": [
        {
          "output_type": "stream",
          "text": [
            "WARNING:tensorflow:From <ipython-input-11-4141630e56b4>:3: read_data_sets (from tensorflow.contrib.learn.python.learn.datasets.mnist) is deprecated and will be removed in a future version.\n",
            "Instructions for updating:\n",
            "Please use alternatives such as official/mnist/dataset.py from tensorflow/models.\n",
            "WARNING:tensorflow:From /usr/local/lib/python3.6/dist-packages/tensorflow/contrib/learn/python/learn/datasets/mnist.py:260: maybe_download (from tensorflow.contrib.learn.python.learn.datasets.base) is deprecated and will be removed in a future version.\n",
            "Instructions for updating:\n",
            "Please write your own downloading logic.\n",
            "WARNING:tensorflow:From /usr/local/lib/python3.6/dist-packages/tensorflow/contrib/learn/python/learn/datasets/base.py:252: _internal_retry.<locals>.wrap.<locals>.wrapped_fn (from tensorflow.contrib.learn.python.learn.datasets.base) is deprecated and will be removed in a future version.\n",
            "Instructions for updating:\n",
            "Please use urllib or similar directly.\n",
            "Successfully downloaded train-images-idx3-ubyte.gz 9912422 bytes.\n",
            "WARNING:tensorflow:From /usr/local/lib/python3.6/dist-packages/tensorflow/contrib/learn/python/learn/datasets/mnist.py:262: extract_images (from tensorflow.contrib.learn.python.learn.datasets.mnist) is deprecated and will be removed in a future version.\n",
            "Instructions for updating:\n",
            "Please use tf.data to implement this functionality.\n",
            "Extracting /tmp/data/train-images-idx3-ubyte.gz\n",
            "Successfully downloaded train-labels-idx1-ubyte.gz 28881 bytes.\n",
            "WARNING:tensorflow:From /usr/local/lib/python3.6/dist-packages/tensorflow/contrib/learn/python/learn/datasets/mnist.py:267: extract_labels (from tensorflow.contrib.learn.python.learn.datasets.mnist) is deprecated and will be removed in a future version.\n",
            "Instructions for updating:\n",
            "Please use tf.data to implement this functionality.\n",
            "Extracting /tmp/data/train-labels-idx1-ubyte.gz\n",
            "Successfully downloaded t10k-images-idx3-ubyte.gz 1648877 bytes.\n",
            "Extracting /tmp/data/t10k-images-idx3-ubyte.gz\n",
            "Successfully downloaded t10k-labels-idx1-ubyte.gz 4542 bytes.\n",
            "Extracting /tmp/data/t10k-labels-idx1-ubyte.gz\n",
            "WARNING:tensorflow:From /usr/local/lib/python3.6/dist-packages/tensorflow/contrib/learn/python/learn/datasets/mnist.py:290: DataSet.__init__ (from tensorflow.contrib.learn.python.learn.datasets.mnist) is deprecated and will be removed in a future version.\n",
            "Instructions for updating:\n",
            "Please use alternatives such as official/mnist/dataset.py from tensorflow/models.\n"
          ],
          "name": "stdout"
        }
      ]
    },
    {
      "cell_type": "code",
      "metadata": {
        "id": "mIroaccyXemB",
        "colab_type": "code",
        "colab": {}
      },
      "source": [
        "reset_graph()\n",
        "\n",
        "from functools import partial\n",
        "\n",
        "n_inputs = 28*28\n",
        "n_hidden1 = 300\n",
        "n_hidden2 = 150\n",
        "n_hidden3 = n_hidden1\n",
        "n_outputs = n_inputs \n",
        "\n",
        "\n",
        "learning_rate = 0.01 \n",
        "l2_reg = 0.0001\n",
        "\n",
        "x = tf.placeholder(tf.float32,shape=[None,n_inputs])\n",
        "he_init = tf.contrib.layers.variance_scaling_initializer()\n",
        "\n",
        "l2_regularizer = tf.contrib.layers.l2_regularizer(l2_reg)\n",
        "my_dense_layer = partial(tf.layers.dense,\n",
        "                        activation=tf.nn.elu,\n",
        "                        kernel_initializer=he_init,\n",
        "                        kernel_regularizer=l2_regularizer)\n",
        "\n",
        "hidden1 = my_dense_layer(x,n_hidden1)\n",
        "hidden2 = my_dense_layer(hidden1,n_hidden2)\n",
        "hidden3 = my_dense_layer(hidden2,n_hidden3)\n",
        "outputs = my_dense_layer(hidden3,n_outputs,activation=None)\n",
        "\n",
        "reconstruction_loss = tf.reduce_mean(tf.square(outputs-x))\n",
        "\n",
        "reg_losses = tf.get_collection(tf.GraphKeys.REGULARIZATION_LOSSES)\n",
        "loss = tf.add_n([reconstruction_loss]+reg_losses)\n",
        "\n",
        "optimizer = tf.train.AdamOptimizer(learning_rate)\n",
        "training_op = optimizer.minimize(loss)\n",
        "\n",
        "init = tf.global_variables_initializer()\n",
        "saver = tf.train.Saver()\n",
        "\n"
      ],
      "execution_count": 0,
      "outputs": []
    },
    {
      "cell_type": "code",
      "metadata": {
        "id": "w0xm_MS0XtHD",
        "colab_type": "code",
        "colab": {
          "base_uri": "https://localhost:8080/",
          "height": 102
        },
        "outputId": "7f4af1d0-929f-4555-9d95-a6cd30627d1a"
      },
      "source": [
        "n_epochs = 5 \n",
        "batch_size = 150 \n",
        "\n",
        "with tf.Session() as sess:\n",
        "  init.run()\n",
        "  for epoch in range(n_epochs):\n",
        "    n_batches = mnist.train.num_examples // batch_size \n",
        "    for iteration in range(n_batches):\n",
        "      print(\"\\r{}%\".format(100*iteration // n_batches),end=\"\")\n",
        "      \n",
        "      sys.stdout.flush()\n",
        "      X_batch,y_batch = mnist.train.next_batch(batch_size)\n",
        "      sess.run(training_op,feed_dict={x:X_batch})\n",
        "    loss_train = reconstruction_loss.eval(feed_dict={x:X_batch})\n",
        "    print(\"\\r{}\".format(epoch),\"Train MSE:\",loss_train)\n",
        "    saver.save(sess,\"./my_model_all_layers.ckpt\")\n"
      ],
      "execution_count": 13,
      "outputs": [
        {
          "output_type": "stream",
          "text": [
            "0 Train MSE: 0.021799065\n",
            "1 Train MSE: 0.011398722\n",
            "2 Train MSE: 0.010222834\n",
            "3 Train MSE: 0.009901937\n",
            "4 Train MSE: 0.010377128\n"
          ],
          "name": "stdout"
        }
      ]
    },
    {
      "cell_type": "code",
      "metadata": {
        "id": "i1ytgdH2Zuj5",
        "colab_type": "code",
        "colab": {}
      },
      "source": [
        "def show_reconstructed_digits(x,outputs,model_path = None,n_test_digits=2):\n",
        "  with tf.Session() as sess:\n",
        "    if model_path:\n",
        "      saver.restore(sess,model_path)\n",
        "    X_test = mnist.test.images[:n_test_digits]\n",
        "    outputs_val = outputs.eval(feed_dict={x:X_test})\n",
        "    \n",
        "  fig = plt.figure(figsize=(8,3*n_test_digits))\n",
        "  \n",
        "  for digit_index in range(n_test_digits):\n",
        "    plt.subplot(n_test_digits,2,digit_index*2+1)\n",
        "    plot_image(X_test[digit_index])\n",
        "    plt.subplot(n_test_digits,2,digit_index*2+2)\n",
        "    plot_image(outputs_val[digit_index])"
      ],
      "execution_count": 0,
      "outputs": []
    },
    {
      "cell_type": "code",
      "metadata": {
        "id": "YvJmDbcmalLy",
        "colab_type": "code",
        "colab": {
          "base_uri": "https://localhost:8080/",
          "height": 546
        },
        "outputId": "f321f339-38b3-4b3f-f43d-456716901a83"
      },
      "source": [
        "show_reconstructed_digits(x,outputs,\"./my_model_all_layers.ckpt\")\n",
        "save_fig(\"reconstruction_plot\")"
      ],
      "execution_count": 16,
      "outputs": [
        {
          "output_type": "stream",
          "text": [
            "WARNING:tensorflow:From /usr/local/lib/python3.6/dist-packages/tensorflow/python/training/saver.py:1266: checkpoint_exists (from tensorflow.python.training.checkpoint_management) is deprecated and will be removed in a future version.\n",
            "Instructions for updating:\n",
            "Use standard file APIs to check for files with this prefix.\n",
            "INFO:tensorflow:Restoring parameters from ./my_model_all_layers.ckpt\n",
            "Saving figure reconstruction_plot\n"
          ],
          "name": "stdout"
        },
        {
          "output_type": "display_data",
          "data": {
            "image/png": "[encoded data removed]",
            "text/plain": [
              "<Figure size 576x432 with 4 Axes>"
            ]
          },
          "metadata": {
            "tags": []
          }
        }
      ]
    },
    {
      "cell_type": "code",
      "metadata": {
        "id": "FqAIfP37auQG",
        "colab_type": "code",
        "colab": {}
      },
      "source": [
        "reset_graph()\n",
        "\n",
        "n_inputs = 28*28 \n",
        "n_hidden1 = 300\n",
        "n_hidden2 = 150 \n",
        "n_hidden3 = n_hidden1 \n",
        "n_outputs = n_inputs \n",
        "\n",
        "learning_rate = 0.01 \n",
        "l2_reg = 0.0005 \n"
      ],
      "execution_count": 0,
      "outputs": []
    },
    {
      "cell_type": "code",
      "metadata": {
        "id": "RALSQLbYbHNe",
        "colab_type": "code",
        "colab": {}
      },
      "source": [
        "activation = tf.nn.elu\n",
        "regularizer = tf.contrib.layers.l2_regularizer(l2_reg)\n",
        "initializer = tf.contrib.layers.variance_scaling_initializer()\n",
        "\n",
        "x = tf.placeholder(tf.float32,shape=[None,n_inputs])\n",
        "\n",
        "weights1_init = initializer([n_inputs,n_hidden1])\n",
        "weights2_init = initializer([n_hidden1,n_hidden2])\n",
        "\n",
        "weights1 = tf.Variable(weights1_init,dtype=tf.float32,name=\"weights1\")\n",
        "weights2 = tf.Variable(weights2_init,dtype=tf.float32,name=\"weights2\")\n",
        "weights3 = tf.transpose(weights2,name=\"weights3\")\n",
        "weights4 = tf.transpose(weights1,name=\"weights4\")\n",
        "\n",
        "biases1 = tf.Variable(tf.zeros(n_hidden1),name=\"biases1\")\n",
        "biases2 = tf.Variable(tf.zeros(n_hidden2),name=\"biases2\")\n",
        "biases3 = tf.Variable(tf.zeros(n_hidden3),name=\"biases3\")\n",
        "biases4 = tf.Variable(tf.zeros(n_outputs),name=\"biases4\")\n",
        "\n",
        "hidden1 = activation(tf.matmul(x,weights1)+biases1)\n",
        "hidden2 = activation(tf.matmul(hidden1,weights2)+biases2)\n",
        "hidden3 = activation(tf.matmul(hidden2,weights3)+biases3)\n",
        "outputs = tf.matmul(hidden3,weights4)+biases4\n",
        "\n",
        "reconstruction_loss = tf.reduce_mean(tf.square(outputs-x))\n",
        "reg_loss = regularizer(weights1)+regularizer(weights2)\n",
        "loss = reconstruction_loss+reg_loss\n",
        "\n",
        "optimizer = tf.train.AdamOptimizer(learning_rate)\n",
        "training_op = optimizer.minimize(loss)\n",
        "\n",
        "init = tf.global_variables_initializer()\n"
      ],
      "execution_count": 0,
      "outputs": []
    },
    {
      "cell_type": "code",
      "metadata": {
        "id": "GNYnaTNcdEwa",
        "colab_type": "code",
        "colab": {}
      },
      "source": [
        "saver = tf.train.Saver()"
      ],
      "execution_count": 0,
      "outputs": []
    },
    {
      "cell_type": "code",
      "metadata": {
        "id": "BuYW1QhNdIgc",
        "colab_type": "code",
        "colab": {
          "base_uri": "https://localhost:8080/",
          "height": 102
        },
        "outputId": "d77f20cd-4d05-4726-8dc7-4eced2cce9ca"
      },
      "source": [
        "n_epochs = 5 \n",
        "batch_size = 150 \n",
        "\n",
        "with tf.Session() as sess:\n",
        "  init.run()\n",
        "  for epoch in range(n_epochs):\n",
        "    n_batches = mnist.train.num_examples // batch_size \n",
        "    for iteration in range(n_batches):\n",
        "      print(\"\\r{}%\".format(100*iteration//n_batches),end=\"\")\n",
        "      sys.stdout.flush()\n",
        "      X_batch,y_batch = mnist.train.next_batch(batch_size)\n",
        "      sess.run(training_op,feed_dict={x:X_batch})\n",
        "      \n",
        "    loss_train = reconstruction_loss.eval(feed_dict={x:X_batch})\n",
        "    print(\"\\r{}\".format(epoch),\"Train MSE:\",loss_train)\n",
        "    saver.save(sess,\"./my_model_all_layers.ckpt\")\n",
        "  \n",
        "\n",
        "\n",
        "\n"
      ],
      "execution_count": 20,
      "outputs": [
        {
          "output_type": "stream",
          "text": [
            "0 Train MSE: 0.015066946\n",
            "1 Train MSE: 0.016488738\n",
            "2 Train MSE: 0.017375926\n",
            "3 Train MSE: 0.016878327\n",
            "4 Train MSE: 0.015587719\n"
          ],
          "name": "stdout"
        }
      ]
    },
    {
      "cell_type": "code",
      "metadata": {
        "id": "5sw4Zbj9d26P",
        "colab_type": "code",
        "colab": {
          "base_uri": "https://localhost:8080/",
          "height": 416
        },
        "outputId": "b6dc5317-f6ea-4bae-b04b-17796417f23a"
      },
      "source": [
        "show_reconstructed_digits(x,outputs,\"./my_model_all_layers.ckpt\")"
      ],
      "execution_count": 21,
      "outputs": [
        {
          "output_type": "stream",
          "text": [
            "INFO:tensorflow:Restoring parameters from ./my_model_all_layers.ckpt\n"
          ],
          "name": "stdout"
        },
        {
          "output_type": "display_data",
          "data": {
            "image/png": "[encoded data removed]",
            "text/plain": [
              "<Figure size 576x432 with 4 Axes>"
            ]
          },
          "metadata": {
            "tags": []
          }
        }
      ]
    },
    {
      "cell_type": "code",
      "metadata": {
        "id": "28UELQGVeOGI",
        "colab_type": "code",
        "colab": {}
      },
      "source": [
        "reset_graph()\n",
        "\n",
        "from functools import partial\n",
        "\n",
        "def train_autoencoder(X_train,n_neurons,n_epochs,batch_size,\n",
        "                     learning_rate = 0.01,l2_reg = 0.0005,seed=42,\n",
        "                     hidden_activation=tf.nn.elu,\n",
        "                     output_activation=tf.nn.elu):\n",
        "  graph = tf.Graph()\n",
        "  with graph.as_default():\n",
        "    tf.set_random_seed(seed)\n",
        "    n_inputs = X_train.shape[1]\n",
        "    \n",
        "    x = tf.placeholder(tf.float32,shape=[None,n_inputs])\n",
        "    my_dense_layer = partial(\n",
        "    tf.layers.dense,\n",
        "    kernel_initializer = tf.contrib.layers.variance_scaling_initializer(),\n",
        "    kernel_regularizer = tf.contrib.layers.l2_regularizer(l2_reg))\n",
        "    \n",
        "    hidden = my_dense_layer(x, n_neurons, activation=hidden_activation, name=\"hidden\")\n",
        "    outputs = my_dense_layer(hidden,n_inputs,activation=output_activation,name=\"outputs\")\n",
        "    \n",
        "    reconstruction_loss = tf.reduce_mean(tf.square(outputs-x))\n",
        "    \n",
        "    reg_losses = tf.get_collection(tf.GraphKeys.REGULARIZATION_LOSSES)\n",
        "    loss = tf.add_n([reconstruction_loss]+reg_losses)\n",
        "    \n",
        "    optimizer = tf.train.AdamOptimizer(learning_rate)\n",
        "    train_op = optimizer.minimize(loss)\n",
        "    \n",
        "    \n",
        "    init = tf.global_variables_initializer()\n",
        "    \n",
        "  with tf.Session(graph=graph) as sess:\n",
        "    init.run()\n",
        "    for epoch in range(n_epochs):\n",
        "      n_batches = len(X_train) // batch_size\n",
        "      for iteration in range(n_batches):\n",
        "        print(\"\\r{}%\".format(100*iteration // n_batches),end=\"\")\n",
        "        sys.stdout.flush()\n",
        "        indices = rnd.permutation(len(X_train))[:batch_size]\n",
        "        X_batch = X_train[indices]\n",
        "        sess.run(train_op,feed_dict={x:X_batch})\n",
        "      loss_train = reconstruction_loss.eval(feed_dict={x:X_batch})\n",
        "      print(\"\\r{}\".format(epoch),\"Train MSE:\",loss_train)\n",
        "    params = dict([(var.name,var.eval()) for var in tf.get_collection(tf.GraphKeys.TRAINABLE_VARIABLES)])\n",
        "    hidden_val = hidden.eval(feed_dict={x:X_train})\n",
        "    \n",
        "    return hidden_val,params[\"hidden/kernel:0\"],params[\"hidden/bias:0\"],params[\"outputs/kernel:0\"],params[\"outputs/bias:0\"]\n",
        "\n",
        "\n",
        "\n",
        "\n"
      ],
      "execution_count": 0,
      "outputs": []
    },
    {
      "cell_type": "code",
      "metadata": {
        "id": "ZJQg4xGUOEF4",
        "colab_type": "code",
        "colab": {}
      },
      "source": [
        "reset_graph()\n",
        "\n",
        "from functools import partial\n",
        "\n",
        "def train_autoencoder(X_train, n_neurons, n_epochs, batch_size,\n",
        "                      learning_rate = 0.01, l2_reg = 0.0005, seed=42,\n",
        "                      hidden_activation=tf.nn.elu,\n",
        "                      output_activation=tf.nn.elu):\n",
        "    graph = tf.Graph()\n",
        "    with graph.as_default():\n",
        "        tf.set_random_seed(seed)\n",
        "\n",
        "        n_inputs = X_train.shape[1]\n",
        "\n",
        "        X = tf.placeholder(tf.float32, shape=[None, n_inputs])\n",
        "        \n",
        "        my_dense_layer = partial(\n",
        "            tf.layers.dense,\n",
        "            kernel_initializer=tf.contrib.layers.variance_scaling_initializer(),\n",
        "            kernel_regularizer=tf.contrib.layers.l2_regularizer(l2_reg))\n",
        "\n",
        "        hidden = my_dense_layer(X, n_neurons, activation=hidden_activation, name=\"hidden\")\n",
        "        outputs = my_dense_layer(hidden, n_inputs, activation=output_activation, name=\"outputs\")\n",
        "        \n",
        "        reconstruction_loss = tf.reduce_mean(tf.square(outputs - X))\n",
        "\n",
        "        reg_losses = tf.get_collection(tf.GraphKeys.REGULARIZATION_LOSSES)\n",
        "        loss = tf.add_n([reconstruction_loss] + reg_losses)\n",
        "\n",
        "        optimizer = tf.train.AdamOptimizer(learning_rate)\n",
        "        training_op = optimizer.minimize(loss)\n",
        "\n",
        "        init = tf.global_variables_initializer()\n",
        "\n",
        "    with tf.Session(graph=graph) as sess:\n",
        "        init.run()\n",
        "        for epoch in range(n_epochs):\n",
        "            n_batches = len(X_train) // batch_size\n",
        "            for iteration in range(n_batches):\n",
        "                print(\"\\r{}%\".format(100 * iteration // n_batches), end=\"\")\n",
        "                sys.stdout.flush()\n",
        "                indices = rnd.permutation(len(X_train))[:batch_size]\n",
        "                X_batch = X_train[indices]\n",
        "                sess.run(training_op, feed_dict={X: X_batch})\n",
        "            loss_train = reconstruction_loss.eval(feed_dict={X: X_batch})\n",
        "            print(\"\\r{}\".format(epoch), \"Train MSE:\", loss_train)\n",
        "        params = dict([(var.name, var.eval()) for var in tf.get_collection(tf.GraphKeys.TRAINABLE_VARIABLES)])\n",
        "        hidden_val = hidden.eval(feed_dict={X: X_train})\n",
        "        return hidden_val, params[\"hidden/kernel:0\"], params[\"hidden/bias:0\"], params[\"outputs/kernel:0\"], params[\"outputs/bias:0\"]\n",
        "        "
      ],
      "execution_count": 0,
      "outputs": []
    },
    {
      "cell_type": "code",
      "metadata": {
        "id": "oZAH76sDNsoF",
        "colab_type": "code",
        "colab": {
          "base_uri": "https://localhost:8080/",
          "height": 153
        },
        "outputId": "749d23f6-e850-4046-95c7-e16b4561c037"
      },
      "source": [
        "hidden_output, W1, b1, W4, b4 = train_autoencoder(mnist.train.images, n_neurons=300, n_epochs=4, batch_size=150,\n",
        "                                                  output_activation=None)\n",
        "_, W2, b2, W3, b3 = train_autoencoder(hidden_output, n_neurons=150, n_epochs=4, batch_size=150)"
      ],
      "execution_count": 24,
      "outputs": [
        {
          "output_type": "stream",
          "text": [
            "0 Train MSE: 0.018517934\n",
            "1 Train MSE: 0.018682716\n",
            "2 Train MSE: 0.018467715\n",
            "3 Train MSE: 0.019231727\n",
            "0 Train MSE: 0.004236107\n",
            "1 Train MSE: 0.004832679\n",
            "2 Train MSE: 0.0046687447\n",
            "3 Train MSE: 0.004403908\n"
          ],
          "name": "stdout"
        }
      ]
    },
    {
      "cell_type": "code",
      "metadata": {
        "id": "mzt8HLB4LZlh",
        "colab_type": "code",
        "colab": {}
      },
      "source": [
        "reset_graph()\n",
        "\n",
        "n_inputs = 28*28 \n",
        "\n",
        "x = tf.placeholder(tf.float32,shape=[None,n_inputs])\n",
        "\n",
        "hidden1 = tf.nn.elu(tf.matmul(x,W1)+b1)\n",
        "hidden2 = tf.nn.elu(tf.matmul(hidden1,W2)+b2)\n",
        "hidden3 = tf.nn.elu(tf.matmul(hidden2,W3)+b3)\n",
        "outputs = tf.matmul(hidden3,W4)+b4\n",
        "\n",
        "\n"
      ],
      "execution_count": 0,
      "outputs": []
    },
    {
      "cell_type": "code",
      "metadata": {
        "id": "hoFJ6q6hSdrs",
        "colab_type": "code",
        "colab": {
          "base_uri": "https://localhost:8080/",
          "height": 379
        },
        "outputId": "178f489d-d187-458b-97f5-0b8433eb5414"
      },
      "source": [
        "show_reconstructed_digits(x,outputs)"
      ],
      "execution_count": 26,
      "outputs": [
        {
          "output_type": "display_data",
          "data": {
            "image/png": "[encoded data removed]",
            "text/plain": [
              "<Figure size 576x432 with 4 Axes>"
            ]
          },
          "metadata": {
            "tags": []
          }
        }
      ]
    },
    {
      "cell_type": "code",
      "metadata": {
        "id": "_trksr34Sgaa",
        "colab_type": "code",
        "colab": {}
      },
      "source": [
        "reset_graph()\n",
        "\n",
        "n_inputs = 28*28\n",
        "n_hidden1 = 300\n",
        "n_hidden2 = 150 \n",
        "n_hidden3 = n_hidden1\n",
        "n_outputs = n_inputs\n",
        "\n",
        "learning_rate = 0.01 \n",
        "l2_reg = 0.0001\n",
        "\n",
        "activation = tf.nn.elu\n",
        "regularizer = tf.contrib.layers.l2_regularizer(l2_reg)\n",
        "initializer = tf.contrib.layers.variance_scaling_initializer()\n",
        "\n",
        "x = tf.placeholder(tf.float32,shape=[None,n_inputs])\n",
        "\n",
        "weights1_init = initializer([n_inputs,n_hidden1])\n",
        "weights2_init = initializer([n_hidden1,n_hidden2])\n",
        "weights3_init = initializer([n_hidden2,n_hidden3])\n",
        "weights4_init = initializer([n_hidden3,n_outputs])\n",
        "\n",
        "\n",
        "weights1 = tf.Variable(weights1_init,dtype=tf.float32,name=\"weights1\")\n",
        "weights2 = tf.Variable(weights2_init,dtype=tf.float32,name=\"weights2\")\n",
        "weights3 = tf.Variable(weights3_init,dtype=tf.float32,name=\"weights3\")\n",
        "weights4 = tf.Variable(weights4_init,dtype=tf.float32,name=\"weights4\")\n",
        "\n",
        "biases1 = tf.Variable(tf.zeros(n_hidden1),name=\"biases1\")\n",
        "biases2 = tf.Variable(tf.zeros(n_hidden2),name=\"biases2\")\n",
        "biases3 = tf.Variable(tf.zeros(n_hidden3),name=\"biases3\")\n",
        "biases4 = tf.Variable(tf.zeros(n_outputs),name=\"biases4\")\n",
        "\n",
        "hidden1 = activation(tf.matmul(x,weights1)+biases1)\n",
        "hidden2 = activation(tf.matmul(hidden1,weights2)+biases2)\n",
        "hidden3 = activation(tf.matmul(hidden2,weights3)+biases3)\n",
        "outputs = tf.matmul(hidden3,weights4)+biases4\n",
        "\n",
        "reconstruction_loss = tf.reduce_mean(tf.square(outputs-x))\n",
        "\n",
        "\n",
        "\n",
        "\n",
        "\n"
      ],
      "execution_count": 0,
      "outputs": []
    },
    {
      "cell_type": "code",
      "metadata": {
        "id": "4qKuQ0SlWIZc",
        "colab_type": "code",
        "colab": {}
      },
      "source": [
        "optimizer = tf.train.AdamOptimizer(learning_rate)\n",
        "\n",
        "with tf.name_scope(\"phase1\"):\n",
        "  phase1_outputs = tf.matmul(hidden1,weights4)+biases4\n",
        "  phase1_reconstruction_loss = tf.reduce_mean(tf.square(phase1_outputs-x))\n",
        "  phase1_reg_loss = regularizer(weights1)+regularizer(weights4)\n",
        "  phase1_loss = phase1_reconstruction_loss + phase1_reg_loss\n",
        "  phase1_training_op = optimizer.minimize(phase1_loss)\n",
        "  \n",
        "with tf.name_scope(\"phase2\"):\n",
        "  phase2_reconstruction_loss = tf.reduce_mean(tf.square(hidden3-hidden1))\n",
        "  phase2_reg_loss = regularizer(weights2)+regularizer(weights3)\n",
        "  phase2_loss = phase2_reconstruction_loss+phase2_reg_loss\n",
        "  train_vars = [weights2,biases2,weights3,biases3]\n",
        "  phase2_training_op = optimizer.minimize(phase2_loss,var_list=train_vars)\n",
        "  \n",
        "  "
      ],
      "execution_count": 0,
      "outputs": []
    },
    {
      "cell_type": "code",
      "metadata": {
        "id": "Av5T2yh9XIrF",
        "colab_type": "code",
        "colab": {}
      },
      "source": [
        "init = tf.global_variables_initializer()\n",
        "saver = tf.train.Saver()"
      ],
      "execution_count": 0,
      "outputs": []
    },
    {
      "cell_type": "code",
      "metadata": {
        "id": "lx9XP3SfYro4",
        "colab_type": "code",
        "colab": {
          "base_uri": "https://localhost:8080/",
          "height": 221
        },
        "outputId": "37fbd880-2440-40d6-b135-fc21fcc2f203"
      },
      "source": [
        "training_ops = [phase1_training_op,phase2_training_op]\n",
        "reconstruction_losses = [phase1_reconstruction_loss,phase2_reconstruction_loss]\n",
        "n_epochs = [4,4]\n",
        "batch_sizes = [150,150]\n",
        "\n",
        "with tf.Session() as sess:\n",
        "  init.run()\n",
        "  for phase in range(2):\n",
        "    print(\"Training phase #{}\".format(phase+1))\n",
        "    for epoch in range(n_epochs[phase]):\n",
        "      n_batches = mnist.train.num_examples // batch_sizes[phase]\n",
        "      for iteration in range(n_batches):\n",
        "        print(\"\\r{}%\".format(100*iteration//n_batches),end=\"\")\n",
        "        sys.stdout.flush()\n",
        "        X_batch,y_batch = mnist.train.next_batch(batch_sizes[phase])\n",
        "        sess.run(training_ops[phase],feed_dict={x:X_batch})\n",
        "        \n",
        "      loss_train = reconstruction_losses[phase].eval(feed_dict={x:X_batch})\n",
        "      print(\"\\r{}\".format(epoch),\"Train MSE:\",loss_train)\n",
        "      saver.save(sess,\"./my_model_all_layers.ckpt\")\n",
        "    loss_test = reconstruction_loss.eval(feed_dict={x:X_batch})\n",
        "    print(\"Test MSE:\",loss_test)\n",
        "    \n",
        "    \n",
        "    \n",
        "        \n",
        "\n"
      ],
      "execution_count": 33,
      "outputs": [
        {
          "output_type": "stream",
          "text": [
            "Training phase #1\n",
            "0 Train MSE: 0.0074068652\n",
            "1 Train MSE: 0.007828818\n",
            "2 Train MSE: 0.0077280947\n",
            "3 Train MSE: 0.0074090054\n",
            "Test MSE: 0.108815186\n",
            "Training phase #2\n",
            "0 Train MSE: 0.30220637\n",
            "1 Train MSE: 0.0060562417\n",
            "2 Train MSE: 0.002984181\n",
            "3 Train MSE: 0.0024322334\n",
            "Test MSE: 0.01041548\n"
          ],
          "name": "stdout"
        }
      ]
    },
    {
      "cell_type": "code",
      "metadata": {
        "id": "j5IKHg16aZXu",
        "colab_type": "code",
        "colab": {
          "base_uri": "https://localhost:8080/",
          "height": 204
        },
        "outputId": "31b9688a-5639-4d1c-903c-211fc92cd61a"
      },
      "source": [
        "training_ops = [phase1_training_op,phase2_training_op]\n",
        "reconstruction_losses = [phase1_reconstruction_loss,phase2_reconstruction_loss]\n",
        "n_epochs = [4,4]\n",
        "batch_sizes = [150,150]\n",
        "\n",
        "\n",
        "with tf.Session() as sess:\n",
        "  init.run()\n",
        "  for phase in range(2):\n",
        "    print(\"Training phase #{}\".format(phase+1))\n",
        "    if phase == 1:\n",
        "      hidden1_cache = hidden1.eval(feed_dict={x:mnist.train.images})\n",
        "      \n",
        "    for epoch in range(n_epochs[phase]):\n",
        "      n_batches = mnist.train.num_examples // batch_sizes[phase]\n",
        "      for iteration in range(n_batches):\n",
        "        print(\"\\r{}%\".format(100*iteration // n_batches),end=\"\")\n",
        "        sys.stdout.flush()\n",
        "        if phase == 1:\n",
        "          indices = rnd.permutation(mnist.train.num_examples)\n",
        "          hidden1_batch = hidden1_cache[indices[:batch_sizes[phase]]]\n",
        "          feed_dict = {hidden1:hidden1_batch}\n",
        "          sess.run(training_ops[phase],feed_dict=feed_dict)\n",
        "          \n",
        "        else: \n",
        "          X_batch,y_batch = mnist.train.next_batch(batch_sizes[phase])\n",
        "          feed_dict = {x:X_batch}\n",
        "          sess.run(training_ops[phase],feed_dict=feed_dict)\n",
        "      loss_train = reconstruction_losses[phase].eval(feed_dict=feed_dict)\n",
        "      print(\"\\r{}\".format(epoch),\"Train MSE:\",loss_train)\n",
        "      saver.save(sess,\"../my_model_all_layers.ckpt\")\n",
        "  loss_test = reconstruction_loss.eval(feed_dict={x:mnist.test.images})\n",
        "  print(\"Test MSE:\",loss_test)\n",
        "  \n",
        "\n",
        "\n",
        "\n",
        "\n",
        "\n",
        "\n"
      ],
      "execution_count": 39,
      "outputs": [
        {
          "output_type": "stream",
          "text": [
            "Training phase #1\n",
            "0 Train MSE: 0.007959753\n",
            "1 Train MSE: 0.0073073367\n",
            "2 Train MSE: 0.007790841\n",
            "3 Train MSE: 0.008242568\n",
            "Training phase #2\n",
            "0 Train MSE: 0.13902962\n",
            "1 Train MSE: 0.005474853\n",
            "2 Train MSE: 0.00256196\n",
            "3 Train MSE: 0.0021418293\n",
            "Test MSE: 0.00981761\n"
          ],
          "name": "stdout"
        }
      ]
    },
    {
      "cell_type": "code",
      "metadata": {
        "id": "-_ZJIal7dAam",
        "colab_type": "code",
        "colab": {
          "base_uri": "https://localhost:8080/",
          "height": 309
        },
        "outputId": "92851c73-a802-4309-8994-d7da49ec5f38"
      },
      "source": [
        "n_test_digits = 2 \n",
        "X_test = mnist.test.images[:n_test_digits]\n",
        "\n",
        "\n",
        "with tf.Session() as sess:\n",
        "  saver.restore(sess,\"./my_model_all_layers.ckpt\")\n",
        "  outputs_val = outputs.eval(feed_dict={x:X_test})\n",
        "  \n",
        "def plot_image(image,shape=[28,28]):\n",
        "  plt.imshow(image.reshape(shape),cmap=\"Greys\",interpolation=\"nearest\")\n",
        "  plt.axis(\"off\")\n",
        "  \n",
        "  \n",
        "for digit_index in range(n_test_digits):\n",
        "  plt.subplot(n_test_digits,2,digit_index*2+1)\n",
        "  plot_image(X_test[digit_index])\n",
        "  plt.subplot(n_test_digits,2,digit_index*2+2)\n",
        "  plot_image(outputs_val[digit_index])\n",
        "\n",
        "\n",
        "\n"
      ],
      "execution_count": 41,
      "outputs": [
        {
          "output_type": "stream",
          "text": [
            "INFO:tensorflow:Restoring parameters from ./my_model_all_layers.ckpt\n"
          ],
          "name": "stdout"
        },
        {
          "output_type": "display_data",
          "data": {
            "image/png": "[encoded data removed]",
            "text/plain": [
              "<Figure size 432x288 with 4 Axes>"
            ]
          },
          "metadata": {
            "tags": []
          }
        }
      ]
    },
    {
      "cell_type": "code",
      "metadata": {
        "id": "Rz0G3yDymgMB",
        "colab_type": "code",
        "colab": {
          "base_uri": "https://localhost:8080/",
          "height": 158
        },
        "outputId": "3cfa8014-f19a-4181-92af-5445565c20f1"
      },
      "source": [
        "\n",
        "with tf.Session() as sess:\n",
        "  saver.restore(sess,\"./my_model_all_layers.ckpt\")\n",
        "  weights1_val = weights1.eval()\n",
        "  \n",
        "for i in range(5):\n",
        "  plt.subplot(1,5,i+1)\n",
        "  plot_image(weights1_val.T[i])\n",
        "  \n",
        "save_fig(\"extracted_features_plot\")\n",
        "plt.show()\n",
        "\n",
        "\n",
        "\n",
        "\n"
      ],
      "execution_count": 42,
      "outputs": [
        {
          "output_type": "stream",
          "text": [
            "INFO:tensorflow:Restoring parameters from ./my_model_all_layers.ckpt\n",
            "Saving figure extracted_features_plot\n"
          ],
          "name": "stdout"
        },
        {
          "output_type": "display_data",
          "data": {
            "image/png": "[encoded data removed]",
            "text/plain": [
              "<Figure size 432x288 with 5 Axes>"
            ]
          },
          "metadata": {
            "tags": []
          }
        }
      ]
    },
    {
      "cell_type": "code",
      "metadata": {
        "id": "GnAh8MVNm17Z",
        "colab_type": "code",
        "colab": {}
      },
      "source": [
        "reset_graph()\n",
        "\n",
        "n_inputs = 28*28\n",
        "n_hidden1 = 300\n",
        "n_hidden2 = 150 \n",
        "n_outputs = 10 \n",
        "\n",
        "learning_rate = 0.01 \n",
        "l2_reg = 0.00005\n",
        "\n",
        "activation = tf.nn.elu\n",
        "regularizer = tf.contrib.layers.l2_regularizer(l2_reg)\n",
        "initializer = tf.contrib.layers.variance_scaling_initializer()\n",
        "\n",
        "x = tf.placeholder(tf.float32,shape=[None,n_inputs])\n",
        "y = tf.placeholder(tf.int32,shape=[None])\n",
        "\n",
        "\n",
        "weights1_init = initializer([n_inputs,n_hidden1])\n",
        "weights2_init = initializer([n_hidden1,n_hidden2])\n",
        "weights3_init = initializer([n_hidden2,n_outputs])\n",
        "\n",
        "weights1 = tf.Variable(weights1_init,dtype=tf.float32,name=\"weights1\")\n",
        "weights2 = tf.Variable(weights2_init,dtype=tf.float32,name=\"weights2\")\n",
        "weights3 = tf.Variable(weights3_init,dtype=tf.float32,name=\"weights3\")\n",
        "\n",
        "biases1 = tf.Variable(tf.zeros(n_hidden1),name=\"biases1\")\n",
        "biases2 = tf.Variable(tf.zeros(n_hidden2),name=\"biases2\")\n",
        "biases3 = tf.Variable(tf.zeros(n_outputs),name=\"biases3\")\n",
        "\n",
        "hidden1 = activation(tf.matmul(x,weights1)+biases1)\n",
        "hidden2 = activation(tf.matmul(hidden1,weights2)+biases2)\n",
        "logits = tf.matmul(hidden2,weights3)+biases3\n",
        "\n",
        "\n",
        "cross_entropy = tf.nn.sparse_softmax_cross_entropy_with_logits(labels=y,logits=logits)\n",
        "reg_loss = regularizer(weights1) + regularizer(weights2) + regularizer(weights3)\n",
        "loss = cross_entropy + reg_loss\n",
        "optimizer = tf.train.AdamOptimizer(learning_rate)\n",
        "training_op = optimizer.minimize(loss)\n",
        "\n",
        "correct = tf.nn.in_top_k(logits,y,1)\n",
        "accuracy = tf.reduce_mean(tf.cast(correct,tf.float32))\n",
        "\n",
        "init = tf.global_variables_initializer()\n",
        "pretrain_saver = tf.train.Saver([weights1,weights2,biases1,biases2])\n",
        "saver = tf.train.Saver()\n",
        "\n",
        "\n",
        "\n",
        "\n",
        "\n"
      ],
      "execution_count": 0,
      "outputs": []
    },
    {
      "cell_type": "code",
      "metadata": {
        "id": "-51Bk0t4rQ7G",
        "colab_type": "code",
        "colab": {
          "base_uri": "https://localhost:8080/",
          "height": 85
        },
        "outputId": "e198778f-72ef-4e69-ac5d-b3265d597503"
      },
      "source": [
        "n_epochs = 4 \n",
        "batch_size = 150 \n",
        "n_labeled_instances = 20000\n",
        "\n",
        "with tf.Session() as sess:\n",
        "  init.run()\n",
        "  for epoch in range(n_epochs):\n",
        "    n_batches = n_labeled_instances\n",
        "    for iteration in range(n_batches):\n",
        "      print(\"\\r{}%\".format(100*iteration // n_batches),end=\"\")\n",
        "      sys.stdout.flush()\n",
        "      indices = rnd.permutation(n_labeled_instances)[:batch_size]\n",
        "      X_batch,y_batch = mnist.train.images[indices],mnist.train.labels[indices]\n",
        "      sess.run(training_op,feed_dict={x:X_batch,y:y_batch})\n",
        "    accuracy_val = accuracy.eval(feed_dict={x:X_batch,y:y_batch})\n",
        "    print(\"\\r{}\".format(epoch),\"Train accuracy:\",accuracy_val,end=\"\")\n",
        "    saver.save(sess,\"./my_model_all_layers.ckpt\")\n",
        "    accuracy_val = accuracy.eval(feed_dict={x:mnist.test.images,y:mnist.test.labels})\n",
        "    print(\"Test accuracy:\",accuracy_val)\n",
        "    \n",
        "\n",
        "\n",
        "\n",
        "\n"
      ],
      "execution_count": 49,
      "outputs": [
        {
          "output_type": "stream",
          "text": [
            "0 Train accuracy: 0.99333334Test accuracy: 0.9538\n",
            "1 Train accuracy: 1.0Test accuracy: 0.9588\n",
            "2 Train accuracy: 0.9866667Test accuracy: 0.9607\n",
            "3 Train accuracy: 0.99333334Test accuracy: 0.9543\n"
          ],
          "name": "stdout"
        }
      ]
    },
    {
      "cell_type": "code",
      "metadata": {
        "id": "LAB4ke0rsqhZ",
        "colab_type": "code",
        "colab": {
          "base_uri": "https://localhost:8080/",
          "height": 122
        },
        "outputId": "6efe34b6-09bc-4bab-e954-51c8864cd6a0"
      },
      "source": [
        "n_epochs = 4 \n",
        "batch_size = 150 \n",
        "n_labeled_instances = 20000\n",
        "\n",
        "with tf.Session() as sess: \n",
        "  init.run()\n",
        "  pretrain_saver.restore(sess,\"./my_model_all_layers.ckpt\")\n",
        "  for epoch in range(n_epochs):\n",
        "    n_batches = n_labeled_instances // batch_size \n",
        "    for iteration in range(n_batches):\n",
        "      print(\"\\r{}%\".format(100*iteration//n_batches),end=\"\")\n",
        "      sys.stdout.flush()\n",
        "      indices = rnd.permutation(n_labeled_instances)[:batch_size]\n",
        "      X_batch,y_batch = mnist.train.images[indices],mnist.train.labels[indices]\n",
        "      sess.run(training_op,feed_dict={x:X_batch,y:y_batch})\n",
        "    accuracy_val = accuracy.eval(feed_dict={x:X_batch,y:y_batch})\n",
        "    print(\"\\r{}\".format(epoch),\"Train accuracy:\",accuracy_val,end=\"\")\n",
        "    saver.save(sess,\"./my_model_all_layers.ckpt\")\n",
        "    accuracy_val = accuracy.eval(feed_dict={x:mnist.test.images,y:mnist.test.labels})\n",
        "    print(\"Test accuracy:\",accuracy_val)\n",
        "\n",
        "\n",
        "\n",
        "\n"
      ],
      "execution_count": 51,
      "outputs": [
        {
          "output_type": "stream",
          "text": [
            "INFO:tensorflow:Restoring parameters from ./my_model_all_layers.ckpt\n",
            "0 Train accuracy: 1.0Test accuracy: 0.9571\n",
            "1 Train accuracy: 1.0Test accuracy: 0.963\n",
            "2 Train accuracy: 0.9866667Test accuracy: 0.9527\n",
            "3 Train accuracy: 1.0Test accuracy: 0.9618\n"
          ],
          "name": "stdout"
        }
      ]
    },
    {
      "cell_type": "code",
      "metadata": {
        "id": "pxVB1pl4yGO3",
        "colab_type": "code",
        "colab": {}
      },
      "source": [
        "\n",
        "\n",
        "\n"
      ],
      "execution_count": 0,
      "outputs": []
    }
  ]
}