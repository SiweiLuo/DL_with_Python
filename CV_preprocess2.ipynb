{
  "nbformat": 4,
  "nbformat_minor": 0,
  "metadata": {
    "colab": {
      "name": "CV_preprocess2.ipynb",
      "version": "0.3.2",
      "provenance": [],
      "include_colab_link": true
    },
    "kernelspec": {
      "name": "python3",
      "display_name": "Python 3"
    }
  },
  "cells": [
    {
      "cell_type": "markdown",
      "metadata": {
        "id": "view-in-github",
        "colab_type": "text"
      },
      "source": [
        "<a href=\"https://colab.research.google.com/github/SiweiLuo/DL_with_Python/blob/master/CV_preprocess2.ipynb\" target=\"_parent\"><img src=\"https://colab.research.google.com/assets/colab-badge.svg\" alt=\"Open In Colab\"/></a>"
      ]
    },
    {
      "metadata": {
        "id": "w4Gi2J1quCXG",
        "colab_type": "code",
        "colab": {}
      },
      "cell_type": "code",
      "source": [
        "import numpy as np \n",
        "import pandas as pd\n",
        "import string \n",
        "import keras\n",
        "from keras.preprocessing.text import Tokenizer\n",
        "from keras import preprocessing\n",
        "from keras.models import Sequential\n",
        "from keras.layers import Flatten, Dense\n",
        "from keras.layers import Embedding\n",
        "from keras.utils.np_utils import to_categorical\n",
        "from keras.utils import np_utils\n",
        "from keras.datasets import imdb\n",
        "\n",
        "from keras.preprocessing.text import one_hot\n",
        "from keras.preprocessing.text import text_to_word_sequence\n",
        "from keras.preprocessing import text, sequence\n",
        "\n",
        "from google.colab import drive\n",
        "\n",
        "#import StringIO\n",
        "import time\n",
        "import sys\n",
        "import csv"
      ],
      "execution_count": 0,
      "outputs": []
    },
    {
      "metadata": {
        "id": "Doh1SC-rv0Fh",
        "colab_type": "code",
        "colab": {}
      },
      "cell_type": "code",
      "source": [
        "drive.mount('/content/gdrive/')"
      ],
      "execution_count": 0,
      "outputs": []
    },
    {
      "metadata": {
        "id": "vm5_2Lp6v2RC",
        "colab_type": "code",
        "colab": {}
      },
      "cell_type": "code",
      "source": [
        "questions = pd.read_csv(r'/content/gdrive/My Drive/Colab Notebooks/CareerVillage/questions.csv')\n",
        "#print('questions = ',questions)\n",
        "answers = pd.read_csv(r'/content/gdrive/My Drive/Colab Notebooks/CareerVillage/answers.csv')\n",
        "#print('answers = ',answers)"
      ],
      "execution_count": 0,
      "outputs": []
    },
    {
      "metadata": {
        "id": "uA_NN4qPv4LN",
        "colab_type": "code",
        "colab": {}
      },
      "cell_type": "code",
      "source": [
        "questions['questions_body'] = questions['questions_body'].str.replace(\"<p>\", \" \").str.replace(\"</p>\", \" \").str.replace(\"\\n\",\" \")\n",
        "answers['answers_body'] = answers['answers_body'].str.replace(\"<p>\", \" \").str.replace(\"</p>\", \" \").str.replace(\"\\n\",\" \")\n",
        "plt_data_questions = questions['questions_body']\n",
        "plt_data_answers = answers['answers_body']\n",
        "plt_data_questions_id = questions['questions_id']\n",
        "plt_data_answers_questions_id = answers['answers_question_id']\n",
        "plt_data_answers_author_id = answers['answers_author_id']\n",
        "#plt_data = pd.DataFrame([plt_data_questions, plt_data_answers,plt_data_questions_id,plt_data_answers_questions_id]).T"
      ],
      "execution_count": 0,
      "outputs": []
    },
    {
      "metadata": {
        "id": "Ia16ciEyz6fb",
        "colab_type": "code",
        "outputId": "e6720362-4fe4-4b54-aa38-f8e7ccab852e",
        "colab": {
          "base_uri": "https://localhost:8080/",
          "height": 119
        }
      },
      "cell_type": "code",
      "source": [
        "plt_data_questions.head(5)"
      ],
      "execution_count": 143,
      "outputs": [
        {
          "output_type": "execute_result",
          "data": {
            "text/plain": [
              "0    What  is  a  maths  teacher?   what  is  a  ma...\n",
              "1    I am Priyanka from Bangalore . Now am in 10th ...\n",
              "2    I'm planning on going abroad for my first job....\n",
              "3    i hear business management is a hard way to ge...\n",
              "4    I'm trying to find scholarships for first year...\n",
              "Name: questions_body, dtype: object"
            ]
          },
          "metadata": {
            "tags": []
          },
          "execution_count": 143
        }
      ]
    },
    {
      "metadata": {
        "id": "t5OUhVCbz855",
        "colab_type": "code",
        "outputId": "0424eb91-804a-446d-88c0-01cc484ae8a6",
        "colab": {
          "base_uri": "https://localhost:8080/",
          "height": 119
        }
      },
      "cell_type": "code",
      "source": [
        "plt_data_answers.head(5)"
      ],
      "execution_count": 144,
      "outputs": [
        {
          "output_type": "execute_result",
          "data": {
            "text/plain": [
              "0     Hi!   You are asking a very interesting quest...\n",
              "1     Hi. I joined the Army after I attended colleg...\n",
              "2     Dear Priyanka,  Greetings! I have answered th...\n",
              "3     I work for a global company who values highly...\n",
              "4    I agree with Denise. Every single job I've had...\n",
              "Name: answers_body, dtype: object"
            ]
          },
          "metadata": {
            "tags": []
          },
          "execution_count": 144
        }
      ]
    },
    {
      "metadata": {
        "id": "ppEUU-A90DBJ",
        "colab_type": "code",
        "outputId": "748b4b89-4b4a-43c6-e499-16c03d04980f",
        "colab": {
          "base_uri": "https://localhost:8080/",
          "height": 119
        }
      },
      "cell_type": "code",
      "source": [
        "plt_data_questions_id.head(5)"
      ],
      "execution_count": 145,
      "outputs": [
        {
          "output_type": "execute_result",
          "data": {
            "text/plain": [
              "0    332a511f1569444485cf7a7a556a5e54\n",
              "1    eb80205482e4424cad8f16bc25aa2d9c\n",
              "2    4ec31632938a40b98909416bdd0decff\n",
              "3    2f6a9a99d9b24e5baa50d40d0ba50a75\n",
              "4    5af8880460c141dbb02971a1a8369529\n",
              "Name: questions_id, dtype: object"
            ]
          },
          "metadata": {
            "tags": []
          },
          "execution_count": 145
        }
      ]
    },
    {
      "metadata": {
        "id": "SsSpixsDx9Z7",
        "colab_type": "code",
        "colab": {}
      },
      "cell_type": "code",
      "source": [
        "df1 = pd.DataFrame([plt_data_questions_id,plt_data_questions]).T\n",
        "df2 = pd.DataFrame([plt_data_answers_questions_id,plt_data_answers,plt_data_answers_author_id]).T"
      ],
      "execution_count": 0,
      "outputs": []
    },
    {
      "metadata": {
        "id": "kfmcjqFxzAx4",
        "colab_type": "code",
        "outputId": "f48d630f-83e5-4cb6-b68c-92af2211a3f5",
        "colab": {
          "base_uri": "https://localhost:8080/",
          "height": 204
        }
      },
      "cell_type": "code",
      "source": [
        "df1.head(5)"
      ],
      "execution_count": 147,
      "outputs": [
        {
          "output_type": "execute_result",
          "data": {
            "text/html": [
              "<div>\n",
              "<style scoped>\n",
              "    .dataframe tbody tr th:only-of-type {\n",
              "        vertical-align: middle;\n",
              "    }\n",
              "\n",
              "    .dataframe tbody tr th {\n",
              "        vertical-align: top;\n",
              "    }\n",
              "\n",
              "    .dataframe thead th {\n",
              "        text-align: right;\n",
              "    }\n",
              "</style>\n",
              "<table border=\"1\" class=\"dataframe\">\n",
              "  <thead>\n",
              "    <tr style=\"text-align: right;\">\n",
              "      <th></th>\n",
              "      <th>questions_id</th>\n",
              "      <th>questions_body</th>\n",
              "    </tr>\n",
              "  </thead>\n",
              "  <tbody>\n",
              "    <tr>\n",
              "      <th>0</th>\n",
              "      <td>332a511f1569444485cf7a7a556a5e54</td>\n",
              "      <td>What  is  a  maths  teacher?   what  is  a  ma...</td>\n",
              "    </tr>\n",
              "    <tr>\n",
              "      <th>1</th>\n",
              "      <td>eb80205482e4424cad8f16bc25aa2d9c</td>\n",
              "      <td>I am Priyanka from Bangalore . Now am in 10th ...</td>\n",
              "    </tr>\n",
              "    <tr>\n",
              "      <th>2</th>\n",
              "      <td>4ec31632938a40b98909416bdd0decff</td>\n",
              "      <td>I'm planning on going abroad for my first job....</td>\n",
              "    </tr>\n",
              "    <tr>\n",
              "      <th>3</th>\n",
              "      <td>2f6a9a99d9b24e5baa50d40d0ba50a75</td>\n",
              "      <td>i hear business management is a hard way to ge...</td>\n",
              "    </tr>\n",
              "    <tr>\n",
              "      <th>4</th>\n",
              "      <td>5af8880460c141dbb02971a1a8369529</td>\n",
              "      <td>I'm trying to find scholarships for first year...</td>\n",
              "    </tr>\n",
              "  </tbody>\n",
              "</table>\n",
              "</div>"
            ],
            "text/plain": [
              "                       questions_id  \\\n",
              "0  332a511f1569444485cf7a7a556a5e54   \n",
              "1  eb80205482e4424cad8f16bc25aa2d9c   \n",
              "2  4ec31632938a40b98909416bdd0decff   \n",
              "3  2f6a9a99d9b24e5baa50d40d0ba50a75   \n",
              "4  5af8880460c141dbb02971a1a8369529   \n",
              "\n",
              "                                      questions_body  \n",
              "0  What  is  a  maths  teacher?   what  is  a  ma...  \n",
              "1  I am Priyanka from Bangalore . Now am in 10th ...  \n",
              "2  I'm planning on going abroad for my first job....  \n",
              "3  i hear business management is a hard way to ge...  \n",
              "4  I'm trying to find scholarships for first year...  "
            ]
          },
          "metadata": {
            "tags": []
          },
          "execution_count": 147
        }
      ]
    },
    {
      "metadata": {
        "id": "zMTw2LYlzCve",
        "colab_type": "code",
        "outputId": "5aa97d86-282b-4103-f094-6c4f6d0eac8e",
        "colab": {
          "base_uri": "https://localhost:8080/",
          "height": 289
        }
      },
      "cell_type": "code",
      "source": [
        "df2.head(5)"
      ],
      "execution_count": 148,
      "outputs": [
        {
          "output_type": "execute_result",
          "data": {
            "text/html": [
              "<div>\n",
              "<style scoped>\n",
              "    .dataframe tbody tr th:only-of-type {\n",
              "        vertical-align: middle;\n",
              "    }\n",
              "\n",
              "    .dataframe tbody tr th {\n",
              "        vertical-align: top;\n",
              "    }\n",
              "\n",
              "    .dataframe thead th {\n",
              "        text-align: right;\n",
              "    }\n",
              "</style>\n",
              "<table border=\"1\" class=\"dataframe\">\n",
              "  <thead>\n",
              "    <tr style=\"text-align: right;\">\n",
              "      <th></th>\n",
              "      <th>answers_question_id</th>\n",
              "      <th>answers_body</th>\n",
              "      <th>answers_author_id</th>\n",
              "    </tr>\n",
              "  </thead>\n",
              "  <tbody>\n",
              "    <tr>\n",
              "      <th>0</th>\n",
              "      <td>332a511f1569444485cf7a7a556a5e54</td>\n",
              "      <td>Hi!   You are asking a very interesting quest...</td>\n",
              "      <td>36ff3b3666df400f956f8335cf53e09e</td>\n",
              "    </tr>\n",
              "    <tr>\n",
              "      <th>1</th>\n",
              "      <td>eb80205482e4424cad8f16bc25aa2d9c</td>\n",
              "      <td>Hi. I joined the Army after I attended colleg...</td>\n",
              "      <td>2aa47af241bf42a4b874c453f0381bd4</td>\n",
              "    </tr>\n",
              "    <tr>\n",
              "      <th>2</th>\n",
              "      <td>eb80205482e4424cad8f16bc25aa2d9c</td>\n",
              "      <td>Dear Priyanka,  Greetings! I have answered th...</td>\n",
              "      <td>cbd8f30613a849bf918aed5c010340be</td>\n",
              "    </tr>\n",
              "    <tr>\n",
              "      <th>3</th>\n",
              "      <td>4ec31632938a40b98909416bdd0decff</td>\n",
              "      <td>I work for a global company who values highly...</td>\n",
              "      <td>7e72a630c303442ba92ff00e8ea451df</td>\n",
              "    </tr>\n",
              "    <tr>\n",
              "      <th>4</th>\n",
              "      <td>2f6a9a99d9b24e5baa50d40d0ba50a75</td>\n",
              "      <td>I agree with Denise. Every single job I've had...</td>\n",
              "      <td>17802d94699140b0a0d2995f30c034c6</td>\n",
              "    </tr>\n",
              "  </tbody>\n",
              "</table>\n",
              "</div>"
            ],
            "text/plain": [
              "                answers_question_id  \\\n",
              "0  332a511f1569444485cf7a7a556a5e54   \n",
              "1  eb80205482e4424cad8f16bc25aa2d9c   \n",
              "2  eb80205482e4424cad8f16bc25aa2d9c   \n",
              "3  4ec31632938a40b98909416bdd0decff   \n",
              "4  2f6a9a99d9b24e5baa50d40d0ba50a75   \n",
              "\n",
              "                                        answers_body  \\\n",
              "0   Hi!   You are asking a very interesting quest...   \n",
              "1   Hi. I joined the Army after I attended colleg...   \n",
              "2   Dear Priyanka,  Greetings! I have answered th...   \n",
              "3   I work for a global company who values highly...   \n",
              "4  I agree with Denise. Every single job I've had...   \n",
              "\n",
              "                  answers_author_id  \n",
              "0  36ff3b3666df400f956f8335cf53e09e  \n",
              "1  2aa47af241bf42a4b874c453f0381bd4  \n",
              "2  cbd8f30613a849bf918aed5c010340be  \n",
              "3  7e72a630c303442ba92ff00e8ea451df  \n",
              "4  17802d94699140b0a0d2995f30c034c6  "
            ]
          },
          "metadata": {
            "tags": []
          },
          "execution_count": 148
        }
      ]
    },
    {
      "metadata": {
        "id": "x6Vyc8MWwD77",
        "colab_type": "code",
        "colab": {}
      },
      "cell_type": "code",
      "source": [
        "#merged_df = df2.merge(df1,how = 'inner', on = 'answers_question_id')\n",
        "QA = pd.merge(df2, df1, left_on='answers_question_id',right_on='questions_id')"
      ],
      "execution_count": 0,
      "outputs": []
    },
    {
      "metadata": {
        "id": "a5eCOSfWyVS9",
        "colab_type": "code",
        "colab": {}
      },
      "cell_type": "code",
      "source": [
        "QA.head(5)"
      ],
      "execution_count": 0,
      "outputs": []
    },
    {
      "metadata": {
        "id": "bs3i9WPQAAA-",
        "colab_type": "code",
        "colab": {}
      },
      "cell_type": "code",
      "source": [
        "answers_body = QA['answers_body']\n",
        "questions_body = QA['questions_body']\n",
        "person_id = QA['answers_author_id']\n",
        "#person_vec = keras.utils.to_categorical(QA['answers_author_id'],dtype='float32')"
      ],
      "execution_count": 0,
      "outputs": []
    },
    {
      "metadata": {
        "id": "xe798QjYZKOa",
        "colab_type": "code",
        "colab": {
          "base_uri": "https://localhost:8080/",
          "height": 303
        },
        "outputId": "319b1ac1-a068-4d68-921b-d16361a02113"
      },
      "cell_type": "code",
      "source": [
        "person_vec = keras.utils.to_categorical(QA['answers_author_id'],dtype='float32')"
      ],
      "execution_count": 158,
      "outputs": [
        {
          "output_type": "error",
          "ename": "ValueError",
          "evalue": "ignored",
          "traceback": [
            "\u001b[0;31m---------------------------------------------------------------------------\u001b[0m",
            "\u001b[0;31mValueError\u001b[0m                                Traceback (most recent call last)",
            "\u001b[0;32m<ipython-input-158-9c7d568c8db9>\u001b[0m in \u001b[0;36m<module>\u001b[0;34m()\u001b[0m\n\u001b[0;32m----> 1\u001b[0;31m \u001b[0mperson_vec\u001b[0m \u001b[0;34m=\u001b[0m \u001b[0mkeras\u001b[0m\u001b[0;34m.\u001b[0m\u001b[0mutils\u001b[0m\u001b[0;34m.\u001b[0m\u001b[0mto_categorical\u001b[0m\u001b[0;34m(\u001b[0m\u001b[0mQA\u001b[0m\u001b[0;34m[\u001b[0m\u001b[0;34m'answers_author_id'\u001b[0m\u001b[0;34m]\u001b[0m\u001b[0;34m,\u001b[0m\u001b[0mdtype\u001b[0m\u001b[0;34m=\u001b[0m\u001b[0;34m'float32'\u001b[0m\u001b[0;34m)\u001b[0m\u001b[0;34m\u001b[0m\u001b[0;34m\u001b[0m\u001b[0m\n\u001b[0m",
            "\u001b[0;32m/usr/local/lib/python3.6/dist-packages/keras/utils/np_utils.py\u001b[0m in \u001b[0;36mto_categorical\u001b[0;34m(y, num_classes, dtype)\u001b[0m\n\u001b[1;32m     23\u001b[0m         \u001b[0;32mis\u001b[0m \u001b[0mplaced\u001b[0m \u001b[0mlast\u001b[0m\u001b[0;34m.\u001b[0m\u001b[0;34m\u001b[0m\u001b[0;34m\u001b[0m\u001b[0m\n\u001b[1;32m     24\u001b[0m     \"\"\"\n\u001b[0;32m---> 25\u001b[0;31m     \u001b[0my\u001b[0m \u001b[0;34m=\u001b[0m \u001b[0mnp\u001b[0m\u001b[0;34m.\u001b[0m\u001b[0marray\u001b[0m\u001b[0;34m(\u001b[0m\u001b[0my\u001b[0m\u001b[0;34m,\u001b[0m \u001b[0mdtype\u001b[0m\u001b[0;34m=\u001b[0m\u001b[0;34m'int'\u001b[0m\u001b[0;34m)\u001b[0m\u001b[0;34m\u001b[0m\u001b[0;34m\u001b[0m\u001b[0m\n\u001b[0m\u001b[1;32m     26\u001b[0m     \u001b[0minput_shape\u001b[0m \u001b[0;34m=\u001b[0m \u001b[0my\u001b[0m\u001b[0;34m.\u001b[0m\u001b[0mshape\u001b[0m\u001b[0;34m\u001b[0m\u001b[0;34m\u001b[0m\u001b[0m\n\u001b[1;32m     27\u001b[0m     \u001b[0;32mif\u001b[0m \u001b[0minput_shape\u001b[0m \u001b[0;32mand\u001b[0m \u001b[0minput_shape\u001b[0m\u001b[0;34m[\u001b[0m\u001b[0;34m-\u001b[0m\u001b[0;36m1\u001b[0m\u001b[0;34m]\u001b[0m \u001b[0;34m==\u001b[0m \u001b[0;36m1\u001b[0m \u001b[0;32mand\u001b[0m \u001b[0mlen\u001b[0m\u001b[0;34m(\u001b[0m\u001b[0minput_shape\u001b[0m\u001b[0;34m)\u001b[0m \u001b[0;34m>\u001b[0m \u001b[0;36m1\u001b[0m\u001b[0;34m:\u001b[0m\u001b[0;34m\u001b[0m\u001b[0;34m\u001b[0m\u001b[0m\n",
            "\u001b[0;31mValueError\u001b[0m: invalid literal for int() with base 10: '36ff3b3666df400f956f8335cf53e09e'"
          ]
        }
      ]
    },
    {
      "metadata": {
        "id": "bgoBQBBxO7OP",
        "colab_type": "code",
        "colab": {
          "base_uri": "https://localhost:8080/",
          "height": 54
        },
        "outputId": "69107cc8-44ee-4c49-9183-3f5f44cd72f0"
      },
      "cell_type": "code",
      "source": [
        "answers_body[0]"
      ],
      "execution_count": 109,
      "outputs": [
        {
          "output_type": "execute_result",
          "data": {
            "text/plain": [
              "' Hi!   You are asking a very interesting question.  I am giving you two sites that will give you some of an explanation that may answer your question.   http://mathforum.org/dr.math/faq/faq.why.math.html   http://www.mathworksheetscenter.com/mathtips/mathissoimportant.html   Let me know if this helps '"
            ]
          },
          "metadata": {
            "tags": []
          },
          "execution_count": 109
        }
      ]
    },
    {
      "metadata": {
        "id": "RWgqHItGPC1U",
        "colab_type": "code",
        "colab": {
          "base_uri": "https://localhost:8080/",
          "height": 54
        },
        "outputId": "21b012cf-1a45-46fd-cc3c-dd55b703ae8f"
      },
      "cell_type": "code",
      "source": [
        "questions_body[0]"
      ],
      "execution_count": 110,
      "outputs": [
        {
          "output_type": "execute_result",
          "data": {
            "text/plain": [
              "'What  is  a  maths  teacher?   what  is  a  maths  teacher  useful? #college #professor #lecture'"
            ]
          },
          "metadata": {
            "tags": []
          },
          "execution_count": 110
        }
      ]
    },
    {
      "metadata": {
        "id": "rlaWPQ_WPHAc",
        "colab_type": "code",
        "colab": {}
      },
      "cell_type": "code",
      "source": [
        "def preprocess(data):\n",
        "    '''\n",
        "    Credit goes to https://www.kaggle.com/gpreda/jigsaw-fast-compact-solution\n",
        "    '''\n",
        "    punct = \"/-'?!.,#$%\\'()*+-/:;<=>@[\\\\]^_`{|}~`\" + '\"\"“”’' + '∞θ÷α•à−β∅³π‘₹´°£€\\×™√²—–&' + '\\n' \n",
        "    def clean_special_chars(text, punct):\n",
        "        for p in punct:\n",
        "            text = text.replace(p, ' ')\n",
        "        return text\n",
        "\n",
        "    data = data.astype(str).apply(lambda x: clean_special_chars(x, punct))\n",
        "    return data"
      ],
      "execution_count": 0,
      "outputs": []
    },
    {
      "metadata": {
        "id": "xfdfmXc6PNFr",
        "colab_type": "code",
        "colab": {}
      },
      "cell_type": "code",
      "source": [
        "a_train = preprocess(answers_body)\n",
        "q_train = preprocess(questions_body)"
      ],
      "execution_count": 0,
      "outputs": []
    },
    {
      "metadata": {
        "id": "jOYc0XwDPSKG",
        "colab_type": "code",
        "colab": {
          "base_uri": "https://localhost:8080/",
          "height": 54
        },
        "outputId": "5028ae2a-4d5a-4103-ae17-f2e021f9f5ca"
      },
      "cell_type": "code",
      "source": [
        "a_train[0]"
      ],
      "execution_count": 113,
      "outputs": [
        {
          "output_type": "execute_result",
          "data": {
            "text/plain": [
              "' Hi    You are asking a very interesting question   I am giving you two sites that will give you some of an explanation that may answer your question    http   mathforum org dr math faq faq why math html   http   www mathworksheetscenter com mathtips mathissoimportant html   Let me know if this helps '"
            ]
          },
          "metadata": {
            "tags": []
          },
          "execution_count": 113
        }
      ]
    },
    {
      "metadata": {
        "id": "iyn87xqkPToW",
        "colab_type": "code",
        "colab": {}
      },
      "cell_type": "code",
      "source": [
        "tokenizer = Tokenizer()\n",
        "tokenizer.fit_on_texts(list(a_train)+list(q_train))"
      ],
      "execution_count": 0,
      "outputs": []
    },
    {
      "metadata": {
        "id": "cY1iFHQ2PhIN",
        "colab_type": "code",
        "colab": {}
      },
      "cell_type": "code",
      "source": [
        "a_train = tokenizer.texts_to_sequences(a_train)\n",
        "q_train = tokenizer.texts_to_sequences(q_train)"
      ],
      "execution_count": 0,
      "outputs": []
    },
    {
      "metadata": {
        "id": "EirY4A0OPmo9",
        "colab_type": "code",
        "colab": {
          "base_uri": "https://localhost:8080/",
          "height": 34
        },
        "outputId": "8b2f72b1-29eb-453c-8673-d8f3488ba2d2"
      },
      "cell_type": "code",
      "source": [
        "q_train[0]"
      ],
      "execution_count": 117,
      "outputs": [
        {
          "output_type": "execute_result",
          "data": {
            "text/plain": [
              "[21, 10, 3, 2287, 269, 21, 10, 3, 2287, 269, 838, 25, 596, 2641]"
            ]
          },
          "metadata": {
            "tags": []
          },
          "execution_count": 117
        }
      ]
    },
    {
      "metadata": {
        "id": "vYmHjoklQfSM",
        "colab_type": "code",
        "colab": {}
      },
      "cell_type": "code",
      "source": [
        "question_len = 40 \n",
        "a_train = sequence.pad_sequences(a_train,maxlen=400)\n",
        "q_train = sequence.pad_sequences(q_train,maxlen=question_len)"
      ],
      "execution_count": 0,
      "outputs": []
    },
    {
      "metadata": {
        "id": "H71tINtoQEZK",
        "colab_type": "code",
        "colab": {}
      },
      "cell_type": "code",
      "source": [
        "#q_train = list(q_train)\n",
        "#a_train = list(a_train)"
      ],
      "execution_count": 0,
      "outputs": []
    },
    {
      "metadata": {
        "id": "z2Mb4w1vPo6U",
        "colab_type": "code",
        "colab": {}
      },
      "cell_type": "code",
      "source": [
        "q_train = q_train.reshape(q_train.shape[0],q_train.shape[1],1)\n",
        "a_train = a_train.reshape(a_train.shape[0],a_train.shape[1],1)"
      ],
      "execution_count": 0,
      "outputs": []
    },
    {
      "metadata": {
        "id": "4afAtPNQQBSC",
        "colab_type": "code",
        "colab": {
          "base_uri": "https://localhost:8080/",
          "height": 34
        },
        "outputId": "598f36c9-7c9e-44fe-ab38-5ccf4a858179"
      },
      "cell_type": "code",
      "source": [
        "a_train.shape"
      ],
      "execution_count": 125,
      "outputs": [
        {
          "output_type": "execute_result",
          "data": {
            "text/plain": [
              "(51123, 400, 1)"
            ]
          },
          "metadata": {
            "tags": []
          },
          "execution_count": 125
        }
      ]
    },
    {
      "metadata": {
        "id": "VRGooGpnQRGP",
        "colab_type": "code",
        "colab": {
          "base_uri": "https://localhost:8080/",
          "height": 34
        },
        "outputId": "f9e91169-bcbe-420c-afb4-d4b64614bcbc"
      },
      "cell_type": "code",
      "source": [
        "q_train.shape"
      ],
      "execution_count": 126,
      "outputs": [
        {
          "output_type": "execute_result",
          "data": {
            "text/plain": [
              "(51123, 40, 1)"
            ]
          },
          "metadata": {
            "tags": []
          },
          "execution_count": 126
        }
      ]
    },
    {
      "metadata": {
        "id": "ofcZTd9cQq5l",
        "colab_type": "code",
        "colab": {}
      },
      "cell_type": "code",
      "source": [
        "import keras \n",
        "from keras import layers\n",
        "from keras import backend as K \n",
        "from keras.models import Model\n",
        "import numpy as np \n",
        "from keras import Input\n",
        "from keras import Sequential\n",
        "from keras import models"
      ],
      "execution_count": 0,
      "outputs": []
    },
    {
      "metadata": {
        "id": "qqfO80XwQ12N",
        "colab_type": "code",
        "colab": {}
      },
      "cell_type": "code",
      "source": [
        "batch_size =16\n",
        "latent_dim = 2 \n",
        "question_shape = (40,1)\n",
        "\n",
        "input_qus = keras.Input(shape=question_shape)\n",
        "x = layers.LSTM(32,return_sequences=True,input_shape=(40,1))(input_qus)\n",
        "#x = layers.LSTM((32,return_sequences=True))(x)\n",
        "x = layers.LSTM((32))(x)\n",
        "shape_before_flattening = K.int_shape(x)\n",
        "\n",
        "#x = layers.Flatten()(x)\n",
        "#x = layers.Dense(10,activation='softmax')(x)\n",
        "#z_mean = layers.Dense(latent_dim)(x)\n",
        "z_mean = layers.Dense(10,activation='softmax')(x)\n",
        "z_log_var = layers.Dense(latent_dim)(x)\n",
        "\n",
        "que_encoder = Model(input_qus,z_mean)"
      ],
      "execution_count": 0,
      "outputs": []
    },
    {
      "metadata": {
        "id": "f48N5N8lROS1",
        "colab_type": "code",
        "colab": {
          "base_uri": "https://localhost:8080/",
          "height": 272
        },
        "outputId": "9ed26d12-3d68-4144-b35c-f7126e65c638"
      },
      "cell_type": "code",
      "source": [
        "que_encoder.summary()"
      ],
      "execution_count": 134,
      "outputs": [
        {
          "output_type": "stream",
          "text": [
            "_________________________________________________________________\n",
            "Layer (type)                 Output Shape              Param #   \n",
            "=================================================================\n",
            "input_2 (InputLayer)         (None, 40, 1)             0         \n",
            "_________________________________________________________________\n",
            "lstm_3 (LSTM)                (None, 40, 32)            4352      \n",
            "_________________________________________________________________\n",
            "lstm_4 (LSTM)                (None, 32)                8320      \n",
            "_________________________________________________________________\n",
            "dense_3 (Dense)              (None, 10)                330       \n",
            "=================================================================\n",
            "Total params: 13,002\n",
            "Trainable params: 13,002\n",
            "Non-trainable params: 0\n",
            "_________________________________________________________________\n"
          ],
          "name": "stdout"
        }
      ]
    },
    {
      "metadata": {
        "id": "R-p2lRVARlZF",
        "colab_type": "code",
        "colab": {}
      },
      "cell_type": "code",
      "source": [
        "answer_shape = (400,1)\n",
        "input_ans = keras.Input(shape=answer_shape)\n",
        "x = layers.LSTM(64,return_sequences=True,input_shape=(400,1))(input_ans)\n",
        "x = layers.LSTM((64))(x)\n",
        "#x = layers.LSTM((64))(x)\n",
        "#x = layers.Dense(32,activation='softmax')(x)\n",
        "\n",
        "#z_mean_ans = layers.Dense(latent_dim,name='ans_pool')(x)\n",
        "z_mean_ans = layers.Dense(10,activation='softmax',name='ans_pool')(x)\n",
        "z_log_var_ans = layers.Dense(latent_dim)(x)\n",
        "\n",
        "ans_encoder = Model(input_ans,z_mean_ans,name = 'ans_encoder')"
      ],
      "execution_count": 0,
      "outputs": []
    },
    {
      "metadata": {
        "id": "8cm9Hh-nTqfb",
        "colab_type": "code",
        "colab": {}
      },
      "cell_type": "code",
      "source": [
        "ans_encoder.summary()"
      ],
      "execution_count": 0,
      "outputs": []
    },
    {
      "metadata": {
        "id": "Az3NjqHKR2ek",
        "colab_type": "code",
        "colab": {}
      },
      "cell_type": "code",
      "source": [
        "concatenated = layers.concatenate([z_mean,z_mean_ans],axis=-1)\n",
        "#concatenated = (z_mean-z_mean_ans)**2\n",
        "#combined = layers.Dense(1,input_shape = (1,))(concatenated)\n",
        "combined = layers.Dense(1,input_shape=(1,))(concatenated)\n",
        "\n",
        "correlation = Model([input_qus,input_ans],combined)"
      ],
      "execution_count": 0,
      "outputs": []
    },
    {
      "metadata": {
        "id": "qXVJPO9VSCgP",
        "colab_type": "code",
        "colab": {}
      },
      "cell_type": "code",
      "source": [
        "import keras.backend as K \n",
        "\n",
        "def custom_loss(z_mean,z_mean_ans):\n",
        "  return K.mean(K.square(z_mean-z_mean_ans))"
      ],
      "execution_count": 0,
      "outputs": []
    },
    {
      "metadata": {
        "id": "mMSmnCoGSFPG",
        "colab_type": "code",
        "colab": {}
      },
      "cell_type": "code",
      "source": [
        "correlation.compile(optimizer = 'rmsprop',loss=custom_loss,metrics=['acc'])"
      ],
      "execution_count": 0,
      "outputs": []
    },
    {
      "metadata": {
        "id": "Qet8fKs6SIOG",
        "colab_type": "code",
        "colab": {
          "base_uri": "https://localhost:8080/",
          "height": 173
        },
        "outputId": "b6681729-278e-4a1a-f16f-ed6b2d053b3a"
      },
      "cell_type": "code",
      "source": [
        "y_true = np.random.random((len(answers_body),1))\n",
        "correlation.fit([q_train,a_train],y_true,epochs=2,batch_size=128)"
      ],
      "execution_count": 140,
      "outputs": [
        {
          "output_type": "stream",
          "text": [
            "WARNING:tensorflow:From /usr/local/lib/python3.6/dist-packages/tensorflow/python/ops/math_ops.py:3066: to_int32 (from tensorflow.python.ops.math_ops) is deprecated and will be removed in a future version.\n",
            "Instructions for updating:\n",
            "Use tf.cast instead.\n",
            "Epoch 1/2\n",
            "51123/51123 [==============================] - 600s 12ms/step - loss: 0.0845 - acc: 0.0000e+00\n",
            "Epoch 2/2\n",
            "51123/51123 [==============================] - 598s 12ms/step - loss: 0.0830 - acc: 0.0000e+00\n"
          ],
          "name": "stdout"
        },
        {
          "output_type": "execute_result",
          "data": {
            "text/plain": [
              "<keras.callbacks.History at 0x7f1e5ed40b00>"
            ]
          },
          "metadata": {
            "tags": []
          },
          "execution_count": 140
        }
      ]
    },
    {
      "metadata": {
        "id": "jlAIkP2VcXzM",
        "colab_type": "code",
        "colab": {
          "base_uri": "https://localhost:8080/",
          "height": 68
        },
        "outputId": "32a18100-e691-4d87-fad6-38314579df92"
      },
      "cell_type": "code",
      "source": [
        "ans_encoder.predict(a_train[:1])"
      ],
      "execution_count": 172,
      "outputs": [
        {
          "output_type": "execute_result",
          "data": {
            "text/plain": [
              "array([[0.07854894, 0.16068713, 0.06596035, 0.09819147, 0.18369101,\n",
              "        0.05581289, 0.1001019 , 0.05637481, 0.08534165, 0.11528986]],\n",
              "      dtype=float32)"
            ]
          },
          "metadata": {
            "tags": []
          },
          "execution_count": 172
        }
      ]
    },
    {
      "metadata": {
        "id": "pvF4K27wdCFo",
        "colab_type": "code",
        "colab": {
          "base_uri": "https://localhost:8080/",
          "height": 68
        },
        "outputId": "788c9dde-5b63-42c2-8c8e-2ed2204472b5"
      },
      "cell_type": "code",
      "source": [
        "que_encoder.predict(q_train[:1])"
      ],
      "execution_count": 173,
      "outputs": [
        {
          "output_type": "execute_result",
          "data": {
            "text/plain": [
              "array([[0.5465924 , 0.01424262, 0.10387947, 0.06904062, 0.05213699,\n",
              "        0.02471777, 0.0338825 , 0.08189559, 0.02089669, 0.05271532]],\n",
              "      dtype=float32)"
            ]
          },
          "metadata": {
            "tags": []
          },
          "execution_count": 173
        }
      ]
    },
    {
      "metadata": {
        "id": "DCbREQ7hSXe9",
        "colab_type": "code",
        "colab": {}
      },
      "cell_type": "code",
      "source": [
        "d_input = Input(shape=(10,))\n",
        "pid = layers.Dense(32,activation='relu')(d_input)\n",
        "pid = layers.Dense(32,activation='relu')(pid)\n",
        "pid = layers.Dense(64,activation='relu')(pid)\n",
        "pid = layers.Dense(100,activation='softmax')(pid)\n",
        "\n",
        "decoder = Model(d_input,pid)\n",
        "\n",
        "ans_encoder_output = ans_encoder.get_layer('ans_pool').output\n",
        "\n",
        "person_id = decoder(ans_encoder_output)\n",
        "\n",
        "full_model = Model(inputs=ans_encoder.input,outputs=person_id)\n",
        "\n"
      ],
      "execution_count": 0,
      "outputs": []
    },
    {
      "metadata": {
        "id": "4jtmJFyBbrmi",
        "colab_type": "code",
        "colab": {}
      },
      "cell_type": "code",
      "source": [
        "keras.utils.plot_model(full_model, to_file='model.png', show_shapes=True, show_layer_names=True, rankdir='TB')"
      ],
      "execution_count": 0,
      "outputs": []
    },
    {
      "metadata": {
        "id": "9_jKOltlTjXH",
        "colab_type": "code",
        "colab": {
          "base_uri": "https://localhost:8080/",
          "height": 272
        },
        "outputId": "d62abed1-55e7-4558-fcd1-340a8fdaafce"
      },
      "cell_type": "code",
      "source": [
        "ans_encoder.summary()"
      ],
      "execution_count": 141,
      "outputs": [
        {
          "output_type": "stream",
          "text": [
            "_________________________________________________________________\n",
            "Layer (type)                 Output Shape              Param #   \n",
            "=================================================================\n",
            "input_3 (InputLayer)         (None, 400, 1)            0         \n",
            "_________________________________________________________________\n",
            "lstm_5 (LSTM)                (None, 400, 64)           16896     \n",
            "_________________________________________________________________\n",
            "lstm_6 (LSTM)                (None, 64)                33024     \n",
            "_________________________________________________________________\n",
            "dense_5 (Dense)              (None, 10)                650       \n",
            "=================================================================\n",
            "Total params: 50,570\n",
            "Trainable params: 50,570\n",
            "Non-trainable params: 0\n",
            "_________________________________________________________________\n"
          ],
          "name": "stdout"
        }
      ]
    },
    {
      "metadata": {
        "id": "PV8Q_jHOStYS",
        "colab_type": "code",
        "colab": {}
      },
      "cell_type": "code",
      "source": [
        "full_model.compile(optimizer='rmsprop',loss='categorical_crossentropy',metrics=['acc'])"
      ],
      "execution_count": 0,
      "outputs": []
    },
    {
      "metadata": {
        "id": "sve16neLS1SV",
        "colab_type": "code",
        "colab": {}
      },
      "cell_type": "code",
      "source": [
        "for layer in full_model.layers[:3]:\n",
        "    layer.trainable = False\n",
        "\n",
        "full_model.fit(x_train,pid_true,epochs=20,batch_size=32)"
      ],
      "execution_count": 0,
      "outputs": []
    }
  ]
}