{
  "nbformat": 4,
  "nbformat_minor": 0,
  "metadata": {
    "colab": {
      "name": "LSTM_example2.ipynb",
      "version": "0.3.2",
      "provenance": [],
      "include_colab_link": true
    },
    "kernelspec": {
      "name": "python3",
      "display_name": "Python 3"
    }
  },
  "cells": [
    {
      "cell_type": "markdown",
      "metadata": {
        "id": "view-in-github",
        "colab_type": "text"
      },
      "source": [
        "<a href=\"https://colab.research.google.com/github/SiweiLuo/DL_with_Python/blob/master/LSTM_example2.ipynb\" target=\"_parent\"><img src=\"https://colab.research.google.com/assets/colab-badge.svg\" alt=\"Open In Colab\"/></a>"
      ]
    },
    {
      "metadata": {
        "id": "9_igidGJj9I0",
        "colab_type": "code",
        "colab": {
          "base_uri": "https://localhost:8080/",
          "height": 343
        },
        "outputId": "ce66cc88-1c4e-410a-bd62-e29e688c3ccc"
      },
      "cell_type": "code",
      "source": [
        "import keras\n",
        "from keras.models import Sequential\n",
        "from keras.layers import LSTM, Dense\n",
        "import numpy as np\n",
        "from keras.models import Model\n",
        "from keras import layers\n",
        "\n",
        "\n",
        "data_dim = 16\n",
        "timesteps = 8\n",
        "num_classes = 10\n",
        "\n",
        "# expected input data shape: (batch_size, timesteps, data_dim)\n",
        "#model = Sequential()\n",
        "#model.add(LSTM(32, return_sequences=True,\n",
        "#               input_shape=(timesteps, data_dim)))  # returns a sequence of vectors of dimension 32\n",
        "#model.add(LSTM(32, return_sequences=True))  # returns a sequence of vectors of dimension 32\n",
        "#model.add(LSTM(32))  # return a single vector of dimension 32\n",
        "#model.add(Dense(10, activation='softmax'))\n",
        "\n",
        "input_q = keras.Input(shape=(8,16))\n",
        "x = layers.LSTM(32,return_sequences=True,input_shape=(8,16))(input_q)\n",
        "x = layers.LSTM(32,return_sequences=True)(x)\n",
        "x = layers.LSTM(32)(x)\n",
        "output = layers.Dense(10,activation='softmax')(x)\n",
        "\n",
        "encoder = Model(input_q,output)\n",
        "\n",
        "\n",
        "encoder.compile(loss='categorical_crossentropy',\n",
        "              optimizer='rmsprop',\n",
        "              metrics=['accuracy'])\n",
        "\n",
        "# Generate dummy training data\n",
        "x_train = np.random.random((1000, timesteps, data_dim))\n",
        "y_train = np.random.random((1000, num_classes))\n",
        "\n",
        "# Generate dummy validation data\n",
        "x_val = np.random.random((100, timesteps, data_dim))\n",
        "y_val = np.random.random((100, num_classes))\n",
        "\n",
        "encoder.fit(x_train, y_train,\n",
        "          batch_size=64, epochs=5,\n",
        "          validation_data=(x_val, y_val))"
      ],
      "execution_count": 5,
      "outputs": [
        {
          "output_type": "stream",
          "text": [
            "WARNING:tensorflow:From /usr/local/lib/python3.6/dist-packages/tensorflow/python/framework/op_def_library.py:263: colocate_with (from tensorflow.python.framework.ops) is deprecated and will be removed in a future version.\n",
            "Instructions for updating:\n",
            "Colocations handled automatically by placer.\n",
            "WARNING:tensorflow:From /usr/local/lib/python3.6/dist-packages/tensorflow/python/ops/math_ops.py:3066: to_int32 (from tensorflow.python.ops.math_ops) is deprecated and will be removed in a future version.\n",
            "Instructions for updating:\n",
            "Use tf.cast instead.\n",
            "Train on 1000 samples, validate on 100 samples\n",
            "Epoch 1/5\n",
            "1000/1000 [==============================] - 3s 3ms/step - loss: 11.4602 - acc: 0.0920 - val_loss: 11.7093 - val_acc: 0.1500\n",
            "Epoch 2/5\n",
            "1000/1000 [==============================] - 0s 319us/step - loss: 11.4586 - acc: 0.0860 - val_loss: 11.7062 - val_acc: 0.1100\n",
            "Epoch 3/5\n",
            "1000/1000 [==============================] - 0s 312us/step - loss: 11.4580 - acc: 0.0980 - val_loss: 11.7076 - val_acc: 0.0600\n",
            "Epoch 4/5\n",
            "1000/1000 [==============================] - 0s 318us/step - loss: 11.4574 - acc: 0.0910 - val_loss: 11.7085 - val_acc: 0.1300\n",
            "Epoch 5/5\n",
            "1000/1000 [==============================] - 0s 304us/step - loss: 11.4564 - acc: 0.1150 - val_loss: 11.7057 - val_acc: 0.1100\n"
          ],
          "name": "stdout"
        },
        {
          "output_type": "execute_result",
          "data": {
            "text/plain": [
              "<keras.callbacks.History at 0x7fb17dcf7b38>"
            ]
          },
          "metadata": {
            "tags": []
          },
          "execution_count": 5
        }
      ]
    },
    {
      "metadata": {
        "id": "ibBgbnpzk4N_",
        "colab_type": "code",
        "colab": {
          "base_uri": "https://localhost:8080/",
          "height": 238
        },
        "outputId": "e0a93535-2f13-495a-a58e-953baffafe38"
      },
      "cell_type": "code",
      "source": [
        "encoder.predict(x_train)"
      ],
      "execution_count": 6,
      "outputs": [
        {
          "output_type": "execute_result",
          "data": {
            "text/plain": [
              "array([[0.10052437, 0.0998451 , 0.1003031 , ..., 0.09884373, 0.10001633,\n",
              "        0.10101987],\n",
              "       [0.09754301, 0.10028058, 0.09912665, ..., 0.10092712, 0.10000385,\n",
              "        0.10749473],\n",
              "       [0.10028634, 0.100945  , 0.10182909, ..., 0.09909721, 0.09905107,\n",
              "        0.10494837],\n",
              "       ...,\n",
              "       [0.09758111, 0.09996177, 0.09782647, ..., 0.10091369, 0.10114408,\n",
              "        0.10678982],\n",
              "       [0.10022081, 0.101266  , 0.10120483, ..., 0.09920251, 0.09859049,\n",
              "        0.10296298],\n",
              "       [0.09724913, 0.10067371, 0.10081992, ..., 0.10048364, 0.10004298,\n",
              "        0.10618629]], dtype=float32)"
            ]
          },
          "metadata": {
            "tags": []
          },
          "execution_count": 6
        }
      ]
    },
    {
      "metadata": {
        "id": "ZYPp3Hu8lasX",
        "colab_type": "code",
        "colab": {
          "base_uri": "https://localhost:8080/",
          "height": 68
        },
        "outputId": "ab42b5ed-3f56-49b7-b1d8-50e5a74ce719"
      },
      "cell_type": "code",
      "source": [
        "encoder.predict(x_train[:1])"
      ],
      "execution_count": 9,
      "outputs": [
        {
          "output_type": "execute_result",
          "data": {
            "text/plain": [
              "array([[0.10052437, 0.0998451 , 0.1003031 , 0.09757815, 0.10113222,\n",
              "        0.10055798, 0.10017914, 0.09884373, 0.10001633, 0.10101987]],\n",
              "      dtype=float32)"
            ]
          },
          "metadata": {
            "tags": []
          },
          "execution_count": 9
        }
      ]
    },
    {
      "metadata": {
        "id": "fNJ3KQj_loW6",
        "colab_type": "code",
        "colab": {
          "base_uri": "https://localhost:8080/",
          "height": 34
        },
        "outputId": "9804d4e3-e34b-4f58-8349-b2f635307809"
      },
      "cell_type": "code",
      "source": [
        "x_train[:1].shape"
      ],
      "execution_count": 10,
      "outputs": [
        {
          "output_type": "execute_result",
          "data": {
            "text/plain": [
              "(1, 8, 16)"
            ]
          },
          "metadata": {
            "tags": []
          },
          "execution_count": 10
        }
      ]
    },
    {
      "metadata": {
        "id": "LIlaFgbwlwvl",
        "colab_type": "code",
        "colab": {
          "base_uri": "https://localhost:8080/",
          "height": 561
        },
        "outputId": "83b199f5-9dd5-442f-c622-f5f5891e45a7"
      },
      "cell_type": "code",
      "source": [
        "x_train[:1]"
      ],
      "execution_count": 11,
      "outputs": [
        {
          "output_type": "execute_result",
          "data": {
            "text/plain": [
              "array([[[0.33313398, 0.43588656, 0.68666037, 0.50118299, 0.68073622,\n",
              "         0.02796325, 0.04117974, 0.70448354, 0.93688683, 0.7554944 ,\n",
              "         0.82250149, 0.01320538, 0.63198795, 0.58620854, 0.04398051,\n",
              "         0.99446001],\n",
              "        [0.13042582, 0.63653135, 0.74191513, 0.38992213, 0.15267397,\n",
              "         0.41248899, 0.44366157, 0.31454476, 0.79233467, 0.98997282,\n",
              "         0.50382903, 0.48727983, 0.10361963, 0.71468382, 0.52491146,\n",
              "         0.8971153 ],\n",
              "        [0.05185426, 0.85280467, 0.80378904, 0.37634676, 0.1092271 ,\n",
              "         0.2666893 , 0.92962711, 0.87644757, 0.53917057, 0.14748835,\n",
              "         0.47541779, 0.76113091, 0.91363918, 0.61765574, 0.09019705,\n",
              "         0.04862749],\n",
              "        [0.01991219, 0.01786826, 0.14380176, 0.37309542, 0.27711633,\n",
              "         0.49101491, 0.66978072, 0.33532598, 0.77177777, 0.34509717,\n",
              "         0.10222004, 0.20051257, 0.45005462, 0.55634   , 0.4816211 ,\n",
              "         0.59424036],\n",
              "        [0.26919289, 0.25979671, 0.98005703, 0.74816724, 0.91656545,\n",
              "         0.13900438, 0.72199797, 0.18032374, 0.85799517, 0.11027504,\n",
              "         0.8529977 , 0.07792193, 0.91104598, 0.05821787, 0.77943305,\n",
              "         0.54197468],\n",
              "        [0.9359702 , 0.58473276, 0.48091458, 0.26914542, 0.96248536,\n",
              "         0.64917139, 0.7011754 , 0.56468534, 0.77717608, 0.84807775,\n",
              "         0.37854042, 0.80987523, 0.38770044, 0.05372757, 0.16092294,\n",
              "         0.4778631 ],\n",
              "        [0.91001138, 0.72880809, 0.40375995, 0.60908791, 0.78311788,\n",
              "         0.40401635, 0.28387227, 0.83090734, 0.98553541, 0.98127885,\n",
              "         0.14132668, 0.12240243, 0.0108432 , 0.47035119, 0.46668967,\n",
              "         0.81927612],\n",
              "        [0.59846994, 0.11002865, 0.5318473 , 0.56568113, 0.37339449,\n",
              "         0.79955187, 0.63839704, 0.96643099, 0.36677091, 0.9029958 ,\n",
              "         0.23267414, 0.37232276, 0.8999921 , 0.56069881, 0.04698432,\n",
              "         0.49912866]]])"
            ]
          },
          "metadata": {
            "tags": []
          },
          "execution_count": 11
        }
      ]
    },
    {
      "metadata": {
        "id": "7NYc1lVTl03F",
        "colab_type": "code",
        "colab": {}
      },
      "cell_type": "code",
      "source": [
        ""
      ],
      "execution_count": 0,
      "outputs": []
    }
  ]
}