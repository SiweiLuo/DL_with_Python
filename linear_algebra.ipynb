{
  "nbformat": 4,
  "nbformat_minor": 0,
  "metadata": {
    "colab": {
      "name": "linear_algebra.ipynb",
      "version": "0.3.2",
      "provenance": [],
      "include_colab_link": true
    },
    "kernelspec": {
      "name": "python3",
      "display_name": "Python 3"
    }
  },
  "cells": [
    {
      "cell_type": "markdown",
      "metadata": {
        "id": "view-in-github",
        "colab_type": "text"
      },
      "source": [
        "<a href=\"https://colab.research.google.com/github/SiweiLuo/DL_with_Python/blob/master/linear_algebra.ipynb\" target=\"_parent\"><img src=\"https://colab.research.google.com/assets/colab-badge.svg\" alt=\"Open In Colab\"/></a>"
      ]
    },
    {
      "cell_type": "code",
      "metadata": {
        "id": "LhGxCNRivdkB",
        "colab_type": "code",
        "colab": {
          "base_uri": "https://localhost:8080/",
          "height": 269
        },
        "outputId": "14cd3ffc-37e5-4f37-9557-d79a8d23228d"
      },
      "source": [
        "import numpy as np \n",
        "import matplotlib.pyplot as plt \n",
        "\n",
        "\n",
        "X = 2*np.random.rand(100,1)\n",
        "y = 4+3*X+np.random.randn(100,1)\n",
        "\n",
        "plt.plot(X,y,\"b.\")\n",
        "plt.show()\n"
      ],
      "execution_count": 35,
      "outputs": [
        {
          "output_type": "display_data",
          "data": {
            "image/png": "[encoded data removed]",
            "text/plain": [
              "<Figure size 432x288 with 1 Axes>"
            ]
          },
          "metadata": {
            "tags": []
          }
        }
      ]
    },
    {
      "cell_type": "code",
      "metadata": {
        "id": "N21gR1s9vzTj",
        "colab_type": "code",
        "colab": {}
      },
      "source": [
        "X_b = np.c_[np.ones((100,1)),X]\n",
        "theta_best = np.linalg.inv(X_b.T.dot(X_b)).dot(X_b.T).dot(y)"
      ],
      "execution_count": 0,
      "outputs": []
    },
    {
      "cell_type": "code",
      "metadata": {
        "id": "ojFn-snmwRjm",
        "colab_type": "code",
        "colab": {
          "base_uri": "https://localhost:8080/",
          "height": 51
        },
        "outputId": "8ba51a58-3b15-4b54-e308-5215f7d53beb"
      },
      "source": [
        "theta_best"
      ],
      "execution_count": 37,
      "outputs": [
        {
          "output_type": "execute_result",
          "data": {
            "text/plain": [
              "array([[3.92836605],\n",
              "       [2.94704746]])"
            ]
          },
          "metadata": {
            "tags": []
          },
          "execution_count": 37
        }
      ]
    },
    {
      "cell_type": "code",
      "metadata": {
        "id": "sRApMr50wT-l",
        "colab_type": "code",
        "colab": {
          "base_uri": "https://localhost:8080/",
          "height": 51
        },
        "outputId": "0f782422-7b35-4484-a45c-73f989132391"
      },
      "source": [
        "X_new = np.array([[0],[2]])\n",
        "X_new_b = np.c_[np.ones((2,1)),X_new]\n",
        "y_predict = X_new_b.dot(theta_best)\n",
        "y_predict"
      ],
      "execution_count": 38,
      "outputs": [
        {
          "output_type": "execute_result",
          "data": {
            "text/plain": [
              "array([[3.92836605],\n",
              "       [9.82246096]])"
            ]
          },
          "metadata": {
            "tags": []
          },
          "execution_count": 38
        }
      ]
    },
    {
      "cell_type": "code",
      "metadata": {
        "id": "nfWl2a_mwmge",
        "colab_type": "code",
        "colab": {
          "base_uri": "https://localhost:8080/",
          "height": 269
        },
        "outputId": "b3be0cd1-3228-4917-9fdb-eede6b7d5fc4"
      },
      "source": [
        "plt.plot(X_new,y_predict,\"r-\")\n",
        "plt.plot(X,y,\"b.\")\n",
        "plt.axis([0,2,0,15])\n",
        "plt.show()\n"
      ],
      "execution_count": 39,
      "outputs": [
        {
          "output_type": "display_data",
          "data": {
            "image/png": "[encoded data removed]",
            "text/plain": [
              "<Figure size 432x288 with 1 Axes>"
            ]
          },
          "metadata": {
            "tags": []
          }
        }
      ]
    },
    {
      "cell_type": "code",
      "metadata": {
        "id": "5NAlj7PWwz1H",
        "colab_type": "code",
        "colab": {
          "base_uri": "https://localhost:8080/",
          "height": 34
        },
        "outputId": "f2797044-2b56-4bf2-f68e-8a65e6a40e7a"
      },
      "source": [
        "from sklearn.linear_model import LinearRegression\n",
        "lin_reg = LinearRegression()\n",
        "\n",
        "lin_reg.fit(X,y)\n",
        "lin_reg.intercept_,lin_reg.coef_\n",
        "\n",
        "\n",
        "\n",
        "\n",
        "\n"
      ],
      "execution_count": 40,
      "outputs": [
        {
          "output_type": "execute_result",
          "data": {
            "text/plain": [
              "(array([3.92836605]), array([[2.94704746]]))"
            ]
          },
          "metadata": {
            "tags": []
          },
          "execution_count": 40
        }
      ]
    },
    {
      "cell_type": "code",
      "metadata": {
        "id": "PZrRxLsyxQ8s",
        "colab_type": "code",
        "colab": {
          "base_uri": "https://localhost:8080/",
          "height": 51
        },
        "outputId": "eae813e5-47ab-4922-af72-01ca8dc2adb3"
      },
      "source": [
        "lin_reg.predict(X_new)"
      ],
      "execution_count": 41,
      "outputs": [
        {
          "output_type": "execute_result",
          "data": {
            "text/plain": [
              "array([[3.92836605],\n",
              "       [9.82246096]])"
            ]
          },
          "metadata": {
            "tags": []
          },
          "execution_count": 41
        }
      ]
    },
    {
      "cell_type": "code",
      "metadata": {
        "id": "7NL-RsztxbNH",
        "colab_type": "code",
        "colab": {
          "base_uri": "https://localhost:8080/",
          "height": 269
        },
        "outputId": "fd945cab-7267-4860-94f1-eb8794266b3d"
      },
      "source": [
        "\n",
        "y_lin_reg = lin_reg.predict(X_new)\n",
        "\n",
        "plt.plot(X_new,y_lin_reg,\"b-\")\n",
        "plt.plot(X_new,y_predict,\"r--\")\n",
        "plt.plot(X,y,\"b.\")\n",
        "plt.show()\n"
      ],
      "execution_count": 42,
      "outputs": [
        {
          "output_type": "display_data",
          "data": {
            "image/png": "[encoded data removed]",
            "text/plain": [
              "<Figure size 432x288 with 1 Axes>"
            ]
          },
          "metadata": {
            "tags": []
          }
        }
      ]
    },
    {
      "cell_type": "code",
      "metadata": {
        "id": "BgFpSMjmyWfy",
        "colab_type": "code",
        "colab": {
          "base_uri": "https://localhost:8080/",
          "height": 51
        },
        "outputId": "2fb4add0-9a22-4235-81fa-c13f5d28dde1"
      },
      "source": [
        "eta = 0.1\n",
        "n_iterations = 1000\n",
        "m = 100 \n",
        "\n",
        "theta = np.random.randn(2,1)\n",
        "\n",
        "for iteration in range(n_iterations):\n",
        "  gradients = 2/m*X_b.T.dot(X_b.dot(theta)-y)\n",
        "  theta = theta - eta*gradients \n",
        "  \n",
        "  \n",
        "theta \n",
        "\n",
        "\n",
        "\n"
      ],
      "execution_count": 43,
      "outputs": [
        {
          "output_type": "execute_result",
          "data": {
            "text/plain": [
              "array([[3.92836605],\n",
              "       [2.94704746]])"
            ]
          },
          "metadata": {
            "tags": []
          },
          "execution_count": 43
        }
      ]
    },
    {
      "cell_type": "code",
      "metadata": {
        "id": "PuyLClDQSLux",
        "colab_type": "code",
        "colab": {
          "base_uri": "https://localhost:8080/",
          "height": 51
        },
        "outputId": "602d4db4-7069-41c6-f539-acb410ad0ef7"
      },
      "source": [
        "n_epochs = 50 \n",
        "t0, t1 = 5,50\n",
        "\n",
        "def learning_schedule(t):\n",
        "  return t0/(t+t1)\n",
        "\n",
        "theta = np.random.randn(2,1)\n",
        "\n",
        "\n",
        "for epoch in range(n_epochs):\n",
        "  for i in range(m):\n",
        "    random_index = np.random.randint(m)\n",
        "    xi = X_b[random_index:random_index+1]\n",
        "    yi = y[random_index:random_index+1]\n",
        "    gradients = 2*xi.T.dot(xi.dot(theta)-yi)\n",
        "    #eta = learning_schedule(epoch*m+i)\n",
        "    theta = theta-eta*gradients\n",
        "  \n",
        "  \n",
        "theta\n",
        "  \n",
        " "
      ],
      "execution_count": 44,
      "outputs": [
        {
          "output_type": "execute_result",
          "data": {
            "text/plain": [
              "array([[3.85536725],\n",
              "       [2.90341558]])"
            ]
          },
          "metadata": {
            "tags": []
          },
          "execution_count": 44
        }
      ]
    },
    {
      "cell_type": "code",
      "metadata": {
        "id": "vLpnzW5rWlb1",
        "colab_type": "code",
        "colab": {
          "base_uri": "https://localhost:8080/",
          "height": 1717
        },
        "outputId": "c13b770f-210a-403e-cae1-b8489be0a7f3"
      },
      "source": [
        "y"
      ],
      "execution_count": 45,
      "outputs": [
        {
          "output_type": "execute_result",
          "data": {
            "text/plain": [
              "array([[ 8.24888532],\n",
              "       [ 4.95455485],\n",
              "       [ 5.84430768],\n",
              "       [10.34917897],\n",
              "       [ 9.68947938],\n",
              "       [ 9.74332433],\n",
              "       [ 7.80220016],\n",
              "       [ 5.4151683 ],\n",
              "       [ 6.29814951],\n",
              "       [ 6.23386709],\n",
              "       [ 6.1738921 ],\n",
              "       [ 8.91497499],\n",
              "       [ 9.36264114],\n",
              "       [ 5.47490491],\n",
              "       [ 7.40304316],\n",
              "       [ 4.99211539],\n",
              "       [ 9.08812063],\n",
              "       [ 6.53864355],\n",
              "       [ 7.06854547],\n",
              "       [ 9.30477461],\n",
              "       [ 7.87325978],\n",
              "       [ 7.47368164],\n",
              "       [ 3.86512422],\n",
              "       [ 8.59236991],\n",
              "       [ 9.68686522],\n",
              "       [ 6.8844665 ],\n",
              "       [ 9.15543066],\n",
              "       [ 5.38889621],\n",
              "       [ 6.27998894],\n",
              "       [ 4.43345385],\n",
              "       [ 6.20204949],\n",
              "       [ 3.64845377],\n",
              "       [ 7.11084129],\n",
              "       [ 4.36274667],\n",
              "       [ 7.67467391],\n",
              "       [ 4.82876798],\n",
              "       [ 8.63976357],\n",
              "       [ 9.41757623],\n",
              "       [10.66468606],\n",
              "       [ 9.27099707],\n",
              "       [ 7.79615244],\n",
              "       [ 3.70823995],\n",
              "       [ 8.58664888],\n",
              "       [ 8.6510078 ],\n",
              "       [ 5.56314871],\n",
              "       [ 4.28925219],\n",
              "       [ 5.09217853],\n",
              "       [ 8.57670775],\n",
              "       [ 6.35104757],\n",
              "       [ 8.56740422],\n",
              "       [ 3.98166204],\n",
              "       [ 4.18611546],\n",
              "       [ 3.32311024],\n",
              "       [ 6.88537498],\n",
              "       [ 7.33472233],\n",
              "       [ 7.02954087],\n",
              "       [ 4.88974389],\n",
              "       [ 9.57249507],\n",
              "       [ 8.12714385],\n",
              "       [ 7.66025232],\n",
              "       [ 3.54234305],\n",
              "       [ 7.25635839],\n",
              "       [ 3.34400994],\n",
              "       [ 6.6417109 ],\n",
              "       [ 5.6953159 ],\n",
              "       [ 9.26206502],\n",
              "       [ 8.80578243],\n",
              "       [11.14395249],\n",
              "       [ 5.3298285 ],\n",
              "       [ 5.6827188 ],\n",
              "       [ 4.03435983],\n",
              "       [ 4.63132606],\n",
              "       [ 5.50223504],\n",
              "       [ 5.77446587],\n",
              "       [ 7.1272832 ],\n",
              "       [ 5.20059465],\n",
              "       [ 8.00229623],\n",
              "       [ 7.92954668],\n",
              "       [ 7.5916605 ],\n",
              "       [ 9.15415807],\n",
              "       [ 7.42069139],\n",
              "       [ 6.68066461],\n",
              "       [ 6.96322992],\n",
              "       [ 4.94736445],\n",
              "       [ 5.63246805],\n",
              "       [ 5.61643361],\n",
              "       [10.74941387],\n",
              "       [10.43316461],\n",
              "       [ 9.88948168],\n",
              "       [ 7.03639319],\n",
              "       [ 7.58237172],\n",
              "       [ 7.8398411 ],\n",
              "       [ 7.31519335],\n",
              "       [ 7.60378516],\n",
              "       [ 7.88434192],\n",
              "       [ 5.97993314],\n",
              "       [ 5.98796894],\n",
              "       [ 9.40198309],\n",
              "       [ 5.81159827],\n",
              "       [ 6.04539263]])"
            ]
          },
          "metadata": {
            "tags": []
          },
          "execution_count": 45
        }
      ]
    },
    {
      "cell_type": "code",
      "metadata": {
        "id": "BDqSHwnvWnUl",
        "colab_type": "code",
        "colab": {
          "base_uri": "https://localhost:8080/",
          "height": 357
        },
        "outputId": "aa9b8951-d0c9-42c6-e2d5-5d5d2865730b"
      },
      "source": [
        "y.ravel()"
      ],
      "execution_count": 46,
      "outputs": [
        {
          "output_type": "execute_result",
          "data": {
            "text/plain": [
              "array([ 8.24888532,  4.95455485,  5.84430768, 10.34917897,  9.68947938,\n",
              "        9.74332433,  7.80220016,  5.4151683 ,  6.29814951,  6.23386709,\n",
              "        6.1738921 ,  8.91497499,  9.36264114,  5.47490491,  7.40304316,\n",
              "        4.99211539,  9.08812063,  6.53864355,  7.06854547,  9.30477461,\n",
              "        7.87325978,  7.47368164,  3.86512422,  8.59236991,  9.68686522,\n",
              "        6.8844665 ,  9.15543066,  5.38889621,  6.27998894,  4.43345385,\n",
              "        6.20204949,  3.64845377,  7.11084129,  4.36274667,  7.67467391,\n",
              "        4.82876798,  8.63976357,  9.41757623, 10.66468606,  9.27099707,\n",
              "        7.79615244,  3.70823995,  8.58664888,  8.6510078 ,  5.56314871,\n",
              "        4.28925219,  5.09217853,  8.57670775,  6.35104757,  8.56740422,\n",
              "        3.98166204,  4.18611546,  3.32311024,  6.88537498,  7.33472233,\n",
              "        7.02954087,  4.88974389,  9.57249507,  8.12714385,  7.66025232,\n",
              "        3.54234305,  7.25635839,  3.34400994,  6.6417109 ,  5.6953159 ,\n",
              "        9.26206502,  8.80578243, 11.14395249,  5.3298285 ,  5.6827188 ,\n",
              "        4.03435983,  4.63132606,  5.50223504,  5.77446587,  7.1272832 ,\n",
              "        5.20059465,  8.00229623,  7.92954668,  7.5916605 ,  9.15415807,\n",
              "        7.42069139,  6.68066461,  6.96322992,  4.94736445,  5.63246805,\n",
              "        5.61643361, 10.74941387, 10.43316461,  9.88948168,  7.03639319,\n",
              "        7.58237172,  7.8398411 ,  7.31519335,  7.60378516,  7.88434192,\n",
              "        5.97993314,  5.98796894,  9.40198309,  5.81159827,  6.04539263])"
            ]
          },
          "metadata": {
            "tags": []
          },
          "execution_count": 46
        }
      ]
    },
    {
      "cell_type": "code",
      "metadata": {
        "id": "Jh_wEXhEVRfh",
        "colab_type": "code",
        "colab": {
          "base_uri": "https://localhost:8080/",
          "height": 173
        },
        "outputId": "5b0ed3c9-2b11-46c0-9d15-9d30445d7dee"
      },
      "source": [
        "from sklearn.linear_model import SGDRegressor\n",
        "\n",
        "sgd_reg = SGDRegressor(n_iter=50,penalty=None,eta0=0.1)\n",
        "sgd_reg.fit(X,y.ravel())\n",
        "\n",
        "\n"
      ],
      "execution_count": 47,
      "outputs": [
        {
          "output_type": "stream",
          "text": [
            "/usr/local/lib/python3.6/dist-packages/sklearn/linear_model/stochastic_gradient.py:152: DeprecationWarning: n_iter parameter is deprecated in 0.19 and will be removed in 0.21. Use max_iter and tol instead.\n",
            "  DeprecationWarning)\n"
          ],
          "name": "stderr"
        },
        {
          "output_type": "execute_result",
          "data": {
            "text/plain": [
              "SGDRegressor(alpha=0.0001, average=False, early_stopping=False, epsilon=0.1,\n",
              "       eta0=0.1, fit_intercept=True, l1_ratio=0.15,\n",
              "       learning_rate='invscaling', loss='squared_loss', max_iter=None,\n",
              "       n_iter=50, n_iter_no_change=5, penalty=None, power_t=0.25,\n",
              "       random_state=None, shuffle=True, tol=None, validation_fraction=0.1,\n",
              "       verbose=0, warm_start=False)"
            ]
          },
          "metadata": {
            "tags": []
          },
          "execution_count": 47
        }
      ]
    },
    {
      "cell_type": "code",
      "metadata": {
        "id": "drIksr_zVtw6",
        "colab_type": "code",
        "colab": {
          "base_uri": "https://localhost:8080/",
          "height": 34
        },
        "outputId": "dd64ade0-ec0f-4df8-ce87-57c1c0f380fd"
      },
      "source": [
        "sgd_reg.intercept_,sgd_reg.coef_"
      ],
      "execution_count": 48,
      "outputs": [
        {
          "output_type": "execute_result",
          "data": {
            "text/plain": [
              "(array([3.93723673]), array([2.95746042]))"
            ]
          },
          "metadata": {
            "tags": []
          },
          "execution_count": 48
        }
      ]
    },
    {
      "cell_type": "code",
      "metadata": {
        "id": "8y8tvzCTWbax",
        "colab_type": "code",
        "colab": {}
      },
      "source": [
        ""
      ],
      "execution_count": 0,
      "outputs": []
    }
  ]
}