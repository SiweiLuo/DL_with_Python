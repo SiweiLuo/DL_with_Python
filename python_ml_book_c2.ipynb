{
  "nbformat": 4,
  "nbformat_minor": 0,
  "metadata": {
    "colab": {
      "name": "python_ml_book_c2.ipynb",
      "version": "0.3.2",
      "provenance": [],
      "include_colab_link": true
    },
    "kernelspec": {
      "name": "python3",
      "display_name": "Python 3"
    }
  },
  "cells": [
    {
      "cell_type": "markdown",
      "metadata": {
        "id": "view-in-github",
        "colab_type": "text"
      },
      "source": [
        "<a href=\"https://colab.research.google.com/github/SiweiLuo/DL_with_Python/blob/master/python_ml_book_c2.ipynb\" target=\"_parent\"><img src=\"https://colab.research.google.com/assets/colab-badge.svg\" alt=\"Open In Colab\"/></a>"
      ]
    },
    {
      "cell_type": "code",
      "metadata": {
        "id": "eHbmF5GXyOLO",
        "colab_type": "code",
        "colab": {}
      },
      "source": [
        "from IPython.display import Image "
      ],
      "execution_count": 0,
      "outputs": []
    },
    {
      "cell_type": "code",
      "metadata": {
        "id": "5YjI9kfHyRda",
        "colab_type": "code",
        "colab": {}
      },
      "source": [
        "import numpy as np \n",
        "\n",
        "class Perceptron(object): \n",
        "  def __init__(self,eta=0.01,n_iter=50,random_state=1):\n",
        "    self.eta = eta \n",
        "    self.n_iter = n_iter\n",
        "    self.random_state = random_state \n",
        "    \n",
        "  def fit(self,x,y): \n",
        "    rgen = np.random.RandomState(self.random_state)\n",
        "    self.w_ = rgen.normal(loc=0.0,scale=0.01,size=1+x.shape[1]) \n",
        "    self.errors_ = [] \n",
        "    \n",
        "    for _ in range(self.n_iter):\n",
        "      errors = 0 \n",
        "      for xi,target in zip(x,y):\n",
        "        update = self.eta * (target-self.predict(xi))\n",
        "        self.w_[1:] += update * xi \n",
        "        self.w_[0] += update \n",
        "        errors += int(update != 0.0)\n",
        "      self.errors_.append(errors) \n",
        "    return self \n",
        "\n",
        "  def net_input(self,x):\n",
        "    return np.dot(x,self.w_[1:]) + self.w_[0] \n",
        "    \n",
        "  def predict(self,x): \n",
        "    return np.where(self.net_input(x)>=0.0,1,-1) \n"
      ],
      "execution_count": 0,
      "outputs": []
    },
    {
      "cell_type": "code",
      "metadata": {
        "id": "BRz8ja-7zwpO",
        "colab_type": "code",
        "colab": {
          "base_uri": "https://localhost:8080/",
          "height": 34
        },
        "outputId": "43d0d482-9bf1-4404-9cd7-a136e83980a6"
      },
      "source": [
        "v1 = np.array([1,2,3]) \n",
        "v2 = 0.5*v1 \n",
        "np.arccos(v1.dot(v2)/(np.linalg.norm(v1)*np.linalg.norm(v2)))"
      ],
      "execution_count": 7,
      "outputs": [
        {
          "output_type": "execute_result",
          "data": {
            "text/plain": [
              "0.0"
            ]
          },
          "metadata": {
            "tags": []
          },
          "execution_count": 7
        }
      ]
    },
    {
      "cell_type": "code",
      "metadata": {
        "id": "fmHrn6_e0H8j",
        "colab_type": "code",
        "colab": {
          "base_uri": "https://localhost:8080/",
          "height": 204
        },
        "outputId": "f5be1be0-826e-4f04-9d56-40ae589bd472"
      },
      "source": [
        "import pandas as pd \n",
        "\n",
        "df = pd.read_csv('https://archive.ics.uci.edu/ml/'\n",
        "                 'machine-learning-databases/iris/iris.data',header=None)\n",
        "df.tail()"
      ],
      "execution_count": 8,
      "outputs": [
        {
          "output_type": "execute_result",
          "data": {
            "text/html": [
              "<div>\n",
              "<style scoped>\n",
              "    .dataframe tbody tr th:only-of-type {\n",
              "        vertical-align: middle;\n",
              "    }\n",
              "\n",
              "    .dataframe tbody tr th {\n",
              "        vertical-align: top;\n",
              "    }\n",
              "\n",
              "    .dataframe thead th {\n",
              "        text-align: right;\n",
              "    }\n",
              "</style>\n",
              "<table border=\"1\" class=\"dataframe\">\n",
              "  <thead>\n",
              "    <tr style=\"text-align: right;\">\n",
              "      <th></th>\n",
              "      <th>0</th>\n",
              "      <th>1</th>\n",
              "      <th>2</th>\n",
              "      <th>3</th>\n",
              "      <th>4</th>\n",
              "    </tr>\n",
              "  </thead>\n",
              "  <tbody>\n",
              "    <tr>\n",
              "      <th>145</th>\n",
              "      <td>6.7</td>\n",
              "      <td>3.0</td>\n",
              "      <td>5.2</td>\n",
              "      <td>2.3</td>\n",
              "      <td>Iris-virginica</td>\n",
              "    </tr>\n",
              "    <tr>\n",
              "      <th>146</th>\n",
              "      <td>6.3</td>\n",
              "      <td>2.5</td>\n",
              "      <td>5.0</td>\n",
              "      <td>1.9</td>\n",
              "      <td>Iris-virginica</td>\n",
              "    </tr>\n",
              "    <tr>\n",
              "      <th>147</th>\n",
              "      <td>6.5</td>\n",
              "      <td>3.0</td>\n",
              "      <td>5.2</td>\n",
              "      <td>2.0</td>\n",
              "      <td>Iris-virginica</td>\n",
              "    </tr>\n",
              "    <tr>\n",
              "      <th>148</th>\n",
              "      <td>6.2</td>\n",
              "      <td>3.4</td>\n",
              "      <td>5.4</td>\n",
              "      <td>2.3</td>\n",
              "      <td>Iris-virginica</td>\n",
              "    </tr>\n",
              "    <tr>\n",
              "      <th>149</th>\n",
              "      <td>5.9</td>\n",
              "      <td>3.0</td>\n",
              "      <td>5.1</td>\n",
              "      <td>1.8</td>\n",
              "      <td>Iris-virginica</td>\n",
              "    </tr>\n",
              "  </tbody>\n",
              "</table>\n",
              "</div>"
            ],
            "text/plain": [
              "       0    1    2    3               4\n",
              "145  6.7  3.0  5.2  2.3  Iris-virginica\n",
              "146  6.3  2.5  5.0  1.9  Iris-virginica\n",
              "147  6.5  3.0  5.2  2.0  Iris-virginica\n",
              "148  6.2  3.4  5.4  2.3  Iris-virginica\n",
              "149  5.9  3.0  5.1  1.8  Iris-virginica"
            ]
          },
          "metadata": {
            "tags": []
          },
          "execution_count": 8
        }
      ]
    },
    {
      "cell_type": "code",
      "metadata": {
        "id": "0xuy9lSd0b6R",
        "colab_type": "code",
        "colab": {
          "base_uri": "https://localhost:8080/",
          "height": 204
        },
        "outputId": "9c72de8e-730b-41f4-d2b7-6b9eddce61af"
      },
      "source": [
        "df.head() "
      ],
      "execution_count": 9,
      "outputs": [
        {
          "output_type": "execute_result",
          "data": {
            "text/html": [
              "<div>\n",
              "<style scoped>\n",
              "    .dataframe tbody tr th:only-of-type {\n",
              "        vertical-align: middle;\n",
              "    }\n",
              "\n",
              "    .dataframe tbody tr th {\n",
              "        vertical-align: top;\n",
              "    }\n",
              "\n",
              "    .dataframe thead th {\n",
              "        text-align: right;\n",
              "    }\n",
              "</style>\n",
              "<table border=\"1\" class=\"dataframe\">\n",
              "  <thead>\n",
              "    <tr style=\"text-align: right;\">\n",
              "      <th></th>\n",
              "      <th>0</th>\n",
              "      <th>1</th>\n",
              "      <th>2</th>\n",
              "      <th>3</th>\n",
              "      <th>4</th>\n",
              "    </tr>\n",
              "  </thead>\n",
              "  <tbody>\n",
              "    <tr>\n",
              "      <th>0</th>\n",
              "      <td>5.1</td>\n",
              "      <td>3.5</td>\n",
              "      <td>1.4</td>\n",
              "      <td>0.2</td>\n",
              "      <td>Iris-setosa</td>\n",
              "    </tr>\n",
              "    <tr>\n",
              "      <th>1</th>\n",
              "      <td>4.9</td>\n",
              "      <td>3.0</td>\n",
              "      <td>1.4</td>\n",
              "      <td>0.2</td>\n",
              "      <td>Iris-setosa</td>\n",
              "    </tr>\n",
              "    <tr>\n",
              "      <th>2</th>\n",
              "      <td>4.7</td>\n",
              "      <td>3.2</td>\n",
              "      <td>1.3</td>\n",
              "      <td>0.2</td>\n",
              "      <td>Iris-setosa</td>\n",
              "    </tr>\n",
              "    <tr>\n",
              "      <th>3</th>\n",
              "      <td>4.6</td>\n",
              "      <td>3.1</td>\n",
              "      <td>1.5</td>\n",
              "      <td>0.2</td>\n",
              "      <td>Iris-setosa</td>\n",
              "    </tr>\n",
              "    <tr>\n",
              "      <th>4</th>\n",
              "      <td>5.0</td>\n",
              "      <td>3.6</td>\n",
              "      <td>1.4</td>\n",
              "      <td>0.2</td>\n",
              "      <td>Iris-setosa</td>\n",
              "    </tr>\n",
              "  </tbody>\n",
              "</table>\n",
              "</div>"
            ],
            "text/plain": [
              "     0    1    2    3            4\n",
              "0  5.1  3.5  1.4  0.2  Iris-setosa\n",
              "1  4.9  3.0  1.4  0.2  Iris-setosa\n",
              "2  4.7  3.2  1.3  0.2  Iris-setosa\n",
              "3  4.6  3.1  1.5  0.2  Iris-setosa\n",
              "4  5.0  3.6  1.4  0.2  Iris-setosa"
            ]
          },
          "metadata": {
            "tags": []
          },
          "execution_count": 9
        }
      ]
    },
    {
      "cell_type": "code",
      "metadata": {
        "id": "BmVbMG4-0gdg",
        "colab_type": "code",
        "colab": {
          "base_uri": "https://localhost:8080/",
          "height": 204
        },
        "outputId": "a66d5807-4005-4408-c4d9-1d7d2e743cc0"
      },
      "source": [
        "df = pd.read_csv('https://archive.ics.uci.edu/ml/machine-learning-databases/iris/iris.data',header=None)\n",
        "df.tail() "
      ],
      "execution_count": 13,
      "outputs": [
        {
          "output_type": "execute_result",
          "data": {
            "text/html": [
              "<div>\n",
              "<style scoped>\n",
              "    .dataframe tbody tr th:only-of-type {\n",
              "        vertical-align: middle;\n",
              "    }\n",
              "\n",
              "    .dataframe tbody tr th {\n",
              "        vertical-align: top;\n",
              "    }\n",
              "\n",
              "    .dataframe thead th {\n",
              "        text-align: right;\n",
              "    }\n",
              "</style>\n",
              "<table border=\"1\" class=\"dataframe\">\n",
              "  <thead>\n",
              "    <tr style=\"text-align: right;\">\n",
              "      <th></th>\n",
              "      <th>0</th>\n",
              "      <th>1</th>\n",
              "      <th>2</th>\n",
              "      <th>3</th>\n",
              "      <th>4</th>\n",
              "    </tr>\n",
              "  </thead>\n",
              "  <tbody>\n",
              "    <tr>\n",
              "      <th>145</th>\n",
              "      <td>6.7</td>\n",
              "      <td>3.0</td>\n",
              "      <td>5.2</td>\n",
              "      <td>2.3</td>\n",
              "      <td>Iris-virginica</td>\n",
              "    </tr>\n",
              "    <tr>\n",
              "      <th>146</th>\n",
              "      <td>6.3</td>\n",
              "      <td>2.5</td>\n",
              "      <td>5.0</td>\n",
              "      <td>1.9</td>\n",
              "      <td>Iris-virginica</td>\n",
              "    </tr>\n",
              "    <tr>\n",
              "      <th>147</th>\n",
              "      <td>6.5</td>\n",
              "      <td>3.0</td>\n",
              "      <td>5.2</td>\n",
              "      <td>2.0</td>\n",
              "      <td>Iris-virginica</td>\n",
              "    </tr>\n",
              "    <tr>\n",
              "      <th>148</th>\n",
              "      <td>6.2</td>\n",
              "      <td>3.4</td>\n",
              "      <td>5.4</td>\n",
              "      <td>2.3</td>\n",
              "      <td>Iris-virginica</td>\n",
              "    </tr>\n",
              "    <tr>\n",
              "      <th>149</th>\n",
              "      <td>5.9</td>\n",
              "      <td>3.0</td>\n",
              "      <td>5.1</td>\n",
              "      <td>1.8</td>\n",
              "      <td>Iris-virginica</td>\n",
              "    </tr>\n",
              "  </tbody>\n",
              "</table>\n",
              "</div>"
            ],
            "text/plain": [
              "       0    1    2    3               4\n",
              "145  6.7  3.0  5.2  2.3  Iris-virginica\n",
              "146  6.3  2.5  5.0  1.9  Iris-virginica\n",
              "147  6.5  3.0  5.2  2.0  Iris-virginica\n",
              "148  6.2  3.4  5.4  2.3  Iris-virginica\n",
              "149  5.9  3.0  5.1  1.8  Iris-virginica"
            ]
          },
          "metadata": {
            "tags": []
          },
          "execution_count": 13
        }
      ]
    },
    {
      "cell_type": "code",
      "metadata": {
        "id": "x1U6-tIZ0lvw",
        "colab_type": "code",
        "colab": {
          "base_uri": "https://localhost:8080/",
          "height": 283
        },
        "outputId": "f2ce2332-b4f7-48bd-bf98-8c5f2c8d8313"
      },
      "source": [
        "%matplotlib inline \n",
        "\n",
        "import matplotlib.pyplot as plt \n",
        "import numpy as np \n",
        "\n",
        "y = df.iloc[0:100,4].values\n",
        "y = np.where(y=='Iris-setosa',-1,1) \n",
        "\n",
        "x = df.iloc[0:100,[0,2]].values\n",
        "\n",
        "plt.scatter(x[:50,0],x[:50,1],\n",
        "            color='red',marker='o',label='setosa') \n",
        "plt.scatter(x[50:100,0],x[50:100,1],\n",
        "            color='blue',marker='x',label='versicolor') \n",
        "\n",
        "plt.xlabel('sepal length [cm]') \n",
        "plt.ylabel('petal length [cm]') \n",
        "plt.legend(loc='upper left')\n",
        "\n",
        "plt.show() "
      ],
      "execution_count": 14,
      "outputs": [
        {
          "output_type": "display_data",
          "data": {
            "image/png": "[encoded data removed]",
            "text/plain": [
              "<Figure size 432x288 with 1 Axes>"
            ]
          },
          "metadata": {
            "tags": []
          }
        }
      ]
    },
    {
      "cell_type": "code",
      "metadata": {
        "id": "VCTONEYz1yWY",
        "colab_type": "code",
        "colab": {
          "base_uri": "https://localhost:8080/",
          "height": 283
        },
        "outputId": "073e9559-5da2-421a-8c92-d8990a7cafc5"
      },
      "source": [
        "ppn = Perceptron(eta=0.1,n_iter=10) \n",
        "\n",
        "ppn.fit(x,y) \n",
        "\n",
        "plt.plot(range(1,len(ppn.errors_)+1),ppn.errors_,marker='o') \n",
        "plt.xlabel('epochs')\n",
        "plt.ylabel('Number of updates') \n",
        "\n",
        "plt.show() "
      ],
      "execution_count": 15,
      "outputs": [
        {
          "output_type": "display_data",
          "data": {
            "image/png": "[encoded data removed]",
            "text/plain": [
              "<Figure size 432x288 with 1 Axes>"
            ]
          },
          "metadata": {
            "tags": []
          }
        }
      ]
    },
    {
      "cell_type": "code",
      "metadata": {
        "id": "HPTJnTbD2JWP",
        "colab_type": "code",
        "colab": {}
      },
      "source": [
        "from matplotlib.colors import ListedColormap\n",
        "\n",
        "def plot_decision_regions(X, y, classifier, resolution=0.02):\n",
        "\n",
        "    # setup marker generator and color map\n",
        "    markers = ('s', 'x', 'o', '^', 'v')\n",
        "    colors = ('red', 'blue', 'lightgreen', 'gray', 'cyan')\n",
        "    cmap = ListedColormap(colors[:len(np.unique(y))])\n",
        "\n",
        "    # plot the decision surface\n",
        "    x1_min, x1_max = X[:, 0].min() - 1, X[:, 0].max() + 1\n",
        "    x2_min, x2_max = X[:, 1].min() - 1, X[:, 1].max() + 1\n",
        "    xx1, xx2 = np.meshgrid(np.arange(x1_min, x1_max, resolution),\n",
        "                           np.arange(x2_min, x2_max, resolution))\n",
        "    Z = classifier.predict(np.array([xx1.ravel(), xx2.ravel()]).T)\n",
        "    Z = Z.reshape(xx1.shape)\n",
        "    plt.contourf(xx1, xx2, Z, alpha=0.3, cmap=cmap)\n",
        "    plt.xlim(xx1.min(), xx1.max())\n",
        "    plt.ylim(xx2.min(), xx2.max())\n",
        "\n",
        "    # plot class samples\n",
        "    for idx, cl in enumerate(np.unique(y)):\n",
        "        plt.scatter(x=X[y == cl, 0], \n",
        "                    y=X[y == cl, 1],\n",
        "                    alpha=0.8, \n",
        "                    c=colors[idx],\n",
        "                    marker=markers[idx], \n",
        "                    label=cl, \n",
        "                    edgecolor='black')"
      ],
      "execution_count": 0,
      "outputs": []
    },
    {
      "cell_type": "code",
      "metadata": {
        "id": "gWvj43qw2Tm-",
        "colab_type": "code",
        "colab": {
          "base_uri": "https://localhost:8080/",
          "height": 283
        },
        "outputId": "1640f554-1400-444a-818d-44bf02fa35c3"
      },
      "source": [
        "plot_decision_regions(x, y, classifier=ppn)\n",
        "plt.xlabel('sepal length [cm]')\n",
        "plt.ylabel('petal length [cm]')\n",
        "plt.legend(loc='upper left')\n",
        "\n",
        "\n",
        "# plt.savefig('images/02_08.png', dpi=300)\n",
        "plt.show()"
      ],
      "execution_count": 19,
      "outputs": [
        {
          "output_type": "display_data",
          "data": {
            "image/png": "[encoded data removed]",
            "text/plain": [
              "<Figure size 432x288 with 1 Axes>"
            ]
          },
          "metadata": {
            "tags": []
          }
        }
      ]
    },
    {
      "cell_type": "code",
      "metadata": {
        "id": "AC9G7rnp2XqF",
        "colab_type": "code",
        "colab": {}
      },
      "source": [
        "class  AdalineGD(object):\n",
        "  \n",
        "  def __init__(self,eta=0.01,n_iter=50,random_state=1):\n",
        "    self.eta = eta \n",
        "    self.n_iter = n_iter\n",
        "    self.random_state = random_state\n",
        "    \n",
        "  def fit(self,x,y):\n",
        "    rgen = np.random.RandomState(self.random_state)\n",
        "    self.w_ = rgen.normal(loc=0.0,scale=0.01,size=1+x.shape[1]) \n",
        "    self.cost_ = [] \n",
        "    \n",
        "    for i in range(self.n_iter):\n",
        "      net_input = self.net_input(x) \n",
        "      output = self.activation(net_input)\n",
        "      errors = (y-output) \n",
        "      self.w_[1:] += self.eta*x.T.dot(errors) \n",
        "      self.w_[0] += self.eta*errors.sum() \n",
        "      \n",
        "      cost = (errors**2).sum()/2.0\n",
        "      self.cost_.append(cost) \n",
        "    return self\n",
        "\n",
        "  def net_input(self,x):\n",
        "    return np.dot(x,self.w_[1:])+self.w_[0]\n",
        "  \n",
        "  def activation(self,x):\n",
        "    return x \n",
        "  \n",
        "  def predict(self,x):\n",
        "    return np.where(self.activation(self.net_input(x))>=0.0,1,-1)"
      ],
      "execution_count": 0,
      "outputs": []
    },
    {
      "cell_type": "code",
      "metadata": {
        "id": "tWoI0bYg3eVH",
        "colab_type": "code",
        "colab": {
          "base_uri": "https://localhost:8080/",
          "height": 315
        },
        "outputId": "61d8f228-7447-4303-a60d-a8f4d9617a8c"
      },
      "source": [
        "fig, ax = plt.subplots(nrows=1,ncols=2,figsize=(10,4)) \n",
        "\n",
        "adal = AdalineGD(n_iter=10,eta=0.01).fit(x,y) \n",
        "ax[0].plot(range(1,len(adal.cost_)+1),np.log10(adal.cost_),marker='o')\n",
        "ax[0].set_xlabel('Epochs')\n",
        "ax[0].set_ylabel('log(sum-squared-error)')\n",
        "ax[0].set_title('Adaline-Learning rate 0.01') \n",
        "\n",
        "ada2 = AdalineGD(n_iter=10,eta=0.0001).fit(x,y)\n",
        "ax[1].plot(range(1,len(ada2.cost_)+1),ada2.cost_,marker='o')\n",
        "ax[1].set_xlabel('Epochs') \n",
        "ax[1].set_ylabel('Sum-squared-error')\n",
        "ax[1].set_title('Adaline-Learning rate 0.0001') \n",
        "\n",
        "plt.show() "
      ],
      "execution_count": 22,
      "outputs": [
        {
          "output_type": "display_data",
          "data": {
            "image/png": "[encoded data removed]",
            "text/plain": [
              "<Figure size 720x288 with 2 Axes>"
            ]
          },
          "metadata": {
            "tags": []
          }
        }
      ]
    },
    {
      "cell_type": "code",
      "metadata": {
        "id": "78APB9wA4WTp",
        "colab_type": "code",
        "colab": {}
      },
      "source": [
        "x_std = np.copy(x)\n",
        "\n",
        "x_std[:,0] = (x[:,0]-x[:,0].mean())/x[:,0].std()\n",
        "x_std[:,1] = (x[:,1]-x[:,1].mean())/x[:,1].std() "
      ],
      "execution_count": 0,
      "outputs": []
    },
    {
      "cell_type": "code",
      "metadata": {
        "id": "ckQGiPFQ4rb4",
        "colab_type": "code",
        "colab": {
          "base_uri": "https://localhost:8080/",
          "height": 577
        },
        "outputId": "1f1acdfb-acb1-4845-e86f-6383575bb289"
      },
      "source": [
        "ada = AdalineGD(n_iter=15,eta=0.01) \n",
        "ada.fit(x_std,y)\n",
        "\n",
        "plot_decision_regions(x_std,y,classifier=ada)\n",
        "plt.title('Adaline - Gradient Descent') \n",
        "plt.xlabel('sepal length [std]') \n",
        "plt.ylabel('petal length [std]') \n",
        "plt.legend(loc='upper left') \n",
        "plt.tight_layout() \n",
        "\n",
        "plt.show() \n",
        "\n",
        "plt.plot(range(1,len(ada.cost_)+1),ada.cost_,marker='o')\n",
        "plt.xlabel('epochs') \n",
        "plt.ylabel('sum-squared-error') \n",
        "\n",
        "plt.tight_layout()\n",
        "plt.show() "
      ],
      "execution_count": 25,
      "outputs": [
        {
          "output_type": "display_data",
          "data": {
            "image/png": "[encoded data removed]",
            "text/plain": [
              "<Figure size 432x288 with 1 Axes>"
            ]
          },
          "metadata": {
            "tags": []
          }
        },
        {
          "output_type": "display_data",
          "data": {
            "image/png": "[encoded data removed]",
            "text/plain": [
              "<Figure size 432x288 with 1 Axes>"
            ]
          },
          "metadata": {
            "tags": []
          }
        }
      ]
    },
    {
      "cell_type": "code",
      "metadata": {
        "id": "1k9SfoHu5Rfs",
        "colab_type": "code",
        "colab": {}
      },
      "source": [
        "class AdalineSGD(object):\n",
        "  \n",
        "  def __init__(self,eta=0.01,n_iter=10,shuffle=True,random_state=None):\n",
        "    self.eta = eta\n",
        "    self.n_iter = n_iter\n",
        "    self.w_initialized = False\n",
        "    self.shuffle =  shuffle\n",
        "    self.random_state = random_state \n",
        "    \n",
        "  def fit(self,x,y):\n",
        "    self._initialize_weights(x.shape[1]) \n",
        "    self.cost_ = [] \n",
        "    for i in range(self.n_iter):\n",
        "      if self.shuffle:\n",
        "        x,y = self._shuffle(x,y)\n",
        "        cost = [] \n",
        "        for xi , target in zip(x,y):\n",
        "          cost.append(self._update_weights(xi,target)) \n",
        "        avg_cost = sum(cost)/len(y) \n",
        "        self.cost_.append(avg_cost) \n",
        "    return self \n",
        "  \n",
        "  \n",
        "  def partial_fit(self,x,y):\n",
        "    if not self.w_initialized:\n",
        "      self._initialize_weights(x.shape[1]) \n",
        "      \n",
        "    if y.ravel().shape[0] > 1 : \n",
        "      for xi , target in zip(x,y):\n",
        "        self._update_weights(xi,target)\n",
        "    else: \n",
        "      self._update_weights(x,y)\n",
        "    return self\n",
        "  \n",
        "  def _shuffle(self,x,y):\n",
        "    r = self.rgen.permutatin(len(y))\n",
        "    \n",
        "    return x[r],y[r]\n",
        "  \n",
        "  \n",
        "  def _initialize_weights(self,m):\n",
        "    self.rgen = np.random.RandomState(self.random_state)\n",
        "    self.w_ = self.rgen.normal(loc=0.0,scale=0.01,size=1+m) \n",
        "    self.w_initialized = True\n",
        "    \n",
        "  def _update_weights(self,xi,target):\n",
        "    output = self.activation(self.net_input(xi)) \n",
        "    \n",
        "    error = (target-output) \n",
        "    self.w_[1:] += "
      ],
      "execution_count": 0,
      "outputs": []
    },
    {
      "cell_type": "code",
      "metadata": {
        "id": "KNzyyQOd6tQL",
        "colab_type": "code",
        "colab": {}
      },
      "source": [
        ""
      ],
      "execution_count": 0,
      "outputs": []
    }
  ]
}