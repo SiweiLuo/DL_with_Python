{
  "nbformat": 4,
  "nbformat_minor": 0,
  "metadata": {
    "colab": {
      "name": "mnist_RL.ipynb",
      "version": "0.3.2",
      "provenance": [],
      "include_colab_link": true
    },
    "kernelspec": {
      "name": "python3",
      "display_name": "Python 3"
    }
  },
  "cells": [
    {
      "cell_type": "markdown",
      "metadata": {
        "id": "view-in-github",
        "colab_type": "text"
      },
      "source": [
        "<a href=\"https://colab.research.google.com/github/SiweiLuo/DL_with_Python/blob/master/mnist_RL.ipynb\" target=\"_parent\"><img src=\"https://colab.research.google.com/assets/colab-badge.svg\" alt=\"Open In Colab\"/></a>"
      ]
    },
    {
      "cell_type": "code",
      "metadata": {
        "id": "tgQmBNZgJJRr",
        "colab_type": "code",
        "colab": {
          "base_uri": "https://localhost:8080/",
          "height": 85
        },
        "outputId": "a4e66973-519c-44c0-ea07-04959db6f67f"
      },
      "source": [
        "import tensorflow as tf \n",
        "import matplotlib.pyplot as plt \n",
        "\n",
        "\n",
        "from tensorflow.examples.tutorials.mnist import input_data\n",
        "\n",
        "mnist = input_data.read_data_sets(\"/tmp/data/\",one_hot=True)"
      ],
      "execution_count": 6,
      "outputs": [
        {
          "output_type": "stream",
          "text": [
            "Extracting /tmp/data/train-images-idx3-ubyte.gz\n",
            "Extracting /tmp/data/train-labels-idx1-ubyte.gz\n",
            "Extracting /tmp/data/t10k-images-idx3-ubyte.gz\n",
            "Extracting /tmp/data/t10k-labels-idx1-ubyte.gz\n"
          ],
          "name": "stdout"
        }
      ]
    },
    {
      "cell_type": "code",
      "metadata": {
        "id": "abG5k4M9KFDv",
        "colab_type": "code",
        "colab": {
          "base_uri": "https://localhost:8080/",
          "height": 85
        },
        "outputId": "2170af98-8adb-4124-9c4f-07fe6c89ab90"
      },
      "source": [
        "print(\"No of images in training set {}\".format(mnist.train.images.shape))\n",
        "print(\"No of labels in training set {}\".format(mnist.train.labels.shape))\n",
        "\n",
        "print(\"No of images in test set {}\".format(mnist.test.images.shape))\n",
        "print(\"No of labels in test set {}\".format(mnist.test.labels.shape))"
      ],
      "execution_count": 7,
      "outputs": [
        {
          "output_type": "stream",
          "text": [
            "No of images in training set (55000, 784)\n",
            "No of labels in training set (55000, 10)\n",
            "No of images in test set (10000, 784)\n",
            "No of labels in test set (10000, 10)\n"
          ],
          "name": "stdout"
        }
      ]
    },
    {
      "cell_type": "code",
      "metadata": {
        "id": "fXgHxfExK048",
        "colab_type": "code",
        "colab": {
          "base_uri": "https://localhost:8080/",
          "height": 286
        },
        "outputId": "20d24a56-a885-4b2d-8e5c-9e309b606d69"
      },
      "source": [
        "img1 = mnist.train.images[41].reshape(28,28)\n",
        "plt.imshow(img1,cmap='Greys')"
      ],
      "execution_count": 8,
      "outputs": [
        {
          "output_type": "execute_result",
          "data": {
            "text/plain": [
              "<matplotlib.image.AxesImage at 0x7f77a094b438>"
            ]
          },
          "metadata": {
            "tags": []
          },
          "execution_count": 8
        },
        {
          "output_type": "display_data",
          "data": {
            "image/png": "[encoded data removed]",
            "text/plain": [
              "<Figure size 432x288 with 1 Axes>"
            ]
          },
          "metadata": {
            "tags": []
          }
        }
      ]
    },
    {
      "cell_type": "code",
      "metadata": {
        "id": "8q9ofXe0LUbB",
        "colab_type": "code",
        "colab": {}
      },
      "source": [
        "x = tf.placeholder(tf.float32,[None,784])\n",
        "y = tf.placeholder(tf.float32,[None,10])"
      ],
      "execution_count": 0,
      "outputs": []
    },
    {
      "cell_type": "code",
      "metadata": {
        "id": "VyyYmKSbLxQG",
        "colab_type": "code",
        "colab": {}
      },
      "source": [
        "learning_rate = 0.1 \n",
        "epochs = 10 \n",
        "batch_size = 100 \n"
      ],
      "execution_count": 0,
      "outputs": []
    },
    {
      "cell_type": "code",
      "metadata": {
        "id": "Imh4M21_L10O",
        "colab_type": "code",
        "colab": {
          "base_uri": "https://localhost:8080/",
          "height": 88
        },
        "outputId": "a3ac1df9-b9b2-4b76-d6ea-a3d8d73e45ab"
      },
      "source": [
        "w_xh = tf.Variable(tf.random_normal([784,300],stddev=0.03),name='w_xh')\n",
        "b_h = tf.Variable(tf.random_normal([300]),name='b_h')"
      ],
      "execution_count": 11,
      "outputs": [
        {
          "output_type": "stream",
          "text": [
            "WARNING:tensorflow:From /usr/local/lib/python3.6/dist-packages/tensorflow/python/framework/op_def_library.py:263: colocate_with (from tensorflow.python.framework.ops) is deprecated and will be removed in a future version.\n",
            "Instructions for updating:\n",
            "Colocations handled automatically by placer.\n"
          ],
          "name": "stdout"
        }
      ]
    },
    {
      "cell_type": "code",
      "metadata": {
        "id": "ikrjhWPNMEDN",
        "colab_type": "code",
        "colab": {}
      },
      "source": [
        "w_hy = tf.Variable(tf.random_normal([300,10],stddev=0.03),name='w_hy')\n",
        "b_y = tf.Variable(tf.random_normal([10]),name='b_y')"
      ],
      "execution_count": 0,
      "outputs": []
    },
    {
      "cell_type": "code",
      "metadata": {
        "id": "yRxtE3zhMSaj",
        "colab_type": "code",
        "colab": {}
      },
      "source": [
        "z1 = tf.add(tf.matmul(x,w_xh),b_h)\n",
        "a1 = tf.nn.relu(z1)\n",
        "z2 = tf.add(tf.matmul(a1,w_hy),b_y)\n",
        "yhat = tf.nn.softmax(z2) "
      ],
      "execution_count": 0,
      "outputs": []
    },
    {
      "cell_type": "code",
      "metadata": {
        "id": "0QO-5Oi7MlC5",
        "colab_type": "code",
        "colab": {}
      },
      "source": [
        "cross_entropy = tf.reduce_mean(-tf.reduce_sum(y*tf.log(yhat),reduction_indices=[1]))"
      ],
      "execution_count": 0,
      "outputs": []
    },
    {
      "cell_type": "code",
      "metadata": {
        "id": "oy2uuNSLMvzo",
        "colab_type": "code",
        "colab": {
          "base_uri": "https://localhost:8080/",
          "height": 88
        },
        "outputId": "fda177d0-5166-423e-beba-2b1da9a9fd53"
      },
      "source": [
        "optimizer = tf.train.GradientDescentOptimizer(learning_rate=learning_rate).minimize(cross_entropy)"
      ],
      "execution_count": 15,
      "outputs": [
        {
          "output_type": "stream",
          "text": [
            "WARNING:tensorflow:From /usr/local/lib/python3.6/dist-packages/tensorflow/python/ops/math_ops.py:3066: to_int32 (from tensorflow.python.ops.math_ops) is deprecated and will be removed in a future version.\n",
            "Instructions for updating:\n",
            "Use tf.cast instead.\n"
          ],
          "name": "stdout"
        }
      ]
    },
    {
      "cell_type": "code",
      "metadata": {
        "id": "_6MsoBJxM6Of",
        "colab_type": "code",
        "colab": {}
      },
      "source": [
        "correct_prediction = tf.equal(tf.argmax(y,1),tf.argmax(yhat,1))\n",
        "accuracy = tf.reduce_mean(tf.cast(correct_prediction,tf.float32))"
      ],
      "execution_count": 0,
      "outputs": []
    },
    {
      "cell_type": "code",
      "metadata": {
        "id": "0u4K5QKTNHB3",
        "colab_type": "code",
        "colab": {}
      },
      "source": [
        "init_op = tf.global_variables_initializer()"
      ],
      "execution_count": 0,
      "outputs": []
    },
    {
      "cell_type": "code",
      "metadata": {
        "id": "oqe8oePHNLZm",
        "colab_type": "code",
        "colab": {
          "base_uri": "https://localhost:8080/",
          "height": 204
        },
        "outputId": "f52a9326-9a20-4adc-f8c0-cd2d652efeb2"
      },
      "source": [
        "with tf.Session() as sess: \n",
        "  sess.run(init_op)\n",
        "  total_batch = int(len(mnist.train.labels)/batch_size)\n",
        "  for epoch in range(epochs):\n",
        "    avg_cost = 0 \n",
        "    for i in range(total_batch):\n",
        "      batch_x,batch_y = mnist.train.next_batch(batch_size=batch_size)\n",
        "      _, c = sess.run([optimizer,cross_entropy],feed_dict={x:batch_x,y:batch_y})\n",
        "      avg_cost += c / total_batch\n",
        "    print(\"Epoch:\",(epoch+1),\"cost = \"\"{:.3f}\".format(avg_cost))\n",
        "  print(sess.run(accuracy,feed_dict={x:mnist.test.images,y:mnist.test.labels}))"
      ],
      "execution_count": 19,
      "outputs": [
        {
          "output_type": "stream",
          "text": [
            "Epoch: 1 cost = 0.546\n",
            "Epoch: 2 cost = 0.294\n",
            "Epoch: 3 cost = 0.238\n",
            "Epoch: 4 cost = 0.198\n",
            "Epoch: 5 cost = 0.167\n",
            "Epoch: 6 cost = 0.144\n",
            "Epoch: 7 cost = 0.126\n",
            "Epoch: 8 cost = 0.112\n",
            "Epoch: 9 cost = 0.101\n",
            "Epoch: 10 cost = 0.091\n",
            "0.9689\n"
          ],
          "name": "stdout"
        }
      ]
    },
    {
      "cell_type": "code",
      "metadata": {
        "id": "Ij5beI25N-Gb",
        "colab_type": "code",
        "colab": {}
      },
      "source": [
        ""
      ],
      "execution_count": 0,
      "outputs": []
    }
  ]
}