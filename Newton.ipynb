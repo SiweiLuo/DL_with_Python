{
  "nbformat": 4,
  "nbformat_minor": 0,
  "metadata": {
    "colab": {
      "name": "Newton.ipynb",
      "version": "0.3.2",
      "provenance": [],
      "include_colab_link": true
    },
    "kernelspec": {
      "name": "python3",
      "display_name": "Python 3"
    }
  },
  "cells": [
    {
      "cell_type": "markdown",
      "metadata": {
        "id": "view-in-github",
        "colab_type": "text"
      },
      "source": [
        "<a href=\"https://colab.research.google.com/github/SiweiLuo/DL_with_Python/blob/master/Newton.ipynb\" target=\"_parent\"><img src=\"https://colab.research.google.com/assets/colab-badge.svg\" alt=\"Open In Colab\"/></a>"
      ]
    },
    {
      "metadata": {
        "id": "OK-rf89OaRAZ",
        "colab_type": "code",
        "colab": {}
      },
      "cell_type": "code",
      "source": [
        "import numpy as np \n",
        "import matplotlib.pyplot as plt\n",
        "\n",
        "from keras.layers import Activation\n",
        "from keras import backend as K\n",
        "from keras.utils.generic_utils import get_custom_objects\n",
        "from keras import layers\n",
        "from keras import models\n",
        "from keras.layers import Input, Dense\n",
        "from keras.models import Model \n",
        "from keras.layers.merge import concatenate\n",
        "\n",
        "from keras.layers import Dense\n",
        "from keras.models import Sequential\n",
        "from keras.layers import Activation\n",
        "import tensorflow as tf"
      ],
      "execution_count": 0,
      "outputs": []
    },
    {
      "metadata": {
        "id": "f0xoAq1fa875",
        "colab_type": "code",
        "colab": {}
      },
      "cell_type": "code",
      "source": [
        "x = np.random.random(10000)\n",
        "off = np.random.random(10000)*0.1\n",
        "y = 0.5*x*x + 0.05"
      ],
      "execution_count": 0,
      "outputs": []
    },
    {
      "metadata": {
        "id": "p-05ZZlNdTmb",
        "colab_type": "code",
        "colab": {}
      },
      "cell_type": "code",
      "source": [
        "xx = np.linspace(0, 1, 1000)\n",
        "\n",
        "def f(xx):\n",
        "    return 0.5*xx*xx +0.05 \n"
      ],
      "execution_count": 0,
      "outputs": []
    },
    {
      "metadata": {
        "id": "Ww8N5sqFb-63",
        "colab_type": "code",
        "outputId": "d0c7c6ce-6b9f-49ac-e746-08765a5dfd7a",
        "colab": {
          "base_uri": "https://localhost:8080/",
          "height": 364
        }
      },
      "cell_type": "code",
      "source": [
        "plt.plot(x,y,'bo')\n",
        "plt.plot(xx,f(xx),'r')"
      ],
      "execution_count": 0,
      "outputs": [
        {
          "output_type": "execute_result",
          "data": {
            "text/plain": [
              "[<matplotlib.lines.Line2D at 0x7f36ac1b3ac8>]"
            ]
          },
          "metadata": {
            "tags": []
          },
          "execution_count": 377
        },
        {
          "output_type": "display_data",
          "data": {
            "image/png": "[encoded data removed]",
            "text/plain": [
              "<Figure size 576x396 with 1 Axes>"
            ]
          },
          "metadata": {
            "tags": []
          }
        }
      ]
    },
    {
      "metadata": {
        "id": "fW41I9sZgD8m",
        "colab_type": "text"
      },
      "cell_type": "markdown",
      "source": [
        "custom activation function "
      ]
    },
    {
      "metadata": {
        "id": "mNNzfo8DcaW3",
        "colab_type": "code",
        "colab": {}
      },
      "cell_type": "code",
      "source": [
        "\n",
        "#def custom_activation(x):\n",
        "#    return "
      ],
      "execution_count": 0,
      "outputs": []
    },
    {
      "metadata": {
        "id": "cywrtwEVgXwO",
        "colab_type": "code",
        "colab": {}
      },
      "cell_type": "code",
      "source": [
        "#get_custom_objects().update({'custom_activation': Activation(custom_activation)})\n",
        "#model.add(Activation(custom_activation))"
      ],
      "execution_count": 0,
      "outputs": []
    },
    {
      "metadata": {
        "id": "hosWfP2AhsBe",
        "colab_type": "code",
        "colab": {}
      },
      "cell_type": "code",
      "source": [
        "#model = models.Sequential()\n",
        "#model.add(layers.Dense(10,activation='sigmoid',input_shape=(1,)))\n",
        "#model.add(layers.Dense(10,activation='sigmoid'))\n",
        "#model.add(layers.Dense(10,activation='sigmoid'))\n",
        "#model.add(layers.Dense(1,activation='sigmoid'))"
      ],
      "execution_count": 0,
      "outputs": []
    },
    {
      "metadata": {
        "id": "6ecHG_Qx-bwB",
        "colab_type": "code",
        "colab": {}
      },
      "cell_type": "code",
      "source": [
        "def custom_activation(x):\n",
        "  return x\n",
        "\n",
        "get_custom_objects().update({'custom_activation': Activation(custom_activation)})\n",
        "  \n",
        "def th0(x):\n",
        "  return 1./x\n",
        "\n",
        "def th1(x):\n",
        "  return x\n",
        "\n",
        "def th2(x):\n",
        "  return x*x\n",
        "\n",
        "def th3(x):\n",
        "  return x*x*x"
      ],
      "execution_count": 0,
      "outputs": []
    },
    {
      "metadata": {
        "id": "6IGSlGhT1Lxk",
        "colab_type": "code",
        "colab": {}
      },
      "cell_type": "code",
      "source": [
        "#model = models.Sequential()\n",
        "#model.add(layers.Dense(3,input_shape=(1,)))\n",
        "#model.add(layers.Dense(1,activation=Activation(custom_activation),input_shape=(1,)))\n",
        "#model.add(layers.Dense(1,activation = Activation(th1),input_shape=(1,)))\n",
        "#model.add(Activation(th2))\n",
        "#model.add(Activation(th3))\n",
        "\n",
        "#model.add(layers.Dense(1))\n"
      ],
      "execution_count": 0,
      "outputs": []
    },
    {
      "metadata": {
        "id": "VXS6rlnJ-amh",
        "colab_type": "code",
        "colab": {}
      },
      "cell_type": "code",
      "source": [
        "x_input = Input(shape=(1,))\n",
        "\n",
        "hidden1 = Dense(1,activation=Activation(th1))(x_input)\n",
        "hidden2 = Dense(1,activation=Activation(th2))(x_input)\n",
        "hidden3 = Dense(1,activation=Activation(th3))(x_input)\n",
        "\n",
        "merge1 = concatenate([hidden1,hidden2,hidden3])\n",
        "\n",
        "added = layers.Add()([hidden1, hidden2,hidden3])\n",
        "\n",
        "#merge2 = Dense(1)(merge1)\n",
        "\n",
        "model = Model(inputs=x_input,outputs=added)"
      ],
      "execution_count": 0,
      "outputs": []
    },
    {
      "metadata": {
        "id": "RIJ5QjhgAebH",
        "colab_type": "code",
        "colab": {}
      },
      "cell_type": "code",
      "source": [
        "model.summary()"
      ],
      "execution_count": 0,
      "outputs": []
    },
    {
      "metadata": {
        "id": "RslyRP3a2icx",
        "colab_type": "code",
        "colab": {}
      },
      "cell_type": "code",
      "source": [
        "def parameter_diff(x):\n",
        "    return x \n",
        "   "
      ],
      "execution_count": 0,
      "outputs": []
    },
    {
      "metadata": {
        "id": "TDofXSgY1Mpi",
        "colab_type": "code",
        "colab": {}
      },
      "cell_type": "code",
      "source": [
        "model.compile(optimizer='RMSprop',loss='MSE',metrics=['acc'])"
      ],
      "execution_count": 0,
      "outputs": []
    },
    {
      "metadata": {
        "id": "doZUTfhciINq",
        "colab_type": "code",
        "colab": {}
      },
      "cell_type": "code",
      "source": [
        "model.fit(x,y,epochs=160,batch_size=128)"
      ],
      "execution_count": 0,
      "outputs": []
    },
    {
      "metadata": {
        "id": "6-8T1Q2lmo67",
        "colab_type": "code",
        "colab": {}
      },
      "cell_type": "code",
      "source": [
        "def to_one_hot(labels,dimension=1):\n",
        "  results = np.zeros((len(labels),dimension))\n",
        "  for i, label in enumerate(labels):\n",
        "    results[i, label] = 1.\n",
        "  return results\n",
        "\n",
        "\n",
        "def vectorize_sequences(sequences,dimension=1000):\n",
        "  results = np.zeros((len(sequences),dimension))\n",
        "  for i, sequence in enumerate(sequences):\n",
        "    results[i, sequence] = 1.\n",
        "  return results"
      ],
      "execution_count": 0,
      "outputs": []
    },
    {
      "metadata": {
        "id": "cwr0JspLlQaO",
        "colab_type": "code",
        "colab": {}
      },
      "cell_type": "code",
      "source": [
        "x_test = np.random.random(10)"
      ],
      "execution_count": 0,
      "outputs": []
    },
    {
      "metadata": {
        "id": "qoFDu0T3BEvV",
        "colab_type": "code",
        "colab": {}
      },
      "cell_type": "code",
      "source": [
        "xT = x_test"
      ],
      "execution_count": 0,
      "outputs": []
    },
    {
      "metadata": {
        "id": "zYtynNreT1V_",
        "colab_type": "code",
        "outputId": "78aaf7f2-b4b1-4110-e7d4-bdad2483ffd8",
        "colab": {
          "base_uri": "https://localhost:8080/",
          "height": 51
        }
      },
      "cell_type": "code",
      "source": [
        "xT.reshape(10,1)\n",
        "xT.transpose()"
      ],
      "execution_count": 0,
      "outputs": [
        {
          "output_type": "execute_result",
          "data": {
            "text/plain": [
              "array([0.30700816, 0.52301239, 0.42293207, 0.45680364, 0.48761507,\n",
              "       0.76982162, 0.97601353, 0.25885172, 0.84520666, 0.43154706])"
            ]
          },
          "metadata": {
            "tags": []
          },
          "execution_count": 393
        }
      ]
    },
    {
      "metadata": {
        "id": "GPL8kMmHldPG",
        "colab_type": "code",
        "outputId": "236251ca-003f-40a6-cf0a-7521c17ac1be",
        "colab": {
          "base_uri": "https://localhost:8080/",
          "height": 187
        }
      },
      "cell_type": "code",
      "source": [
        "model.predict(x_test)"
      ],
      "execution_count": 0,
      "outputs": [
        {
          "output_type": "execute_result",
          "data": {
            "text/plain": [
              "array([[0.09466304],\n",
              "       [0.1869681 ],\n",
              "       [0.13802227],\n",
              "       [0.15343212],\n",
              "       [0.1684849 ],\n",
              "       [0.3486939 ],\n",
              "       [0.5225911 ],\n",
              "       [0.08110001],\n",
              "       [0.40854388],\n",
              "       [0.14182718]], dtype=float32)"
            ]
          },
          "metadata": {
            "tags": []
          },
          "execution_count": 394
        }
      ]
    },
    {
      "metadata": {
        "id": "zM4tM0ECl5bP",
        "colab_type": "code",
        "outputId": "6c8f2bda-8524-4c22-9530-25e4dd9f02f7",
        "colab": {
          "base_uri": "https://localhost:8080/",
          "height": 224
        }
      },
      "cell_type": "code",
      "source": [
        "print('model.layers = ',model.layers)\n",
        "\n",
        "for layer in model.layers:\n",
        "    print('layer = ',layer)\n",
        "    parameters = layer.get_weights()\n",
        "    if(parameters!=None):\n",
        "      print('parameters = ',parameters)\n",
        "\n",
        "#print('parameters = ',parameters)\n",
        "#print('model.layers = ',model.layers)\n",
        "    "
      ],
      "execution_count": 0,
      "outputs": [
        {
          "output_type": "stream",
          "text": [
            "model.layers =  [<keras.engine.input_layer.InputLayer object at 0x7f36ac1785c0>, <keras.layers.core.Dense object at 0x7f36ac178e80>, <keras.layers.core.Dense object at 0x7f36ac165908>, <keras.layers.core.Dense object at 0x7f36ac1b3588>, <keras.layers.merge.Add object at 0x7f36ac12a3c8>]\n",
            "layer =  <keras.engine.input_layer.InputLayer object at 0x7f36ac1785c0>\n",
            "parameters =  []\n",
            "layer =  <keras.layers.core.Dense object at 0x7f36ac178e80>\n",
            "parameters =  [array([[-0.6507303]], dtype=float32), array([-0.05939362], dtype=float32)]\n",
            "layer =  <keras.layers.core.Dense object at 0x7f36ac165908>\n",
            "parameters =  [array([[0.8606455]], dtype=float32), array([0.3419455], dtype=float32)]\n",
            "layer =  <keras.layers.core.Dense object at 0x7f36ac1b3588>\n",
            "parameters =  [array([[-0.486952]], dtype=float32), array([-0.08923765], dtype=float32)]\n",
            "layer =  <keras.layers.merge.Add object at 0x7f36ac12a3c8>\n",
            "parameters =  []\n"
          ],
          "name": "stdout"
        }
      ]
    },
    {
      "metadata": {
        "id": "rynkf4950rzw",
        "colab_type": "code",
        "colab": {}
      },
      "cell_type": "code",
      "source": [
        "newton = models.Sequential()\n",
        "\n",
        "newton.add(layers.Dense(10,activation='relu',input_shape=(10,)))\n",
        "newton.add(layers.Dense(10,activation='relu'))\n",
        "newton.add(layers.Dense(10,activation='relu'))\n",
        "\n"
      ],
      "execution_count": 0,
      "outputs": []
    },
    {
      "metadata": {
        "id": "EaBAbGNJ9akk",
        "colab_type": "code",
        "colab": {}
      },
      "cell_type": "code",
      "source": [
        "newton.compile(optimizer='rmsprop',loss='mse',metrics=['acc'])"
      ],
      "execution_count": 0,
      "outputs": []
    },
    {
      "metadata": {
        "id": "IqLtSVd5Ne88",
        "colab_type": "code",
        "colab": {}
      },
      "cell_type": "code",
      "source": [
        "newton.fit(parameter_t,parameter_m,epochs=20,batch_size=32)"
      ],
      "execution_count": 0,
      "outputs": []
    }
  ]
}