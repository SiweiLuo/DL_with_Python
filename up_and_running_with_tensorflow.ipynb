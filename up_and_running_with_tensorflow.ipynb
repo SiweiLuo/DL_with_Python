{
  "nbformat": 4,
  "nbformat_minor": 0,
  "metadata": {
    "colab": {
      "name": "up_and_running_with_tensorflow.ipynb",
      "version": "0.3.2",
      "provenance": [],
      "include_colab_link": true
    },
    "kernelspec": {
      "name": "python3",
      "display_name": "Python 3"
    }
  },
  "cells": [
    {
      "cell_type": "markdown",
      "metadata": {
        "id": "view-in-github",
        "colab_type": "text"
      },
      "source": [
        "<a href=\"https://colab.research.google.com/github/SiweiLuo/DL_with_Python/blob/master/up_and_running_with_tensorflow.ipynb\" target=\"_parent\"><img src=\"https://colab.research.google.com/assets/colab-badge.svg\" alt=\"Open In Colab\"/></a>"
      ]
    },
    {
      "cell_type": "code",
      "metadata": {
        "id": "SL-F8qxPvpPw",
        "colab_type": "code",
        "colab": {}
      },
      "source": [
        "import numpy as np \n",
        "import os \n",
        "\n",
        "def reset_graph(seed=42):\n",
        "  tf.reset_default_graph()\n",
        "  tf.set_random_seed(seed)\n",
        "  np.random.seed(seed)\n",
        "  \n",
        "%matplotlib inline \n",
        "  \n",
        "import matplotlib\n",
        "import matplotlib.pyplot as plt \n",
        "plt.rcParams['axes.labelsize'] = 14\n",
        "plt.rcParams['xtick.labelsize'] = 12\n",
        "plt.rcParams['ytick.labelsize'] = 12\n",
        "\n",
        "def save_fig(fig_id,tight_layout=True):\n",
        "  path = os.path.join(fig_id+\".png\")\n",
        "  print(\"Saving figure\", fig_id)\n",
        "  if tight_layout:\n",
        "      plt.tight_layout()\n",
        "  plt.savefig(path, format='png', dpi=300)\n"
      ],
      "execution_count": 0,
      "outputs": []
    },
    {
      "cell_type": "code",
      "metadata": {
        "id": "noLcynOFwM72",
        "colab_type": "code",
        "colab": {
          "base_uri": "https://localhost:8080/",
          "height": 88
        },
        "outputId": "b4756fd8-1b57-413e-b0cb-6f618c19ac6d"
      },
      "source": [
        "import tensorflow as tf \n",
        "\n",
        "reset_graph() \n",
        "\n",
        "x = tf.Variable(3,name=\"x\")\n",
        "y = tf.Variable(4,name=\"y\")\n",
        "\n",
        "f = x*x*y + y + 2 "
      ],
      "execution_count": 3,
      "outputs": [
        {
          "output_type": "stream",
          "text": [
            "WARNING:tensorflow:From /usr/local/lib/python3.6/dist-packages/tensorflow/python/framework/op_def_library.py:263: colocate_with (from tensorflow.python.framework.ops) is deprecated and will be removed in a future version.\n",
            "Instructions for updating:\n",
            "Colocations handled automatically by placer.\n"
          ],
          "name": "stdout"
        }
      ]
    },
    {
      "cell_type": "code",
      "metadata": {
        "id": "q67Ixd1swdAj",
        "colab_type": "code",
        "colab": {
          "base_uri": "https://localhost:8080/",
          "height": 34
        },
        "outputId": "df3b757f-637a-4c43-bd6a-e38622dfe504"
      },
      "source": [
        "sess = tf.Session()\n",
        "sess.run(x.initializer)\n",
        "sess.run(y.initializer)\n",
        "result = sess.run(f)\n",
        "print(result) \n"
      ],
      "execution_count": 4,
      "outputs": [
        {
          "output_type": "stream",
          "text": [
            "42\n"
          ],
          "name": "stdout"
        }
      ]
    },
    {
      "cell_type": "code",
      "metadata": {
        "id": "MwIA782Kwm0J",
        "colab_type": "code",
        "colab": {}
      },
      "source": [
        "sess.close()"
      ],
      "execution_count": 0,
      "outputs": []
    },
    {
      "cell_type": "code",
      "metadata": {
        "id": "amBB1Fg8woCh",
        "colab_type": "code",
        "colab": {}
      },
      "source": [
        "with tf.Session() as sess:\n",
        "  x.initializer.run()\n",
        "  y.initializer.run()\n",
        "  results = f.eval()"
      ],
      "execution_count": 0,
      "outputs": []
    },
    {
      "cell_type": "code",
      "metadata": {
        "id": "f-WNO0E9wurq",
        "colab_type": "code",
        "colab": {
          "base_uri": "https://localhost:8080/",
          "height": 34
        },
        "outputId": "7a649a51-54c8-479c-c87d-6ba0763a6b52"
      },
      "source": [
        "result"
      ],
      "execution_count": 7,
      "outputs": [
        {
          "output_type": "execute_result",
          "data": {
            "text/plain": [
              "42"
            ]
          },
          "metadata": {
            "tags": []
          },
          "execution_count": 7
        }
      ]
    },
    {
      "cell_type": "code",
      "metadata": {
        "id": "N7MDBYLbwvZo",
        "colab_type": "code",
        "colab": {}
      },
      "source": [
        "init = tf.global_variables_initializer() \n",
        "\n",
        "with tf.Session() as sess: \n",
        "  init.run()\n",
        "  result = f.eval() "
      ],
      "execution_count": 0,
      "outputs": []
    },
    {
      "cell_type": "code",
      "metadata": {
        "id": "5TwlH419w3v_",
        "colab_type": "code",
        "colab": {
          "base_uri": "https://localhost:8080/",
          "height": 34
        },
        "outputId": "d6320aa4-bedc-485f-85e0-9348539e1914"
      },
      "source": [
        "result"
      ],
      "execution_count": 9,
      "outputs": [
        {
          "output_type": "execute_result",
          "data": {
            "text/plain": [
              "42"
            ]
          },
          "metadata": {
            "tags": []
          },
          "execution_count": 9
        }
      ]
    },
    {
      "cell_type": "code",
      "metadata": {
        "id": "Ppqmn5JPw4QX",
        "colab_type": "code",
        "colab": {}
      },
      "source": [
        "init = tf.global_variables_initializer()\n"
      ],
      "execution_count": 0,
      "outputs": []
    },
    {
      "cell_type": "code",
      "metadata": {
        "id": "ThZRoPUyw8Mn",
        "colab_type": "code",
        "colab": {
          "base_uri": "https://localhost:8080/",
          "height": 34
        },
        "outputId": "684d6609-9e6d-4c3a-894d-7067273b1321"
      },
      "source": [
        "sess = tf.InteractiveSession()\n",
        "init.run() \n",
        "result = f.eval()\n",
        "print(result)"
      ],
      "execution_count": 11,
      "outputs": [
        {
          "output_type": "stream",
          "text": [
            "42\n"
          ],
          "name": "stdout"
        }
      ]
    },
    {
      "cell_type": "code",
      "metadata": {
        "id": "LER-Wg8gxCj1",
        "colab_type": "code",
        "colab": {}
      },
      "source": [
        "sess.close()\n"
      ],
      "execution_count": 0,
      "outputs": []
    },
    {
      "cell_type": "code",
      "metadata": {
        "id": "JRk71POzxET-",
        "colab_type": "code",
        "colab": {
          "base_uri": "https://localhost:8080/",
          "height": 34
        },
        "outputId": "e10d6db5-d7e2-41ab-cb1d-e21d23023daf"
      },
      "source": [
        "result"
      ],
      "execution_count": 13,
      "outputs": [
        {
          "output_type": "execute_result",
          "data": {
            "text/plain": [
              "42"
            ]
          },
          "metadata": {
            "tags": []
          },
          "execution_count": 13
        }
      ]
    },
    {
      "cell_type": "code",
      "metadata": {
        "id": "5yW_6AMfxEqP",
        "colab_type": "code",
        "colab": {
          "base_uri": "https://localhost:8080/",
          "height": 34
        },
        "outputId": "51f6fc30-bb1d-4a3a-ef2c-00b27a5f2424"
      },
      "source": [
        "reset_graph()\n",
        "x1 = tf.Variable(1)\n",
        "x1.graph is tf.get_default_graph()"
      ],
      "execution_count": 15,
      "outputs": [
        {
          "output_type": "execute_result",
          "data": {
            "text/plain": [
              "True"
            ]
          },
          "metadata": {
            "tags": []
          },
          "execution_count": 15
        }
      ]
    },
    {
      "cell_type": "code",
      "metadata": {
        "id": "PlDV4WX7xKCd",
        "colab_type": "code",
        "colab": {
          "base_uri": "https://localhost:8080/",
          "height": 34
        },
        "outputId": "acf7236f-7c5d-403f-d6a7-62a5a7d46eda"
      },
      "source": [
        "graph = tf.Graph()\n",
        "with graph.as_default():\n",
        "  x2 = tf.Variable(2)\n",
        "  \n",
        "x2.graph is graph "
      ],
      "execution_count": 16,
      "outputs": [
        {
          "output_type": "execute_result",
          "data": {
            "text/plain": [
              "True"
            ]
          },
          "metadata": {
            "tags": []
          },
          "execution_count": 16
        }
      ]
    },
    {
      "cell_type": "code",
      "metadata": {
        "id": "atwY5Y0qxUyD",
        "colab_type": "code",
        "colab": {
          "base_uri": "https://localhost:8080/",
          "height": 34
        },
        "outputId": "44a7ffc4-d462-43d8-a68f-e075dd8b4e9e"
      },
      "source": [
        "x2.graph is tf.get_default_graph()"
      ],
      "execution_count": 17,
      "outputs": [
        {
          "output_type": "execute_result",
          "data": {
            "text/plain": [
              "False"
            ]
          },
          "metadata": {
            "tags": []
          },
          "execution_count": 17
        }
      ]
    },
    {
      "cell_type": "code",
      "metadata": {
        "id": "zLfYvszJxXSS",
        "colab_type": "code",
        "colab": {
          "base_uri": "https://localhost:8080/",
          "height": 51
        },
        "outputId": "7731c4a0-edd7-4d54-c1ae-ef5c7566fc40"
      },
      "source": [
        "w = tf.constant(3)\n",
        "x = w+2\n",
        "y = x+5\n",
        "z = x*3 \n",
        "\n",
        "with tf.Session() as sess:\n",
        "  print(y.eval()) \n",
        "  print(z.eval())"
      ],
      "execution_count": 18,
      "outputs": [
        {
          "output_type": "stream",
          "text": [
            "10\n",
            "15\n"
          ],
          "name": "stdout"
        }
      ]
    },
    {
      "cell_type": "code",
      "metadata": {
        "id": "SpwtjKs-xhPb",
        "colab_type": "code",
        "colab": {
          "base_uri": "https://localhost:8080/",
          "height": 51
        },
        "outputId": "61fc55e8-a687-4ee0-9b85-a7aab0eb04cb"
      },
      "source": [
        "with tf.Session() as sess:\n",
        "  y_val, z_val = sess.run([y,z]) \n",
        "  print(y_val)\n",
        "  print(z_val)"
      ],
      "execution_count": 19,
      "outputs": [
        {
          "output_type": "stream",
          "text": [
            "10\n",
            "15\n"
          ],
          "name": "stdout"
        }
      ]
    },
    {
      "cell_type": "code",
      "metadata": {
        "id": "BCTXbrTBxouJ",
        "colab_type": "code",
        "colab": {
          "base_uri": "https://localhost:8080/",
          "height": 54
        },
        "outputId": "f088a4d0-a7a7-4256-a9d0-5e96583aae7a"
      },
      "source": [
        "import numpy as np \n",
        "from sklearn.datasets import fetch_california_housing \n",
        "\n",
        "reset_graph()\n",
        "\n",
        "housing = fetch_california_housing()\n",
        "m,n = housing.data.shape\n",
        "housing_data_plus_bias = np.c_[np.ones((m,1)),housing.data]\n",
        "\n",
        "x = tf.constant(housing_data_plus_bias,dtype=tf.float32,name=\"x\")\n",
        "y = tf.constant(housing.target.reshape(-1,1),dtype=tf.float32,name=\"y\")\n",
        "xt = tf.transpose(x)\n",
        "theta = tf.matmul(tf.matmul(tf.matrix_inverse(tf.matmul(xt,x)),xt),y)\n",
        "\n",
        "with tf.Session() as sess:\n",
        "  theta_value = theta.eval()"
      ],
      "execution_count": 20,
      "outputs": [
        {
          "output_type": "stream",
          "text": [
            "Downloading Cal. housing from https://ndownloader.figshare.com/files/5976036 to /root/scikit_learn_data\n"
          ],
          "name": "stderr"
        }
      ]
    },
    {
      "cell_type": "code",
      "metadata": {
        "id": "btRzL7yYyOgC",
        "colab_type": "code",
        "colab": {
          "base_uri": "https://localhost:8080/",
          "height": 170
        },
        "outputId": "52a3484f-4e2a-4fd2-a63f-d3df30c84bb6"
      },
      "source": [
        "theta_value"
      ],
      "execution_count": 21,
      "outputs": [
        {
          "output_type": "execute_result",
          "data": {
            "text/plain": [
              "array([[-3.71037292e+01],\n",
              "       [ 4.36282694e-01],\n",
              "       [ 9.40542948e-03],\n",
              "       [-1.06901854e-01],\n",
              "       [ 6.43611908e-01],\n",
              "       [-4.06625077e-06],\n",
              "       [-3.78273334e-03],\n",
              "       [-4.23094332e-01],\n",
              "       [-4.36462164e-01]], dtype=float32)"
            ]
          },
          "metadata": {
            "tags": []
          },
          "execution_count": 21
        }
      ]
    },
    {
      "cell_type": "code",
      "metadata": {
        "id": "Qsfxnl-6yQjD",
        "colab_type": "code",
        "colab": {
          "base_uri": "https://localhost:8080/",
          "height": 170
        },
        "outputId": "14cf361f-1024-450a-dd58-5d3565ac2e5c"
      },
      "source": [
        "x = housing_data_plus_bias\n",
        "y = housing.target.reshape(-1,1)\n",
        "theta_numpy = np.linalg.inv(x.T.dot(x)).dot(x.T).dot(y)\n",
        "\n",
        "print(theta_numpy)\n"
      ],
      "execution_count": 23,
      "outputs": [
        {
          "output_type": "stream",
          "text": [
            "[[-3.69419202e+01]\n",
            " [ 4.36693293e-01]\n",
            " [ 9.43577803e-03]\n",
            " [-1.07322041e-01]\n",
            " [ 6.45065694e-01]\n",
            " [-3.97638942e-06]\n",
            " [-3.78654265e-03]\n",
            " [-4.21314378e-01]\n",
            " [-4.34513755e-01]]\n"
          ],
          "name": "stdout"
        }
      ]
    },
    {
      "cell_type": "code",
      "metadata": {
        "id": "GIo1n-3Ky3dt",
        "colab_type": "code",
        "colab": {
          "base_uri": "https://localhost:8080/",
          "height": 170
        },
        "outputId": "c98da15c-33db-4ce4-c734-4aae6c6dc7eb"
      },
      "source": [
        "from sklearn.linear_model import LinearRegression\n",
        "\n",
        "lin_reg = LinearRegression()\n",
        "lin_reg.fit(housing.data,housing.target.reshape(-1,1))\n",
        "\n",
        "print(np.r_[lin_reg.intercept_.reshape(-1,1),lin_reg.coef_.T])"
      ],
      "execution_count": 24,
      "outputs": [
        {
          "output_type": "stream",
          "text": [
            "[[-3.69419202e+01]\n",
            " [ 4.36693293e-01]\n",
            " [ 9.43577803e-03]\n",
            " [-1.07322041e-01]\n",
            " [ 6.45065694e-01]\n",
            " [-3.97638942e-06]\n",
            " [-3.78654265e-03]\n",
            " [-4.21314378e-01]\n",
            " [-4.34513755e-01]]\n"
          ],
          "name": "stdout"
        }
      ]
    },
    {
      "cell_type": "code",
      "metadata": {
        "id": "zgiyXOyv2pj6",
        "colab_type": "code",
        "colab": {}
      },
      "source": [
        "from sklearn.preprocessing import StandardScaler\n",
        "\n",
        "scaler = StandardScaler()\n",
        "scaled_housing_data = scaler.fit_transform(housing.data)\n",
        "scaled_housing_data_plus_bias = np.c_[np.ones((m,1)),scaled_housing_data]"
      ],
      "execution_count": 0,
      "outputs": []
    },
    {
      "cell_type": "code",
      "metadata": {
        "id": "eNdilFs225h5",
        "colab_type": "code",
        "colab": {
          "base_uri": "https://localhost:8080/",
          "height": 187
        },
        "outputId": "8c00cb3f-34b2-4dd4-fda0-00952ce33659"
      },
      "source": [
        "reset_graph()\n",
        "\n",
        "n_epochs = 1000\n",
        "learning_rate = 0.01 \n",
        "\n",
        "x = tf.constant(scaled_housing_data_plus_bias,dtype=tf.float32,name=\"x\")\n",
        "y = tf.constant(housing.target.reshape(-1, 1),dtype=tf.float32,name=\"y\")\n",
        "theta = tf.Variable(tf.random_uniform([n+1,1],-1.0,1.0,seed=42),name=\"theta\")\n",
        "\n",
        "y_pred = tf.matmul(x,theta,name=\"predictions\")\n",
        "error = y_pred-y\n",
        "mse = tf.reduce_mean(tf.square(error),name=\"mse\")\n",
        "gradients = 2/m * tf.matmul(tf.transpose(x),error)\n",
        "training_op = tf.assign(theta,theta-learning_rate*gradients)\n",
        "\n",
        "init = tf.global_variables_initializer()\n",
        "\n",
        "with tf.Session() as sess: \n",
        "  sess.run(init)\n",
        "  \n",
        "  for epoch in range(n_epochs):\n",
        "    if epoch % 100 ==0: \n",
        "      print(\"Epoch\",epoch, \"MSE = \",mse.eval())\n",
        "      \n",
        "    sess.run(training_op)\n",
        "    \n",
        "  best_theta = theta.eval()"
      ],
      "execution_count": 28,
      "outputs": [
        {
          "output_type": "stream",
          "text": [
            "Epoch 0 MSE =  9.161542\n",
            "Epoch 100 MSE =  0.71450055\n",
            "Epoch 200 MSE =  0.56670487\n",
            "Epoch 300 MSE =  0.55557173\n",
            "Epoch 400 MSE =  0.5488112\n",
            "Epoch 500 MSE =  0.5436363\n",
            "Epoch 600 MSE =  0.53962904\n",
            "Epoch 700 MSE =  0.5365092\n",
            "Epoch 800 MSE =  0.5340677\n",
            "Epoch 900 MSE =  0.5321473\n"
          ],
          "name": "stdout"
        }
      ]
    },
    {
      "cell_type": "code",
      "metadata": {
        "id": "5O5UoAkV4ATu",
        "colab_type": "code",
        "colab": {
          "base_uri": "https://localhost:8080/",
          "height": 170
        },
        "outputId": "ceab0168-7dd6-4781-e3fc-8e6a32051844"
      },
      "source": [
        "best_theta"
      ],
      "execution_count": 29,
      "outputs": [
        {
          "output_type": "execute_result",
          "data": {
            "text/plain": [
              "array([[ 2.0685523 ],\n",
              "       [ 0.8874027 ],\n",
              "       [ 0.14401656],\n",
              "       [-0.3477088 ],\n",
              "       [ 0.36178362],\n",
              "       [ 0.00393811],\n",
              "       [-0.04269556],\n",
              "       [-0.66145283],\n",
              "       [-0.6375278 ]], dtype=float32)"
            ]
          },
          "metadata": {
            "tags": []
          },
          "execution_count": 29
        }
      ]
    },
    {
      "cell_type": "code",
      "metadata": {
        "id": "bJMm9KeJ4_IL",
        "colab_type": "code",
        "colab": {}
      },
      "source": [
        "reset_graph()\n",
        "\n",
        "n_epochs = 1000 \n",
        "\n",
        "learning_rate = 0.01 \n",
        "\n",
        "\n",
        "x = tf.constant(scaled_housing_data_plus_bias,dtype=tf.float32,name=\"x\")\n",
        "y = tf.constant(housing.target.reshape(-1,1),dtype=tf.float32,name=\"y\")\n",
        "theta = tf.Variable(tf.random_uniform([n+1,1],-1.0,1.0,seed=42),name=\"theta\")\n",
        "y_pred = tf.matmul(x,theta,name=\"predictions\")\n",
        "error = y_pred - y \n",
        "mse = tf.reduce_mean(tf.square(error),name=\"mse\")"
      ],
      "execution_count": 0,
      "outputs": []
    },
    {
      "cell_type": "code",
      "metadata": {
        "id": "hTnsVfdj5giB",
        "colab_type": "code",
        "colab": {}
      },
      "source": [
        "gradients = tf.gradients(mse,[theta])[0]"
      ],
      "execution_count": 0,
      "outputs": []
    },
    {
      "cell_type": "code",
      "metadata": {
        "id": "YaNiMVn45kU4",
        "colab_type": "code",
        "colab": {
          "base_uri": "https://localhost:8080/",
          "height": 340
        },
        "outputId": "db23c9dc-7824-40a3-c735-e40fdf2f5a32"
      },
      "source": [
        "training_op = tf.assign(theta,theta-learning_rate*gradients)\n",
        "\n",
        "init = tf.global_variables_initializer()\n",
        "\n",
        "with tf.Session() as sess: \n",
        "  sess.run(init)\n",
        "  \n",
        "  for epoch in range(n_epochs):\n",
        "    if epoch % 100 == 0: \n",
        "      print(\"Epoch\",epoch,\"MSE = \",mse.eval())\n",
        "      \n",
        "    sess.run(training_op)\n",
        "    \n",
        "print(\"Best theta:\",best_theta)"
      ],
      "execution_count": 32,
      "outputs": [
        {
          "output_type": "stream",
          "text": [
            "Epoch 0 MSE =  9.161542\n",
            "Epoch 100 MSE =  0.7145004\n",
            "Epoch 200 MSE =  0.56670487\n",
            "Epoch 300 MSE =  0.55557173\n",
            "Epoch 400 MSE =  0.5488112\n",
            "Epoch 500 MSE =  0.5436363\n",
            "Epoch 600 MSE =  0.53962904\n",
            "Epoch 700 MSE =  0.5365092\n",
            "Epoch 800 MSE =  0.5340677\n",
            "Epoch 900 MSE =  0.5321473\n",
            "Best theta: [[ 2.0685523 ]\n",
            " [ 0.8874027 ]\n",
            " [ 0.14401656]\n",
            " [-0.3477088 ]\n",
            " [ 0.36178362]\n",
            " [ 0.00393811]\n",
            " [-0.04269556]\n",
            " [-0.66145283]\n",
            " [-0.6375278 ]]\n"
          ],
          "name": "stdout"
        }
      ]
    },
    {
      "cell_type": "code",
      "metadata": {
        "id": "VHgVp7X058xG",
        "colab_type": "code",
        "colab": {}
      },
      "source": [
        "def my_func(a,b):\n",
        "  z = 0 \n",
        "  \n",
        "  for i in range(100):\n",
        "    z = a*np.cos(z+i)+z*np.sin(b-i)\n",
        "    \n",
        "  return z \n"
      ],
      "execution_count": 0,
      "outputs": []
    },
    {
      "cell_type": "code",
      "metadata": {
        "id": "RYwhQi8R6Hg1",
        "colab_type": "code",
        "colab": {
          "base_uri": "https://localhost:8080/",
          "height": 34
        },
        "outputId": "a5e813a8-a3e1-428c-ce62-c6901d06fb2c"
      },
      "source": [
        "my_func(0.2,0.3)"
      ],
      "execution_count": 34,
      "outputs": [
        {
          "output_type": "execute_result",
          "data": {
            "text/plain": [
              "-0.21253923284754914"
            ]
          },
          "metadata": {
            "tags": []
          },
          "execution_count": 34
        }
      ]
    },
    {
      "cell_type": "code",
      "metadata": {
        "id": "R54Gc0E66KMF",
        "colab_type": "code",
        "colab": {}
      },
      "source": [
        "reset_graph()\n",
        "\n",
        "a = tf.Variable(0.2,name=\"a\")\n",
        "b = tf.Variable(0.3,name=\"b\")\n",
        "z = tf.Variable(0.0,name=\"z0\")\n",
        "\n",
        "for i in range(100):\n",
        "  z = a * tf.cos(z+i) + z * tf.sin(b - i)\n",
        "  \n",
        "grads = tf.gradients(z,[a,b])\n",
        "\n",
        "init = tf.global_variables_initializer()"
      ],
      "execution_count": 0,
      "outputs": []
    },
    {
      "cell_type": "code",
      "metadata": {
        "id": "F5DYi2ck6nf9",
        "colab_type": "code",
        "colab": {
          "base_uri": "https://localhost:8080/",
          "height": 51
        },
        "outputId": "29d3276a-1f4f-461a-fe90-697263b41b79"
      },
      "source": [
        "with tf.Session() as sess:\n",
        "  init.run()\n",
        "  print(z.eval())\n",
        "  print(sess.run(grads))"
      ],
      "execution_count": 36,
      "outputs": [
        {
          "output_type": "stream",
          "text": [
            "-0.21253741\n",
            "[-1.1388494, 0.19671395]\n"
          ],
          "name": "stdout"
        }
      ]
    },
    {
      "cell_type": "code",
      "metadata": {
        "id": "vlbESoWd6tS9",
        "colab_type": "code",
        "colab": {}
      },
      "source": [
        "reset_graph()\n",
        "\n",
        "n_epochs = 1000 \n",
        "learning_rate = 0.01 \n",
        "\n",
        "x = tf.constant(scaled_housing_data_plus_bias,dtype=tf.float32,name=\"x\")\n",
        "y = tf.constant(housing.target.reshape(-1,1),dtype=tf.float32,name=\"y\")\n",
        "theta = tf.Variable(tf.random_uniform([n+1,1],-1.0,1.0,seed=42),name=\"theta\")\n",
        "y_pred = tf.matmul(x,theta,name=\"predictions\")\n",
        "error = y_pred-y\n",
        "mse = tf.reduce_mean(tf.square(error),name=\"mse\")\n",
        "\n"
      ],
      "execution_count": 0,
      "outputs": []
    },
    {
      "cell_type": "code",
      "metadata": {
        "id": "IaHw5-Ze7MYc",
        "colab_type": "code",
        "colab": {}
      },
      "source": [
        "optimizer = tf.train.GradientDescentOptimizer(learning_rate=learning_rate)\n",
        "training_op = optimizer.minimize(mse)"
      ],
      "execution_count": 0,
      "outputs": []
    },
    {
      "cell_type": "code",
      "metadata": {
        "id": "VKeEYNv27TCK",
        "colab_type": "code",
        "colab": {
          "base_uri": "https://localhost:8080/",
          "height": 340
        },
        "outputId": "00ad6677-b3fd-4957-c5e1-c5eba78b2a12"
      },
      "source": [
        "init = tf.global_variables_initializer()\n",
        "\n",
        "with tf.Session() as sess:\n",
        "  sess.run(init)\n",
        "  \n",
        "  for epoch in range(n_epochs):\n",
        "    if epoch % 100 == 0:\n",
        "      print(\"Epoch\",epoch,\"MSE =\",mse.eval())\n",
        "    sess.run(training_op)\n",
        "    \n",
        "  best_theta = theta.eval()\n",
        "  \n",
        "print(best_theta)"
      ],
      "execution_count": 39,
      "outputs": [
        {
          "output_type": "stream",
          "text": [
            "Epoch 0 MSE = 9.161542\n",
            "Epoch 100 MSE = 0.71450055\n",
            "Epoch 200 MSE = 0.56670487\n",
            "Epoch 300 MSE = 0.55557173\n",
            "Epoch 400 MSE = 0.5488112\n",
            "Epoch 500 MSE = 0.5436363\n",
            "Epoch 600 MSE = 0.53962904\n",
            "Epoch 700 MSE = 0.5365092\n",
            "Epoch 800 MSE = 0.5340677\n",
            "Epoch 900 MSE = 0.5321473\n",
            "[[ 2.0685523 ]\n",
            " [ 0.88740265]\n",
            " [ 0.14401655]\n",
            " [-0.34770873]\n",
            " [ 0.3617836 ]\n",
            " [ 0.00393811]\n",
            " [-0.04269556]\n",
            " [-0.6614529 ]\n",
            " [-0.6375279 ]]\n"
          ],
          "name": "stdout"
        }
      ]
    },
    {
      "cell_type": "code",
      "metadata": {
        "id": "BgQqhK967mKS",
        "colab_type": "code",
        "colab": {}
      },
      "source": [
        "reset_graph()\n",
        "\n",
        "n_epochs = 1000\n",
        "\n",
        "learning_rate = 0.01 \n",
        "\n",
        "\n",
        "x = tf.constant(scaled_housing_data_plus_bias,dtype=tf.float32,name=\"x\")\n",
        "y = tf.constant(housing.target.reshape(-1,1),dtype=tf.float32,name=\"y\")\n",
        "theta = tf.Variable(tf.random_uniform([n+1,1],-1.0,1.0,seed=42),name=\"theta\")\n",
        "\n",
        "y_pred = tf.matmul(x,theta,name=\"predictions\")\n",
        "error = y_pred - y \n",
        "mse = tf.reduce_mean(tf.square(error),name=\"mse\")"
      ],
      "execution_count": 0,
      "outputs": []
    },
    {
      "cell_type": "code",
      "metadata": {
        "id": "e9JL-kM_8ERm",
        "colab_type": "code",
        "colab": {}
      },
      "source": [
        "optimizer = tf.train.MomentumOptimizer(learning_rate=learning_rate,momentum=0.9)"
      ],
      "execution_count": 0,
      "outputs": []
    },
    {
      "cell_type": "code",
      "metadata": {
        "id": "1oSa35Uh8IyG",
        "colab_type": "code",
        "colab": {}
      },
      "source": [
        "training_op = optimizer.minimize(mse)\n",
        "\n",
        "init = tf.global_variables_initializer()"
      ],
      "execution_count": 0,
      "outputs": []
    },
    {
      "cell_type": "code",
      "metadata": {
        "id": "oaye0e898Q2W",
        "colab_type": "code",
        "colab": {}
      },
      "source": [
        "with tf.Session() as sess:\n",
        "  sess.run(init)\n",
        "  \n",
        "  for epoch in range(n_epochs):\n",
        "    sess.run(training_op)\n",
        "    \n",
        "  best_theta = theta.eval()\n",
        "  \n",
        "  "
      ],
      "execution_count": 0,
      "outputs": []
    },
    {
      "cell_type": "code",
      "metadata": {
        "id": "8bkFNCAo8ZJ1",
        "colab_type": "code",
        "colab": {
          "base_uri": "https://localhost:8080/",
          "height": 34
        },
        "outputId": "c10cee1f-cb33-4068-926a-53c6192d4bb7"
      },
      "source": [
        "reset_graph()\n",
        "\n",
        "A = tf.placeholder(tf.float32,shape=(None,3))\n",
        "B = A + 5 \n",
        "\n",
        "with tf.Session() as sess:\n",
        "  B_val_1 = B.eval(feed_dict={A:[[1,2,3]]})\n",
        "  B_val_2 = B.eval(feed_dict={A:[[4,5,6],[7,8,9]]})\n",
        "  \n",
        "print(B_val_1)"
      ],
      "execution_count": 45,
      "outputs": [
        {
          "output_type": "stream",
          "text": [
            "[[6. 7. 8.]]\n"
          ],
          "name": "stdout"
        }
      ]
    },
    {
      "cell_type": "code",
      "metadata": {
        "id": "Nxg5fibq9KH9",
        "colab_type": "code",
        "colab": {
          "base_uri": "https://localhost:8080/",
          "height": 51
        },
        "outputId": "490e9b78-22bc-4cde-f25a-152edb070183"
      },
      "source": [
        "print(B_val_2)"
      ],
      "execution_count": 46,
      "outputs": [
        {
          "output_type": "stream",
          "text": [
            "[[ 9. 10. 11.]\n",
            " [12. 13. 14.]]\n"
          ],
          "name": "stdout"
        }
      ]
    },
    {
      "cell_type": "code",
      "metadata": {
        "id": "7fbimCOM9L2e",
        "colab_type": "code",
        "colab": {}
      },
      "source": [
        "n_epochs = 1000\n",
        "learning_rate = 0.01 \n"
      ],
      "execution_count": 0,
      "outputs": []
    },
    {
      "cell_type": "code",
      "metadata": {
        "id": "C-F7nkje9QHt",
        "colab_type": "code",
        "colab": {}
      },
      "source": [
        "reset_graph()\n",
        "\n",
        "x = tf.placeholder(tf.float32,shape=(None,n+1),name=\"x\")\n",
        "y = tf.placeholder(tf.float32,shape=(None,1),name=\"y\")"
      ],
      "execution_count": 0,
      "outputs": []
    },
    {
      "cell_type": "code",
      "metadata": {
        "id": "GEjv-R6X9ZhE",
        "colab_type": "code",
        "colab": {}
      },
      "source": [
        "theta = tf.Variable(tf.random_uniform([n+1,1],-1.0,1.0,seed=42),name=\"theta\")\n",
        "y_pred = tf.matmul(x,theta,name=\"predictions\")\n",
        "error = y_pred - y \n",
        "mse = tf.reduce_mean(tf.square(error),name=\"mse\")\n",
        "optimizer = tf.train.GradientDescentOptimizer(learning_rate=learning_rate)\n",
        "training_op = optimizer.minimize(mse)\n",
        "\n",
        "init = tf.global_variables_initializer()"
      ],
      "execution_count": 0,
      "outputs": []
    },
    {
      "cell_type": "code",
      "metadata": {
        "id": "vjqIjG7H9w_S",
        "colab_type": "code",
        "colab": {}
      },
      "source": [
        "n_epochs=10\n",
        "batch_size = 100\n",
        "n_batches = int(np.ceil(m/batch_size))"
      ],
      "execution_count": 0,
      "outputs": []
    },
    {
      "cell_type": "code",
      "metadata": {
        "id": "jnGX8f9q92Si",
        "colab_type": "code",
        "colab": {}
      },
      "source": [
        "def fetch_batch(epoch,batch_index,batch_size):\n",
        "  np.random.seed(epoch*n_batches+batch_index)\n",
        "  indices = np.random.randint(m,size=batch_size)\n",
        "  x_batch = scaled_housing_data_plus_bias[indices]\n",
        "  y_batch = housing.target.reshape(-1,1)[indices]\n",
        "  return x_batch,y_batch\n",
        "\n",
        "with tf.Session() as sess:\n",
        "  sess.run(init)\n",
        "  for epoch in range(n_epochs):\n",
        "    for batch_index in range(n_batches):\n",
        "      x_batch,y_batch = fetch_batch(epoch,batch_index,batch_size)\n",
        "      sess.run(training_op,feed_dict={x:x_batch,y:y_batch})\n",
        "  best_theta = theta.eval()"
      ],
      "execution_count": 0,
      "outputs": []
    },
    {
      "cell_type": "code",
      "metadata": {
        "id": "xyzdgHTC-p7K",
        "colab_type": "code",
        "colab": {}
      },
      "source": [
        "reset_graph()\n",
        "\n",
        "n_epochs = 1000\n",
        "learning_rate = 0.01 \n",
        "\n",
        "x = tf.constant(scaled_housing_data_plus_bias,dtype=tf.float32,name=\"x\")\n",
        "y = tf.constant(housing.target.reshape(-1,1),dtype=tf.float32,name=\"y\")\n",
        "theta = tf.Variable(tf.random_uniform([n+1,1],-1.0,1.0,seed=42),name=\"theta\")\n",
        "y_pred = tf.matmul(x,theta,name=\"predictions\")\n",
        "\n",
        "error = y_pred - y \n",
        "\n",
        "mse = tf.reduce_mean(tf.square(error),name=\"mse\")\n",
        "\n",
        "optimizer = tf.train.GradientDescentOptimizer(learning_rate=learning_rate)\n",
        "\n",
        "training_op = optimizer.minimize(mse) \n",
        "\n",
        "init = tf.global_variables_initializer()\n",
        "saver = tf.train.Saver()\n",
        "\n",
        "with tf.Session() as sess:\n",
        "  sess.run(init)\n",
        "  for epoch in range(n_epochs):\n",
        "    if epoch%100==0:\n",
        "      save_path = saver.save(sess,\"my_model.ckpt\")\n",
        "    sess.run(training_op)\n",
        "    \n",
        "  best_theta = theta.eval()\n",
        "  save_path = saver.save(sess,\"my_model_final.ckpt\")\n",
        "  \n",
        "  \n",
        "      "
      ],
      "execution_count": 0,
      "outputs": []
    },
    {
      "cell_type": "code",
      "metadata": {
        "id": "uEIqK29s_t_x",
        "colab_type": "code",
        "colab": {
          "base_uri": "https://localhost:8080/",
          "height": 105
        },
        "outputId": "639183d6-8560-4e98-e97e-4eb942b4c9b2"
      },
      "source": [
        "ls"
      ],
      "execution_count": 53,
      "outputs": [
        {
          "output_type": "stream",
          "text": [
            "checkpoint                         my_model_final.ckpt.data-00000-of-00001\n",
            "my_model.ckpt.data-00000-of-00001  my_model_final.ckpt.index\n",
            "my_model.ckpt.index                my_model_final.ckpt.meta\n",
            "my_model.ckpt.meta                 \u001b[0m\u001b[01;34msample_data\u001b[0m/\n"
          ],
          "name": "stdout"
        }
      ]
    },
    {
      "cell_type": "code",
      "metadata": {
        "id": "RoVQ3MkQ_vUw",
        "colab_type": "code",
        "colab": {
          "base_uri": "https://localhost:8080/",
          "height": 105
        },
        "outputId": "0478ab54-fdc6-42cc-bff3-ec0dd2b77140"
      },
      "source": [
        "with tf.Session() as sess:\n",
        "  saver.restore(sess,\"my_model_final.ckpt\")\n",
        "  best_theta_restored = theta.eval()\n",
        "  "
      ],
      "execution_count": 54,
      "outputs": [
        {
          "output_type": "stream",
          "text": [
            "WARNING:tensorflow:From /usr/local/lib/python3.6/dist-packages/tensorflow/python/training/saver.py:1266: checkpoint_exists (from tensorflow.python.training.checkpoint_management) is deprecated and will be removed in a future version.\n",
            "Instructions for updating:\n",
            "Use standard file APIs to check for files with this prefix.\n",
            "INFO:tensorflow:Restoring parameters from my_model_final.ckpt\n"
          ],
          "name": "stdout"
        }
      ]
    },
    {
      "cell_type": "code",
      "metadata": {
        "id": "8Xs49jYA_7pp",
        "colab_type": "code",
        "colab": {
          "base_uri": "https://localhost:8080/",
          "height": 34
        },
        "outputId": "13bae553-73af-4ece-bf32-fd45e734fc9d"
      },
      "source": [
        "np.allclose(best_theta,best_theta_restored)"
      ],
      "execution_count": 55,
      "outputs": [
        {
          "output_type": "execute_result",
          "data": {
            "text/plain": [
              "True"
            ]
          },
          "metadata": {
            "tags": []
          },
          "execution_count": 55
        }
      ]
    },
    {
      "cell_type": "code",
      "metadata": {
        "id": "gJRKmxR8AACw",
        "colab_type": "code",
        "colab": {}
      },
      "source": [
        "saver = tf.train.Saver({\"weights\":theta})"
      ],
      "execution_count": 0,
      "outputs": []
    },
    {
      "cell_type": "code",
      "metadata": {
        "id": "b4w_ybv5ADrd",
        "colab_type": "code",
        "colab": {
          "base_uri": "https://localhost:8080/",
          "height": 34
        },
        "outputId": "9a82ba65-9b3b-4458-87e4-20ce5f6c9cbb"
      },
      "source": [
        "reset_graph()\n",
        "\n",
        "saver = tf.train.import_meta_graph(\"my_model_final.ckpt.meta\")\n",
        "\n",
        "theta = tf.get_default_graph().get_tensor_by_name(\"theta:0\")\n",
        "\n",
        "with tf.Session() as sess:\n",
        "  saver.restore(sess,\"my_model_final.ckpt\")\n",
        "  best_theta_restored = theta.eval()"
      ],
      "execution_count": 58,
      "outputs": [
        {
          "output_type": "stream",
          "text": [
            "INFO:tensorflow:Restoring parameters from my_model_final.ckpt\n"
          ],
          "name": "stdout"
        }
      ]
    },
    {
      "cell_type": "code",
      "metadata": {
        "id": "nbYH2K62Ak65",
        "colab_type": "code",
        "colab": {}
      },
      "source": [
        "reset_graph()\n",
        "\n",
        "from datetime import datetime\n",
        "\n",
        "now = datetime.utcnow().strftime(\"%Y%m%d%H%M%S\")\n",
        "root_logdir = \"tf_logs\"\n",
        "logdir = \"{}/run-{}/\".format(root_logdir,now)"
      ],
      "execution_count": 0,
      "outputs": []
    },
    {
      "cell_type": "code",
      "metadata": {
        "id": "vS0lClmCA38O",
        "colab_type": "code",
        "colab": {}
      },
      "source": [
        "\n",
        "n_epochs = 1000\n",
        "learning_rate = 0.01 \n",
        "\n",
        "x = tf.placeholder(tf.float32,shape=(None,n+1),name=\"x\")\n",
        "y = tf.placeholder(tf.float32,shape=(None,1),name=\"y\")\n",
        "theta = tf.Variable(tf.random_uniform([n+1,1],-1.0,1.0,seed=42),name=\"theta\")\n",
        "y_pred = tf.matmul(x,theta,name=\"predictions\")\n",
        "error = y_pred - y \n",
        "mse = tf.reduce_mean(tf.square(error),name=\"mse\")\n",
        "optimizer = tf.train.GradientDescentOptimizer(learning_rate=learning_rate)\n",
        "training_op = optimizer.minimize(mse)\n",
        "\n",
        "init = tf.global_variables_initializer()"
      ],
      "execution_count": 0,
      "outputs": []
    },
    {
      "cell_type": "code",
      "metadata": {
        "id": "47SrVWfeBeA7",
        "colab_type": "code",
        "colab": {}
      },
      "source": [
        "mse_summary = tf.summary.scalar('MSE',mse)\n",
        "file_writer = tf.summary.FileWriter(logdir,tf.get_default_graph())"
      ],
      "execution_count": 0,
      "outputs": []
    },
    {
      "cell_type": "code",
      "metadata": {
        "id": "v2k_cw3aBm4K",
        "colab_type": "code",
        "colab": {}
      },
      "source": [
        "n_epochs = 10 \n",
        "batch_size = 100 \n",
        "n_batches = int(np.ceil(m/batch_size))"
      ],
      "execution_count": 0,
      "outputs": []
    },
    {
      "cell_type": "code",
      "metadata": {
        "id": "JEoE0nF4Bv7i",
        "colab_type": "code",
        "colab": {}
      },
      "source": [
        "with tf.Session() as sess:\n",
        "  sess.run(init)\n",
        "  \n",
        "  for epoch in range(n_epochs):\n",
        "    for batch_index in range(n_batches):\n",
        "      x_batch,y_batch = fetch_batch(epoch,batch_index,batch_size)\n",
        "      if batch_index % 10 == 0: \n",
        "        summary_str = mse_summary.eval(feed_dict={x:x_batch,y:y_batch})\n",
        "        step = epoch*n_batches + batch_index \n",
        "        file_writer.add_summary(summary_str,step)\n",
        "      sess.run(training_op,feed_dict={x:x_batch,y:y_batch})\n",
        "      \n",
        "  best_theta = theta.eval()"
      ],
      "execution_count": 0,
      "outputs": []
    },
    {
      "cell_type": "code",
      "metadata": {
        "id": "PX60NbpmCRb3",
        "colab_type": "code",
        "colab": {}
      },
      "source": [
        "reset_graph() \n",
        "\n",
        "now = datetime.utcnow().strftime(\"%Y%m%d%H%M%S\")\n",
        "root_logdir = \"tf_logs\"\n",
        "logdir = \"{}/run-{}/\".format(root_logdir,now)\n",
        "\n",
        "n_epochs = 1000\n",
        "learning_rate = 0.01 \n",
        "\n",
        "x = tf.placeholder(tf.float32,shape=(None,n+1),name=\"x\")\n",
        "y = tf.placeholder(tf.float32,shape=(None,1),name=\"y\")\n",
        "theta = tf.Variable(tf.random_uniform([n+1,1],-1.0,1.0,seed=42),name=\"theta\")\n",
        "y_pred = tf.matmul(x,theta,name=\"predictions\")\n",
        "\n"
      ],
      "execution_count": 0,
      "outputs": []
    },
    {
      "cell_type": "code",
      "metadata": {
        "id": "XEm8PLiXaVK1",
        "colab_type": "code",
        "colab": {}
      },
      "source": [
        "with tf.name_scope(\"loss\") as scope:\n",
        "  error = y_pred - y \n",
        "  mse = tf.reduce_mean(tf.square(error),name=\"mse\")"
      ],
      "execution_count": 0,
      "outputs": []
    },
    {
      "cell_type": "code",
      "metadata": {
        "id": "r2udRa6_agss",
        "colab_type": "code",
        "colab": {}
      },
      "source": [
        "optimizer = tf.train.GradientDescentOptimizer(learning_rate=learning_rate)\n",
        "training_op = optimizer.minimize(mse)\n",
        "\n",
        "init = tf.global_variables_initializer()\n",
        "\n",
        "mse_summary = tf.summary.scalar('MSE',mse)\n",
        "file_writer = tf.summary.FileWriter(logdir,tf.get_default_graph())"
      ],
      "execution_count": 0,
      "outputs": []
    },
    {
      "cell_type": "code",
      "metadata": {
        "id": "kQbRq8wdaz8y",
        "colab_type": "code",
        "colab": {
          "base_uri": "https://localhost:8080/",
          "height": 170
        },
        "outputId": "7b5204fa-fc85-4e9c-dc3b-8c6a3a328626"
      },
      "source": [
        "n_epochs = 10 \n",
        "batch_size = 100\n",
        "n_batches = int(np.ceil(m/batch_size))\n",
        "\n",
        "with tf.Session() as sess:\n",
        "  sess.run(init)\n",
        "  \n",
        "  for epoch in range(n_epochs):\n",
        "    for batch_index in range(n_batches):\n",
        "      x_batch,y_batch = fetch_batch(epoch,batch_index,batch_size)\n",
        "      if batch_index % 10 == 0 : \n",
        "        summary_str = mse_summary.eval(feed_dict={x:x_batch,y:y_batch})\n",
        "        step = epoch * n_batches + batch_index \n",
        "        file_writer.add_summary(summary_str,step)\n",
        "      sess.run(training_op,feed_dict={x:x_batch,y:y_batch})\n",
        "      \n",
        "  best_theta = theta.eval()\n",
        "  \n",
        "file_writer.flush()\n",
        "file_writer.close()\n",
        "\n",
        "print(best_theta)"
      ],
      "execution_count": 70,
      "outputs": [
        {
          "output_type": "stream",
          "text": [
            "[[ 2.0703337 ]\n",
            " [ 0.8637145 ]\n",
            " [ 0.12255149]\n",
            " [-0.31211886]\n",
            " [ 0.38510385]\n",
            " [ 0.00434167]\n",
            " [-0.01232954]\n",
            " [-0.83376896]\n",
            " [-0.8030471 ]]\n"
          ],
          "name": "stdout"
        }
      ]
    },
    {
      "cell_type": "code",
      "metadata": {
        "id": "YSaOE4efbi7b",
        "colab_type": "code",
        "colab": {
          "base_uri": "https://localhost:8080/",
          "height": 85
        },
        "outputId": "7708b5e6-8052-44ad-ea4a-1310d42ae25b"
      },
      "source": [
        "reset_graph()\n",
        "\n",
        "a1 = tf.Variable(0,name=\"a\")\n",
        "a2 = tf.Variable(0,name=\"a\")\n",
        "\n",
        "with tf.name_scope(\"param\"):\n",
        "  a3 = tf.Variable(0,name=\"a\")\n",
        "  \n",
        "with tf.name_scope(\"param\"):\n",
        "  a4 = tf.Variable(0,name=\"a\")\n",
        "  \n",
        "for node in (a1,a2,a3,a4):\n",
        "  print(node.op.name)"
      ],
      "execution_count": 71,
      "outputs": [
        {
          "output_type": "stream",
          "text": [
            "a\n",
            "a_1\n",
            "param/a\n",
            "param_1/a\n"
          ],
          "name": "stdout"
        }
      ]
    },
    {
      "cell_type": "code",
      "metadata": {
        "id": "ab_Zndc7cEqg",
        "colab_type": "code",
        "colab": {}
      },
      "source": [
        "reset_graph()\n",
        "\n",
        "n_features = 3 \n",
        "\n",
        "x = tf.placeholder(tf.float32,shape=(None,n_features),name=\"x\")\n",
        "\n",
        "w1 = tf.Variable(tf.random_normal((n_features,1)),name=\"weights1\")\n",
        "w2 = tf.Variable(tf.random_normal((n_features,1)),name=\"weights2\")\n",
        "b1 = tf.Variable(0.0,name=\"bias1\")\n",
        "b2 = tf.Variable(0.0,name=\"bias2\")\n",
        "\n",
        "z1 = tf.add(tf.matmul(x,w1),b1,name=\"z1\")\n",
        "z2 = tf.add(tf.matmul(x,w2),b2,name=\"z2\")\n",
        "\n",
        "relu1 = tf.maximum(z1,0.,name=\"relu1\")\n",
        "relu2 = tf.maximum(z1,0.,name=\"relu2\")\n",
        "\n",
        "output = tf.add(relu1,relu2,name=\"output\")"
      ],
      "execution_count": 0,
      "outputs": []
    },
    {
      "cell_type": "code",
      "metadata": {
        "id": "KLDUav9Ndnl5",
        "colab_type": "code",
        "colab": {}
      },
      "source": [
        "reset_graph() \n",
        "\n",
        "def relu(x):\n",
        "  w_shape = (int(x.get_shape()[1]),1)\n",
        "  w = tf.Variable(tf.random_normal(w_shape),name=\"weights\")\n",
        "  b = tf.Variable(0.0,name=\"bias\")\n",
        "  z = tf.add(tf.matmul(x,w),b,name=\"z\")\n",
        "  return tf.maximum(z,0.,name=\"relu\")\n",
        "\n",
        "n_features = 3 \n",
        "\n",
        "x = tf.placeholder(tf.float32,shape=(None,n_features),name=\"x\")\n",
        "relus = [relu(x) for i in range(5)]\n",
        "output = tf.add_n(relus,name=\"output\")"
      ],
      "execution_count": 0,
      "outputs": []
    },
    {
      "cell_type": "code",
      "metadata": {
        "id": "EVAjh1iWe_Z_",
        "colab_type": "code",
        "colab": {}
      },
      "source": [
        "file_writer = tf.summary.FileWriter(\"logs/relu1\",tf.get_default_graph())"
      ],
      "execution_count": 0,
      "outputs": []
    },
    {
      "cell_type": "code",
      "metadata": {
        "id": "NizkpmEsfH5e",
        "colab_type": "code",
        "colab": {}
      },
      "source": [
        "reset_graph()\n",
        "\n",
        "def relu(x):\n",
        "  with tf.name_scope(\"relu\"):\n",
        "    w_shape = (int(x.get_shape()[1]),1)\n",
        "    w = tf.Variable(tf.random_normal(w_shape),name=\"weights\")\n",
        "    b = tf.Variable(0.0,name=\"bias\")\n",
        "    z = tf.add(tf.matmul(x,w),b,name=\"z\")\n",
        "    return tf.maximum(z,0.,name=\"max\")"
      ],
      "execution_count": 0,
      "outputs": []
    },
    {
      "cell_type": "code",
      "metadata": {
        "id": "zYWn7sjkfgGc",
        "colab_type": "code",
        "colab": {}
      },
      "source": [
        "n_features = 3 \n",
        "\n",
        "x = tf.placeholder(tf.float32,shape=(None,n_features),name=\"x\")\n",
        "relus = [relu(x) for i in range(5)]\n",
        "output = tf.add_n(relus,name=\"output\")\n",
        "\n",
        "file_writer = tf.summary.FileWriter(\"logs/relu2\",tf.get_default_graph())\n",
        "file_writer.close()"
      ],
      "execution_count": 0,
      "outputs": []
    },
    {
      "cell_type": "code",
      "metadata": {
        "id": "L58dZ3_0fyTz",
        "colab_type": "code",
        "colab": {}
      },
      "source": [
        "reset_graph()\n",
        "\n",
        "def relu(x,threshold):\n",
        "  with tf.name_scope(\"relu\"):\n",
        "    w_shape = (int(x.get_shape()[1]),1)\n",
        "    w = tf.Variable(tf.random_normal(w_shape),name=\"weights\")\n",
        "    b = tf.Variable(0.0,name=\"bias\")\n",
        "    z = tf.add(tf.matmul(x,w),b,name=\"z\")\n",
        "    return tf.maximum(z,threshold,name=\"max\")\n",
        "  \n",
        "threshold = tf.Variable(0.0,name=\"threshold\")\n",
        "x = tf.placeholder(tf.float32,shape=(None,n_features),name=\"x\")\n",
        "relus = [relu(x,threshold) for i in range(5)]\n",
        "output = tf.add_n(relus,name=\"output\")"
      ],
      "execution_count": 0,
      "outputs": []
    },
    {
      "cell_type": "code",
      "metadata": {
        "id": "3gCOlXGlgfMK",
        "colab_type": "code",
        "colab": {}
      },
      "source": [
        "reset_graph()\n",
        "\n",
        "def relu(x):\n",
        "  with tf.name_scope(\"relu\"):\n",
        "    if not hasattr(relu,\"threshold\"):\n",
        "      relu.threshold = tf.Variable(0.0,name=\"threshold\")\n",
        "    w_shape = int(x.get_shape()[1]),1\n",
        "    w = tf.Variable(tf.random_normal(w_shape),name=\"weights\")\n",
        "    b = tf.Variable(0.0,name=\"bias\")\n",
        "    z = tf.add(tf.matmul(x,w),b,name=\"z\")\n",
        "    return tf.maximum(z,relu.threshold,name=\"max\")"
      ],
      "execution_count": 0,
      "outputs": []
    },
    {
      "cell_type": "code",
      "metadata": {
        "id": "MHCsEShvg-T8",
        "colab_type": "code",
        "colab": {}
      },
      "source": [
        "x = tf.placeholder(tf.float32,shape=(None,n_features),name=\"x\")\n",
        "relus = [relu(x) for i in range(5)]\n",
        "output = tf.add_n(relus,name=\"output\")\n"
      ],
      "execution_count": 0,
      "outputs": []
    },
    {
      "cell_type": "code",
      "metadata": {
        "id": "RpxO-yJ8hJ8y",
        "colab_type": "code",
        "colab": {}
      },
      "source": [
        "reset_graph()\n",
        "\n",
        "with tf.variable_scope(\"relu\"):\n",
        "  threshold = tf.get_variable(\"threshold\",shape=(),\n",
        "                             initializer = tf.constant_initializer(0.0))\n",
        "  "
      ],
      "execution_count": 0,
      "outputs": []
    },
    {
      "cell_type": "code",
      "metadata": {
        "id": "xDL0uNL5hT5a",
        "colab_type": "code",
        "colab": {}
      },
      "source": [
        "with tf.variable_scope(\"relu\",reuse=True):\n",
        "  threshold = tf.get_variable(\"threshold\")"
      ],
      "execution_count": 0,
      "outputs": []
    },
    {
      "cell_type": "code",
      "metadata": {
        "id": "83tvKyCBhb1B",
        "colab_type": "code",
        "colab": {}
      },
      "source": [
        "with tf.variable_scope(\"relu\") as scope:\n",
        "  scope.reuse_variables()\n",
        "  threshold = tf.get_variable(\"threshold\")\n",
        "  "
      ],
      "execution_count": 0,
      "outputs": []
    },
    {
      "cell_type": "code",
      "metadata": {
        "id": "ZGil6Hhdhh15",
        "colab_type": "code",
        "colab": {}
      },
      "source": [
        "reset_graph()\n",
        "\n",
        "def relu(x):\n",
        "  with tf.variable_scope(\"relu\",reuse=True):\n",
        "    threshold = tf.get_variable(\"threshold\")\n",
        "    w_shape = int(x.get_shape()[1]),1\n",
        "    w = tf.Variable(tf.random_normal(w_shape),name=\"weights\")\n",
        "    b = tf.Variable(0.0,name=\"bias\")\n",
        "    z = tf.add(tf.matmul(x,w),b,name=\"z\")\n",
        "    return tf.maximum(z,threshold,name=\"max\")\n",
        "  \n",
        "x = tf.placeholder(tf.float32,shape=(None,n_features),name=\"x\")\n",
        "with tf.variable_scope(\"relu\"):\n",
        "  threshold = tf.get_variable(\"threshold\",shape=(),\n",
        "                             initializer=tf.constant_initializer(0.0))\n",
        "  \n",
        "relus = [relu(x) for relu_index in range(5)]\n",
        "output = tf.add_n(relus,name=\"output\")"
      ],
      "execution_count": 0,
      "outputs": []
    },
    {
      "cell_type": "code",
      "metadata": {
        "id": "L5SUSMYAiLjG",
        "colab_type": "code",
        "colab": {}
      },
      "source": [
        "file_writer = tf.summary.FileWriter(\"logs/relu6\",tf.get_default_graph())\n",
        "file_writer.close()"
      ],
      "execution_count": 0,
      "outputs": []
    },
    {
      "cell_type": "code",
      "metadata": {
        "id": "V-wEIRkNijKb",
        "colab_type": "code",
        "colab": {}
      },
      "source": [
        "reset_graph()\n",
        "\n",
        "def relu(x):\n",
        "  with tf.variable_scope(\"relu\"):\n",
        "    threshold = tf.get_variable(\"threshold\",shape=(),initializer=tf.constant_initializer(0.0))\n",
        "    w_shape = (int(x.get_shape()[1]),1)\n",
        "    w = tf.Variable(tf.random_normal(w_shape),name=\"weights\")\n",
        "    b = tf.Variable(0.0,name=\"bias\")\n",
        "    z = tf.add(tf.matmul(x,w),b,name=\"z\")\n",
        "    return tf.maximum(z,threshold,name=\"max\")\n",
        "  \n",
        "x = tf.placeholder(tf.float32,shape=(None,n_features),name=\"x\")\n",
        "\n",
        "with tf.variable_scope(\"\",default_name=\"\") as scope:\n",
        "  first_relu = relu(x)\n",
        "  scope.reuse_variables()\n",
        "  relus = [first_relu] + [relu(x) for i in range(4)]\n",
        "  \n",
        "output = tf.add_n(relus,name=\"output\")\n",
        "\n",
        "file_writer = tf.summary.FileWriter(\"logs/relu8\",tf.get_default_graph())\n",
        "file_writer.close()"
      ],
      "execution_count": 0,
      "outputs": []
    },
    {
      "cell_type": "code",
      "metadata": {
        "id": "xC2NBKNml6WH",
        "colab_type": "code",
        "colab": {}
      },
      "source": [
        "reset_graph()\n",
        "\n",
        "def relu(x):\n",
        "  threshold = tf.get_variable(\"threshold\",shape=(),\n",
        "                             initializer=tf.constant_initializer(0.0))\n",
        "  \n",
        "  w_shape = (int(x.get_shape()[1]),1)\n",
        "  w = tf.Variable(tf.random_normal(w_shape),name=\"weights\")\n",
        "  b = tf.Variable(0.0,name=\"bias\")\n",
        "  z = tf.add(tf.matmul(x,w),b,name=\"z\")\n",
        "  return tf.maximum(z,threshold,name=\"max\")\n",
        "\n",
        "x = tf.placeholder(tf.float32,shape=(None,n_features),name=\"x\")\n",
        "relus = []\n",
        "for relu_index in range(5):\n",
        "  with tf.variable_scope(\"relu\",reuse=(relu_index>=1)) as scope:\n",
        "    relus.append(relu(x))\n",
        "output = tf.add_n(relus,name=\"output\")\n",
        "  "
      ],
      "execution_count": 0,
      "outputs": []
    },
    {
      "cell_type": "code",
      "metadata": {
        "id": "2ZPefbIHwG1D",
        "colab_type": "code",
        "colab": {}
      },
      "source": [
        "file_writer = tf.summary.FileWriter(\"logs/relu9\",tf.get_default_graph())\n",
        "file_writer.close()\n"
      ],
      "execution_count": 0,
      "outputs": []
    },
    {
      "cell_type": "code",
      "metadata": {
        "id": "ybYJktAPwMiD",
        "colab_type": "code",
        "colab": {
          "base_uri": "https://localhost:8080/",
          "height": 136
        },
        "outputId": "6b8863b3-86fc-435e-cc42-57fae458217f"
      },
      "source": [
        "reset_graph()\n",
        "\n",
        "with tf.variable_scope(\"my_scope\"):\n",
        "  x0 = tf.get_variable(\"x\",shape=(),initializer=tf.constant_initializer(0.))\n",
        "  x1 = tf.Variable(0.,name=\"x\")\n",
        "  x2 = tf.Variable(0.,name=\"x\")\n",
        "  \n",
        "with tf.variable_scope(\"my_scope\",reuse=True):\n",
        "  x3 = tf.get_variable(\"x\")\n",
        "  x4 = tf.Variable(0.,name=\"x\")\n",
        "  \n",
        "with tf.variable_scope(\"\",default_name=\"\",reuse=True):\n",
        "  x5 = tf.get_variable(\"my_scope/x\")\n",
        "  \n",
        "  \n",
        "print(\"x0:\", x0.op.name)\n",
        "print(\"x1:\", x1.op.name)\n",
        "print(\"x2:\", x2.op.name)\n",
        "print(\"x3:\", x3.op.name)\n",
        "print(\"x4:\", x4.op.name)\n",
        "print(\"x5:\", x5.op.name)\n",
        "print(x0 is x3 and x3 is x5)"
      ],
      "execution_count": 91,
      "outputs": [
        {
          "output_type": "stream",
          "text": [
            "x0: my_scope/x\n",
            "x1: my_scope/x_1\n",
            "x2: my_scope/x_2\n",
            "x3: my_scope/x\n",
            "x4: my_scope_1/x\n",
            "x5: my_scope/x\n",
            "True\n"
          ],
          "name": "stdout"
        }
      ]
    },
    {
      "cell_type": "code",
      "metadata": {
        "id": "38pSu3ztwt9H",
        "colab_type": "code",
        "colab": {
          "base_uri": "https://localhost:8080/",
          "height": 34
        },
        "outputId": "dcca70d7-24d4-4ae4-a3a8-316a540ec16b"
      },
      "source": [
        "reset_graph()\n",
        "\n",
        "text = np.array(\"Do you want some cafe?\".split())\n",
        "\n",
        "text_tensor = tf.constant(text)\n",
        "\n",
        "with tf.Session() as sess:\n",
        "  print(text_tensor.eval())"
      ],
      "execution_count": 92,
      "outputs": [
        {
          "output_type": "stream",
          "text": [
            "[b'Do' b'you' b'want' b'some' b'cafe?']\n"
          ],
          "name": "stdout"
        }
      ]
    },
    {
      "cell_type": "code",
      "metadata": {
        "id": "uux6wffww6pn",
        "colab_type": "code",
        "colab": {}
      },
      "source": [
        ""
      ],
      "execution_count": 0,
      "outputs": []
    }
  ]
}