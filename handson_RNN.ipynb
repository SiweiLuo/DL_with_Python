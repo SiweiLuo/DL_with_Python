{
  "nbformat": 4,
  "nbformat_minor": 0,
  "metadata": {
    "colab": {
      "name": "handson_RNN.ipynb",
      "version": "0.3.2",
      "provenance": [],
      "include_colab_link": true
    },
    "kernelspec": {
      "name": "python3",
      "display_name": "Python 3"
    }
  },
  "cells": [
    {
      "cell_type": "markdown",
      "metadata": {
        "id": "view-in-github",
        "colab_type": "text"
      },
      "source": [
        "<a href=\"https://colab.research.google.com/github/SiweiLuo/DL_with_Python/blob/master/handson_RNN.ipynb\" target=\"_parent\"><img src=\"https://colab.research.google.com/assets/colab-badge.svg\" alt=\"Open In Colab\"/></a>"
      ]
    },
    {
      "cell_type": "code",
      "metadata": {
        "id": "k7K7NDPq8QOL",
        "colab_type": "code",
        "colab": {}
      },
      "source": [
        "import numpy as np\n",
        "import os \n",
        "\n",
        "def reset_graph(seed=42):\n",
        "  tf.reset_default_graph()\n",
        "  tf.set_random_seed(seed)\n",
        "  np.random.seed(seed)\n",
        "  \n",
        "%matplotlib inline \n",
        "import matplotlib\n",
        "import matplotlib.pyplot as plt \n",
        "plt.rcParams['axes.labelsize'] = 14\n",
        "plt.rcParams['xtick.labelsize'] = 12\n",
        "plt.rcParams['ytick.labelsize'] = 12\n",
        "\n",
        "def save_fig(fig_id, tight_layout=True):\n",
        "    path = os.path.join(fig_id + \".png\")\n",
        "    print(\"Saving figure\", fig_id)\n",
        "    if tight_layout:\n",
        "        plt.tight_layout()\n",
        "    plt.savefig(path, format='png', dpi=300)"
      ],
      "execution_count": 0,
      "outputs": []
    },
    {
      "cell_type": "code",
      "metadata": {
        "id": "MuxIUlMC8loi",
        "colab_type": "code",
        "colab": {}
      },
      "source": [
        "import tensorflow as tf"
      ],
      "execution_count": 0,
      "outputs": []
    },
    {
      "cell_type": "code",
      "metadata": {
        "id": "TXEhuwDf8tUw",
        "colab_type": "code",
        "colab": {
          "base_uri": "https://localhost:8080/",
          "height": 88
        },
        "outputId": "aae062fd-e827-4e02-9487-b35969cec8a8"
      },
      "source": [
        "reset_graph()\n",
        "\n",
        "n_inputs = 3 \n",
        "n_neurons = 5 \n",
        "\n",
        "x0 = tf.placeholder(tf.float32,[None,n_inputs]) \n",
        "x1 = tf.placeholder(tf.float32,[None,n_inputs]) \n",
        "\n",
        "wx = tf.Variable(tf.random_normal(shape=[n_inputs,n_neurons],dtype=tf.float32))\n",
        "wy = tf.Variable(tf.random_normal(shape=[n_neurons,n_neurons],dtype=tf.float32))\n",
        "b = tf.Variable(tf.zeros([1,n_neurons],dtype=tf.float32))\n",
        "\n",
        "y0 = tf.tanh(tf.matmul(x0,wx)+b)\n",
        "y1 = tf.tanh(tf.matmul(y0,wy)+tf.matmul(x1,wx)+b)\n",
        "\n",
        "init = tf.global_variables_initializer() "
      ],
      "execution_count": 3,
      "outputs": [
        {
          "output_type": "stream",
          "text": [
            "WARNING:tensorflow:From /usr/local/lib/python3.6/dist-packages/tensorflow/python/framework/op_def_library.py:263: colocate_with (from tensorflow.python.framework.ops) is deprecated and will be removed in a future version.\n",
            "Instructions for updating:\n",
            "Colocations handled automatically by placer.\n"
          ],
          "name": "stdout"
        }
      ]
    },
    {
      "cell_type": "code",
      "metadata": {
        "id": "p67Th4bS9Ug3",
        "colab_type": "code",
        "colab": {}
      },
      "source": [
        "import numpy as np  \n",
        "\n",
        "x0_batch = np.array([[0,1,2],[3,4,5],[6,7,8],[9,0,1]]) \n",
        "x1_batch = np.array([[9,8,7],[0,0,0],[6,5,4],[3,2,1]]) \n",
        "\n",
        "with tf.Session() as sess: \n",
        "  init.run()  \n",
        "  y0_val,y1_val = sess.run([y0,y1],feed_dict={x0:x0_batch,x1:x1_batch})"
      ],
      "execution_count": 0,
      "outputs": []
    },
    {
      "cell_type": "code",
      "metadata": {
        "id": "Ht5mNx8V9xoc",
        "colab_type": "code",
        "colab": {
          "base_uri": "https://localhost:8080/",
          "height": 85
        },
        "outputId": "1e705487-ae90-4d09-e3c1-ae011a85d511"
      },
      "source": [
        "print(y0_val) "
      ],
      "execution_count": 5,
      "outputs": [
        {
          "output_type": "stream",
          "text": [
            "[[-0.0664006   0.9625767   0.68105793  0.7091854  -0.898216  ]\n",
            " [ 0.9977755  -0.71978897 -0.9965762   0.9673924  -0.9998972 ]\n",
            " [ 0.99999785 -0.99898815 -0.9999989   0.9967762  -0.9999998 ]\n",
            " [ 1.         -1.         -1.         -0.9981893   0.9995087 ]]\n"
          ],
          "name": "stdout"
        }
      ]
    },
    {
      "cell_type": "code",
      "metadata": {
        "id": "CA23DQOD9zJs",
        "colab_type": "code",
        "colab": {
          "base_uri": "https://localhost:8080/",
          "height": 139
        },
        "outputId": "4fbae673-bee0-4660-e64c-cacaf651f4b7"
      },
      "source": [
        "n_inputs = 3 \n",
        "n_neurons = 5 \n",
        "\n",
        "reset_graph() \n",
        "\n",
        "x0 = tf.placeholder(tf.float32,[None,n_inputs]) \n",
        "x1 = tf.placeholder(tf.float32,[None,n_inputs]) \n",
        "\n",
        "basic_cell = tf.nn.rnn_cell.BasicRNNCell(num_units=n_neurons) \n",
        "output_seqs,states = tf.nn.static_rnn(basic_cell,[x0,x1],dtype=tf.float32) \n",
        "\n",
        "y0,y1 = output_seqs"
      ],
      "execution_count": 6,
      "outputs": [
        {
          "output_type": "stream",
          "text": [
            "WARNING:tensorflow:From <ipython-input-6-1ef14f951fdf>:9: BasicRNNCell.__init__ (from tensorflow.python.ops.rnn_cell_impl) is deprecated and will be removed in a future version.\n",
            "Instructions for updating:\n",
            "This class is equivalent as tf.keras.layers.SimpleRNNCell, and will be replaced by that in Tensorflow 2.0.\n",
            "WARNING:tensorflow:From <ipython-input-6-1ef14f951fdf>:10: static_rnn (from tensorflow.python.ops.rnn) is deprecated and will be removed in a future version.\n",
            "Instructions for updating:\n",
            "Please use `keras.layers.RNN(cell, unroll=True)`, which is equivalent to this API\n"
          ],
          "name": "stdout"
        }
      ]
    },
    {
      "cell_type": "code",
      "metadata": {
        "id": "igTWOl8h-NEa",
        "colab_type": "code",
        "colab": {}
      },
      "source": [
        "init = tf.global_variables_initializer() "
      ],
      "execution_count": 0,
      "outputs": []
    },
    {
      "cell_type": "code",
      "metadata": {
        "id": "EJRY5A2J-P04",
        "colab_type": "code",
        "colab": {}
      },
      "source": [
        "x0_batch = np.array([[0,1,2],[3,4,5],[6,7,8],[9,0,1]]) \n",
        "x1_batch = np.array([[9,8,7],[0,0,0],[6,5,4],[3,2,1]]) \n",
        "\n",
        "with tf.Session() as sess: \n",
        "  init.run() \n",
        "  y0_val,y1_val = sess.run([y0,y1],feed_dict={x0:x0_batch,x1:x1_batch}) "
      ],
      "execution_count": 0,
      "outputs": []
    },
    {
      "cell_type": "code",
      "metadata": {
        "id": "zkbx0BZD-n1n",
        "colab_type": "code",
        "colab": {}
      },
      "source": [
        "n_steps = 2 \n",
        "n_inputs = 3 \n",
        "n_neurons = 5 \n",
        "\n",
        "reset_graph() \n",
        "\n",
        "x = tf.placeholder(tf.float32,[None,n_steps,n_inputs]) \n",
        "x_seqs = tf.unstack(tf.transpose(x,perm=[1,0,2]))\n",
        "\n",
        "basic_cell = tf.nn.rnn_cell.BasicRNNCell(num_units=n_neurons) \n",
        "output_seqs,states = tf.nn.static_rnn(basic_cell,x_seqs,dtype=tf.float32)\n",
        "\n",
        "outputs = tf.transpose(tf.stack(output_seqs),perm=[1,0,2]) \n",
        "\n",
        "                    \n",
        "                  "
      ],
      "execution_count": 0,
      "outputs": []
    },
    {
      "cell_type": "code",
      "metadata": {
        "id": "f0XaaIyE_Or0",
        "colab_type": "code",
        "colab": {}
      },
      "source": [
        "init = tf.global_variables_initializer()"
      ],
      "execution_count": 0,
      "outputs": []
    },
    {
      "cell_type": "code",
      "metadata": {
        "id": "H8rGcmMH_dzy",
        "colab_type": "code",
        "colab": {}
      },
      "source": [
        "x_batch  = np.array([\n",
        "    [[0, 1, 2], [9, 8, 7]], # instance 1\n",
        "    [[3, 4, 5], [0, 0, 0]], # instance 2\n",
        "    [[6, 7, 8], [6, 5, 4]], # instance 3\n",
        "    [[9, 0, 1], [3, 2, 1]], # instance 4\n",
        "])\n",
        "\n",
        "with tf.Session() as sess: \n",
        "  init.run() \n",
        "  outputs_val = outputs.eval(feed_dict={x:x_batch})  "
      ],
      "execution_count": 0,
      "outputs": []
    },
    {
      "cell_type": "code",
      "metadata": {
        "id": "kXOqjADw_tl5",
        "colab_type": "code",
        "colab": {
          "base_uri": "https://localhost:8080/",
          "height": 88
        },
        "outputId": "a3a5dbaa-28db-4b71-d294-2019ebadcab7"
      },
      "source": [
        "n_steps = 2 \n",
        "n_inputs = 3 \n",
        "n_neurons = 5 \n",
        "\n",
        "reset_graph() \n",
        "\n",
        "x = tf.placeholder(tf.float32,[None,n_steps,n_inputs]) \n",
        "\n",
        "basic_cell = tf.nn.rnn_cell.BasicRNNCell(num_units=n_neurons)\n",
        "outputs, states = tf.nn.dynamic_rnn(basic_cell,x,dtype=tf.float32) "
      ],
      "execution_count": 13,
      "outputs": [
        {
          "output_type": "stream",
          "text": [
            "WARNING:tensorflow:From <ipython-input-13-2283035e048e>:10: dynamic_rnn (from tensorflow.python.ops.rnn) is deprecated and will be removed in a future version.\n",
            "Instructions for updating:\n",
            "Please use `keras.layers.RNN(cell)`, which is equivalent to this API\n"
          ],
          "name": "stdout"
        }
      ]
    },
    {
      "cell_type": "code",
      "metadata": {
        "id": "gWIwqB6HAFHH",
        "colab_type": "code",
        "colab": {}
      },
      "source": [
        "init = tf.global_variables_initializer() \n",
        "\n"
      ],
      "execution_count": 0,
      "outputs": []
    },
    {
      "cell_type": "code",
      "metadata": {
        "id": "gJ2WG-5PAJle",
        "colab_type": "code",
        "colab": {}
      },
      "source": [
        "x_batch = np.array([\n",
        "    [[0, 1, 2], [9, 8, 7]], # instance 1\n",
        "    [[3, 4, 5], [0, 0, 0]], # instance 2\n",
        "    [[6, 7, 8], [6, 5, 4]], # instance 3\n",
        "    [[9, 0, 1], [3, 2, 1]], # instance 4\n",
        "])\n",
        "\n",
        "with tf.Session() as sess: \n",
        "  init.run()\n",
        "  outputs_val = outputs.eval(feed_dict={x:x_batch})  "
      ],
      "execution_count": 0,
      "outputs": []
    },
    {
      "cell_type": "code",
      "metadata": {
        "id": "bzphPnFVAWc1",
        "colab_type": "code",
        "colab": {}
      },
      "source": [
        "n_steps = 2 \n",
        "n_inputs = 3 \n",
        "n_neurons = 5 \n",
        "\n",
        "reset_graph()\n",
        "\n",
        "x = tf.placeholder(tf.float32,[None,n_steps,n_inputs]) \n",
        "basic_cell = tf.nn.rnn_cell.BasicRNNCell(num_units=n_neurons) "
      ],
      "execution_count": 0,
      "outputs": []
    },
    {
      "cell_type": "code",
      "metadata": {
        "id": "sETNraoAAoIa",
        "colab_type": "code",
        "colab": {
          "base_uri": "https://localhost:8080/",
          "height": 88
        },
        "outputId": "c2a2143f-20bb-4783-d399-4d7d2dcd6cfd"
      },
      "source": [
        "seq_length = tf.placeholder(tf.int32,[None]) \n",
        "outputs,states = tf.nn.dynamic_rnn(basic_cell,x,dtype=tf.float32,sequence_length=seq_length)"
      ],
      "execution_count": 17,
      "outputs": [
        {
          "output_type": "stream",
          "text": [
            "WARNING:tensorflow:From /usr/local/lib/python3.6/dist-packages/tensorflow/python/ops/rnn.py:626: to_int32 (from tensorflow.python.ops.math_ops) is deprecated and will be removed in a future version.\n",
            "Instructions for updating:\n",
            "Use tf.cast instead.\n"
          ],
          "name": "stdout"
        }
      ]
    },
    {
      "cell_type": "code",
      "metadata": {
        "id": "zJUibwdhAzJb",
        "colab_type": "code",
        "colab": {}
      },
      "source": [
        "init = tf.global_variables_initializer() "
      ],
      "execution_count": 0,
      "outputs": []
    },
    {
      "cell_type": "code",
      "metadata": {
        "id": "sY55H-quA1-C",
        "colab_type": "code",
        "colab": {}
      },
      "source": [
        "x_batch = np.array([\n",
        "    [[0, 1, 2], [9, 8, 7]], # instance 1\n",
        "    [[3, 4, 5], [0, 0, 0]], # instance 2 (padded with zero vectors)\n",
        "    [[6, 7, 8], [6, 5, 4]], # instance 3\n",
        "    [[9, 0, 1], [3, 2, 1]], # instance 4\n",
        "]) \n",
        "\n",
        "seq_length_batch = np.array([2,1,2,2]) "
      ],
      "execution_count": 0,
      "outputs": []
    },
    {
      "cell_type": "code",
      "metadata": {
        "id": "GS2F_JCfBAu5",
        "colab_type": "code",
        "colab": {}
      },
      "source": [
        ""
      ],
      "execution_count": 0,
      "outputs": []
    }
  ]
}