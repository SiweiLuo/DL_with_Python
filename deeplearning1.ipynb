{
  "nbformat": 4,
  "nbformat_minor": 0,
  "metadata": {
    "colab": {
      "name": "deeplearning1.ipynb",
      "version": "0.3.2",
      "provenance": [],
      "include_colab_link": true
    },
    "kernelspec": {
      "name": "python3",
      "display_name": "Python 3"
    }
  },
  "cells": [
    {
      "cell_type": "markdown",
      "metadata": {
        "id": "view-in-github",
        "colab_type": "text"
      },
      "source": [
        "<a href=\"https://colab.research.google.com/github/SiweiLuo/DL_with_Python/blob/master/deeplearning1.ipynb\" target=\"_parent\"><img src=\"https://colab.research.google.com/assets/colab-badge.svg\" alt=\"Open In Colab\"/></a>"
      ]
    },
    {
      "cell_type": "code",
      "metadata": {
        "id": "l0qhjgdI1Epl",
        "colab_type": "code",
        "colab": {}
      },
      "source": [
        "import numpy as np\n",
        "import os\n",
        "\n",
        "# to make this notebook's output stable across runs\n",
        "def reset_graph(seed=42):\n",
        "    tf.reset_default_graph()\n",
        "    tf.set_random_seed(seed)\n",
        "    np.random.seed(seed)\n",
        "\n",
        "# To plot pretty figures\n",
        "%matplotlib inline\n",
        "import matplotlib\n",
        "import matplotlib.pyplot as plt\n",
        "plt.rcParams['axes.labelsize'] = 14\n",
        "plt.rcParams['xtick.labelsize'] = 12\n",
        "plt.rcParams['ytick.labelsize'] = 12\n",
        "\n",
        "# Where to save the figures\n",
        "PROJECT_ROOT_DIR = \".\"\n",
        "CHAPTER_ID = \"deep\"\n",
        "\n",
        "def save_fig(fig_id, tight_layout=True):\n",
        "    path = os.path.join(fig_id + \".png\")\n",
        "    print(\"Saving figure\", fig_id)\n",
        "    if tight_layout:\n",
        "        plt.tight_layout()\n",
        "    plt.savefig(path, format='png', dpi=300)"
      ],
      "execution_count": 0,
      "outputs": []
    },
    {
      "cell_type": "code",
      "metadata": {
        "id": "PmV0A9i21JVR",
        "colab_type": "code",
        "colab": {}
      },
      "source": [
        "def logit(z):\n",
        "  return 1/(1+np.exp(-z)) "
      ],
      "execution_count": 0,
      "outputs": []
    },
    {
      "cell_type": "code",
      "metadata": {
        "id": "UOO9S9MU1Wm8",
        "colab_type": "code",
        "colab": {
          "base_uri": "https://localhost:8080/",
          "height": 314
        },
        "outputId": "e92bdf86-8f71-4fc5-da72-a9042e1924f4"
      },
      "source": [
        "z = np.linspace(-5,5,200) \n",
        "\n",
        "plt.plot([-5,5],[0,0],'k-')\n",
        "plt.plot([-5,5],[1,1],'k--')\n",
        "plt.plot([0, 0], [-0.2, 1.2], 'k-')\n",
        "plt.plot([-5, 5], [-3/4, 7/4], 'g--')\n",
        "plt.plot(z, logit(z), \"b-\", linewidth=2)\n",
        "props = dict(facecolor='black', shrink=0.1)\n",
        "plt.annotate('Saturating', xytext=(3.5, 0.7), xy=(5, 1), arrowprops=props, fontsize=14, ha=\"center\")\n",
        "plt.annotate('Saturating', xytext=(-3.5, 0.3), xy=(-5, 0), arrowprops=props, fontsize=14, ha=\"center\")\n",
        "plt.annotate('Linear', xytext=(2, 0.2), xy=(0, 0.5), arrowprops=props, fontsize=14, ha=\"center\")\n",
        "plt.grid(True)\n",
        "plt.title(\"Sigmoid activation function\", fontsize=14)\n",
        "plt.axis([-5, 5, -0.2, 1.2])\n",
        "\n",
        "save_fig(\"sigmoid_saturation_plot\")\n",
        "plt.show()"
      ],
      "execution_count": 3,
      "outputs": [
        {
          "output_type": "stream",
          "text": [
            "Saving figure sigmoid_saturation_plot\n"
          ],
          "name": "stdout"
        },
        {
          "output_type": "display_data",
          "data": {
            "image/png": "[encoded data removed]",
            "text/plain": [
              "<Figure size 432x288 with 1 Axes>"
            ]
          },
          "metadata": {
            "tags": []
          }
        }
      ]
    },
    {
      "cell_type": "code",
      "metadata": {
        "id": "lyz3_no51h1z",
        "colab_type": "code",
        "colab": {}
      },
      "source": [
        "import tensorflow as tf \n",
        "\n",
        "reset_graph() \n",
        "\n",
        "n_inputs = 28*28 \n",
        "n_hidden1 = 300 \n",
        "\n",
        "x = tf.placeholder(tf.float32,shape=(None,n_inputs),name=\"x\")\n",
        "\n"
      ],
      "execution_count": 0,
      "outputs": []
    },
    {
      "cell_type": "code",
      "metadata": {
        "id": "vxVUFoT91tGo",
        "colab_type": "code",
        "colab": {
          "base_uri": "https://localhost:8080/",
          "height": 105
        },
        "outputId": "ab7ce25a-c966-4672-85c3-89855efad9c4"
      },
      "source": [
        "he_init = tf.variance_scaling_initializer()\n",
        "hidden1 = tf.layers.dense(x,n_hidden1,activation=tf.nn.relu,\n",
        "                          kernel_initializer=he_init,name=\"hidden1\")"
      ],
      "execution_count": 6,
      "outputs": [
        {
          "output_type": "stream",
          "text": [
            "WARNING: Logging before flag parsing goes to stderr.\n",
            "W0711 21:02:38.746090 139822228359040 deprecation.py:323] From <ipython-input-6-d73260751d48>:3: dense (from tensorflow.python.layers.core) is deprecated and will be removed in a future version.\n",
            "Instructions for updating:\n",
            "Use keras.layers.dense instead.\n"
          ],
          "name": "stderr"
        }
      ]
    },
    {
      "cell_type": "code",
      "metadata": {
        "id": "oNl5BGMX2FwP",
        "colab_type": "code",
        "colab": {}
      },
      "source": [
        "def leaky_relu(z,alpha=0.01):\n",
        "  return np.maximum(alpha*z,z)"
      ],
      "execution_count": 0,
      "outputs": []
    },
    {
      "cell_type": "code",
      "metadata": {
        "id": "rbiInvgs2K6t",
        "colab_type": "code",
        "colab": {
          "base_uri": "https://localhost:8080/",
          "height": 314
        },
        "outputId": "4b494621-e5cd-4929-8170-d884e6753072"
      },
      "source": [
        "plt.plot(z, leaky_relu(z, 0.05), \"b-\", linewidth=2)\n",
        "plt.plot([-5, 5], [0, 0], 'k-')\n",
        "plt.plot([0, 0], [-0.5, 4.2], 'k-')\n",
        "plt.grid(True)\n",
        "props = dict(facecolor='black', shrink=0.1)\n",
        "plt.annotate('Leak', xytext=(-3.5, 0.5), xy=(-5, -0.2), arrowprops=props, fontsize=14, ha=\"center\")\n",
        "plt.title(\"Leaky ReLU activation function\", fontsize=14)\n",
        "plt.axis([-5, 5, -0.5, 4.2])\n",
        "\n",
        "save_fig(\"leaky_relu_plot\")\n",
        "plt.show()"
      ],
      "execution_count": 8,
      "outputs": [
        {
          "output_type": "stream",
          "text": [
            "Saving figure leaky_relu_plot\n"
          ],
          "name": "stdout"
        },
        {
          "output_type": "display_data",
          "data": {
            "image/png": "[encoded data removed]",
            "text/plain": [
              "<Figure size 432x288 with 1 Axes>"
            ]
          },
          "metadata": {
            "tags": []
          }
        }
      ]
    },
    {
      "cell_type": "code",
      "metadata": {
        "id": "EjustelE2NDF",
        "colab_type": "code",
        "colab": {}
      },
      "source": [
        "reset_graph()\n",
        "\n",
        "x = tf.placeholder(tf.float32,shape=(None,n_inputs),name=\"x\")\n"
      ],
      "execution_count": 0,
      "outputs": []
    },
    {
      "cell_type": "code",
      "metadata": {
        "id": "b7Zz5Kzu2S1M",
        "colab_type": "code",
        "colab": {
          "base_uri": "https://localhost:8080/",
          "height": 88
        },
        "outputId": "b32724e0-2b38-448a-fb18-c988afe18fdf"
      },
      "source": [
        "def leaky_relu(z,name=None):\n",
        "  return tf.maximum(0.01*z,z,name=name)\n",
        "\n",
        "hidden1 = tf.layers.dense(x,n_hidden1,activation=leaky_relu,name=\"hidden\")"
      ],
      "execution_count": 11,
      "outputs": [
        {
          "output_type": "stream",
          "text": [
            "W0711 21:04:17.674296 139822228359040 deprecation.py:506] From /usr/local/lib/python3.6/dist-packages/tensorflow/python/ops/init_ops.py:1251: calling VarianceScaling.__init__ (from tensorflow.python.ops.init_ops) with dtype is deprecated and will be removed in a future version.\n",
            "Instructions for updating:\n",
            "Call initializer instance with the dtype argument instead of passing it to the constructor\n"
          ],
          "name": "stderr"
        }
      ]
    },
    {
      "cell_type": "code",
      "metadata": {
        "id": "eyCjpz4o2cea",
        "colab_type": "code",
        "colab": {}
      },
      "source": [
        "reset_graph()\n",
        "\n",
        "n_inputs = 28*28 \n",
        "n_hidden1 = 300\n",
        "n_hidden2 = 100\n",
        "n_outputs = 10 \n",
        "\n",
        "x = tf.placeholder(tf.float32,shape=(None,n_inputs),name=\"x\")\n",
        "y = tf.placeholder(tf.int32,shape=(None),name=\"y\") \n"
      ],
      "execution_count": 0,
      "outputs": []
    },
    {
      "cell_type": "code",
      "metadata": {
        "id": "WL7doWIo2rjQ",
        "colab_type": "code",
        "colab": {}
      },
      "source": [
        "with tf.name_scope(\"dnn\"): \n",
        "  hidden1 = tf.layers.dense(x,n_hidden1,activation=leaky_relu,name=\"hidden\")\n",
        "  hidden2 = tf.layers.dense(hidden1,n_hidden2,activation=leaky_relu,name=\"hidden2\")\n",
        "  logits = tf.layers.dense(hidden2,n_outputs,name=\"outputs\") \n",
        "  "
      ],
      "execution_count": 0,
      "outputs": []
    },
    {
      "cell_type": "code",
      "metadata": {
        "id": "rjrkAec-2-U0",
        "colab_type": "code",
        "colab": {}
      },
      "source": [
        "with tf.name_scope(\"loss\"):\n",
        "  xentropy = tf.nn.sparse_softmax_cross_entropy_with_logits(labels=y,logits=logits) \n",
        "  loss = tf.reduce_mean(xentropy,name=\"loss\") "
      ],
      "execution_count": 0,
      "outputs": []
    },
    {
      "cell_type": "code",
      "metadata": {
        "id": "koXnK2Y33H_b",
        "colab_type": "code",
        "colab": {
          "base_uri": "https://localhost:8080/",
          "height": 88
        },
        "outputId": "98895430-dd71-4ed0-d1b6-267b4428d808"
      },
      "source": [
        "learning_rate = 0.01 \n",
        "\n",
        "with tf.name_scope(\"train\"):\n",
        "  optimizer = tf.train.GradientDescentOptimizer(learning_rate) \n",
        "  training_op = optimizer.minimize(loss) "
      ],
      "execution_count": 15,
      "outputs": [
        {
          "output_type": "stream",
          "text": [
            "W0711 21:07:45.233914 139822228359040 deprecation.py:323] From /usr/local/lib/python3.6/dist-packages/tensorflow/python/ops/math_grad.py:1250: add_dispatch_support.<locals>.wrapper (from tensorflow.python.ops.array_ops) is deprecated and will be removed in a future version.\n",
            "Instructions for updating:\n",
            "Use tf.where in 2.0, which has the same broadcast rule as np.where\n"
          ],
          "name": "stderr"
        }
      ]
    },
    {
      "cell_type": "code",
      "metadata": {
        "id": "fQ7Plmxb3Qk5",
        "colab_type": "code",
        "colab": {}
      },
      "source": [
        "with tf.name_scope(\"eval\"):\n",
        "  correct = tf.nn.in_top_k(logits,y,1)\n",
        "  accuracy = tf.reduce_mean(tf.cast(correct,tf.float32)) \n",
        "  \n",
        "  "
      ],
      "execution_count": 0,
      "outputs": []
    },
    {
      "cell_type": "code",
      "metadata": {
        "id": "HIpPXc6h3Zc4",
        "colab_type": "code",
        "colab": {}
      },
      "source": [
        "init = tf.global_variables_initializer() \n",
        "\n",
        "saver = tf.train.Saver() "
      ],
      "execution_count": 0,
      "outputs": []
    },
    {
      "cell_type": "code",
      "metadata": {
        "id": "EaFEZJdq3dpm",
        "colab_type": "code",
        "colab": {
          "base_uri": "https://localhost:8080/",
          "height": 71
        },
        "outputId": "607a7ffc-3d4f-4663-acee-4b456469249b"
      },
      "source": [
        "(x_train,y_train),(x_test,y_test) = tf.keras.datasets.mnist.load_data() \n",
        "\n",
        "x_train = x_train.astype(np.float32).reshape(-1,28*28) /255.0\n",
        "x_test = x_test.astype(np.float32).reshape(-1,28*28)/255.0 \n",
        "y_train = y_train.astype(np.int32) \n",
        "y_test = y_test.astype(np.int32) \n",
        "x_valid,x_train = x_train[:5000],x_train[5000:]\n",
        "y_valid,y_train = y_train[:5000],y_train[5000:] "
      ],
      "execution_count": 18,
      "outputs": [
        {
          "output_type": "stream",
          "text": [
            "Downloading data from https://storage.googleapis.com/tensorflow/tf-keras-datasets/mnist.npz\n",
            "11493376/11490434 [==============================] - 0s 0us/step\n"
          ],
          "name": "stdout"
        }
      ]
    },
    {
      "cell_type": "code",
      "metadata": {
        "id": "Q4aPSPQI38in",
        "colab_type": "code",
        "colab": {}
      },
      "source": [
        "def shuffle_batch(x,y,batch_size):\n",
        "  rnd_idx = np.random.permutation(len(x))\n",
        "  n_batches = len(x) // batch_size \n",
        "    \n",
        "  for batch_idx in np.array_split(rnd_idx,n_batches):\n",
        "    x_batch,y_batch = x[batch_idx],y[batch_idx]\n",
        "    yield x_batch,y_batch "
      ],
      "execution_count": 0,
      "outputs": []
    },
    {
      "cell_type": "code",
      "metadata": {
        "id": "GNGHci1y4RX-",
        "colab_type": "code",
        "colab": {
          "base_uri": "https://localhost:8080/",
          "height": 136
        },
        "outputId": "7f20c41d-a70c-4884-a9a4-e4c5502f19dd"
      },
      "source": [
        "n_epochs = 40 \n",
        "batch_size = 50 \n",
        "\n",
        "with tf.Session() as sess: \n",
        "  init.run() \n",
        "  for epoch in range(n_epochs):\n",
        "    for x_batch,y_batch in shuffle_batch(x_train,y_train,batch_size):\n",
        "      sess.run(training_op,feed_dict={x:x_batch,y:y_batch})\n",
        "      \n",
        "    if epoch % 5 == 0: \n",
        "      acc_batch = accuracy.eval(feed_dict={x:x_batch,y:y_batch})\n",
        "      acc_valid = accuracy.eval(feed_dict={x:x_valid,y:y_valid}) \n",
        "      \n",
        "      print(epoch, \"batch accuracy:\", acc_batch,\"validation accuracy:\",acc_valid) \n",
        "      \n",
        "  save_path = saver.save(sess,\"./my_model_final.ckpt\")"
      ],
      "execution_count": 0,
      "outputs": [
        {
          "output_type": "stream",
          "text": [
            "0 batch accuracy: 0.92 validation accuracy: 0.9032\n",
            "5 batch accuracy: 1.0 validation accuracy: 0.9502\n",
            "10 batch accuracy: 0.98 validation accuracy: 0.965\n",
            "15 batch accuracy: 1.0 validation accuracy: 0.9724\n",
            "20 batch accuracy: 1.0 validation accuracy: 0.9752\n",
            "25 batch accuracy: 0.94 validation accuracy: 0.9764\n",
            "30 batch accuracy: 0.96 validation accuracy: 0.979\n"
          ],
          "name": "stdout"
        }
      ]
    },
    {
      "cell_type": "code",
      "metadata": {
        "id": "fEHayY6U43mC",
        "colab_type": "code",
        "colab": {}
      },
      "source": [
        "def elu(z,alpha=1):\n",
        "  return np.where(z<0,alpha*(np.exp(z)-1),z) "
      ],
      "execution_count": 0,
      "outputs": []
    },
    {
      "cell_type": "code",
      "metadata": {
        "id": "XmDWGGIe5WK0",
        "colab_type": "code",
        "colab": {}
      },
      "source": [
        "plt.plot(z, elu(z), \"b-\", linewidth=2)\n",
        "plt.plot([-5, 5], [0, 0], 'k-')\n",
        "plt.plot([-5, 5], [-1, -1], 'k--')\n",
        "plt.plot([0, 0], [-2.2, 3.2], 'k-')\n",
        "plt.grid(True)\n",
        "plt.title(r\"ELU activation function ($\\alpha=1$)\", fontsize=14)\n",
        "plt.axis([-5, 5, -2.2, 3.2])\n",
        "\n",
        "save_fig(\"elu_plot\")\n",
        "plt.show()"
      ],
      "execution_count": 0,
      "outputs": []
    },
    {
      "cell_type": "code",
      "metadata": {
        "id": "_Q8fZ2bR5YkS",
        "colab_type": "code",
        "colab": {}
      },
      "source": [
        "reset_graph() \n",
        "\n",
        "x = tf.placeholder(tf.float32,shape=(None,n_inputs),name=\"x\") \n",
        "\n",
        "hidden1 = tf.layers.dense(x,n_hidden1,activation=tf.nn.elu,name=\"hidden1\") "
      ],
      "execution_count": 0,
      "outputs": []
    }
  ]
}