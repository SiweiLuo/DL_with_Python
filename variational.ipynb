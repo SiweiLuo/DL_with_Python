{
  "nbformat": 4,
  "nbformat_minor": 0,
  "metadata": {
    "colab": {
      "name": "variational.ipynb",
      "provenance": [],
      "authorship_tag": "ABX9TyMstUkRJxgqn66m197ouWSJ"
    },
    "kernelspec": {
      "name": "python3",
      "display_name": "Python 3"
    }
  },
  "cells": [
    {
      "cell_type": "code",
      "metadata": {
        "id": "OHJXyST85zwD"
      },
      "source": [
        "import numpy as np \n",
        "import matplotlib.pyplot as plt \n",
        "\n",
        "\n"
      ],
      "execution_count": 1,
      "outputs": []
    },
    {
      "cell_type": "code",
      "metadata": {
        "id": "kkF6Sbov54Os"
      },
      "source": [
        "def f(x,sigma):\n",
        "  epsilon = np.random.randn(*x.shape)*sigma\n",
        "  return 10*np.sin(2*np.pi*x) + epsilon\n",
        "\n",
        "  "
      ],
      "execution_count": 2,
      "outputs": []
    },
    {
      "cell_type": "code",
      "metadata": {
        "colab": {
          "base_uri": "https://localhost:8080/",
          "height": 298
        },
        "id": "x1Ee89qC6BJ2",
        "outputId": "bf9ffb0b-aee5-4dbb-d6b1-61092f964f2d"
      },
      "source": [
        "train_size = 32\n",
        "noise = 1.0 \n",
        "\n",
        "X = np.linspace(-0.5,0.5,train_size).reshape(-1,1) \n",
        "y = f(X,noise) \n",
        "y_true = f(X,0.0) \n",
        "\n",
        "plt.scatter(X,y,marker='+',label='training data') \n",
        "plt.plot(X,y_true,label='truth') \n",
        "plt.title('noisy training data and ground truth')\n",
        "plt.legend()\n",
        "    \n"
      ],
      "execution_count": 3,
      "outputs": [
        {
          "output_type": "execute_result",
          "data": {
            "text/plain": [
              "<matplotlib.legend.Legend at 0x7fa2fea2fac8>"
            ]
          },
          "metadata": {
            "tags": []
          },
          "execution_count": 3
        },
        {
          "output_type": "display_data",
          "data": {
            "image/png": "[encoded data removed]",
            "text/plain": [
              "<Figure size 432x288 with 1 Axes>"
            ]
          },
          "metadata": {
            "tags": [],
            "needs_background": "light"
          }
        }
      ]
    },
    {
      "cell_type": "code",
      "metadata": {
        "id": "o12MX6By6V11"
      },
      "source": [
        "from keras import backend as K \n",
        "from keras import activations, initializers\n",
        "from keras.layers import Layer\n",
        "\n",
        "import tensorflow as tf \n",
        "import tensorflow_probability as tfp \n",
        "\n"
      ],
      "execution_count": 4,
      "outputs": []
    },
    {
      "cell_type": "code",
      "metadata": {
        "id": "QU8ocDTZ6gho"
      },
      "source": [
        "class DenseVariational(Layer): \n",
        "    def __init__(self,\n",
        "                 units,\n",
        "                 kl_weight,\n",
        "                 activation=None,\n",
        "                 prior_sigma_1=1.5,\n",
        "                 prior_sigma_2=0.1,\n",
        "                 prior_pi=0.5,**kwargs):\n",
        "        self.units = units\n",
        "        self.kl_weight = kl_weight\n",
        "        self.activation = activations.get(activation)\n",
        "        self.prior_sigma_1 = prior_sigma_1 \n",
        "        self.prior_sigma_2 = prior_sigma_2\n",
        "        self.prior_pi_1 = prior_pi\n",
        "        self.prior_pi_2 = 1 - prior_pi\n",
        "        self.init_sigma = np.sqrt(self.prior_pi_1*self.prior_sigma_1**2 + \n",
        "                                  self.prior_pi_2*self.prior_sigma_2**2)\n",
        "        super().__init__(**kwargs)\n",
        "\n",
        "    def compute_output_shape(self,input_shape):\n",
        "        return input_shape[0],self.units\n",
        "\n",
        "    def build(self,input_shape):\n",
        "        self.kernel_mu = self.add_weight(name='kernel_mu',\n",
        "                                         shape=(input_shape[1],self.units),\n",
        "                                         initializer=initializers.RandomNormal(stddev=self.init_sigma),\n",
        "                                         trainable=True)\n",
        "\n",
        "        self.bias_mu = self.add_weight(name='bias_mu',\n",
        "                                       shape=(self.units,),\n",
        "                                       initializer = initializers.RandomNormal(stddev=self.init_sigma),\n",
        "                                       trainable=True)\n",
        "\n",
        "        self.kernel_rho = self.add_weight(name='kernel_rho',\n",
        "                                          shape=(input_shape[1],self.units,),\n",
        "                                          initializer = initializers.constant(0.0),\n",
        "                                          trainable=True)\n",
        "\n",
        "        self.bias_rho = self.add_weight(name='bias_rho',\n",
        "                                        shape=(self.units,),\n",
        "                                        initializer = initializers.constant(0.0),\n",
        "                                        trainable=True)\n",
        "\n",
        "        super().build(input_shape)\n",
        "\n",
        "    \n",
        "    def call(self,inputs,**kwargs):\n",
        "        kernel_sigma = tf.math.softplus(self.kernel_rho)\n",
        "        kernel = self.kernel_mu + kernel_sigma*tf.random.normal(self.kernel_mu.shape)\n",
        "        \n",
        "        bias_sigma = tf.math.softplus(self.bias_rho)\n",
        "        bias = self.bias_mu + bias_sigma*tf.random.normal(self.bias_mu.shape)\n",
        "        \n",
        "        self.add_loss(self.kl_loss(kernel,self.kernel_mu,kernel_sigma)+\n",
        "                      self.kl_loss(bias,self.bias_mu,bias_sigma))\n",
        "        \n",
        "        return self.activation(K.dot(inputs,kernel)+bias)\n",
        "    \n",
        "    def kl_loss(self,W,mu,sigma):\n",
        "        variational_dist = tfp.distributions.Normal(mu,sigma)\n",
        "        return self.kl_weight*K.sum(variational_dist.log_prob(W)-self.log_prior_prob(W))\n",
        "    \n",
        "    \n",
        "    def log_prior_prob(self,W):\n",
        "        comp_1_dist = tfp.distributions.Normal(0.0,self.prior_sigma_1)\n",
        "        comp_2_dist = tfp.distributions.Normal(0.0,self.prior_sigma_2)\n",
        "        return K.log(self.prior_pi_1*comp_1_dist.prob(W) + \n",
        "                     self.prior_pi_2*comp_2_dist.prob(W))"
      ],
      "execution_count": 14,
      "outputs": []
    },
    {
      "cell_type": "code",
      "metadata": {
        "id": "lmMbGQKh6zFK"
      },
      "source": [
        "import warnings \n",
        "warnings.filterwarnings('ignore') \n",
        "\n",
        "from keras.layers import Input\n",
        "from keras.models import Model\n"
      ],
      "execution_count": 16,
      "outputs": []
    },
    {
      "cell_type": "code",
      "metadata": {
        "id": "lGI1Pn8c8rnQ"
      },
      "source": [
        "batch_size = train_size \n",
        "num_batches = train_size / batch_size \n",
        "\n",
        "kl_weight = 1.0 / num_batches \n",
        "\n",
        "prior_params = {\n",
        "    'prior_sigma_1':1.5,\n",
        "    'prior_sigma_2':0.1,\n",
        "    'prior_pi':0.5\n",
        "}\n",
        "\n",
        "\n"
      ],
      "execution_count": 17,
      "outputs": []
    },
    {
      "cell_type": "code",
      "metadata": {
        "id": "QLLZksfc88BI"
      },
      "source": [
        "x_in = Input(shape=(1,))\n",
        "x = DenseVariational(20,kl_weight,**prior_params,activation='relu')(x_in)\n",
        "x = DenseVariational(20,kl_weight,**prior_params,activation='relu')(x)\n",
        "x = DenseVariational(1,kl_weight,**prior_params)(x) \n",
        "\n",
        "model = Model(x_in,x) \n",
        "\n"
      ],
      "execution_count": 18,
      "outputs": []
    },
    {
      "cell_type": "code",
      "metadata": {
        "id": "LIZXNVNc9O7O"
      },
      "source": [
        "from keras import callbacks, optimizers \n",
        "\n",
        "def neg_log_likelihood(y_obs,y_pred,sigma=noise):\n",
        "  dist = tfp.distributions.Normal(loc=y_pred,scale=sigma)\n",
        "  return K.sum(-dist.log_prob(y_obs)) "
      ],
      "execution_count": 19,
      "outputs": []
    },
    {
      "cell_type": "code",
      "metadata": {
        "colab": {
          "base_uri": "https://localhost:8080/"
        },
        "id": "QnaXGpZa9du_",
        "outputId": "4c7a75e2-d518-44a5-e3a8-54e5fd26dba0"
      },
      "source": [
        "model.compile(loss=neg_log_likelihood,optimizer=optimizers.Adam(lr=0.08),metrics=['mse']) \n",
        "model.fit(X,y,batch_size,epochs=1500,verbose=0) \n",
        "\n",
        "\n"
      ],
      "execution_count": 20,
      "outputs": [
        {
          "output_type": "execute_result",
          "data": {
            "text/plain": [
              "<tensorflow.python.keras.callbacks.History at 0x7fa2bae827f0>"
            ]
          },
          "metadata": {
            "tags": []
          },
          "execution_count": 20
        }
      ]
    },
    {
      "cell_type": "code",
      "metadata": {
        "colab": {
          "base_uri": "https://localhost:8080/",
          "height": 315
        },
        "id": "0VKD-HLm9plP",
        "outputId": "e2aedc21-f162-4bfa-be2b-298f293c29c1"
      },
      "source": [
        "import tqdm \n",
        "\n",
        "x_test = np.linspace(-1.5,1.5,1000).reshape(-1,1)\n",
        "y_pred_list = [] \n",
        "\n",
        "for i in tqdm.tqdm(range(500)):\n",
        "  y_pred = model.predict(x_test) \n",
        "  y_pred_list.append(y_pred) \n",
        "\n",
        "y_preds = np.concatenate(y_pred_list,axis=1) \n",
        "\n",
        "y_mean = np.mean(y_preds,axis=1) \n",
        "y_sigma = np.std(y_preds,axis=1) \n",
        "\n",
        "plt.plot(x_test,y_mean,'+',label='predictive mean')\n",
        "plt.scatter(X,y,marker='+',label='training data') \n",
        "\n",
        "plt.fill_between(x_test.ravel(),\n",
        "                 y_mean + 3*y_sigma,\n",
        "                 y_mean - 3*y_sigma,\n",
        "                 alpha=0.3,label=r'3 $\\sigma$ uncertainty')\n",
        "\n",
        "\n",
        "plt.fill_between(x_test.ravel(),\n",
        "                 y_mean + 2*y_sigma,\n",
        "                 y_mean - 2*y_sigma,\n",
        "                 alpha=0.5,label=r'2 $\\sigma$ uncertainty')\n",
        "\n",
        "\n",
        "\n",
        "plt.fill_between(x_test.ravel(),\n",
        "                 y_mean + 1*y_sigma,\n",
        "                 y_mean - 1*y_sigma,\n",
        "                 alpha=0.7,label=r'1 $\\sigma$ uncertainty')\n",
        "\n",
        "\n",
        "\n",
        "plt.title('Prediction')\n",
        "plt.legend()\n"
      ],
      "execution_count": 22,
      "outputs": [
        {
          "output_type": "stream",
          "text": [
            "100%|██████████| 500/500 [00:30<00:00, 16.54it/s]\n"
          ],
          "name": "stderr"
        },
        {
          "output_type": "execute_result",
          "data": {
            "text/plain": [
              "<matplotlib.legend.Legend at 0x7fa2b6a5cf98>"
            ]
          },
          "metadata": {
            "tags": []
          },
          "execution_count": 22
        },
        {
          "output_type": "display_data",
          "data": {
            "image/png": "[encoded data removed]",
            "text/plain": [
              "<Figure size 432x288 with 1 Axes>"
            ]
          },
          "metadata": {
            "tags": [],
            "needs_background": "light"
          }
        }
      ]
    },
    {
      "cell_type": "code",
      "metadata": {
        "id": "1rmk2m3M-MpG"
      },
      "source": [
        ""
      ],
      "execution_count": null,
      "outputs": []
    }
  ]
}