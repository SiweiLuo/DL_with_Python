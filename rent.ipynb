{
  "nbformat": 4,
  "nbformat_minor": 0,
  "metadata": {
    "colab": {
      "name": "rent.ipynb",
      "version": "0.3.2",
      "provenance": [],
      "include_colab_link": true
    },
    "kernelspec": {
      "name": "python3",
      "display_name": "Python 3"
    }
  },
  "cells": [
    {
      "cell_type": "markdown",
      "metadata": {
        "id": "view-in-github",
        "colab_type": "text"
      },
      "source": [
        "<a href=\"https://colab.research.google.com/github/SiweiLuo/DL_with_Python/blob/master/rent.ipynb\" target=\"_parent\"><img src=\"https://colab.research.google.com/assets/colab-badge.svg\" alt=\"Open In Colab\"/></a>"
      ]
    },
    {
      "cell_type": "code",
      "metadata": {
        "id": "YecdlLVykN0-",
        "colab_type": "code",
        "colab": {}
      },
      "source": [
        "from geopy.geocoders import Nominatim\n",
        "geolocator = Nominatim(user_agent=\"my-application\")\n",
        "location = geolocator.geocode(60608)"
      ],
      "execution_count": 0,
      "outputs": []
    },
    {
      "cell_type": "code",
      "metadata": {
        "id": "1iwDlbHBkY0Z",
        "colab_type": "code",
        "colab": {
          "base_uri": "https://localhost:8080/",
          "height": 34
        },
        "outputId": "6871d50f-54d4-47be-a35c-29a8c2d6ec69"
      },
      "source": [
        "print(location.address)"
      ],
      "execution_count": 394,
      "outputs": [
        {
          "output_type": "stream",
          "text": [
            "Illinois Medical District, Chicago, Cook County, Illinois, 60608, USA\n"
          ],
          "name": "stdout"
        }
      ]
    },
    {
      "cell_type": "code",
      "metadata": {
        "id": "Egde-FJ9kdeO",
        "colab_type": "code",
        "colab": {
          "base_uri": "https://localhost:8080/",
          "height": 34
        },
        "outputId": "95b7d19e-7d7a-4a96-fba3-108151ad83b3"
      },
      "source": [
        "print(location.latitude,location.longitude)"
      ],
      "execution_count": 395,
      "outputs": [
        {
          "output_type": "stream",
          "text": [
            "41.8626357 -87.6687915\n"
          ],
          "name": "stdout"
        }
      ]
    },
    {
      "cell_type": "code",
      "metadata": {
        "id": "_3kFIliJkic3",
        "colab_type": "code",
        "colab": {}
      },
      "source": [
        "f = open(r'testData.txt')"
      ],
      "execution_count": 0,
      "outputs": []
    },
    {
      "cell_type": "code",
      "metadata": {
        "id": "BavUAO4Gk6IC",
        "colab_type": "code",
        "colab": {}
      },
      "source": [
        "lines = f.readlines()[1:]"
      ],
      "execution_count": 0,
      "outputs": []
    },
    {
      "cell_type": "code",
      "metadata": {
        "id": "9Isu8yNpk-NC",
        "colab_type": "code",
        "colab": {}
      },
      "source": [
        "loc = []\n",
        "xx = [] #longitude\n",
        "yy = [] #latitude\n",
        "payment = []"
      ],
      "execution_count": 0,
      "outputs": []
    },
    {
      "cell_type": "code",
      "metadata": {
        "id": "7KiOUNpSlADg",
        "colab_type": "code",
        "colab": {
          "base_uri": "https://localhost:8080/",
          "height": 130
        },
        "outputId": "05d9ca40-703e-4e87-af0e-2acaa5628620"
      },
      "source": [
        "#with open('output.csv','rb') as file: \n",
        "output = open('outputfile.csv','w')\n",
        "  for line in lines:\n",
        "    if(line.find(',')==0):\n",
        "      line = line[1:]\n",
        "    _name = line[:line.find(',')]\n",
        "    print(_name)\n",
        "    line = line[line.find(',')+1:]\n",
        "    print(line)\n",
        "    _dob = line[:line.find(',')]\n",
        "    print(_dob)\n",
        "    \n",
        "    line = line[line.find(',')+1:]\n",
        "    _houseID = line[:line.find(',')]\n",
        "    print(_houseID)\n",
        "    line = line[line.find(',')+1:]\n",
        "    _houseZip = line[:line.find(',')]\n",
        "    print(_houseZip)\n",
        "    line = line[line.find(',')+1:]\n",
        "    _paymentDate = line[:line.find(',')]\n",
        "    print(_paymentDate)\n",
        "    line = line[line.find(',')+1:]\n",
        "    _paymentAmount = line[:line.find(',')]\n",
        "    print(_paymentAmount)\n",
        "    line = line[line.find(',')+1:]\n",
        "    _rentAmount = line[:line.find('\\n')]\n",
        "    print(_rentAmount)\n",
        "    location = geolocator.geocode(_houseZip)\n",
        "    if(location!=None):\n",
        "      print(location)\n",
        "      print(location.latitude,location.longitude)\n",
        "      x = location.latitude,location.longitude\n",
        "      loc.append(x)\n",
        "      payment.append(_paymentAmount)\n",
        "      #file.write(str(x[0]))\n",
        "      #file.write(x[1])\n",
        "      file.write(_paymentAmount)\n",
        "      file.write('\\n')"
      ],
      "execution_count": 383,
      "outputs": [
        {
          "output_type": "error",
          "ename": "IndentationError",
          "evalue": "ignored",
          "traceback": [
            "\u001b[0;36m  File \u001b[0;32m\"<ipython-input-383-bc61f7e5e3be>\"\u001b[0;36m, line \u001b[0;32m2\u001b[0m\n\u001b[0;31m    for line in lines:\u001b[0m\n\u001b[0m    ^\u001b[0m\n\u001b[0;31mIndentationError\u001b[0m\u001b[0;31m:\u001b[0m unexpected indent\n"
          ]
        }
      ]
    },
    {
      "cell_type": "code",
      "metadata": {
        "id": "FwLjX5t7lP2x",
        "colab_type": "code",
        "colab": {
          "base_uri": "https://localhost:8080/",
          "height": 215
        },
        "outputId": "3ed4d860-7357-4046-c5e0-08a7870f6084"
      },
      "source": [
        "with open('csvfile.csv','wb') as file:\n",
        "    for line in text:\n",
        "        file.write(line)\n",
        "        file.write('\\n')"
      ],
      "execution_count": 384,
      "outputs": [
        {
          "output_type": "error",
          "ename": "NameError",
          "evalue": "ignored",
          "traceback": [
            "\u001b[0;31m---------------------------------------------------------------------------\u001b[0m",
            "\u001b[0;31mNameError\u001b[0m                                 Traceback (most recent call last)",
            "\u001b[0;32m<ipython-input-384-6fae9f025406>\u001b[0m in \u001b[0;36m<module>\u001b[0;34m()\u001b[0m\n\u001b[1;32m      1\u001b[0m \u001b[0;32mwith\u001b[0m \u001b[0mopen\u001b[0m\u001b[0;34m(\u001b[0m\u001b[0;34m'csvfile.csv'\u001b[0m\u001b[0;34m,\u001b[0m\u001b[0;34m'wb'\u001b[0m\u001b[0;34m)\u001b[0m \u001b[0;32mas\u001b[0m \u001b[0mfile\u001b[0m\u001b[0;34m:\u001b[0m\u001b[0;34m\u001b[0m\u001b[0;34m\u001b[0m\u001b[0m\n\u001b[0;32m----> 2\u001b[0;31m     \u001b[0;32mfor\u001b[0m \u001b[0mline\u001b[0m \u001b[0;32min\u001b[0m \u001b[0mtext\u001b[0m\u001b[0;34m:\u001b[0m\u001b[0;34m\u001b[0m\u001b[0;34m\u001b[0m\u001b[0m\n\u001b[0m\u001b[1;32m      3\u001b[0m         \u001b[0mfile\u001b[0m\u001b[0;34m.\u001b[0m\u001b[0mwrite\u001b[0m\u001b[0;34m(\u001b[0m\u001b[0mline\u001b[0m\u001b[0;34m)\u001b[0m\u001b[0;34m\u001b[0m\u001b[0;34m\u001b[0m\u001b[0m\n\u001b[1;32m      4\u001b[0m         \u001b[0mfile\u001b[0m\u001b[0;34m.\u001b[0m\u001b[0mwrite\u001b[0m\u001b[0;34m(\u001b[0m\u001b[0;34m'\\n'\u001b[0m\u001b[0;34m)\u001b[0m\u001b[0;34m\u001b[0m\u001b[0;34m\u001b[0m\u001b[0m\n",
            "\u001b[0;31mNameError\u001b[0m: name 'text' is not defined"
          ]
        }
      ]
    },
    {
      "cell_type": "code",
      "metadata": {
        "id": "u5J6RR29lni4",
        "colab_type": "code",
        "colab": {}
      },
      "source": [
        "output = open('outputfile.csv','w')\n",
        "for line in lines:\n",
        "  if(line.find(',')==0):\n",
        "    line = line[1:]\n",
        "  _name = line[:line.find(',')]\n",
        "  print(_name)\n",
        "  line = line[line.find(',')+1:]\n",
        "  print(line)\n",
        "  _dob = line[:line.find(',')]\n",
        "  print(_dob)\n",
        "  line = line[line.find(',')+1:]\n",
        "  _houseID = line[:line.find(',')]\n",
        "  print(_houseID)\n",
        "  line = line[line.find(',')+1:]\n",
        "  _houseZip = line[:line.find(',')]\n",
        "  print(_houseZip)\n",
        "  line = line[line.find(',')+1:]\n",
        "  _paymentDate = line[:line.find(',')]\n",
        "  print(_paymentDate)\n",
        "  line = line[line.find(',')+1:]\n",
        "  _paymentAmount = line[:line.find(',')]\n",
        "  if(len(_paymentAmount)>0 ):\n",
        "    _paymentAmount = float(_paymentAmount)\n",
        "  else:\n",
        "    _paymentAmount = 0 \n",
        "  print(_paymentAmount)\n",
        "  line = line[line.find(',')+1:]\n",
        "  _rentAmount = line[:line.find('\\n')]\n",
        "  print(_rentAmount)\n",
        "  location = geolocator.geocode(_houseZip)\n",
        "  if(location!=None):\n",
        "    print(location)\n",
        "    print(location.latitude,location.longitude)\n",
        "    x = location.latitude,location.longitude\n",
        "    #xx = location.latitude\n",
        "    #yy = location.longitude\n",
        "    loc.append(x)\n",
        "    xx.append(location.longitude)\n",
        "    yy.append(location.latitude)\n",
        "    payment.append(_paymentAmount)\n",
        "    output.write(str(x[0]))\n",
        "    output.write(str(x[1]))\n",
        "    output.write(str(_paymentAmount))\n",
        "    output.write('\\n')\n",
        "    \n",
        "output.close()"
      ],
      "execution_count": 0,
      "outputs": []
    },
    {
      "cell_type": "code",
      "metadata": {
        "id": "TkusnbOoo1Xj",
        "colab_type": "code",
        "colab": {
          "base_uri": "https://localhost:8080/",
          "height": 232
        },
        "outputId": "22a969a3-6141-4c9a-d7d2-044cf05a20ba"
      },
      "source": [
        "testf = open('csvfile.csv','w')\n",
        "\n",
        "dummylist = [] \n",
        "\n",
        "dummylist = ['a','b','c']\n",
        "\n",
        "for word in dummylist:\n",
        "  testf.writerows([word])\n",
        "#testf.write() #Give your csv text here.\n",
        "## Python will convert \\n to os.linesep\n",
        "testf.close()"
      ],
      "execution_count": 400,
      "outputs": [
        {
          "output_type": "error",
          "ename": "AttributeError",
          "evalue": "ignored",
          "traceback": [
            "\u001b[0;31m---------------------------------------------------------------------------\u001b[0m",
            "\u001b[0;31mAttributeError\u001b[0m                            Traceback (most recent call last)",
            "\u001b[0;32m<ipython-input-400-93f4e885dfb9>\u001b[0m in \u001b[0;36m<module>\u001b[0;34m()\u001b[0m\n\u001b[1;32m      6\u001b[0m \u001b[0;34m\u001b[0m\u001b[0m\n\u001b[1;32m      7\u001b[0m \u001b[0;32mfor\u001b[0m \u001b[0mword\u001b[0m \u001b[0;32min\u001b[0m \u001b[0mdummylist\u001b[0m\u001b[0;34m:\u001b[0m\u001b[0;34m\u001b[0m\u001b[0;34m\u001b[0m\u001b[0m\n\u001b[0;32m----> 8\u001b[0;31m   \u001b[0mtestf\u001b[0m\u001b[0;34m.\u001b[0m\u001b[0mwriterows\u001b[0m\u001b[0;34m(\u001b[0m\u001b[0;34m[\u001b[0m\u001b[0mword\u001b[0m\u001b[0;34m]\u001b[0m\u001b[0;34m)\u001b[0m\u001b[0;34m\u001b[0m\u001b[0;34m\u001b[0m\u001b[0m\n\u001b[0m\u001b[1;32m      9\u001b[0m \u001b[0;31m#testf.write() #Give your csv text here.\u001b[0m\u001b[0;34m\u001b[0m\u001b[0;34m\u001b[0m\u001b[0;34m\u001b[0m\u001b[0m\n\u001b[1;32m     10\u001b[0m \u001b[0;31m## Python will convert \\n to os.linesep\u001b[0m\u001b[0;34m\u001b[0m\u001b[0;34m\u001b[0m\u001b[0;34m\u001b[0m\u001b[0m\n",
            "\u001b[0;31mAttributeError\u001b[0m: '_io.TextIOWrapper' object has no attribute 'writerows'"
          ]
        }
      ]
    },
    {
      "cell_type": "code",
      "metadata": {
        "id": "Dw9PPqhytwud",
        "colab_type": "code",
        "colab": {}
      },
      "source": [
        "import csv\n",
        "with open('yourNewFileName.csv', 'w', ) as myfile:\n",
        "  wr = csv.writer(myfile, quoting=csv.QUOTE_ALL)\n",
        "  dummylist = ['a','b','c']\n",
        "  wr.writerow(payment)\n",
        "  #for word in payment:\n",
        "  #  wr.writerows(str(word))"
      ],
      "execution_count": 0,
      "outputs": []
    },
    {
      "cell_type": "code",
      "metadata": {
        "id": "oOLuWjcfv9Lv",
        "colab_type": "code",
        "colab": {
          "base_uri": "https://localhost:8080/",
          "height": 164
        },
        "outputId": "ce8e4e0d-bc8d-4728-c855-6cca7ebcbd91"
      },
      "source": [
        "payment.shape"
      ],
      "execution_count": 402,
      "outputs": [
        {
          "output_type": "error",
          "ename": "AttributeError",
          "evalue": "ignored",
          "traceback": [
            "\u001b[0;31m---------------------------------------------------------------------------\u001b[0m",
            "\u001b[0;31mAttributeError\u001b[0m                            Traceback (most recent call last)",
            "\u001b[0;32m<ipython-input-402-d2388c4a1d6a>\u001b[0m in \u001b[0;36m<module>\u001b[0;34m()\u001b[0m\n\u001b[0;32m----> 1\u001b[0;31m \u001b[0mpayment\u001b[0m\u001b[0;34m.\u001b[0m\u001b[0mshape\u001b[0m\u001b[0;34m\u001b[0m\u001b[0;34m\u001b[0m\u001b[0m\n\u001b[0m",
            "\u001b[0;31mAttributeError\u001b[0m: 'list' object has no attribute 'shape'"
          ]
        }
      ]
    },
    {
      "cell_type": "code",
      "metadata": {
        "id": "oJ08Ptorq31t",
        "colab_type": "code",
        "colab": {}
      },
      "source": [
        "import pandas as pd\n",
        "import numpy as np \n",
        "\n",
        "x = np.array([loc,payment])\n",
        "\n",
        "loc = np.array(loc)\n",
        "payment = np.array(payment)\n"
      ],
      "execution_count": 0,
      "outputs": []
    },
    {
      "cell_type": "code",
      "metadata": {
        "id": "tpTeb0fovyGR",
        "colab_type": "code",
        "colab": {
          "base_uri": "https://localhost:8080/",
          "height": 34
        },
        "outputId": "906f2df4-4d10-472e-f03d-9be09c9210af"
      },
      "source": [
        "loc.shape"
      ],
      "execution_count": 404,
      "outputs": [
        {
          "output_type": "execute_result",
          "data": {
            "text/plain": [
              "(1044, 2)"
            ]
          },
          "metadata": {
            "tags": []
          },
          "execution_count": 404
        }
      ]
    },
    {
      "cell_type": "code",
      "metadata": {
        "id": "rnp9xyElwSUP",
        "colab_type": "code",
        "colab": {
          "base_uri": "https://localhost:8080/",
          "height": 34
        },
        "outputId": "7406b573-2eb3-403a-db8f-a37189179f9b"
      },
      "source": [
        "payment.shape"
      ],
      "execution_count": 405,
      "outputs": [
        {
          "output_type": "execute_result",
          "data": {
            "text/plain": [
              "(1044,)"
            ]
          },
          "metadata": {
            "tags": []
          },
          "execution_count": 405
        }
      ]
    },
    {
      "cell_type": "code",
      "metadata": {
        "id": "VLgUWzvawTpi",
        "colab_type": "code",
        "colab": {
          "base_uri": "https://localhost:8080/",
          "height": 34
        },
        "outputId": "29f1ca89-f082-462a-ee32-f36cffb1fda9"
      },
      "source": [
        "loc[0]"
      ],
      "execution_count": 406,
      "outputs": [
        {
          "output_type": "execute_result",
          "data": {
            "text/plain": [
              "array([  32.57537127, -117.05482105])"
            ]
          },
          "metadata": {
            "tags": []
          },
          "execution_count": 406
        }
      ]
    },
    {
      "cell_type": "code",
      "metadata": {
        "id": "dcud-cAywtBW",
        "colab_type": "code",
        "colab": {
          "base_uri": "https://localhost:8080/",
          "height": 34
        },
        "outputId": "5fea54bb-ca2b-4a5d-df5a-f01ba2ab28d5"
      },
      "source": [
        "payment[0]"
      ],
      "execution_count": 407,
      "outputs": [
        {
          "output_type": "execute_result",
          "data": {
            "text/plain": [
              "1321.0"
            ]
          },
          "metadata": {
            "tags": []
          },
          "execution_count": 407
        }
      ]
    },
    {
      "cell_type": "code",
      "metadata": {
        "id": "gABwtsE_xFzk",
        "colab_type": "code",
        "colab": {}
      },
      "source": [
        "df = pd.DataFrame(payment,loc)"
      ],
      "execution_count": 0,
      "outputs": []
    },
    {
      "cell_type": "code",
      "metadata": {
        "id": "kD_roYPp1zGf",
        "colab_type": "code",
        "colab": {}
      },
      "source": [
        "df.to_csv('output.csv')"
      ],
      "execution_count": 0,
      "outputs": []
    },
    {
      "cell_type": "code",
      "metadata": {
        "id": "g0YucH9o13hw",
        "colab_type": "code",
        "colab": {
          "base_uri": "https://localhost:8080/",
          "height": 34
        },
        "outputId": "d8a300a9-c7a1-42ba-fc3a-264301f445f9"
      },
      "source": [
        "loc.shape"
      ],
      "execution_count": 410,
      "outputs": [
        {
          "output_type": "execute_result",
          "data": {
            "text/plain": [
              "(1044, 2)"
            ]
          },
          "metadata": {
            "tags": []
          },
          "execution_count": 410
        }
      ]
    },
    {
      "cell_type": "code",
      "metadata": {
        "id": "LiDkOKnW2aH0",
        "colab_type": "code",
        "colab": {
          "base_uri": "https://localhost:8080/",
          "height": 34
        },
        "outputId": "89f19ef5-a374-428e-d89d-0c25d2712b20"
      },
      "source": [
        "payment.shape"
      ],
      "execution_count": 411,
      "outputs": [
        {
          "output_type": "execute_result",
          "data": {
            "text/plain": [
              "(1044,)"
            ]
          },
          "metadata": {
            "tags": []
          },
          "execution_count": 411
        }
      ]
    },
    {
      "cell_type": "code",
      "metadata": {
        "id": "oB_eo3Ez4lsO",
        "colab_type": "code",
        "colab": {}
      },
      "source": [
        "mu, sigma = payment.mean(),payment.std()"
      ],
      "execution_count": 0,
      "outputs": []
    },
    {
      "cell_type": "code",
      "metadata": {
        "id": "pkXwj9u04qfT",
        "colab_type": "code",
        "colab": {
          "base_uri": "https://localhost:8080/",
          "height": 34
        },
        "outputId": "156af4cd-4915-4dd9-c21a-3dd78e0b3b1c"
      },
      "source": [
        "mu,sigma"
      ],
      "execution_count": 481,
      "outputs": [
        {
          "output_type": "execute_result",
          "data": {
            "text/plain": [
              "(1489.666379310345, 390.91267505798555)"
            ]
          },
          "metadata": {
            "tags": []
          },
          "execution_count": 481
        }
      ]
    },
    {
      "cell_type": "code",
      "metadata": {
        "id": "n2YOsX1P3UDP",
        "colab_type": "code",
        "colab": {}
      },
      "source": [
        "train_x = loc[:1000]\n",
        "train_y = payment[:1000]\n",
        "\n",
        "test_x = loc[2000:4000]\n",
        "test_y = payment[2000:4000]"
      ],
      "execution_count": 0,
      "outputs": []
    },
    {
      "cell_type": "code",
      "metadata": {
        "id": "J57FltDimlaZ",
        "colab_type": "code",
        "colab": {}
      },
      "source": [
        "mu, sigma = train_y.mean(),train_y.std()"
      ],
      "execution_count": 0,
      "outputs": []
    },
    {
      "cell_type": "code",
      "metadata": {
        "id": "O2O7TEzL4ET9",
        "colab_type": "code",
        "colab": {
          "base_uri": "https://localhost:8080/",
          "height": 34
        },
        "outputId": "295255b0-7831-4524-f2bf-5132713388c9"
      },
      "source": [
        "mu"
      ],
      "execution_count": 471,
      "outputs": [
        {
          "output_type": "execute_result",
          "data": {
            "text/plain": [
              "2.1316282072803006e-17"
            ]
          },
          "metadata": {
            "tags": []
          },
          "execution_count": 471
        }
      ]
    },
    {
      "cell_type": "code",
      "metadata": {
        "id": "6robCZoGmn6u",
        "colab_type": "code",
        "colab": {}
      },
      "source": [
        "sigma = train_y.std()"
      ],
      "execution_count": 0,
      "outputs": []
    },
    {
      "cell_type": "code",
      "metadata": {
        "id": "tGLDdIsx4HGf",
        "colab_type": "code",
        "colab": {
          "base_uri": "https://localhost:8080/",
          "height": 34
        },
        "outputId": "cdbd8223-0c32-4af6-cd17-93de65810998"
      },
      "source": [
        "sigma"
      ],
      "execution_count": 472,
      "outputs": [
        {
          "output_type": "execute_result",
          "data": {
            "text/plain": [
              "0.9999999999999999"
            ]
          },
          "metadata": {
            "tags": []
          },
          "execution_count": 472
        }
      ]
    },
    {
      "cell_type": "code",
      "metadata": {
        "id": "Auuu2rpx4I_e",
        "colab_type": "code",
        "colab": {
          "base_uri": "https://localhost:8080/",
          "height": 34
        },
        "outputId": "eabd913f-51cc-4e1d-a7d1-21980dcb56c6"
      },
      "source": [
        "mu, sigma "
      ],
      "execution_count": 473,
      "outputs": [
        {
          "output_type": "execute_result",
          "data": {
            "text/plain": [
              "(2.1316282072803006e-17, 0.9999999999999999)"
            ]
          },
          "metadata": {
            "tags": []
          },
          "execution_count": 473
        }
      ]
    },
    {
      "cell_type": "code",
      "metadata": {
        "id": "11QNxCOn-Pcf",
        "colab_type": "code",
        "colab": {
          "base_uri": "https://localhost:8080/",
          "height": 105
        },
        "outputId": "b661c057-eb0d-408c-ecd5-8c6c54ca003d"
      },
      "source": [
        "train_y = train_y-train_y.mean()\n",
        "\n",
        "test_y = test_y-test_y.mean()"
      ],
      "execution_count": 424,
      "outputs": [
        {
          "output_type": "stream",
          "text": [
            "/usr/local/lib/python3.6/dist-packages/ipykernel_launcher.py:3: RuntimeWarning: Mean of empty slice.\n",
            "  This is separate from the ipykernel package so we can avoid doing imports until\n",
            "/usr/local/lib/python3.6/dist-packages/numpy/core/_methods.py:85: RuntimeWarning: invalid value encountered in double_scalars\n",
            "  ret = ret.dtype.type(ret / rcount)\n"
          ],
          "name": "stderr"
        }
      ]
    },
    {
      "cell_type": "code",
      "metadata": {
        "id": "ar4hwNeRAmiz",
        "colab_type": "code",
        "colab": {}
      },
      "source": [
        "train_y = (train_y - train_y.mean())/train_y.std()"
      ],
      "execution_count": 0,
      "outputs": []
    },
    {
      "cell_type": "code",
      "metadata": {
        "id": "13JrvgovmhZk",
        "colab_type": "code",
        "colab": {
          "base_uri": "https://localhost:8080/",
          "height": 34
        },
        "outputId": "aa415ea2-e4dd-4329-9c2f-4858cbff501f"
      },
      "source": [
        "train_y.mean()"
      ],
      "execution_count": 426,
      "outputs": [
        {
          "output_type": "execute_result",
          "data": {
            "text/plain": [
              "2.1316282072803006e-17"
            ]
          },
          "metadata": {
            "tags": []
          },
          "execution_count": 426
        }
      ]
    },
    {
      "cell_type": "code",
      "metadata": {
        "id": "U-YjIjb2DKG7",
        "colab_type": "code",
        "colab": {
          "base_uri": "https://localhost:8080/",
          "height": 34
        },
        "outputId": "8725f6c0-3f05-4f63-b063-e19551ddd0ed"
      },
      "source": [
        "train_y.std()"
      ],
      "execution_count": 427,
      "outputs": [
        {
          "output_type": "execute_result",
          "data": {
            "text/plain": [
              "0.9999999999999999"
            ]
          },
          "metadata": {
            "tags": []
          },
          "execution_count": 427
        }
      ]
    },
    {
      "cell_type": "code",
      "metadata": {
        "id": "cgDbvVgB3Z5B",
        "colab_type": "code",
        "colab": {}
      },
      "source": [
        "import keras\n",
        "from keras import layers\n",
        "from keras.models import Model\n",
        "from keras import backend as K \n",
        "import numpy as np \n",
        "from keras import Input\n",
        "from keras import Sequential\n",
        "from keras import models\n"
      ],
      "execution_count": 0,
      "outputs": []
    },
    {
      "cell_type": "code",
      "metadata": {
        "id": "WvBddr098Iq2",
        "colab_type": "code",
        "colab": {}
      },
      "source": [
        "loc_shape = (2,)\n",
        "\n",
        "input_loc = keras.Input(shape=loc_shape)\n",
        "\n",
        "ans = layers.Dense(2,activation='elu',input_shape=(2,))(input_loc)\n",
        "ans = layers.Dense(2,activation='elu')(ans)\n",
        "ans = layers.Dense(2,activation='elu')(ans)\n",
        "ans = layers.Dense(4,activation='elu')(ans)\n",
        "ans = layers.Dense(3,activation='elu')(ans)\n",
        "ans = layers.Dense(2,activation='elu')(ans)\n",
        "#x = layers.LSTM((32))(x)\n",
        "#shape_before_flattening = K.int_shape(ans)\n",
        "price = layers.Dense(1,activation='tanh',name='que_pool')(ans)\n",
        "#price = layers.Dense(1,name='que_pool')(ans)\n",
        "#z_mean = layers.Dense(10,activation='relu',name='que_pool')(ans)\n",
        "#price = layers.Dense(latent_dim)(x)\n",
        "\n",
        "predictor = Model(input_loc,price)"
      ],
      "execution_count": 0,
      "outputs": []
    },
    {
      "cell_type": "code",
      "metadata": {
        "id": "ZVb1tFRYCsi8",
        "colab_type": "code",
        "colab": {}
      },
      "source": [
        "predictor.compile(optimizer='rmsprop',loss='MSE',metrics=['acc'])"
      ],
      "execution_count": 0,
      "outputs": []
    },
    {
      "cell_type": "code",
      "metadata": {
        "id": "BKdvH-QFEGDf",
        "colab_type": "code",
        "colab": {}
      },
      "source": [
        "\n",
        "predictor.fit(train_x,train_y,epochs=30,batch_size=128)"
      ],
      "execution_count": 0,
      "outputs": []
    },
    {
      "cell_type": "code",
      "metadata": {
        "id": "pZYsCPOlQdcc",
        "colab_type": "code",
        "colab": {
          "base_uri": "https://localhost:8080/",
          "height": 187
        },
        "outputId": "385f5f19-4ae9-469f-c8e7-8c9431e2d3d6"
      },
      "source": [
        "train_x[0:10]"
      ],
      "execution_count": 461,
      "outputs": [
        {
          "output_type": "execute_result",
          "data": {
            "text/plain": [
              "array([[  32.57537127, -117.05482105],\n",
              "       [  32.80104208, -117.17296252],\n",
              "       [  40.7386549 , -121.92305814],\n",
              "       [  25.1613473 ,   55.4001104 ],\n",
              "       [  32.68975837, -117.1230124 ],\n",
              "       [  32.7435126 , -117.1814288 ],\n",
              "       [  32.87466663, -117.23188884],\n",
              "       [  32.87466663, -117.23188884],\n",
              "       [  48.81424969,    2.23365554],\n",
              "       [  48.81424969,    2.23365554]])"
            ]
          },
          "metadata": {
            "tags": []
          },
          "execution_count": 461
        }
      ]
    },
    {
      "cell_type": "code",
      "metadata": {
        "id": "mG-3DcVPA1Ef",
        "colab_type": "code",
        "colab": {
          "base_uri": "https://localhost:8080/",
          "height": 51
        },
        "outputId": "570a8172-2075-40aa-f5c1-d07343a870a3"
      },
      "source": [
        "train_y[0:10]"
      ],
      "execution_count": 462,
      "outputs": [
        {
          "output_type": "execute_result",
          "data": {
            "text/plain": [
              "array([-0.41467743,  2.04279519, -0.11510949,  0.65919748, -0.03387073,\n",
              "       -0.63808404,  0.92830089,  0.2606198 ,  1.1313978 ,  0.28600691])"
            ]
          },
          "metadata": {
            "tags": []
          },
          "execution_count": 462
        }
      ]
    },
    {
      "cell_type": "code",
      "metadata": {
        "id": "oGw0ap-2t1Zc",
        "colab_type": "code",
        "colab": {
          "base_uri": "https://localhost:8080/",
          "height": 51
        },
        "outputId": "ae4bdf8b-1d8d-447f-a555-a3a421ef365b"
      },
      "source": [
        "payment[0:10]"
      ],
      "execution_count": 463,
      "outputs": [
        {
          "output_type": "execute_result",
          "data": {
            "text/plain": [
              "array([1321., 2289., 1439., 1744., 1471., 1233., 1850., 1587., 1930.,\n",
              "       1597.])"
            ]
          },
          "metadata": {
            "tags": []
          },
          "execution_count": 463
        }
      ]
    },
    {
      "cell_type": "code",
      "metadata": {
        "id": "qtkveaexQyZo",
        "colab_type": "code",
        "colab": {}
      },
      "source": [
        "result = predictor.predict(train_x[0:10])"
      ],
      "execution_count": 0,
      "outputs": []
    },
    {
      "cell_type": "code",
      "metadata": {
        "id": "xrvqnl-mAdVe",
        "colab_type": "code",
        "colab": {
          "base_uri": "https://localhost:8080/",
          "height": 187
        },
        "outputId": "17b64006-f0a5-4919-9689-ea8e3f113dc2"
      },
      "source": [
        "result "
      ],
      "execution_count": 483,
      "outputs": [
        {
          "output_type": "execute_result",
          "data": {
            "text/plain": [
              "array([[ 0.02628339],\n",
              "       [ 0.02628339],\n",
              "       [ 0.02628339],\n",
              "       [-0.04336611],\n",
              "       [ 0.02628339],\n",
              "       [ 0.02628339],\n",
              "       [ 0.02628339],\n",
              "       [ 0.02628339],\n",
              "       [-0.02150292],\n",
              "       [-0.02150292]], dtype=float32)"
            ]
          },
          "metadata": {
            "tags": []
          },
          "execution_count": 483
        }
      ]
    },
    {
      "cell_type": "code",
      "metadata": {
        "id": "fwuzlf-e4ZHs",
        "colab_type": "code",
        "colab": {}
      },
      "source": [
        "result = result*sigma+mu"
      ],
      "execution_count": 0,
      "outputs": []
    },
    {
      "cell_type": "code",
      "metadata": {
        "id": "lzu9nPSy4es8",
        "colab_type": "code",
        "colab": {
          "base_uri": "https://localhost:8080/",
          "height": 34
        },
        "outputId": "e3d61eda-ca61-4b93-b023-c91d8f39df29"
      },
      "source": [
        "mu"
      ],
      "execution_count": 485,
      "outputs": [
        {
          "output_type": "execute_result",
          "data": {
            "text/plain": [
              "1489.666379310345"
            ]
          },
          "metadata": {
            "tags": []
          },
          "execution_count": 485
        }
      ]
    },
    {
      "cell_type": "code",
      "metadata": {
        "id": "c3IThhSs4cNn",
        "colab_type": "code",
        "colab": {
          "base_uri": "https://localhost:8080/",
          "height": 187
        },
        "outputId": "23de81d8-79e8-4a57-e51a-3d63307715eb"
      },
      "source": [
        "result"
      ],
      "execution_count": 486,
      "outputs": [
        {
          "output_type": "execute_result",
          "data": {
            "text/plain": [
              "array([[1499.9409],\n",
              "       [1499.9409],\n",
              "       [1499.9409],\n",
              "       [1472.714 ],\n",
              "       [1499.9409],\n",
              "       [1499.9409],\n",
              "       [1499.9409],\n",
              "       [1499.9409],\n",
              "       [1481.2606],\n",
              "       [1481.2606]], dtype=float32)"
            ]
          },
          "metadata": {
            "tags": []
          },
          "execution_count": 486
        }
      ]
    },
    {
      "cell_type": "code",
      "metadata": {
        "id": "0ubwv6puf2AU",
        "colab_type": "code",
        "colab": {
          "base_uri": "https://localhost:8080/",
          "height": 283
        },
        "outputId": "bd599f6a-0969-4e16-bf1d-cb80cc96bd18"
      },
      "source": [
        "import matplotlib.pyplot as plt \n",
        "\n",
        "#payment.hist(bins=100,figsize=(20,15))\n",
        "#payment.histogram(payment.arange(4), bins=np.arange(5), density=True)\n",
        "plt.xlabel(\"payment amount\")\n",
        "plt.hist(train_y,bins=100)\n",
        "plt.show()"
      ],
      "execution_count": 438,
      "outputs": [
        {
          "output_type": "display_data",
          "data": {
            "image/png": "[encoded data removed]",
            "text/plain": [
              "<Figure size 432x288 with 1 Axes>"
            ]
          },
          "metadata": {
            "tags": []
          }
        }
      ]
    },
    {
      "cell_type": "code",
      "metadata": {
        "id": "JJy5L9d5E3Dk",
        "colab_type": "code",
        "colab": {
          "base_uri": "https://localhost:8080/",
          "height": 283
        },
        "outputId": "9d96ae97-667d-4cfb-f6cb-705f5c22798b"
      },
      "source": [
        "plt.hist2d(xx,yy,bins=100,weights=payment)\n",
        "#plt.axis([-200,200,0,80])\n",
        "plt.xlabel('longitude')\n",
        "plt.ylabel('latitude')\n",
        "plt.show()"
      ],
      "execution_count": 439,
      "outputs": [
        {
          "output_type": "display_data",
          "data": {
            "image/png": "[encoded data removed]",
            "text/plain": [
              "<Figure size 432x288 with 1 Axes>"
            ]
          },
          "metadata": {
            "tags": []
          }
        }
      ]
    },
    {
      "cell_type": "code",
      "metadata": {
        "id": "iQ3fS_ktJWwZ",
        "colab_type": "code",
        "colab": {}
      },
      "source": [
        ""
      ],
      "execution_count": 0,
      "outputs": []
    }
  ]
}