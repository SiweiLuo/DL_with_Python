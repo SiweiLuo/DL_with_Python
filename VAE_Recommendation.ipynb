{
  "nbformat": 4,
  "nbformat_minor": 0,
  "metadata": {
    "colab": {
      "name": "VAE_Recommendation.ipynb",
      "version": "0.3.2",
      "provenance": [],
      "include_colab_link": true
    },
    "kernelspec": {
      "name": "python3",
      "display_name": "Python 3"
    }
  },
  "cells": [
    {
      "cell_type": "markdown",
      "metadata": {
        "id": "view-in-github",
        "colab_type": "text"
      },
      "source": [
        "<a href=\"https://colab.research.google.com/github/SiweiLuo/DL_with_Python/blob/master/VAE_Recommendation.ipynb\" target=\"_parent\"><img src=\"https://colab.research.google.com/assets/colab-badge.svg\" alt=\"Open In Colab\"/></a>"
      ]
    },
    {
      "metadata": {
        "id": "BhKw7VBnxYGN",
        "colab_type": "code",
        "colab": {}
      },
      "cell_type": "code",
      "source": [
        "import numpy as np \n",
        "import tensorflow as tf\n",
        "import pandas as pd\n",
        "import string \n",
        "import keras\n",
        "from keras.preprocessing.text import Tokenizer\n",
        "from keras import preprocessing\n",
        "from keras.models import Sequential\n",
        "from keras.layers import Flatten, Dense\n",
        "from keras.layers import Embedding\n",
        "from keras.utils.np_utils import to_categorical\n",
        "from keras.utils import np_utils\n",
        "from keras.datasets import imdb\n",
        "\n",
        "from keras.preprocessing.text import one_hot\n",
        "from keras.preprocessing.text import text_to_word_sequence\n",
        "from keras.preprocessing import text, sequence\n",
        "\n",
        "from google.colab import drive\n",
        "\n",
        "#import StringIO\n",
        "import time\n",
        "import sys\n",
        "import csv"
      ],
      "execution_count": 0,
      "outputs": []
    },
    {
      "metadata": {
        "id": "5N6wtHByF96z",
        "colab_type": "code",
        "outputId": "f9b7087a-39f5-4430-ef8c-0abd842522ec",
        "colab": {
          "base_uri": "https://localhost:8080/",
          "height": 54
        }
      },
      "cell_type": "code",
      "source": [
        "drive.mount('/content/gdrive/')"
      ],
      "execution_count": 39,
      "outputs": [
        {
          "output_type": "stream",
          "text": [
            "Drive already mounted at /content/gdrive/; to attempt to forcibly remount, call drive.mount(\"/content/gdrive/\", force_remount=True).\n"
          ],
          "name": "stdout"
        }
      ]
    },
    {
      "metadata": {
        "id": "TU6vtzSIF_oZ",
        "colab_type": "code",
        "colab": {}
      },
      "cell_type": "code",
      "source": [
        "questions = pd.read_csv(r'/content/gdrive/My Drive/Colab Notebooks/CareerVillage/questions.csv')\n",
        "answers = pd.read_csv(r'/content/gdrive/My Drive/Colab Notebooks/CareerVillage/answers.csv')"
      ],
      "execution_count": 0,
      "outputs": []
    },
    {
      "metadata": {
        "id": "fFAV6xkLGDnp",
        "colab_type": "code",
        "colab": {}
      },
      "cell_type": "code",
      "source": [
        "questions['questions_body'] = questions['questions_body'].str.replace(\"<p>\", \" \").str.replace(\"</p>\", \" \").str.replace(\"\\n\",\" \")\n",
        "answers['answers_body'] = answers['answers_body'].str.replace(\"<p>\", \" \").str.replace(\"</p>\", \" \").str.replace(\"\\n\",\" \")\n",
        "plt_data_questions = questions['questions_body']\n",
        "plt_data_answers = answers['answers_body']\n",
        "plt_data_questions_id = questions['questions_id']\n",
        "plt_data_answers_questions_id = answers['answers_question_id']\n",
        "plt_data_answers_author_id = answers['answers_author_id']"
      ],
      "execution_count": 0,
      "outputs": []
    },
    {
      "metadata": {
        "id": "LUZ1WJtDGFd5",
        "colab_type": "code",
        "outputId": "236b8eda-115d-4ade-d9a9-f26a99e46b9c",
        "colab": {
          "base_uri": "https://localhost:8080/",
          "height": 119
        }
      },
      "cell_type": "code",
      "source": [
        "plt_data_questions.head(5)"
      ],
      "execution_count": 42,
      "outputs": [
        {
          "output_type": "execute_result",
          "data": {
            "text/plain": [
              "0    What  is  a  maths  teacher?   what  is  a  ma...\n",
              "1    I am Priyanka from Bangalore . Now am in 10th ...\n",
              "2    I'm planning on going abroad for my first job....\n",
              "3    i hear business management is a hard way to ge...\n",
              "4    I'm trying to find scholarships for first year...\n",
              "Name: questions_body, dtype: object"
            ]
          },
          "metadata": {
            "tags": []
          },
          "execution_count": 42
        }
      ]
    },
    {
      "metadata": {
        "id": "nc6us5fRGHEi",
        "colab_type": "code",
        "colab": {}
      },
      "cell_type": "code",
      "source": [
        "df1 = pd.DataFrame([plt_data_questions_id,plt_data_questions]).T\n",
        "df2 = pd.DataFrame([plt_data_answers_questions_id,plt_data_answers,plt_data_answers_author_id]).T"
      ],
      "execution_count": 0,
      "outputs": []
    },
    {
      "metadata": {
        "id": "r2ViTN5QGJMq",
        "colab_type": "code",
        "colab": {}
      },
      "cell_type": "code",
      "source": [
        "QA = pd.merge(df2, df1, left_on='answers_question_id',right_on='questions_id')"
      ],
      "execution_count": 0,
      "outputs": []
    },
    {
      "metadata": {
        "id": "3taohhONGLXa",
        "colab_type": "code",
        "colab": {}
      },
      "cell_type": "code",
      "source": [
        "answers_body = QA['answers_body']\n",
        "questions_body = QA['questions_body']\n",
        "person_id = QA['answers_author_id']"
      ],
      "execution_count": 0,
      "outputs": []
    },
    {
      "metadata": {
        "id": "6a6FlTCGGNRz",
        "colab_type": "code",
        "colab": {}
      },
      "cell_type": "code",
      "source": [
        "from sklearn.preprocessing import LabelBinarizer\n",
        "encoder = LabelBinarizer()\n",
        "transfomed_label = encoder.fit_transform(person_id)\n",
        "\n",
        "#transfomed_label = encoder.transform(person_id[1])"
      ],
      "execution_count": 0,
      "outputs": []
    },
    {
      "metadata": {
        "id": "0zeC6OChICAz",
        "colab_type": "code",
        "colab": {}
      },
      "cell_type": "code",
      "source": [
        "#label = keras.utils.to_categorical(transfomed_label[:93],100,'float32')\n",
        "#label.shape"
      ],
      "execution_count": 0,
      "outputs": []
    },
    {
      "metadata": {
        "id": "RT88qDf_Wdti",
        "colab_type": "code",
        "colab": {}
      },
      "cell_type": "code",
      "source": [
        "#label[0]"
      ],
      "execution_count": 0,
      "outputs": []
    },
    {
      "metadata": {
        "id": "KDo_RRsoGPKT",
        "colab_type": "code",
        "colab": {}
      },
      "cell_type": "code",
      "source": [
        "def preprocess(data):\n",
        "    '''\n",
        "    Credit goes to https://www.kaggle.com/gpreda/jigsaw-fast-compact-solution\n",
        "    '''\n",
        "    punct = \"/-'?!.,#$%\\'()*+-/:;<=>@[\\\\]^_`{|}~`\" + '\"\"“”’' + '∞θ÷α•à−β∅³π‘₹´°£€\\×™√²—–&' + '\\n' \n",
        "    def clean_special_chars(text, punct):\n",
        "        for p in punct:\n",
        "            text = text.replace(p, ' ')\n",
        "        return text\n",
        "\n",
        "    data = data.astype(str).apply(lambda x: clean_special_chars(x, punct))\n",
        "    return data"
      ],
      "execution_count": 0,
      "outputs": []
    },
    {
      "metadata": {
        "id": "lF6PV0sHGTW0",
        "colab_type": "code",
        "colab": {}
      },
      "cell_type": "code",
      "source": [
        "a_train = preprocess(answers_body)\n",
        "q_train = preprocess(questions_body)\n",
        "#a_train = a_train[:10000]\n",
        "#q_train = q_train[:10000]"
      ],
      "execution_count": 0,
      "outputs": []
    },
    {
      "metadata": {
        "id": "6NuVZMpZGXDU",
        "colab_type": "code",
        "colab": {}
      },
      "cell_type": "code",
      "source": [
        "tokenizer = Tokenizer()\n",
        "tokenizer.fit_on_texts(list(a_train)+list(q_train))"
      ],
      "execution_count": 0,
      "outputs": []
    },
    {
      "metadata": {
        "id": "6nInI0DuGZFW",
        "colab_type": "code",
        "colab": {}
      },
      "cell_type": "code",
      "source": [
        "a_train = tokenizer.texts_to_sequences(a_train)\n",
        "q_train = tokenizer.texts_to_sequences(q_train)"
      ],
      "execution_count": 0,
      "outputs": []
    },
    {
      "metadata": {
        "id": "Zfv-zbNzGa4F",
        "colab_type": "code",
        "colab": {}
      },
      "cell_type": "code",
      "source": [
        "question_len = 40 \n",
        "a_train = sequence.pad_sequences(a_train,maxlen=400)\n",
        "q_train = sequence.pad_sequences(q_train,maxlen=question_len)"
      ],
      "execution_count": 0,
      "outputs": []
    },
    {
      "metadata": {
        "id": "YOU5HsA0Gcyt",
        "colab_type": "code",
        "colab": {}
      },
      "cell_type": "code",
      "source": [
        "#q_train = q_train.reshape(q_train.shape[0],1,q_train.shape[1])\n",
        "#a_train = a_train.reshape(a_train.shape[0],1,a_train.shape[1])"
      ],
      "execution_count": 0,
      "outputs": []
    },
    {
      "metadata": {
        "id": "b5CQ02KVGeZd",
        "colab_type": "code",
        "colab": {}
      },
      "cell_type": "code",
      "source": [
        "import keras \n",
        "from keras import layers\n",
        "from keras import backend as K \n",
        "from keras.models import Model\n",
        "import numpy as np \n",
        "from keras import Input\n",
        "from keras import Sequential\n",
        "from keras import models"
      ],
      "execution_count": 0,
      "outputs": []
    },
    {
      "metadata": {
        "id": "8lbG3ufNGgzO",
        "colab_type": "code",
        "colab": {}
      },
      "cell_type": "code",
      "source": [
        "batch_size =16\n",
        "latent_dim = 2 \n",
        "question_shape = (40,)\n",
        "\n",
        "input_qus = keras.Input(shape=question_shape)\n",
        "#x = layers.LSTM(32,return_sequences=True,input_shape=(1,40))(input_qus)\n",
        "x = layers.Dense(32,activation='relu',input_shape=(40,))(input_qus)\n",
        "x = layers.Dense(16,activation='relu')(x)\n",
        "#x = layers.LSTM((32))(x)\n",
        "shape_before_flattening = K.int_shape(x)\n",
        "z_mean = layers.Dense(10,activation='sigmoid',name='que_pool')(x)\n",
        "#z_mean = layers.Dense(10,activation='relu',name='que_pool')(x)\n",
        "z_log_var = layers.Dense(latent_dim)(x)\n",
        "\n",
        "que_encoder = Model(input_qus,z_mean)"
      ],
      "execution_count": 0,
      "outputs": []
    },
    {
      "metadata": {
        "id": "ip75JaDBGlRe",
        "colab_type": "code",
        "colab": {}
      },
      "cell_type": "code",
      "source": [
        "answer_shape = (400,)\n",
        "input_ans = keras.Input(shape=answer_shape)\n",
        "#x = layers.LSTM(64,return_sequences=True,input_shape=(1,400))(input_ans)\n",
        "#x = layers.LSTM((32))(x)\n",
        "x = layers.Dense(64,activation='relu',input_shape=(400,))(input_ans)\n",
        "x = layers.Dense(32,activation='relu')(x)\n",
        "x = layers.Dense(16,activation='relu')(x)\n",
        "#x = layers.Dense(64,actiation='relu',input_shape=(400,1))\n",
        "z_mean_ans = layers.Dense(10,activation='sigmoid',name='ans_pool')(x)\n",
        "#z_mean_ans = layers.Dense(10,activation='relu',name='ans_pool')(x)\n",
        "z_log_var_ans = layers.Dense(latent_dim)(x)\n",
        "\n",
        "ans_encoder = Model(input_ans,z_mean_ans,name = 'ans_encoder')"
      ],
      "execution_count": 0,
      "outputs": []
    },
    {
      "metadata": {
        "id": "11ubAAgyHHCm",
        "colab_type": "code",
        "colab": {}
      },
      "cell_type": "code",
      "source": [
        "d_input = Input(shape=(10,))\n",
        "pid = layers.Dense(32,activation='relu')(d_input)\n",
        "pid = layers.Dense(10169,activation='softmax')(pid)\n",
        "\n",
        "decoder = Model(d_input,pid)\n",
        "\n",
        "ans_encoder_output = ans_encoder.get_layer('ans_pool').output\n",
        "\n",
        "person_id = decoder(ans_encoder_output)\n",
        "\n",
        "full_model = Model(inputs=ans_encoder.input,outputs=person_id)"
      ],
      "execution_count": 0,
      "outputs": []
    },
    {
      "metadata": {
        "id": "RBBpKHJtHOWR",
        "colab_type": "code",
        "colab": {}
      },
      "cell_type": "code",
      "source": [
        "full_model.compile(optimizer='rmsprop',loss='categorical_crossentropy',metrics=['acc'])"
      ],
      "execution_count": 0,
      "outputs": []
    },
    {
      "metadata": {
        "id": "s0ImDyCSHWn2",
        "colab_type": "code",
        "outputId": "78319809-bf7b-4454-ccb2-9d050017855c",
        "colab": {
          "base_uri": "https://localhost:8080/",
          "height": 187
        }
      },
      "cell_type": "code",
      "source": [
        "full_model.fit(a_train,transfomed_label,epochs=12,batch_size=128)\n",
        "#full_model.fit(a_train,transfomed_label,epochs=2,batch_size=128)"
      ],
      "execution_count": 0,
      "outputs": [
        {
          "output_type": "stream",
          "text": [
            "Epoch 1/12\n",
            "51123/51123 [==============================] - 25s 496us/step - loss: 8.3511 - acc: 0.0327\n",
            "Epoch 2/12\n",
            "51123/51123 [==============================] - 25s 486us/step - loss: 8.0282 - acc: 0.0405\n",
            "Epoch 3/12\n",
            "51123/51123 [==============================] - 25s 489us/step - loss: 7.9150 - acc: 0.0417\n",
            "Epoch 4/12\n",
            "51123/51123 [==============================] - 25s 487us/step - loss: 7.8630 - acc: 0.0429\n",
            "Epoch 5/12\n",
            "23168/51123 [============>.................] - ETA: 13s - loss: 7.8262 - acc: 0.0426"
          ],
          "name": "stdout"
        }
      ]
    },
    {
      "metadata": {
        "id": "yynw5oB4I386",
        "colab_type": "code",
        "colab": {}
      },
      "cell_type": "code",
      "source": [
        "ans_encoder.predict(a_train[:10])"
      ],
      "execution_count": 0,
      "outputs": []
    },
    {
      "metadata": {
        "id": "cGdxDeIlKjsJ",
        "colab_type": "code",
        "colab": {}
      },
      "cell_type": "code",
      "source": [
        "prof_id = encoder.inverse_transform(full_model.predict(a_train[:10]))\n",
        "prof_id"
      ],
      "execution_count": 0,
      "outputs": []
    },
    {
      "metadata": {
        "id": "Fmrmtr2aRSRJ",
        "colab_type": "code",
        "colab": {}
      },
      "cell_type": "code",
      "source": [
        "first10 = encoder.inverse_transform(transfomed_label[:10])\n",
        "first10"
      ],
      "execution_count": 0,
      "outputs": []
    },
    {
      "metadata": {
        "id": "YZ7x70EdGplA",
        "colab_type": "code",
        "colab": {}
      },
      "cell_type": "code",
      "source": [
        "concatenated = layers.concatenate([z_mean,z_mean_ans],axis=-1)\n",
        "combined = layers.Dense(1,input_shape=(1,))(concatenated)\n",
        "\n",
        "correlation = Model([input_qus,input_ans],combined)"
      ],
      "execution_count": 0,
      "outputs": []
    },
    {
      "metadata": {
        "id": "gPpbwEpqHGXo",
        "colab_type": "code",
        "colab": {}
      },
      "cell_type": "code",
      "source": [
        ""
      ],
      "execution_count": 0,
      "outputs": []
    },
    {
      "metadata": {
        "id": "niL84ewpGs1I",
        "colab_type": "code",
        "colab": {}
      },
      "cell_type": "code",
      "source": [
        "import keras.backend as K \n",
        "\n",
        "def custom_loss(z_mean,z_mean_ans):\n",
        "  return K.mean(K.sum(K.square(z_mean-z_mean_ans)))"
      ],
      "execution_count": 0,
      "outputs": []
    },
    {
      "metadata": {
        "id": "9iBsvQ50Gvyg",
        "colab_type": "code",
        "colab": {}
      },
      "cell_type": "code",
      "source": [
        "ans_encoder.trainable=False\n",
        "correlation.compile(optimizer = 'rmsprop',loss=custom_loss,metrics=['acc'])"
      ],
      "execution_count": 0,
      "outputs": []
    },
    {
      "metadata": {
        "id": "aRs7Aue-G2ih",
        "colab_type": "code",
        "colab": {}
      },
      "cell_type": "code",
      "source": [
        "y_true = np.random.random((len(answers_body),1))\n",
        "correlation.fit([q_train,a_train],y_true,epochs=1,batch_size=128)"
      ],
      "execution_count": 0,
      "outputs": []
    },
    {
      "metadata": {
        "id": "BMF96INLUroE",
        "colab_type": "code",
        "colab": {}
      },
      "cell_type": "code",
      "source": [
        "que_encoder_output = que_encoder.get_layer('que_pool').output\n",
        "que_person_id = decoder(que_encoder_output)\n",
        "\n",
        "find_Mr_Right = Model(inputs=que_encoder.input,outputs=que_person_id)"
      ],
      "execution_count": 0,
      "outputs": []
    },
    {
      "metadata": {
        "id": "Fkmaamq7U5y3",
        "colab_type": "code",
        "colab": {}
      },
      "cell_type": "code",
      "source": [
        "questions_body[:10]\n",
        "professional_id = encoder.inverse_transform(find_Mr_Right.predict(q_train[:10]))"
      ],
      "execution_count": 0,
      "outputs": []
    },
    {
      "metadata": {
        "id": "_4cZgRIjU6M1",
        "colab_type": "code",
        "colab": {}
      },
      "cell_type": "code",
      "source": [
        "professional_id"
      ],
      "execution_count": 0,
      "outputs": []
    }
  ]
}