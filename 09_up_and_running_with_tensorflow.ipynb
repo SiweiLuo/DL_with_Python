{
  "nbformat": 4,
  "nbformat_minor": 0,
  "metadata": {
    "colab": {
      "name": "09_up_and_running_with_tensorflow.ipynb",
      "version": "0.3.2",
      "provenance": [],
      "include_colab_link": true
    },
    "kernelspec": {
      "name": "python3",
      "display_name": "Python 3"
    }
  },
  "cells": [
    {
      "cell_type": "markdown",
      "metadata": {
        "id": "view-in-github",
        "colab_type": "text"
      },
      "source": [
        "<a href=\"https://colab.research.google.com/github/SiweiLuo/DL_with_Python/blob/master/09_up_and_running_with_tensorflow.ipynb\" target=\"_parent\"><img src=\"https://colab.research.google.com/assets/colab-badge.svg\" alt=\"Open In Colab\"/></a>"
      ]
    },
    {
      "cell_type": "code",
      "metadata": {
        "id": "1QuFhoMX1Y1N",
        "colab_type": "code",
        "colab": {
          "base_uri": "https://localhost:8080/",
          "height": 122
        },
        "outputId": "77bfe6e0-d883-4662-a351-4bf0ce0fe89a"
      },
      "source": [
        "from sklearn.datasets import make_blobs\n",
        "from sklearn.linear_model import LogisticRegression\n",
        "from sklearn.model_selection import train_test_split\n",
        "\n",
        "# create a synthetic dataset\n",
        "X, y = make_blobs(random_state=0)\n",
        "# split data and labels into a training and a test set\n",
        "X_train, X_test, y_train, y_test = train_test_split(X, y, random_state=0)\n",
        "# instantiate a model and fit it to the training set\n",
        "logreg = LogisticRegression().fit(X_train, y_train)\n",
        "# evaluate the model on the test set\n",
        "print(\"Test set score: {:.2f}\".format(logreg.score(X_test, y_test)))"
      ],
      "execution_count": 3,
      "outputs": [
        {
          "output_type": "stream",
          "text": [
            "Test set score: 0.88\n"
          ],
          "name": "stdout"
        },
        {
          "output_type": "stream",
          "text": [
            "/usr/local/lib/python3.6/dist-packages/sklearn/linear_model/logistic.py:432: FutureWarning: Default solver will be changed to 'lbfgs' in 0.22. Specify a solver to silence this warning.\n",
            "  FutureWarning)\n",
            "/usr/local/lib/python3.6/dist-packages/sklearn/linear_model/logistic.py:469: FutureWarning: Default multi_class will be changed to 'auto' in 0.22. Specify the multi_class option to silence this warning.\n",
            "  \"this warning.\", FutureWarning)\n"
          ],
          "name": "stderr"
        }
      ]
    },
    {
      "cell_type": "code",
      "metadata": {
        "id": "M3ID1j2R2B1G",
        "colab_type": "code",
        "colab": {}
      },
      "source": [
        "import numpy as np \n",
        "import os \n",
        "\n",
        "def reset_graph(seed=42):\n",
        "  tf.reset_default_graph()\n",
        "  tf.set_random_seed(seed) \n",
        "  np.random.seed(seed) \n",
        "  \n",
        "  \n",
        "%matplotlib inline \n",
        "\n",
        "import matplotlib \n",
        "import matplotlib.pyplot as plt \n",
        "plt.rcParams['axes.labelsize'] = 14\n",
        "plt.rcParams['xtick.labelsize'] = 12\n",
        "plt.rcParams['ytick.labelsize'] = 12\n",
        "\n",
        "# Where to save the figures\n",
        "PROJECT_ROOT_DIR = \".\"\n",
        "CHAPTER_ID = \"tensorflow\"\n",
        "\n",
        "def save_fig(fig_id, tight_layout=True):\n",
        "    path = os.path.join(fig_id + \".png\")\n",
        "    print(\"Saving figure\", fig_id)\n",
        "    if tight_layout:\n",
        "        plt.tight_layout()\n",
        "    plt.savefig(path, format='png', dpi=300)"
      ],
      "execution_count": 0,
      "outputs": []
    },
    {
      "cell_type": "code",
      "metadata": {
        "id": "y3ZNC8QwAzNQ",
        "colab_type": "code",
        "colab": {}
      },
      "source": [
        "import tensorflow as tf \n",
        "\n",
        "reset_graph() \n",
        "\n",
        "x = tf.Variable(3,name=\"x\") \n",
        "y = tf.Variable(4,name=\"y\") \n",
        "\n",
        "f = x*x*y + y +2 \n",
        "\n"
      ],
      "execution_count": 0,
      "outputs": []
    },
    {
      "cell_type": "code",
      "metadata": {
        "id": "RtNMQm6IA9zL",
        "colab_type": "code",
        "colab": {
          "base_uri": "https://localhost:8080/",
          "height": 34
        },
        "outputId": "0758e360-da26-4b6e-f1e8-3617ee9b997b"
      },
      "source": [
        "f "
      ],
      "execution_count": 6,
      "outputs": [
        {
          "output_type": "execute_result",
          "data": {
            "text/plain": [
              "<tf.Tensor 'add_1:0' shape=() dtype=int32>"
            ]
          },
          "metadata": {
            "tags": []
          },
          "execution_count": 6
        }
      ]
    },
    {
      "cell_type": "code",
      "metadata": {
        "id": "1OGbrSjeA-os",
        "colab_type": "code",
        "colab": {
          "base_uri": "https://localhost:8080/",
          "height": 34
        },
        "outputId": "75802765-531e-40d3-87b8-708301f479b1"
      },
      "source": [
        "sess = tf.Session() \n",
        "\n",
        "sess.run(x.initializer) \n",
        "sess.run(y.initializer)\n",
        "result = sess.run(f) \n",
        "\n",
        "print(result) "
      ],
      "execution_count": 7,
      "outputs": [
        {
          "output_type": "stream",
          "text": [
            "42\n"
          ],
          "name": "stdout"
        }
      ]
    },
    {
      "cell_type": "code",
      "metadata": {
        "id": "X0-LBP_dBGgq",
        "colab_type": "code",
        "colab": {}
      },
      "source": [
        "sess.close() "
      ],
      "execution_count": 0,
      "outputs": []
    },
    {
      "cell_type": "code",
      "metadata": {
        "id": "hn9B4lu7BJNI",
        "colab_type": "code",
        "colab": {}
      },
      "source": [
        "with tf.Session() as sess: \n",
        "  x.initializer.run()\n",
        "  y.initializer.run() \n",
        "  result = f.eval() \n",
        "  \n",
        "  "
      ],
      "execution_count": 0,
      "outputs": []
    },
    {
      "cell_type": "code",
      "metadata": {
        "id": "RBg39fgDBPto",
        "colab_type": "code",
        "colab": {
          "base_uri": "https://localhost:8080/",
          "height": 34
        },
        "outputId": "e339e73b-0129-411d-e86d-33ec7acf2286"
      },
      "source": [
        "result"
      ],
      "execution_count": 10,
      "outputs": [
        {
          "output_type": "execute_result",
          "data": {
            "text/plain": [
              "42"
            ]
          },
          "metadata": {
            "tags": []
          },
          "execution_count": 10
        }
      ]
    },
    {
      "cell_type": "code",
      "metadata": {
        "id": "3WmVFV0uBQMA",
        "colab_type": "code",
        "colab": {}
      },
      "source": [
        "init = tf.global_variables_initializer() \n",
        "\n",
        "with tf.Session() as sess: \n",
        "  init.run() \n",
        "  result = f.eval() "
      ],
      "execution_count": 0,
      "outputs": []
    },
    {
      "cell_type": "code",
      "metadata": {
        "id": "NL1OOayBBW62",
        "colab_type": "code",
        "colab": {
          "base_uri": "https://localhost:8080/",
          "height": 34
        },
        "outputId": "16ad53c4-ac07-4b78-d209-b8beb722b2ca"
      },
      "source": [
        "result "
      ],
      "execution_count": 12,
      "outputs": [
        {
          "output_type": "execute_result",
          "data": {
            "text/plain": [
              "42"
            ]
          },
          "metadata": {
            "tags": []
          },
          "execution_count": 12
        }
      ]
    },
    {
      "cell_type": "code",
      "metadata": {
        "id": "O7XRIiZSBZqm",
        "colab_type": "code",
        "colab": {}
      },
      "source": [
        "init = tf.global_variables_initializer() "
      ],
      "execution_count": 0,
      "outputs": []
    },
    {
      "cell_type": "code",
      "metadata": {
        "id": "o3OSsE2mBcbO",
        "colab_type": "code",
        "colab": {
          "base_uri": "https://localhost:8080/",
          "height": 34
        },
        "outputId": "e69c4de1-a39d-414d-e2fe-025a55b74454"
      },
      "source": [
        "sess = tf.InteractiveSession() \n",
        "init.run()\n",
        "result = f.eval() \n",
        "print(result) "
      ],
      "execution_count": 14,
      "outputs": [
        {
          "output_type": "stream",
          "text": [
            "42\n"
          ],
          "name": "stdout"
        }
      ]
    },
    {
      "cell_type": "code",
      "metadata": {
        "id": "3FqBaI4rBh0t",
        "colab_type": "code",
        "colab": {
          "base_uri": "https://localhost:8080/",
          "height": 34
        },
        "outputId": "18c494a4-6eca-4e0c-850f-75ea4644ec2c"
      },
      "source": [
        "sess.close() \n",
        "result "
      ],
      "execution_count": 15,
      "outputs": [
        {
          "output_type": "execute_result",
          "data": {
            "text/plain": [
              "42"
            ]
          },
          "metadata": {
            "tags": []
          },
          "execution_count": 15
        }
      ]
    },
    {
      "cell_type": "code",
      "metadata": {
        "id": "FDAFvn2pBjg8",
        "colab_type": "code",
        "colab": {}
      },
      "source": [
        "reset_graph() "
      ],
      "execution_count": 0,
      "outputs": []
    },
    {
      "cell_type": "code",
      "metadata": {
        "id": "4ZUuoawYBkyM",
        "colab_type": "code",
        "colab": {
          "base_uri": "https://localhost:8080/",
          "height": 34
        },
        "outputId": "9021b0f0-854b-4231-f3c0-dc5417b68d4b"
      },
      "source": [
        "x1 = tf.Variable(1) \n",
        "x1.graph is tf.get_default_graph() "
      ],
      "execution_count": 17,
      "outputs": [
        {
          "output_type": "execute_result",
          "data": {
            "text/plain": [
              "True"
            ]
          },
          "metadata": {
            "tags": []
          },
          "execution_count": 17
        }
      ]
    },
    {
      "cell_type": "code",
      "metadata": {
        "id": "qvL2kUbvBodj",
        "colab_type": "code",
        "colab": {
          "base_uri": "https://localhost:8080/",
          "height": 34
        },
        "outputId": "a2882d9a-0a66-45c7-c6e7-358c6c3c1ed5"
      },
      "source": [
        "graph = tf.Graph() \n",
        "with graph.as_default():\n",
        "  x2 = tf.Variable(2) \n",
        "  \n",
        "  \n",
        "x2.graph is graph "
      ],
      "execution_count": 18,
      "outputs": [
        {
          "output_type": "execute_result",
          "data": {
            "text/plain": [
              "True"
            ]
          },
          "metadata": {
            "tags": []
          },
          "execution_count": 18
        }
      ]
    },
    {
      "cell_type": "code",
      "metadata": {
        "id": "0Qf4qF71Bv3i",
        "colab_type": "code",
        "colab": {
          "base_uri": "https://localhost:8080/",
          "height": 34
        },
        "outputId": "2efa1c77-afab-43d5-ebb2-03de36c601c7"
      },
      "source": [
        "x2.graph is tf.get_default_graph() "
      ],
      "execution_count": 19,
      "outputs": [
        {
          "output_type": "execute_result",
          "data": {
            "text/plain": [
              "False"
            ]
          },
          "metadata": {
            "tags": []
          },
          "execution_count": 19
        }
      ]
    },
    {
      "cell_type": "code",
      "metadata": {
        "id": "Ikz2_OqSByUp",
        "colab_type": "code",
        "colab": {
          "base_uri": "https://localhost:8080/",
          "height": 51
        },
        "outputId": "a210674a-e4df-4e66-ce57-9815850f3447"
      },
      "source": [
        "w = tf.constant(3) \n",
        "x = w+2\n",
        "y = x+5 \n",
        "z = x*3 \n",
        "\n",
        "with tf.Session() as sess: \n",
        "  print(y.eval()) \n",
        "  print(z.eval()) "
      ],
      "execution_count": 20,
      "outputs": [
        {
          "output_type": "stream",
          "text": [
            "10\n",
            "15\n"
          ],
          "name": "stdout"
        }
      ]
    },
    {
      "cell_type": "code",
      "metadata": {
        "id": "Zg6l-MJpB7KA",
        "colab_type": "code",
        "colab": {
          "base_uri": "https://localhost:8080/",
          "height": 51
        },
        "outputId": "e1ed87ad-f447-4e02-84c6-32717779a8a1"
      },
      "source": [
        "with tf.Session() as sess: \n",
        "  y_val, z_val = sess.run([y,z]) \n",
        "  print(y_val) \n",
        "  print(z_val)"
      ],
      "execution_count": 21,
      "outputs": [
        {
          "output_type": "stream",
          "text": [
            "10\n",
            "15\n"
          ],
          "name": "stdout"
        }
      ]
    },
    {
      "cell_type": "code",
      "metadata": {
        "id": "_3d9fc6dCA6n",
        "colab_type": "code",
        "colab": {
          "base_uri": "https://localhost:8080/",
          "height": 88
        },
        "outputId": "6ec3567e-c1d1-4e82-bd95-859c5f2ea003"
      },
      "source": [
        "import numpy as np \n",
        "from sklearn.datasets import fetch_california_housing\n",
        "\n",
        "reset_graph() \n",
        "\n",
        "housing = fetch_california_housing() \n",
        "m , n = housing.data.shape"
      ],
      "execution_count": 22,
      "outputs": [
        {
          "output_type": "stream",
          "text": [
            "Downloading Cal. housing from https://ndownloader.figshare.com/files/5976036 to /root/scikit_learn_data\n",
            "WARNING: Logging before flag parsing goes to stderr.\n",
            "I0708 03:24:42.120626 140292115126144 california_housing.py:114] Downloading Cal. housing from https://ndownloader.figshare.com/files/5976036 to /root/scikit_learn_data\n"
          ],
          "name": "stderr"
        }
      ]
    },
    {
      "cell_type": "code",
      "metadata": {
        "id": "8ZnJrBMECKy9",
        "colab_type": "code",
        "colab": {}
      },
      "source": [
        "housing_data_plus_bias = np.c_[np.ones((m,1)),housing.data]\n",
        "\n",
        "x = tf.constant(housing_data_plus_bias,dtype=tf.float32,name=\"x\") \n",
        "y = tf.constant(housing.target.reshape(-1,1),dtype=tf.float32,name=\"y\") \n",
        "xt = tf.transpose(x) \n",
        "theta = tf.matmul(tf.matmul(tf.matrix_inverse(tf.matmul(xt,x)),xt),y)\n",
        "\n",
        "with tf.Session() as sess: \n",
        "  theta_value = theta.eval() \n",
        "                  \n",
        "                 "
      ],
      "execution_count": 0,
      "outputs": []
    },
    {
      "cell_type": "code",
      "metadata": {
        "id": "I4MqjmcmCpEI",
        "colab_type": "code",
        "colab": {
          "base_uri": "https://localhost:8080/",
          "height": 170
        },
        "outputId": "58044724-da86-4b37-e30b-82c6691c606b"
      },
      "source": [
        "theta_value"
      ],
      "execution_count": 24,
      "outputs": [
        {
          "output_type": "execute_result",
          "data": {
            "text/plain": [
              "array([[-3.67372932e+01],\n",
              "       [ 4.37366009e-01],\n",
              "       [ 9.47520509e-03],\n",
              "       [-1.08159676e-01],\n",
              "       [ 6.48537397e-01],\n",
              "       [-3.84734449e-06],\n",
              "       [-3.79239232e-03],\n",
              "       [-4.19136107e-01],\n",
              "       [-4.32144403e-01]], dtype=float32)"
            ]
          },
          "metadata": {
            "tags": []
          },
          "execution_count": 24
        }
      ]
    },
    {
      "cell_type": "code",
      "metadata": {
        "id": "V2j-yIswCqVX",
        "colab_type": "code",
        "colab": {
          "base_uri": "https://localhost:8080/",
          "height": 170
        },
        "outputId": "aaa548a1-96ff-44ef-a367-2a40ea38c3ad"
      },
      "source": [
        "x = housing_data_plus_bias \n",
        "y = housing.target.reshape(-1,1) \n",
        "\n",
        "theta_numpy = np.linalg.inv(x.T.dot(x)).dot(x.T).dot(y) \n",
        "\n",
        "print(theta_numpy) "
      ],
      "execution_count": 25,
      "outputs": [
        {
          "output_type": "stream",
          "text": [
            "[[-3.69419202e+01]\n",
            " [ 4.36693293e-01]\n",
            " [ 9.43577803e-03]\n",
            " [-1.07322041e-01]\n",
            " [ 6.45065694e-01]\n",
            " [-3.97638942e-06]\n",
            " [-3.78654265e-03]\n",
            " [-4.21314378e-01]\n",
            " [-4.34513755e-01]]\n"
          ],
          "name": "stdout"
        }
      ]
    },
    {
      "cell_type": "code",
      "metadata": {
        "id": "9SzJ0y9onZp3",
        "colab_type": "code",
        "colab": {
          "base_uri": "https://localhost:8080/",
          "height": 323
        },
        "outputId": "cf178b8c-fa8a-48ff-bc1b-e8c9d7514774"
      },
      "source": [
        "from sklearn.linear_model import LinearRegression\n",
        "\n",
        "lin_reg = LinearRegression() \n",
        "lin_reg.fit(housing.data,housing.target.reshape(-1,1)) \n",
        "\n",
        "print(np.r_[lin_reg.intercept_.reshape(-1,1),lin_reg.coef_.T])\n",
        "\n",
        "print(np.r_[lin_reg.intercept_.reshape(-1,1),lin_reg.coef_.T]) "
      ],
      "execution_count": 26,
      "outputs": [
        {
          "output_type": "stream",
          "text": [
            "[[-3.69419202e+01]\n",
            " [ 4.36693293e-01]\n",
            " [ 9.43577803e-03]\n",
            " [-1.07322041e-01]\n",
            " [ 6.45065694e-01]\n",
            " [-3.97638942e-06]\n",
            " [-3.78654265e-03]\n",
            " [-4.21314378e-01]\n",
            " [-4.34513755e-01]]\n",
            "[[-3.69419202e+01]\n",
            " [ 4.36693293e-01]\n",
            " [ 9.43577803e-03]\n",
            " [-1.07322041e-01]\n",
            " [ 6.45065694e-01]\n",
            " [-3.97638942e-06]\n",
            " [-3.78654265e-03]\n",
            " [-4.21314378e-01]\n",
            " [-4.34513755e-01]]\n"
          ],
          "name": "stdout"
        }
      ]
    },
    {
      "cell_type": "code",
      "metadata": {
        "id": "RDEnPtgpnwV0",
        "colab_type": "code",
        "colab": {}
      },
      "source": [
        "from sklearn.preprocessing import StandardScaler \n",
        "scaler = StandardScaler() \n",
        "scaled_housing_data = scaler.fit_transform(housing.data) \n",
        "\n",
        "scaled_housing_data_plus_bias = np.c_[np.ones((m,1)),scaled_housing_data]"
      ],
      "execution_count": 0,
      "outputs": []
    },
    {
      "cell_type": "code",
      "metadata": {
        "id": "N1EJDNRuoBDP",
        "colab_type": "code",
        "colab": {
          "base_uri": "https://localhost:8080/",
          "height": 136
        },
        "outputId": "0f9c8b9f-a398-46c0-8409-e04aab332054"
      },
      "source": [
        "print(scaled_housing_data_plus_bias.mean(axis=0))\n",
        "print(scaled_housing_data_plus_bias.mean(axis=1))\n",
        "print(scaled_housing_data_plus_bias.mean())\n",
        "print(scaled_housing_data_plus_bias.shape)"
      ],
      "execution_count": 29,
      "outputs": [
        {
          "output_type": "stream",
          "text": [
            "[ 1.00000000e+00  6.60969987e-17  5.50808322e-18  6.60969987e-17\n",
            " -1.06030602e-16 -1.10161664e-17  3.44255201e-18 -1.07958431e-15\n",
            " -8.52651283e-15]\n",
            "[ 0.38915536  0.36424355  0.5116157  ... -0.06612179 -0.06360587\n",
            "  0.01359031]\n",
            "0.11111111111111005\n",
            "(20640, 9)\n"
          ],
          "name": "stdout"
        }
      ]
    },
    {
      "cell_type": "code",
      "metadata": {
        "id": "AlotLpcDobly",
        "colab_type": "code",
        "colab": {
          "base_uri": "https://localhost:8080/",
          "height": 34
        },
        "outputId": "ca843c10-6406-4312-8a52-b195e2e46b7c"
      },
      "source": [
        "housing.target\n",
        "housing.target.shape"
      ],
      "execution_count": 37,
      "outputs": [
        {
          "output_type": "execute_result",
          "data": {
            "text/plain": [
              "(20640,)"
            ]
          },
          "metadata": {
            "tags": []
          },
          "execution_count": 37
        }
      ]
    },
    {
      "cell_type": "code",
      "metadata": {
        "id": "dktSUk25od2Y",
        "colab_type": "code",
        "colab": {
          "base_uri": "https://localhost:8080/",
          "height": 34
        },
        "outputId": "dff6a545-e18a-450d-f355-43facd298cc7"
      },
      "source": [
        "housing.target.reshape(-1,1) \n",
        "housing.target.shape"
      ],
      "execution_count": 38,
      "outputs": [
        {
          "output_type": "execute_result",
          "data": {
            "text/plain": [
              "(20640,)"
            ]
          },
          "metadata": {
            "tags": []
          },
          "execution_count": 38
        }
      ]
    },
    {
      "cell_type": "code",
      "metadata": {
        "id": "9KqAA-7upAcY",
        "colab_type": "code",
        "colab": {
          "base_uri": "https://localhost:8080/",
          "height": 34
        },
        "outputId": "3e754f35-2f86-4cd9-feae-e414408c9c43"
      },
      "source": [
        "housing.target.reshape(1,-1) "
      ],
      "execution_count": 39,
      "outputs": [
        {
          "output_type": "execute_result",
          "data": {
            "text/plain": [
              "array([[4.526, 3.585, 3.521, ..., 0.923, 0.847, 0.894]])"
            ]
          },
          "metadata": {
            "tags": []
          },
          "execution_count": 39
        }
      ]
    },
    {
      "cell_type": "code",
      "metadata": {
        "id": "RbAqNIDlpD5y",
        "colab_type": "code",
        "colab": {
          "base_uri": "https://localhost:8080/",
          "height": 136
        },
        "outputId": "92a05923-2f8b-4fa8-c158-423de5e5705f"
      },
      "source": [
        "housing.target.reshape(-1,1) "
      ],
      "execution_count": 40,
      "outputs": [
        {
          "output_type": "execute_result",
          "data": {
            "text/plain": [
              "array([[4.526],\n",
              "       [3.585],\n",
              "       [3.521],\n",
              "       ...,\n",
              "       [0.923],\n",
              "       [0.847],\n",
              "       [0.894]])"
            ]
          },
          "metadata": {
            "tags": []
          },
          "execution_count": 40
        }
      ]
    },
    {
      "cell_type": "code",
      "metadata": {
        "id": "qE9JEQlUoOU-",
        "colab_type": "code",
        "colab": {
          "base_uri": "https://localhost:8080/",
          "height": 187
        },
        "outputId": "e95631dd-d026-4f73-afee-8c5c48b9cc46"
      },
      "source": [
        "reset_graph()\n",
        "\n",
        "n_epochs = 1000 \n",
        "learning_rate = 0.01 \n",
        "\n",
        "x = tf.constant(scaled_housing_data_plus_bias,dtype=tf.float32,name=\"x\") \n",
        "y = tf.constant(housing.target.reshape(-1,1),dtype=tf.float32,name=\"y\")\n",
        "theta = tf.Variable(tf.random_uniform([n+1,1],-1.0,1.0,seed=42),name=\"theta\") \n",
        "y_pred = tf.matmul(x,theta,name=\"predictions\") \n",
        "error = y_pred-y \n",
        "mse = tf.reduce_mean(tf.square(error),name=\"mse\") \n",
        "gradients = 2/m * tf.matmul(tf.transpose(x),error) \n",
        "training_op = tf.assign(theta,theta-learning_rate*gradients) \n",
        "\n",
        "init = tf.global_variables_initializer() \n",
        "\n",
        "with tf.Session() as sess: \n",
        "  sess.run(init) \n",
        "  \n",
        "  for epoch in range(n_epochs):\n",
        "    if epoch%100 == 0 : \n",
        "      print(\" Epoch\", epoch, \"MSE = \",mse.eval())\n",
        "      \n",
        "    sess.run(training_op) \n",
        "    \n",
        "  best_theta = theta.eval() "
      ],
      "execution_count": 42,
      "outputs": [
        {
          "output_type": "stream",
          "text": [
            " Epoch 0 MSE =  9.161542\n",
            " Epoch 100 MSE =  0.71450055\n",
            " Epoch 200 MSE =  0.56670487\n",
            " Epoch 300 MSE =  0.55557173\n",
            " Epoch 400 MSE =  0.5488112\n",
            " Epoch 500 MSE =  0.5436363\n",
            " Epoch 600 MSE =  0.53962904\n",
            " Epoch 700 MSE =  0.5365092\n",
            " Epoch 800 MSE =  0.5340677\n",
            " Epoch 900 MSE =  0.5321473\n"
          ],
          "name": "stdout"
        }
      ]
    },
    {
      "cell_type": "code",
      "metadata": {
        "id": "9W2qKCZrp2WM",
        "colab_type": "code",
        "colab": {
          "base_uri": "https://localhost:8080/",
          "height": 170
        },
        "outputId": "26bdb8b0-0173-4b68-b8bd-f396e9a05194"
      },
      "source": [
        "best_theta "
      ],
      "execution_count": 43,
      "outputs": [
        {
          "output_type": "execute_result",
          "data": {
            "text/plain": [
              "array([[ 2.0685523 ],\n",
              "       [ 0.8874027 ],\n",
              "       [ 0.14401656],\n",
              "       [-0.3477088 ],\n",
              "       [ 0.36178362],\n",
              "       [ 0.00393811],\n",
              "       [-0.04269556],\n",
              "       [-0.66145283],\n",
              "       [-0.6375278 ]], dtype=float32)"
            ]
          },
          "metadata": {
            "tags": []
          },
          "execution_count": 43
        }
      ]
    },
    {
      "cell_type": "code",
      "metadata": {
        "id": "3OfhuPdEp_kw",
        "colab_type": "code",
        "colab": {}
      },
      "source": [
        "reset_graph() \n",
        "\n",
        "n_epochs = 1000 \n",
        "learning_rate = 0.01\n",
        "\n",
        "x = tf.constant(scaled_housing_data_plus_bias,dtype=tf.float32,name=\"x\")\n",
        "y = tf.constant(housing.target.reshape(-1,1),dtype=tf.float32,name=\"y\") \n",
        "theta = tf.Variable(tf.random_uniform([n+1,1],-1.0,1.0,seed=42),name=\"theta\") \n",
        "y_pred = tf.matmul(x,theta,name=\"predictions\")\n",
        "error = y_pred - y \n",
        "mse = tf.reduce_mean(tf.square(error),name=\"mse\") \n",
        "\n"
      ],
      "execution_count": 0,
      "outputs": []
    },
    {
      "cell_type": "code",
      "metadata": {
        "id": "VnSJqgybqd9y",
        "colab_type": "code",
        "colab": {}
      },
      "source": [
        "gradients = tf.gradients(mse,[theta])[0]"
      ],
      "execution_count": 0,
      "outputs": []
    },
    {
      "cell_type": "code",
      "metadata": {
        "id": "DflR6Gh4qkiM",
        "colab_type": "code",
        "colab": {
          "base_uri": "https://localhost:8080/",
          "height": 357
        },
        "outputId": "7a692417-1e59-4f2b-d3d8-6f3efb5c631c"
      },
      "source": [
        "training_op = tf.assign(theta,theta-learning_rate*gradients) \n",
        "\n",
        "init = tf.global_variables_initializer() \n",
        "\n",
        "with tf.Session() as sess: \n",
        "  sess.run(init) \n",
        "  \n",
        "  for epoch in range(n_epochs):\n",
        "    if epoch%100==0 : \n",
        "      print(\"Epoch\",epoch,\"MSE = \",mse.eval())\n",
        "    sess.run(training_op) \n",
        "    \n",
        "  best_theta = theta.eval() \n",
        "  \n",
        "print(\"Best theta:\" ) \n",
        "print(best_theta)\n",
        "           "
      ],
      "execution_count": 47,
      "outputs": [
        {
          "output_type": "stream",
          "text": [
            "Epoch 0 MSE =  9.161542\n",
            "Epoch 100 MSE =  0.7145004\n",
            "Epoch 200 MSE =  0.56670487\n",
            "Epoch 300 MSE =  0.55557173\n",
            "Epoch 400 MSE =  0.5488112\n",
            "Epoch 500 MSE =  0.5436363\n",
            "Epoch 600 MSE =  0.53962904\n",
            "Epoch 700 MSE =  0.5365092\n",
            "Epoch 800 MSE =  0.5340677\n",
            "Epoch 900 MSE =  0.5321473\n",
            "Best theta:\n",
            "[[ 2.0685525 ]\n",
            " [ 0.8874027 ]\n",
            " [ 0.14401658]\n",
            " [-0.34770882]\n",
            " [ 0.36178368]\n",
            " [ 0.00393811]\n",
            " [-0.04269556]\n",
            " [-0.6614528 ]\n",
            " [-0.6375277 ]]\n"
          ],
          "name": "stdout"
        }
      ]
    },
    {
      "cell_type": "code",
      "metadata": {
        "id": "oORELZOlq7kQ",
        "colab_type": "code",
        "colab": {}
      },
      "source": [
        "def my_func(a,b):\n",
        "  z = 0 \n",
        "  for i in range(100):\n",
        "    z = a*np.cos(z+i)+z*np.sin(b-i)\n",
        "  return z \n",
        "\n"
      ],
      "execution_count": 0,
      "outputs": []
    },
    {
      "cell_type": "code",
      "metadata": {
        "id": "lpnstwitrH5V",
        "colab_type": "code",
        "colab": {
          "base_uri": "https://localhost:8080/",
          "height": 34
        },
        "outputId": "16d86616-1ac2-48d6-bb96-cd88a17feb9f"
      },
      "source": [
        "my_func(0.2,0.3) "
      ],
      "execution_count": 49,
      "outputs": [
        {
          "output_type": "execute_result",
          "data": {
            "text/plain": [
              "-0.21253923284754914"
            ]
          },
          "metadata": {
            "tags": []
          },
          "execution_count": 49
        }
      ]
    },
    {
      "cell_type": "code",
      "metadata": {
        "id": "ufo19glsrKEU",
        "colab_type": "code",
        "colab": {}
      },
      "source": [
        "reset_graph() \n",
        "\n",
        "a = tf.Variable(0.2,name=\"a\")\n",
        "b = tf.Variable(0.3,name=\"b\") \n",
        "z = tf.constant(0.0,name=\"z0\") \n",
        "\n",
        "for i in range(100):\n",
        "  z = a*tf.cos(z+i) + z * tf.sin(b-i) \n",
        "  \n",
        "grads = tf.gradients(z,[a,b]) \n",
        "\n",
        "init = tf.global_variables_initializer() \n",
        "\n"
      ],
      "execution_count": 0,
      "outputs": []
    },
    {
      "cell_type": "code",
      "metadata": {
        "id": "plwWwUEirc0b",
        "colab_type": "code",
        "colab": {
          "base_uri": "https://localhost:8080/",
          "height": 51
        },
        "outputId": "1f40f19c-dbfb-4afb-dfc7-298ae34a8a31"
      },
      "source": [
        "with tf.Session() as sess: \n",
        "  init.run() \n",
        "  print(z.eval()) \n",
        "  print(sess.run(grads)) "
      ],
      "execution_count": 51,
      "outputs": [
        {
          "output_type": "stream",
          "text": [
            "-0.21253741\n",
            "[-1.1388495, 0.19671395]\n"
          ],
          "name": "stdout"
        }
      ]
    },
    {
      "cell_type": "code",
      "metadata": {
        "id": "s7tFc3CFric4",
        "colab_type": "code",
        "colab": {}
      },
      "source": [
        "reset_graph() \n",
        "\n",
        "n_epochs = 1000 \n",
        "learning_rate = 0.01 \n",
        "\n",
        "x = tf.constant(scaled_housing_data_plus_bias,dtype=tf.float32,name=\"x\") \n",
        "y = tf.constant(housing.target.reshape(-1,1),dtype=tf.float32,name=\"y\")\n",
        "theta = tf.Variable(tf.random_uniform([n+1,1],-1.0,1.0,seed=42),name=\"theta\") \n",
        "y_pred = tf.matmul(x,theta,name=\"predictions\") \n",
        "error = y_pred-y \n",
        "mse = tf.reduce_mean(tf.square(error),name=\"mse\") \n"
      ],
      "execution_count": 0,
      "outputs": []
    },
    {
      "cell_type": "code",
      "metadata": {
        "id": "Aulp9ETisACT",
        "colab_type": "code",
        "colab": {}
      },
      "source": [
        "optimizer = tf.train.GradientDescentOptimizer(learning_rate=learning_rate) \n",
        "training_op = optimizer.minimize(mse) "
      ],
      "execution_count": 0,
      "outputs": []
    },
    {
      "cell_type": "code",
      "metadata": {
        "id": "6JolZASAsG2J",
        "colab_type": "code",
        "colab": {
          "base_uri": "https://localhost:8080/",
          "height": 357
        },
        "outputId": "8b3b3114-562c-4634-9515-3060f18ea492"
      },
      "source": [
        "init = tf.global_variables_initializer() \n",
        "\n",
        "with tf.Session() as sess: \n",
        "  sess.run(init)\n",
        "  for epoch in range(n_epochs):\n",
        "    if epoch % 100 == 0: \n",
        "      print(\"Epoch\",epoch,\"MSE = \",mse.eval()) \n",
        "    sess.run(training_op) \n",
        "    \n",
        "  best_theta = theta.eval() \n",
        "  \n",
        "print(\"Best_theta:\") \n",
        "print(best_theta) "
      ],
      "execution_count": 55,
      "outputs": [
        {
          "output_type": "stream",
          "text": [
            "Epoch 0 MSE =  9.161542\n",
            "Epoch 100 MSE =  0.71450055\n",
            "Epoch 200 MSE =  0.56670487\n",
            "Epoch 300 MSE =  0.55557173\n",
            "Epoch 400 MSE =  0.5488112\n",
            "Epoch 500 MSE =  0.5436363\n",
            "Epoch 600 MSE =  0.53962904\n",
            "Epoch 700 MSE =  0.5365092\n",
            "Epoch 800 MSE =  0.5340677\n",
            "Epoch 900 MSE =  0.5321473\n",
            "Best_theta:\n",
            "[[ 2.0685523 ]\n",
            " [ 0.88740265]\n",
            " [ 0.14401655]\n",
            " [-0.34770873]\n",
            " [ 0.3617836 ]\n",
            " [ 0.00393811]\n",
            " [-0.04269556]\n",
            " [-0.6614529 ]\n",
            " [-0.6375279 ]]\n"
          ],
          "name": "stdout"
        }
      ]
    },
    {
      "cell_type": "code",
      "metadata": {
        "id": "k292BZ0hsftu",
        "colab_type": "code",
        "colab": {}
      },
      "source": [
        ""
      ],
      "execution_count": 0,
      "outputs": []
    }
  ]
}