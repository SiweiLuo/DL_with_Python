{
  "nbformat": 4,
  "nbformat_minor": 0,
  "metadata": {
    "colab": {
      "name": "CV_preprocess2.ipynb",
      "version": "0.3.2",
      "provenance": [],
      "include_colab_link": true
    },
    "kernelspec": {
      "name": "python3",
      "display_name": "Python 3"
    }
  },
  "cells": [
    {
      "cell_type": "markdown",
      "metadata": {
        "id": "view-in-github",
        "colab_type": "text"
      },
      "source": [
        "<a href=\"https://colab.research.google.com/github/SiweiLuo/DL_with_Python/blob/master/CV_preprocess2.ipynb\" target=\"_parent\"><img src=\"https://colab.research.google.com/assets/colab-badge.svg\" alt=\"Open In Colab\"/></a>"
      ]
    },
    {
      "metadata": {
        "id": "w4Gi2J1quCXG",
        "colab_type": "code",
        "colab": {}
      },
      "cell_type": "code",
      "source": [
        "import numpy as np \n",
        "import pandas as pd\n",
        "import string \n",
        "import keras\n",
        "from keras.preprocessing.text import Tokenizer\n",
        "from keras import preprocessing\n",
        "from keras.models import Sequential\n",
        "from keras.layers import Flatten, Dense\n",
        "from keras.layers import Embedding\n",
        "from keras.utils.np_utils import to_categorical\n",
        "from keras.utils import np_utils\n",
        "from keras.datasets import imdb\n",
        "\n",
        "from keras.preprocessing.text import one_hot\n",
        "from keras.preprocessing.text import text_to_word_sequence\n",
        "from keras.preprocessing import text, sequence\n",
        "\n",
        "from google.colab import drive\n",
        "\n",
        "#import StringIO\n",
        "import time\n",
        "import sys\n",
        "import csv"
      ],
      "execution_count": 0,
      "outputs": []
    },
    {
      "metadata": {
        "id": "Doh1SC-rv0Fh",
        "colab_type": "code",
        "colab": {
          "base_uri": "https://localhost:8080/",
          "height": 54
        },
        "outputId": "e9050315-f2f3-4168-81a6-cb219513284d"
      },
      "cell_type": "code",
      "source": [
        "drive.mount('/content/gdrive/')"
      ],
      "execution_count": 62,
      "outputs": [
        {
          "output_type": "stream",
          "text": [
            "Drive already mounted at /content/gdrive/; to attempt to forcibly remount, call drive.mount(\"/content/gdrive/\", force_remount=True).\n"
          ],
          "name": "stdout"
        }
      ]
    },
    {
      "metadata": {
        "id": "vm5_2Lp6v2RC",
        "colab_type": "code",
        "colab": {}
      },
      "cell_type": "code",
      "source": [
        "questions = pd.read_csv(r'/content/gdrive/My Drive/Colab Notebooks/CareerVillage/questions.csv')\n",
        "#print('questions = ',questions)\n",
        "answers = pd.read_csv(r'/content/gdrive/My Drive/Colab Notebooks/CareerVillage/answers.csv')\n",
        "#print('answers = ',answers)"
      ],
      "execution_count": 0,
      "outputs": []
    },
    {
      "metadata": {
        "id": "uA_NN4qPv4LN",
        "colab_type": "code",
        "colab": {}
      },
      "cell_type": "code",
      "source": [
        "questions['questions_body'] = questions['questions_body'].str.replace(\"<p>\", \" \").str.replace(\"</p>\", \" \").str.replace(\"\\n\",\" \")\n",
        "answers['answers_body'] = answers['answers_body'].str.replace(\"<p>\", \" \").str.replace(\"</p>\", \" \").str.replace(\"\\n\",\" \")\n",
        "plt_data_questions = questions['questions_body']\n",
        "plt_data_answers = answers['answers_body']\n",
        "plt_data_questions_id = questions['questions_id']\n",
        "plt_data_answers_questions_id = answers['answers_question_id']\n",
        "#plt_data = pd.DataFrame([plt_data_questions, plt_data_answers,plt_data_questions_id,plt_data_answers_questions_id]).T"
      ],
      "execution_count": 0,
      "outputs": []
    },
    {
      "metadata": {
        "id": "Ia16ciEyz6fb",
        "colab_type": "code",
        "colab": {
          "base_uri": "https://localhost:8080/",
          "height": 119
        },
        "outputId": "c0d61827-0ff4-4444-df5e-8fa343171e19"
      },
      "cell_type": "code",
      "source": [
        "plt_data_questions.head(5)"
      ],
      "execution_count": 95,
      "outputs": [
        {
          "output_type": "execute_result",
          "data": {
            "text/plain": [
              "0    What  is  a  maths  teacher?   what  is  a  ma...\n",
              "1    I am Priyanka from Bangalore . Now am in 10th ...\n",
              "2    I'm planning on going abroad for my first job....\n",
              "3    i hear business management is a hard way to ge...\n",
              "4    I'm trying to find scholarships for first year...\n",
              "Name: questions_body, dtype: object"
            ]
          },
          "metadata": {
            "tags": []
          },
          "execution_count": 95
        }
      ]
    },
    {
      "metadata": {
        "id": "t5OUhVCbz855",
        "colab_type": "code",
        "colab": {
          "base_uri": "https://localhost:8080/",
          "height": 119
        },
        "outputId": "f303328a-4309-49fc-ef1d-0e3022f708ed"
      },
      "cell_type": "code",
      "source": [
        "plt_data_answers.head(5)"
      ],
      "execution_count": 96,
      "outputs": [
        {
          "output_type": "execute_result",
          "data": {
            "text/plain": [
              "0     Hi!   You are asking a very interesting quest...\n",
              "1     Hi. I joined the Army after I attended colleg...\n",
              "2     Dear Priyanka,  Greetings! I have answered th...\n",
              "3     I work for a global company who values highly...\n",
              "4    I agree with Denise. Every single job I've had...\n",
              "Name: answers_body, dtype: object"
            ]
          },
          "metadata": {
            "tags": []
          },
          "execution_count": 96
        }
      ]
    },
    {
      "metadata": {
        "id": "MqpS0gUnwAyi",
        "colab_type": "code",
        "colab": {}
      },
      "cell_type": "code",
      "source": [
        "#plt_data.head(5)"
      ],
      "execution_count": 0,
      "outputs": []
    },
    {
      "metadata": {
        "id": "ppEUU-A90DBJ",
        "colab_type": "code",
        "colab": {
          "base_uri": "https://localhost:8080/",
          "height": 119
        },
        "outputId": "f3bdecc8-3bc9-4f17-ae4d-8d184ef945ba"
      },
      "cell_type": "code",
      "source": [
        "plt_data_questions_id.head(5)"
      ],
      "execution_count": 98,
      "outputs": [
        {
          "output_type": "execute_result",
          "data": {
            "text/plain": [
              "0    332a511f1569444485cf7a7a556a5e54\n",
              "1    eb80205482e4424cad8f16bc25aa2d9c\n",
              "2    4ec31632938a40b98909416bdd0decff\n",
              "3    2f6a9a99d9b24e5baa50d40d0ba50a75\n",
              "4    5af8880460c141dbb02971a1a8369529\n",
              "Name: questions_id, dtype: object"
            ]
          },
          "metadata": {
            "tags": []
          },
          "execution_count": 98
        }
      ]
    },
    {
      "metadata": {
        "id": "SsSpixsDx9Z7",
        "colab_type": "code",
        "colab": {}
      },
      "cell_type": "code",
      "source": [
        "df1 = pd.DataFrame([plt_data_questions_id,plt_data_questions]).T\n",
        "df2 = pd.DataFrame([plt_data_answers_questions_id,plt_data_answers]).T"
      ],
      "execution_count": 0,
      "outputs": []
    },
    {
      "metadata": {
        "id": "kfmcjqFxzAx4",
        "colab_type": "code",
        "colab": {
          "base_uri": "https://localhost:8080/",
          "height": 204
        },
        "outputId": "656d5370-5e5b-4414-ed65-654dcdeabf11"
      },
      "cell_type": "code",
      "source": [
        "df1.head(5)"
      ],
      "execution_count": 100,
      "outputs": [
        {
          "output_type": "execute_result",
          "data": {
            "text/html": [
              "<div>\n",
              "<style scoped>\n",
              "    .dataframe tbody tr th:only-of-type {\n",
              "        vertical-align: middle;\n",
              "    }\n",
              "\n",
              "    .dataframe tbody tr th {\n",
              "        vertical-align: top;\n",
              "    }\n",
              "\n",
              "    .dataframe thead th {\n",
              "        text-align: right;\n",
              "    }\n",
              "</style>\n",
              "<table border=\"1\" class=\"dataframe\">\n",
              "  <thead>\n",
              "    <tr style=\"text-align: right;\">\n",
              "      <th></th>\n",
              "      <th>questions_id</th>\n",
              "      <th>questions_body</th>\n",
              "    </tr>\n",
              "  </thead>\n",
              "  <tbody>\n",
              "    <tr>\n",
              "      <th>0</th>\n",
              "      <td>332a511f1569444485cf7a7a556a5e54</td>\n",
              "      <td>What  is  a  maths  teacher?   what  is  a  ma...</td>\n",
              "    </tr>\n",
              "    <tr>\n",
              "      <th>1</th>\n",
              "      <td>eb80205482e4424cad8f16bc25aa2d9c</td>\n",
              "      <td>I am Priyanka from Bangalore . Now am in 10th ...</td>\n",
              "    </tr>\n",
              "    <tr>\n",
              "      <th>2</th>\n",
              "      <td>4ec31632938a40b98909416bdd0decff</td>\n",
              "      <td>I'm planning on going abroad for my first job....</td>\n",
              "    </tr>\n",
              "    <tr>\n",
              "      <th>3</th>\n",
              "      <td>2f6a9a99d9b24e5baa50d40d0ba50a75</td>\n",
              "      <td>i hear business management is a hard way to ge...</td>\n",
              "    </tr>\n",
              "    <tr>\n",
              "      <th>4</th>\n",
              "      <td>5af8880460c141dbb02971a1a8369529</td>\n",
              "      <td>I'm trying to find scholarships for first year...</td>\n",
              "    </tr>\n",
              "  </tbody>\n",
              "</table>\n",
              "</div>"
            ],
            "text/plain": [
              "                       questions_id  \\\n",
              "0  332a511f1569444485cf7a7a556a5e54   \n",
              "1  eb80205482e4424cad8f16bc25aa2d9c   \n",
              "2  4ec31632938a40b98909416bdd0decff   \n",
              "3  2f6a9a99d9b24e5baa50d40d0ba50a75   \n",
              "4  5af8880460c141dbb02971a1a8369529   \n",
              "\n",
              "                                      questions_body  \n",
              "0  What  is  a  maths  teacher?   what  is  a  ma...  \n",
              "1  I am Priyanka from Bangalore . Now am in 10th ...  \n",
              "2  I'm planning on going abroad for my first job....  \n",
              "3  i hear business management is a hard way to ge...  \n",
              "4  I'm trying to find scholarships for first year...  "
            ]
          },
          "metadata": {
            "tags": []
          },
          "execution_count": 100
        }
      ]
    },
    {
      "metadata": {
        "id": "zMTw2LYlzCve",
        "colab_type": "code",
        "colab": {
          "base_uri": "https://localhost:8080/",
          "height": 204
        },
        "outputId": "f9808ac5-eaa8-4a7b-b88a-8e8b608322d2"
      },
      "cell_type": "code",
      "source": [
        "df2.head(5)"
      ],
      "execution_count": 101,
      "outputs": [
        {
          "output_type": "execute_result",
          "data": {
            "text/html": [
              "<div>\n",
              "<style scoped>\n",
              "    .dataframe tbody tr th:only-of-type {\n",
              "        vertical-align: middle;\n",
              "    }\n",
              "\n",
              "    .dataframe tbody tr th {\n",
              "        vertical-align: top;\n",
              "    }\n",
              "\n",
              "    .dataframe thead th {\n",
              "        text-align: right;\n",
              "    }\n",
              "</style>\n",
              "<table border=\"1\" class=\"dataframe\">\n",
              "  <thead>\n",
              "    <tr style=\"text-align: right;\">\n",
              "      <th></th>\n",
              "      <th>answers_question_id</th>\n",
              "      <th>answers_body</th>\n",
              "    </tr>\n",
              "  </thead>\n",
              "  <tbody>\n",
              "    <tr>\n",
              "      <th>0</th>\n",
              "      <td>332a511f1569444485cf7a7a556a5e54</td>\n",
              "      <td>Hi!   You are asking a very interesting quest...</td>\n",
              "    </tr>\n",
              "    <tr>\n",
              "      <th>1</th>\n",
              "      <td>eb80205482e4424cad8f16bc25aa2d9c</td>\n",
              "      <td>Hi. I joined the Army after I attended colleg...</td>\n",
              "    </tr>\n",
              "    <tr>\n",
              "      <th>2</th>\n",
              "      <td>eb80205482e4424cad8f16bc25aa2d9c</td>\n",
              "      <td>Dear Priyanka,  Greetings! I have answered th...</td>\n",
              "    </tr>\n",
              "    <tr>\n",
              "      <th>3</th>\n",
              "      <td>4ec31632938a40b98909416bdd0decff</td>\n",
              "      <td>I work for a global company who values highly...</td>\n",
              "    </tr>\n",
              "    <tr>\n",
              "      <th>4</th>\n",
              "      <td>2f6a9a99d9b24e5baa50d40d0ba50a75</td>\n",
              "      <td>I agree with Denise. Every single job I've had...</td>\n",
              "    </tr>\n",
              "  </tbody>\n",
              "</table>\n",
              "</div>"
            ],
            "text/plain": [
              "                answers_question_id  \\\n",
              "0  332a511f1569444485cf7a7a556a5e54   \n",
              "1  eb80205482e4424cad8f16bc25aa2d9c   \n",
              "2  eb80205482e4424cad8f16bc25aa2d9c   \n",
              "3  4ec31632938a40b98909416bdd0decff   \n",
              "4  2f6a9a99d9b24e5baa50d40d0ba50a75   \n",
              "\n",
              "                                        answers_body  \n",
              "0   Hi!   You are asking a very interesting quest...  \n",
              "1   Hi. I joined the Army after I attended colleg...  \n",
              "2   Dear Priyanka,  Greetings! I have answered th...  \n",
              "3   I work for a global company who values highly...  \n",
              "4  I agree with Denise. Every single job I've had...  "
            ]
          },
          "metadata": {
            "tags": []
          },
          "execution_count": 101
        }
      ]
    },
    {
      "metadata": {
        "id": "x6Vyc8MWwD77",
        "colab_type": "code",
        "colab": {}
      },
      "cell_type": "code",
      "source": [
        "#merged_df = df2.merge(df1,how = 'inner', on = 'answers_question_id')\n",
        "QA = pd.merge(df2, df1, left_on='answers_question_id',right_on='questions_id')"
      ],
      "execution_count": 0,
      "outputs": []
    },
    {
      "metadata": {
        "id": "a5eCOSfWyVS9",
        "colab_type": "code",
        "colab": {
          "base_uri": "https://localhost:8080/",
          "height": 374
        },
        "outputId": "45d43be9-f0e0-4fe0-c78c-d2cba238ef7b"
      },
      "cell_type": "code",
      "source": [
        "QA.head(5)"
      ],
      "execution_count": 106,
      "outputs": [
        {
          "output_type": "execute_result",
          "data": {
            "text/html": [
              "<div>\n",
              "<style scoped>\n",
              "    .dataframe tbody tr th:only-of-type {\n",
              "        vertical-align: middle;\n",
              "    }\n",
              "\n",
              "    .dataframe tbody tr th {\n",
              "        vertical-align: top;\n",
              "    }\n",
              "\n",
              "    .dataframe thead th {\n",
              "        text-align: right;\n",
              "    }\n",
              "</style>\n",
              "<table border=\"1\" class=\"dataframe\">\n",
              "  <thead>\n",
              "    <tr style=\"text-align: right;\">\n",
              "      <th></th>\n",
              "      <th>answers_question_id</th>\n",
              "      <th>answers_body</th>\n",
              "      <th>questions_id</th>\n",
              "      <th>questions_body</th>\n",
              "    </tr>\n",
              "  </thead>\n",
              "  <tbody>\n",
              "    <tr>\n",
              "      <th>0</th>\n",
              "      <td>332a511f1569444485cf7a7a556a5e54</td>\n",
              "      <td>Hi!   You are asking a very interesting quest...</td>\n",
              "      <td>332a511f1569444485cf7a7a556a5e54</td>\n",
              "      <td>What  is  a  maths  teacher?   what  is  a  ma...</td>\n",
              "    </tr>\n",
              "    <tr>\n",
              "      <th>1</th>\n",
              "      <td>eb80205482e4424cad8f16bc25aa2d9c</td>\n",
              "      <td>Hi. I joined the Army after I attended colleg...</td>\n",
              "      <td>eb80205482e4424cad8f16bc25aa2d9c</td>\n",
              "      <td>I am Priyanka from Bangalore . Now am in 10th ...</td>\n",
              "    </tr>\n",
              "    <tr>\n",
              "      <th>2</th>\n",
              "      <td>eb80205482e4424cad8f16bc25aa2d9c</td>\n",
              "      <td>Dear Priyanka,  Greetings! I have answered th...</td>\n",
              "      <td>eb80205482e4424cad8f16bc25aa2d9c</td>\n",
              "      <td>I am Priyanka from Bangalore . Now am in 10th ...</td>\n",
              "    </tr>\n",
              "    <tr>\n",
              "      <th>3</th>\n",
              "      <td>4ec31632938a40b98909416bdd0decff</td>\n",
              "      <td>I work for a global company who values highly...</td>\n",
              "      <td>4ec31632938a40b98909416bdd0decff</td>\n",
              "      <td>I'm planning on going abroad for my first job....</td>\n",
              "    </tr>\n",
              "    <tr>\n",
              "      <th>4</th>\n",
              "      <td>2f6a9a99d9b24e5baa50d40d0ba50a75</td>\n",
              "      <td>I agree with Denise. Every single job I've had...</td>\n",
              "      <td>2f6a9a99d9b24e5baa50d40d0ba50a75</td>\n",
              "      <td>i hear business management is a hard way to ge...</td>\n",
              "    </tr>\n",
              "  </tbody>\n",
              "</table>\n",
              "</div>"
            ],
            "text/plain": [
              "                answers_question_id  \\\n",
              "0  332a511f1569444485cf7a7a556a5e54   \n",
              "1  eb80205482e4424cad8f16bc25aa2d9c   \n",
              "2  eb80205482e4424cad8f16bc25aa2d9c   \n",
              "3  4ec31632938a40b98909416bdd0decff   \n",
              "4  2f6a9a99d9b24e5baa50d40d0ba50a75   \n",
              "\n",
              "                                        answers_body  \\\n",
              "0   Hi!   You are asking a very interesting quest...   \n",
              "1   Hi. I joined the Army after I attended colleg...   \n",
              "2   Dear Priyanka,  Greetings! I have answered th...   \n",
              "3   I work for a global company who values highly...   \n",
              "4  I agree with Denise. Every single job I've had...   \n",
              "\n",
              "                       questions_id  \\\n",
              "0  332a511f1569444485cf7a7a556a5e54   \n",
              "1  eb80205482e4424cad8f16bc25aa2d9c   \n",
              "2  eb80205482e4424cad8f16bc25aa2d9c   \n",
              "3  4ec31632938a40b98909416bdd0decff   \n",
              "4  2f6a9a99d9b24e5baa50d40d0ba50a75   \n",
              "\n",
              "                                      questions_body  \n",
              "0  What  is  a  maths  teacher?   what  is  a  ma...  \n",
              "1  I am Priyanka from Bangalore . Now am in 10th ...  \n",
              "2  I am Priyanka from Bangalore . Now am in 10th ...  \n",
              "3  I'm planning on going abroad for my first job....  \n",
              "4  i hear business management is a hard way to ge...  "
            ]
          },
          "metadata": {
            "tags": []
          },
          "execution_count": 106
        }
      ]
    },
    {
      "metadata": {
        "id": "bs3i9WPQAAA-",
        "colab_type": "code",
        "colab": {}
      },
      "cell_type": "code",
      "source": [
        ""
      ],
      "execution_count": 0,
      "outputs": []
    }
  ]
}