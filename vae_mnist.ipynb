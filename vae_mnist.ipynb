{
  "nbformat": 4,
  "nbformat_minor": 0,
  "metadata": {
    "colab": {
      "name": "vae3.ipynb",
      "version": "0.3.2",
      "provenance": [],
      "include_colab_link": true
    },
    "kernelspec": {
      "name": "python3",
      "display_name": "Python 3"
    }
  },
  "cells": [
    {
      "cell_type": "markdown",
      "metadata": {
        "id": "view-in-github",
        "colab_type": "text"
      },
      "source": [
        "<a href=\"https://colab.research.google.com/github/SiweiLuo/DL_with_Python/blob/master/vae_mnist.ipynb\" target=\"_parent\"><img src=\"https://colab.research.google.com/assets/colab-badge.svg\" alt=\"Open In Colab\"/></a>"
      ]
    },
    {
      "cell_type": "code",
      "metadata": {
        "id": "_QYVpNkwB_k5",
        "colab_type": "code",
        "colab": {
          "base_uri": "https://localhost:8080/",
          "height": 34
        },
        "outputId": "1e43c36c-e36c-4f56-8849-7b50730fc696"
      },
      "source": [
        "import numpy as np\n",
        "from keras.utils import to_categorical\n",
        "\n",
        "data = np.array([1, 5, 3, 9])\n",
        "print(data)\n",
        "\n",
        "def encode(data):\n",
        "    print('Shape of data (BEFORE encode): %s' % str(data.shape))\n",
        "    encoded = to_categorical(data)\n",
        "    print('Shape of data (AFTER  encode): %s\\n' % str(encoded.shape))\n",
        "    return encoded\n",
        "  \n",
        "  \n",
        "  "
      ],
      "execution_count": 108,
      "outputs": [
        {
          "output_type": "stream",
          "text": [
            "[1 5 3 9]\n"
          ],
          "name": "stdout"
        }
      ]
    },
    {
      "cell_type": "code",
      "metadata": {
        "id": "NHipigMPCFFY",
        "colab_type": "code",
        "colab": {
          "base_uri": "https://localhost:8080/",
          "height": 136
        },
        "outputId": "612c4dec-71b6-4fd6-f25a-34d4fd0d51a2"
      },
      "source": [
        "from keras.datasets import mnist\n",
        "\n",
        "(x_train,y_train),(x_test,y_test) = mnist.load_data()\n",
        "\n",
        "x_train = x_train.astype('float32')/255.\n",
        "x_train = x_train.reshape(x_train.shape+(1,))\n",
        "\n",
        "x_test = x_test.astype('float32')/255.\n",
        "x_test = x_test.reshape(x_test.shape+(1,))\n",
        "\n",
        "y_train = encode(y_train)\n",
        "y_test = encode(y_test)\n",
        "\n",
        "y_train[0]\n"
      ],
      "execution_count": 109,
      "outputs": [
        {
          "output_type": "stream",
          "text": [
            "Shape of data (BEFORE encode): (60000,)\n",
            "Shape of data (AFTER  encode): (60000, 10)\n",
            "\n",
            "Shape of data (BEFORE encode): (10000,)\n",
            "Shape of data (AFTER  encode): (10000, 10)\n",
            "\n"
          ],
          "name": "stdout"
        },
        {
          "output_type": "execute_result",
          "data": {
            "text/plain": [
              "array([0., 0., 0., 0., 0., 1., 0., 0., 0., 0.], dtype=float32)"
            ]
          },
          "metadata": {
            "tags": []
          },
          "execution_count": 109
        }
      ]
    },
    {
      "cell_type": "code",
      "metadata": {
        "id": "ujE7gawlCXOe",
        "colab_type": "code",
        "colab": {}
      },
      "source": [
        "import keras\n",
        "from keras import layers\n",
        "from keras.models import Model\n",
        "from keras import backend as K \n",
        "import numpy as np \n",
        "\n",
        "img_shape = (28,28,1)\n",
        "batch_size = 16\n",
        "\n",
        "input_img = layers.Input(shape=(img_shape))\n",
        "\n",
        "x = layers.Conv2D(32,3,padding='same',activation='relu')(input_img)\n",
        "x = layers.Conv2D(64,3,padding='same',activation='relu',strides=(2,2))(x)\n",
        "x = layers.Conv2D(64,3,padding='same',activation='relu')(x)\n",
        "x = layers.Conv2D(64,3,padding='same',activation='relu')(x)\n",
        "shape_before_flattening = K.int_shape(x)\n",
        "x = layers.Flatten()(x)\n",
        "x = layers.Dense(10,activation='softmax')(x)\n",
        "\n",
        "encoder = Model(input_img,x)"
      ],
      "execution_count": 0,
      "outputs": []
    },
    {
      "cell_type": "code",
      "metadata": {
        "id": "hCluCpL-Cd_t",
        "colab_type": "code",
        "colab": {
          "base_uri": "https://localhost:8080/",
          "height": 105
        },
        "outputId": "013f60ed-c96c-4889-854a-969c19407837"
      },
      "source": [
        "encoder.compile(optimizer='rmsprop',loss='categorical_crossentropy')\n",
        "\n",
        "encoder.fit(x_train,y_train,batch_size=batch_size,validation_data=(x_test,y_test))"
      ],
      "execution_count": 111,
      "outputs": [
        {
          "output_type": "stream",
          "text": [
            "Train on 60000 samples, validate on 10000 samples\n",
            "Epoch 1/1\n",
            "60000/60000 [==============================] - 294s 5ms/step - loss: 0.1015 - val_loss: 0.0370\n"
          ],
          "name": "stdout"
        },
        {
          "output_type": "execute_result",
          "data": {
            "text/plain": [
              "<keras.callbacks.History at 0x7f064e3e0fd0>"
            ]
          },
          "metadata": {
            "tags": []
          },
          "execution_count": 111
        }
      ]
    },
    {
      "cell_type": "code",
      "metadata": {
        "id": "oZcEpeYcCvRd",
        "colab_type": "code",
        "colab": {}
      },
      "source": [
        "y_score = encoder.predict(x_train[1:2])"
      ],
      "execution_count": 0,
      "outputs": []
    },
    {
      "cell_type": "code",
      "metadata": {
        "id": "mc-MorqMFwSB",
        "colab_type": "code",
        "colab": {
          "base_uri": "https://localhost:8080/",
          "height": 68
        },
        "outputId": "d94e9844-c2ff-489a-9978-25c13b163c3b"
      },
      "source": [
        "y_score[0]"
      ],
      "execution_count": 113,
      "outputs": [
        {
          "output_type": "execute_result",
          "data": {
            "text/plain": [
              "array([9.9999893e-01, 3.9812264e-13, 2.0060396e-07, 1.5098428e-11,\n",
              "       3.4029747e-12, 1.8285344e-11, 8.7259133e-07, 2.5178570e-10,\n",
              "       3.6354517e-09, 5.2967697e-09], dtype=float32)"
            ]
          },
          "metadata": {
            "tags": []
          },
          "execution_count": 113
        }
      ]
    },
    {
      "cell_type": "code",
      "metadata": {
        "id": "hdbNXKFimvwd",
        "colab_type": "code",
        "colab": {}
      },
      "source": [
        "def sampling(args):\n",
        "  x = args\n",
        "  return x\n",
        "  \n",
        "z = layers.Lambda(sampling)(x)"
      ],
      "execution_count": 0,
      "outputs": []
    },
    {
      "cell_type": "code",
      "metadata": {
        "id": "I8bhhCR4GiUW",
        "colab_type": "code",
        "colab": {}
      },
      "source": [
        "\n",
        "decoder_shape = (10,)\n",
        "\n",
        "decoder_input = layers.Input(shape=decoder_shape)\n",
        "\n",
        "y = layers.Dense(np.prod(shape_before_flattening[1:]),activation='relu')(decoder_input)\n",
        "y = layers.Reshape(shape_before_flattening[1:])(y)\n",
        "y = layers.Conv2DTranspose(32,3,padding='same',activation='relu',strides=(2,2))(y)\n",
        "y = layers.Conv2D(1,3,padding='same',activation='sigmoid')(y)\n",
        "\n",
        "decoder = Model(decoder_input,y)\n",
        "\n",
        "z_decoded = decoder(x)\n",
        "\n"
      ],
      "execution_count": 0,
      "outputs": []
    },
    {
      "cell_type": "code",
      "metadata": {
        "id": "XZ2I73zaRmWR",
        "colab_type": "code",
        "colab": {}
      },
      "source": [
        "class CustomVariationalLayer(keras.layers.Layer):\n",
        "  def vae_loss(self,y,z_decoded):\n",
        "    y = K.flatten(y)\n",
        "    z_decoded = K.flatten(z_decoded) \n",
        "    xent_loss = keras.metrics.categorical_crossentropy(y,z_decoded)\n",
        "    return K.mean(xent_loss)\n",
        "  \n",
        "  def call(self,inputs):\n",
        "    y = inputs[0]\n",
        "    z_decoded = inputs[1]\n",
        "    loss = self.vae_loss(y,z_decoded)\n",
        "    self.add_loss(loss,inputs=inputs)\n",
        "    return y\n",
        "    \n",
        "q = CustomVariationalLayer()([input_img,z_decoded])\n",
        "    "
      ],
      "execution_count": 0,
      "outputs": []
    },
    {
      "cell_type": "code",
      "metadata": {
        "id": "1lSFxxivSkY5",
        "colab_type": "code",
        "colab": {
          "base_uri": "https://localhost:8080/",
          "height": 530
        },
        "outputId": "4a7950cb-02a1-49d0-b516-ab8d1fec37df"
      },
      "source": [
        "#encoder.trainable = False\n",
        "\n",
        "vae = Model(input_img,q)\n",
        "\n",
        "for layer in vae.layers[:7]:\n",
        "   layer.trainable = False\n",
        "\n",
        "vae.compile(optimizer='rmsprop',loss=None)\n",
        "vae.summary()\n",
        "\n",
        "vae.fit(x_train,None,epochs=1,batch_size=batch_size)"
      ],
      "execution_count": 117,
      "outputs": [
        {
          "output_type": "stream",
          "text": [
            "__________________________________________________________________________________________________\n",
            "Layer (type)                    Output Shape         Param #     Connected to                     \n",
            "==================================================================================================\n",
            "input_9 (InputLayer)            (None, 28, 28, 1)    0                                            \n",
            "__________________________________________________________________________________________________\n",
            "conv2d_15 (Conv2D)              (None, 28, 28, 32)   320         input_9[0][0]                    \n",
            "__________________________________________________________________________________________________\n",
            "conv2d_16 (Conv2D)              (None, 14, 14, 64)   18496       conv2d_15[0][0]                  \n",
            "__________________________________________________________________________________________________\n",
            "conv2d_17 (Conv2D)              (None, 14, 14, 64)   36928       conv2d_16[0][0]                  \n",
            "__________________________________________________________________________________________________\n",
            "conv2d_18 (Conv2D)              (None, 14, 14, 64)   36928       conv2d_17[0][0]                  \n",
            "__________________________________________________________________________________________________\n",
            "flatten_3 (Flatten)             (None, 12544)        0           conv2d_18[0][0]                  \n",
            "__________________________________________________________________________________________________\n",
            "dense_9 (Dense)                 (None, 10)           125450      flatten_3[0][0]                  \n",
            "__________________________________________________________________________________________________\n",
            "model_16 (Model)                (None, 28, 28, 1)    156737      dense_9[0][0]                    \n",
            "__________________________________________________________________________________________________\n",
            "custom_variational_layer_4 (Cus [(None, 28, 28, 1),  0           input_9[0][0]                    \n",
            "                                                                 model_16[1][0]                   \n",
            "==================================================================================================\n",
            "Total params: 374,859\n",
            "Trainable params: 156,737\n",
            "Non-trainable params: 218,122\n",
            "__________________________________________________________________________________________________\n",
            "Epoch 1/1\n",
            "60000/60000 [==============================] - 226s 4ms/step - loss: 13739.8153\n"
          ],
          "name": "stdout"
        },
        {
          "output_type": "execute_result",
          "data": {
            "text/plain": [
              "<keras.callbacks.History at 0x7f064ddfa8d0>"
            ]
          },
          "metadata": {
            "tags": []
          },
          "execution_count": 117
        }
      ]
    },
    {
      "cell_type": "code",
      "metadata": {
        "id": "5zrVfH3ZoPVA",
        "colab_type": "code",
        "colab": {
          "base_uri": "https://localhost:8080/",
          "height": 34
        },
        "outputId": "e968cd24-b49b-41cf-ffb4-d1171673a300"
      },
      "source": [
        "y_test[0]"
      ],
      "execution_count": 118,
      "outputs": [
        {
          "output_type": "execute_result",
          "data": {
            "text/plain": [
              "array([0., 0., 0., 0., 0., 0., 0., 1., 0., 0.], dtype=float32)"
            ]
          },
          "metadata": {
            "tags": []
          },
          "execution_count": 118
        }
      ]
    },
    {
      "cell_type": "code",
      "metadata": {
        "id": "7X6lrOMLsnUF",
        "colab_type": "code",
        "colab": {
          "base_uri": "https://localhost:8080/",
          "height": 34
        },
        "outputId": "4e8e6c34-5f81-4e06-ff0d-3edf3890d6af"
      },
      "source": [
        "y_test[0]"
      ],
      "execution_count": 119,
      "outputs": [
        {
          "output_type": "execute_result",
          "data": {
            "text/plain": [
              "array([0., 0., 0., 0., 0., 0., 0., 1., 0., 0.], dtype=float32)"
            ]
          },
          "metadata": {
            "tags": []
          },
          "execution_count": 119
        }
      ]
    },
    {
      "cell_type": "code",
      "metadata": {
        "id": "Qin9z4YHqbSz",
        "colab_type": "code",
        "colab": {
          "base_uri": "https://localhost:8080/",
          "height": 34
        },
        "outputId": "2676cf01-5a7e-45a5-ecf0-36ece223929e"
      },
      "source": [
        "figure1 = decoder.predict(y_test[8:9])\n",
        "#figure1 = figure1.astype('float32')*255.\n",
        "figure1.shape"
      ],
      "execution_count": 120,
      "outputs": [
        {
          "output_type": "execute_result",
          "data": {
            "text/plain": [
              "(1, 28, 28, 1)"
            ]
          },
          "metadata": {
            "tags": []
          },
          "execution_count": 120
        }
      ]
    },
    {
      "cell_type": "code",
      "metadata": {
        "id": "O9MXnsM7qnCf",
        "colab_type": "code",
        "colab": {
          "base_uri": "https://localhost:8080/",
          "height": 595
        },
        "outputId": "d27dc434-db7b-49c3-f9f9-973da04f2978"
      },
      "source": [
        "import matplotlib.pyplot as plt\n",
        "figure1 = figure1.reshape(28,28)\n",
        "figure1.shape\n",
        "\n",
        "plt.figure(figsize=(10,10))\n",
        "plt.imshow(figure1)\n",
        "plt.show()"
      ],
      "execution_count": 121,
      "outputs": [
        {
          "output_type": "display_data",
          "data": {
            "image/png": "[encoded data removed]",
            "text/plain": [
              "<Figure size 720x720 with 1 Axes>"
            ]
          },
          "metadata": {
            "tags": []
          }
        }
      ]
    },
    {
      "cell_type": "code",
      "metadata": {
        "id": "ZbQD7X44quD3",
        "colab_type": "code",
        "colab": {
          "base_uri": "https://localhost:8080/",
          "height": 595
        },
        "outputId": "dbb20f5b-c1ed-42fa-cbdd-71455e349583"
      },
      "source": [
        "figure2 = x_test[9]\n",
        "figure2 = figure2.reshape(28,28)\n",
        "figure2.shape\n",
        "\n",
        "plt.figure(figsize=(10,10))\n",
        "plt.imshow(figure2)\n",
        "plt.show()"
      ],
      "execution_count": 124,
      "outputs": [
        {
          "output_type": "display_data",
          "data": {
            "image/png": "[encoded data removed]",
            "text/plain": [
              "<Figure size 720x720 with 1 Axes>"
            ]
          },
          "metadata": {
            "tags": []
          }
        }
      ]
    },
    {
      "cell_type": "code",
      "metadata": {
        "id": "wbHEojPTs_ge",
        "colab_type": "code",
        "colab": {}
      },
      "source": [
        ""
      ],
      "execution_count": 0,
      "outputs": []
    }
  ]
}